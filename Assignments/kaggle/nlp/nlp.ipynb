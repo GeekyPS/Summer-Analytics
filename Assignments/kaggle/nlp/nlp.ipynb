{
 "cells": [
  {
   "cell_type": "code",
   "execution_count": 88,
   "outputs": [],
   "source": [
    "import pandas as pd\n",
    "import  matplotlib.pyplot as plt\n",
    "import  seaborn as sns\n",
    "from sklearn import feature_extraction, linear_model, model_selection, preprocessing"
   ],
   "metadata": {
    "collapsed": false,
    "ExecuteTime": {
     "end_time": "2023-06-25T20:15:53.506125Z",
     "start_time": "2023-06-25T20:15:53.500855Z"
    }
   }
  },
  {
   "cell_type": "code",
   "execution_count": 90,
   "outputs": [
    {
     "name": "stdout",
     "output_type": "stream",
     "text": [
      "Train Data Shape = (7613, 5)\n",
      "Test Data Shape= (3263, 4)\n"
     ]
    },
    {
     "data": {
      "text/plain": "   id keyword location                                               text  \\\n0   1     NaN      NaN  Our Deeds are the Reason of this #earthquake M...   \n1   4     NaN      NaN             Forest fire near La Ronge Sask. Canada   \n2   5     NaN      NaN  All residents asked to 'shelter in place' are ...   \n3   6     NaN      NaN  13,000 people receive #wildfires evacuation or...   \n4   7     NaN      NaN  Just got sent this photo from Ruby #Alaska as ...   \n\n   target  \n0       1  \n1       1  \n2       1  \n3       1  \n4       1  ",
      "text/html": "<div>\n<style scoped>\n    .dataframe tbody tr th:only-of-type {\n        vertical-align: middle;\n    }\n\n    .dataframe tbody tr th {\n        vertical-align: top;\n    }\n\n    .dataframe thead th {\n        text-align: right;\n    }\n</style>\n<table border=\"1\" class=\"dataframe\">\n  <thead>\n    <tr style=\"text-align: right;\">\n      <th></th>\n      <th>id</th>\n      <th>keyword</th>\n      <th>location</th>\n      <th>text</th>\n      <th>target</th>\n    </tr>\n  </thead>\n  <tbody>\n    <tr>\n      <th>0</th>\n      <td>1</td>\n      <td>NaN</td>\n      <td>NaN</td>\n      <td>Our Deeds are the Reason of this #earthquake M...</td>\n      <td>1</td>\n    </tr>\n    <tr>\n      <th>1</th>\n      <td>4</td>\n      <td>NaN</td>\n      <td>NaN</td>\n      <td>Forest fire near La Ronge Sask. Canada</td>\n      <td>1</td>\n    </tr>\n    <tr>\n      <th>2</th>\n      <td>5</td>\n      <td>NaN</td>\n      <td>NaN</td>\n      <td>All residents asked to 'shelter in place' are ...</td>\n      <td>1</td>\n    </tr>\n    <tr>\n      <th>3</th>\n      <td>6</td>\n      <td>NaN</td>\n      <td>NaN</td>\n      <td>13,000 people receive #wildfires evacuation or...</td>\n      <td>1</td>\n    </tr>\n    <tr>\n      <th>4</th>\n      <td>7</td>\n      <td>NaN</td>\n      <td>NaN</td>\n      <td>Just got sent this photo from Ruby #Alaska as ...</td>\n      <td>1</td>\n    </tr>\n  </tbody>\n</table>\n</div>"
     },
     "execution_count": 90,
     "metadata": {},
     "output_type": "execute_result"
    }
   ],
   "source": [
    "train_data = pd.read_csv(\"train.csv\")\n",
    "test_data = pd.read_csv(\"test.csv\")\n",
    "print(f\"Train Data Shape = {train_data.shape}\")\n",
    "print(f\"Test Data Shape= {test_data.shape}\")\n",
    "train_data.head()"
   ],
   "metadata": {
    "collapsed": false,
    "ExecuteTime": {
     "end_time": "2023-06-25T20:16:18.190116Z",
     "start_time": "2023-06-25T20:16:18.166198Z"
    }
   }
  },
  {
   "cell_type": "code",
   "execution_count": 91,
   "outputs": [],
   "source": [
    "train_data = train_data.drop('id',axis = 1)\n",
    "test_data = test_data.drop('id',axis = 1)"
   ],
   "metadata": {
    "collapsed": false,
    "ExecuteTime": {
     "end_time": "2023-06-25T20:16:19.384925Z",
     "start_time": "2023-06-25T20:16:19.380899Z"
    }
   }
  },
  {
   "cell_type": "code",
   "execution_count": 92,
   "outputs": [],
   "source": [
    "test_data = test_data.fillna('')\n",
    "train_data = train_data.fillna('')"
   ],
   "metadata": {
    "collapsed": false,
    "ExecuteTime": {
     "end_time": "2023-06-25T20:16:30.343485Z",
     "start_time": "2023-06-25T20:16:30.338Z"
    }
   }
  },
  {
   "cell_type": "code",
   "execution_count": 93,
   "outputs": [
    {
     "data": {
      "text/plain": "array(['', 'ablaze', 'accident', 'aftershock', 'airplane%20accident',\n       'ambulance', 'annihilated', 'annihilation', 'apocalypse',\n       'armageddon', 'army', 'arson', 'arsonist', 'attack', 'attacked',\n       'avalanche', 'battle', 'bioterror', 'bioterrorism', 'blaze',\n       'blazing', 'bleeding', 'blew%20up', 'blight', 'blizzard', 'blood',\n       'bloody', 'blown%20up', 'body%20bag', 'body%20bagging',\n       'body%20bags', 'bomb', 'bombed', 'bombing', 'bridge%20collapse',\n       'buildings%20burning', 'buildings%20on%20fire', 'burned',\n       'burning', 'burning%20buildings', 'bush%20fires', 'casualties',\n       'casualty', 'catastrophe', 'catastrophic', 'chemical%20emergency',\n       'cliff%20fall', 'collapse', 'collapsed', 'collide', 'collided',\n       'collision', 'crash', 'crashed', 'crush', 'crushed', 'curfew',\n       'cyclone', 'damage', 'danger', 'dead', 'death', 'deaths', 'debris',\n       'deluge', 'deluged', 'demolish', 'demolished', 'demolition',\n       'derail', 'derailed', 'derailment', 'desolate', 'desolation',\n       'destroy', 'destroyed', 'destruction', 'detonate', 'detonation',\n       'devastated', 'devastation', 'disaster', 'displaced', 'drought',\n       'drown', 'drowned', 'drowning', 'dust%20storm', 'earthquake',\n       'electrocute', 'electrocuted', 'emergency', 'emergency%20plan',\n       'emergency%20services', 'engulfed', 'epicentre', 'evacuate',\n       'evacuated', 'evacuation', 'explode', 'exploded', 'explosion',\n       'eyewitness', 'famine', 'fatal', 'fatalities', 'fatality', 'fear',\n       'fire', 'fire%20truck', 'first%20responders', 'flames',\n       'flattened', 'flood', 'flooding', 'floods', 'forest%20fire',\n       'forest%20fires', 'hail', 'hailstorm', 'harm', 'hazard',\n       'hazardous', 'heat%20wave', 'hellfire', 'hijack', 'hijacker',\n       'hijacking', 'hostage', 'hostages', 'hurricane', 'injured',\n       'injuries', 'injury', 'inundated', 'inundation', 'landslide',\n       'lava', 'lightning', 'loud%20bang', 'mass%20murder',\n       'mass%20murderer', 'massacre', 'mayhem', 'meltdown', 'military',\n       'mudslide', 'natural%20disaster', 'nuclear%20disaster',\n       'nuclear%20reactor', 'obliterate', 'obliterated', 'obliteration',\n       'oil%20spill', 'outbreak', 'pandemonium', 'panic', 'panicking',\n       'police', 'quarantine', 'quarantined', 'radiation%20emergency',\n       'rainstorm', 'razed', 'refugees', 'rescue', 'rescued', 'rescuers',\n       'riot', 'rioting', 'rubble', 'ruin', 'sandstorm', 'screamed',\n       'screaming', 'screams', 'seismic', 'sinkhole', 'sinking', 'siren',\n       'sirens', 'smoke', 'snowstorm', 'storm', 'stretcher',\n       'structural%20failure', 'suicide%20bomb', 'suicide%20bomber',\n       'suicide%20bombing', 'sunk', 'survive', 'survived', 'survivors',\n       'terrorism', 'terrorist', 'threat', 'thunder', 'thunderstorm',\n       'tornado', 'tragedy', 'trapped', 'trauma', 'traumatised',\n       'trouble', 'tsunami', 'twister', 'typhoon', 'upheaval',\n       'violent%20storm', 'volcano', 'war%20zone', 'weapon', 'weapons',\n       'whirlwind', 'wild%20fires', 'wildfire', 'windstorm', 'wounded',\n       'wounds', 'wreck', 'wreckage', 'wrecked'], dtype=object)"
     },
     "execution_count": 93,
     "metadata": {},
     "output_type": "execute_result"
    }
   ],
   "source": [
    "train_data.keyword.unique()"
   ],
   "metadata": {
    "collapsed": false,
    "ExecuteTime": {
     "end_time": "2023-06-25T20:17:36.650887Z",
     "start_time": "2023-06-25T20:17:36.646527Z"
    }
   }
  },
  {
   "cell_type": "code",
   "execution_count": null,
   "outputs": [],
   "source": [
    "# In this part, we will read keyword, location and texts; do some preliminary cleaning. For example, on printing keyword in the above code block you can see that in keyword, gaps are filled with %20 sign. So in this next function we are cleaning the keywords by replacing that with space\n",
    "\n",
    "import re\n",
    "def keyword_correction(x):\n",
    "    try:\n",
    "        x = x.split(\"%20\")\n",
    "        x = ' '.join(x)\n",
    "        return x\n",
    "    except:\n",
    "        return x"
   ],
   "metadata": {
    "collapsed": false
   }
  },
  {
   "cell_type": "code",
   "execution_count": null,
   "outputs": [],
   "source": [
    "train_data['keyword'] = train_data.keyword.apply(lambda x: feature_extraction(x))\n",
    "test_data['keyword'] = test_data.keyword.apply(lambda x: feature_extraction(x))\n"
   ],
   "metadata": {
    "collapsed": false
   }
  }
 ],
 "metadata": {
  "kernelspec": {
   "display_name": "Python 3",
   "language": "python",
   "name": "python3"
  },
  "language_info": {
   "codemirror_mode": {
    "name": "ipython",
    "version": 2
   },
   "file_extension": ".py",
   "mimetype": "text/x-python",
   "name": "python",
   "nbconvert_exporter": "python",
   "pygments_lexer": "ipython2",
   "version": "2.7.6"
  }
 },
 "nbformat": 4,
 "nbformat_minor": 0
}
