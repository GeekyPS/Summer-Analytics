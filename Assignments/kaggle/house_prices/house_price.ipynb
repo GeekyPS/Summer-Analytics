{
 "cells": [
  {
   "cell_type": "code",
   "execution_count": 205,
   "metadata": {
    "collapsed": true,
    "ExecuteTime": {
     "end_time": "2023-06-29T10:41:50.077178Z",
     "start_time": "2023-06-29T10:41:49.977884Z"
    }
   },
   "outputs": [],
   "source": [
    "import pandas as pd\n",
    "import numpy as np\n",
    "import  seaborn as sns\n",
    "from sklearn.model_selection import  cross_val_score, GridSearchCV\n",
    "from sklearn.metrics import mean_squared_error, make_scorer\n",
    "from sklearn.linear_model import  LinearRegression, Ridge\n",
    "from sklearn.ensemble import  GradientBoostingRegressor, RandomForestRegressor\n",
    "from sklearn.preprocessing import MinMaxScaler\n",
    "import xgboost as xgb\n",
    "import lightgbm as lgb"
   ]
  },
  {
   "cell_type": "code",
   "execution_count": 206,
   "outputs": [
    {
     "data": {
      "text/plain": "   Id  MSSubClass MSZoning  LotFrontage  LotArea Street Alley LotShape  \\\n0   1          60       RL         65.0     8450   Pave   NaN      Reg   \n1   2          20       RL         80.0     9600   Pave   NaN      Reg   \n2   3          60       RL         68.0    11250   Pave   NaN      IR1   \n3   4          70       RL         60.0     9550   Pave   NaN      IR1   \n4   5          60       RL         84.0    14260   Pave   NaN      IR1   \n\n  LandContour Utilities  ... PoolArea PoolQC Fence MiscFeature MiscVal MoSold  \\\n0         Lvl    AllPub  ...        0    NaN   NaN         NaN       0      2   \n1         Lvl    AllPub  ...        0    NaN   NaN         NaN       0      5   \n2         Lvl    AllPub  ...        0    NaN   NaN         NaN       0      9   \n3         Lvl    AllPub  ...        0    NaN   NaN         NaN       0      2   \n4         Lvl    AllPub  ...        0    NaN   NaN         NaN       0     12   \n\n  YrSold  SaleType  SaleCondition  SalePrice  \n0   2008        WD         Normal     208500  \n1   2007        WD         Normal     181500  \n2   2008        WD         Normal     223500  \n3   2006        WD        Abnorml     140000  \n4   2008        WD         Normal     250000  \n\n[5 rows x 81 columns]",
      "text/html": "<div>\n<style scoped>\n    .dataframe tbody tr th:only-of-type {\n        vertical-align: middle;\n    }\n\n    .dataframe tbody tr th {\n        vertical-align: top;\n    }\n\n    .dataframe thead th {\n        text-align: right;\n    }\n</style>\n<table border=\"1\" class=\"dataframe\">\n  <thead>\n    <tr style=\"text-align: right;\">\n      <th></th>\n      <th>Id</th>\n      <th>MSSubClass</th>\n      <th>MSZoning</th>\n      <th>LotFrontage</th>\n      <th>LotArea</th>\n      <th>Street</th>\n      <th>Alley</th>\n      <th>LotShape</th>\n      <th>LandContour</th>\n      <th>Utilities</th>\n      <th>...</th>\n      <th>PoolArea</th>\n      <th>PoolQC</th>\n      <th>Fence</th>\n      <th>MiscFeature</th>\n      <th>MiscVal</th>\n      <th>MoSold</th>\n      <th>YrSold</th>\n      <th>SaleType</th>\n      <th>SaleCondition</th>\n      <th>SalePrice</th>\n    </tr>\n  </thead>\n  <tbody>\n    <tr>\n      <th>0</th>\n      <td>1</td>\n      <td>60</td>\n      <td>RL</td>\n      <td>65.0</td>\n      <td>8450</td>\n      <td>Pave</td>\n      <td>NaN</td>\n      <td>Reg</td>\n      <td>Lvl</td>\n      <td>AllPub</td>\n      <td>...</td>\n      <td>0</td>\n      <td>NaN</td>\n      <td>NaN</td>\n      <td>NaN</td>\n      <td>0</td>\n      <td>2</td>\n      <td>2008</td>\n      <td>WD</td>\n      <td>Normal</td>\n      <td>208500</td>\n    </tr>\n    <tr>\n      <th>1</th>\n      <td>2</td>\n      <td>20</td>\n      <td>RL</td>\n      <td>80.0</td>\n      <td>9600</td>\n      <td>Pave</td>\n      <td>NaN</td>\n      <td>Reg</td>\n      <td>Lvl</td>\n      <td>AllPub</td>\n      <td>...</td>\n      <td>0</td>\n      <td>NaN</td>\n      <td>NaN</td>\n      <td>NaN</td>\n      <td>0</td>\n      <td>5</td>\n      <td>2007</td>\n      <td>WD</td>\n      <td>Normal</td>\n      <td>181500</td>\n    </tr>\n    <tr>\n      <th>2</th>\n      <td>3</td>\n      <td>60</td>\n      <td>RL</td>\n      <td>68.0</td>\n      <td>11250</td>\n      <td>Pave</td>\n      <td>NaN</td>\n      <td>IR1</td>\n      <td>Lvl</td>\n      <td>AllPub</td>\n      <td>...</td>\n      <td>0</td>\n      <td>NaN</td>\n      <td>NaN</td>\n      <td>NaN</td>\n      <td>0</td>\n      <td>9</td>\n      <td>2008</td>\n      <td>WD</td>\n      <td>Normal</td>\n      <td>223500</td>\n    </tr>\n    <tr>\n      <th>3</th>\n      <td>4</td>\n      <td>70</td>\n      <td>RL</td>\n      <td>60.0</td>\n      <td>9550</td>\n      <td>Pave</td>\n      <td>NaN</td>\n      <td>IR1</td>\n      <td>Lvl</td>\n      <td>AllPub</td>\n      <td>...</td>\n      <td>0</td>\n      <td>NaN</td>\n      <td>NaN</td>\n      <td>NaN</td>\n      <td>0</td>\n      <td>2</td>\n      <td>2006</td>\n      <td>WD</td>\n      <td>Abnorml</td>\n      <td>140000</td>\n    </tr>\n    <tr>\n      <th>4</th>\n      <td>5</td>\n      <td>60</td>\n      <td>RL</td>\n      <td>84.0</td>\n      <td>14260</td>\n      <td>Pave</td>\n      <td>NaN</td>\n      <td>IR1</td>\n      <td>Lvl</td>\n      <td>AllPub</td>\n      <td>...</td>\n      <td>0</td>\n      <td>NaN</td>\n      <td>NaN</td>\n      <td>NaN</td>\n      <td>0</td>\n      <td>12</td>\n      <td>2008</td>\n      <td>WD</td>\n      <td>Normal</td>\n      <td>250000</td>\n    </tr>\n  </tbody>\n</table>\n<p>5 rows × 81 columns</p>\n</div>"
     },
     "execution_count": 206,
     "metadata": {},
     "output_type": "execute_result"
    }
   ],
   "source": [
    "train_df = pd.read_csv(\"train.csv\")\n",
    "test_df = pd.read_csv(\"test.csv\")\n",
    "\n",
    "train_df.head()"
   ],
   "metadata": {
    "collapsed": false,
    "ExecuteTime": {
     "end_time": "2023-06-29T10:41:50.171894Z",
     "start_time": "2023-06-29T10:41:49.992401Z"
    }
   }
  },
  {
   "cell_type": "code",
   "execution_count": 207,
   "outputs": [],
   "source": [
    "for col in train_df.columns:\n",
    "    if(col!=\"SalePrice\"):\n",
    "        if(train_df[col].dtype==\"object\"):\n",
    "            unique_cat = test_df[col].unique()\n",
    "            train_df = train_df[train_df[col].isin(unique_cat) | train_df[col].isnull()]\n"
   ],
   "metadata": {
    "collapsed": false,
    "ExecuteTime": {
     "end_time": "2023-06-29T10:41:50.360250Z",
     "start_time": "2023-06-29T10:41:50.181139Z"
    }
   }
  },
  {
   "cell_type": "code",
   "execution_count": 208,
   "outputs": [
    {
     "name": "stdout",
     "output_type": "stream",
     "text": [
      "MSZoning\n",
      "train is 5\n",
      "test is 5\n",
      "\n",
      "Street\n",
      "train is 2\n",
      "test is 2\n",
      "\n",
      "Alley\n",
      "train is 2\n",
      "test is 2\n",
      "\n",
      "LotShape\n",
      "train is 4\n",
      "test is 4\n",
      "\n",
      "LandContour\n",
      "train is 4\n",
      "test is 4\n",
      "\n",
      "Utilities\n",
      "train is 1\n",
      "test is 1\n",
      "\n",
      "LotConfig\n",
      "train is 5\n",
      "test is 5\n",
      "\n",
      "LandSlope\n",
      "train is 3\n",
      "test is 3\n",
      "\n",
      "Neighborhood\n",
      "train is 25\n",
      "test is 25\n",
      "\n",
      "Condition1\n",
      "train is 9\n",
      "test is 9\n",
      "\n",
      "Condition2\n",
      "train is 5\n",
      "test is 5\n",
      "\n",
      "BldgType\n",
      "train is 5\n",
      "test is 5\n",
      "\n",
      "HouseStyle\n",
      "train is 7\n",
      "test is 7\n",
      "\n",
      "RoofStyle\n",
      "train is 6\n",
      "test is 6\n",
      "\n",
      "RoofMatl\n",
      "train is 4\n",
      "test is 4\n",
      "\n",
      "Exterior1st\n",
      "train is 13\n",
      "test is 13\n",
      "\n",
      "Exterior2nd\n",
      "train is 15\n",
      "test is 15\n",
      "\n",
      "MasVnrType\n",
      "train is 3\n",
      "test is 3\n",
      "\n",
      "ExterQual\n",
      "train is 4\n",
      "test is 4\n",
      "\n",
      "ExterCond\n",
      "train is 5\n",
      "test is 5\n",
      "\n",
      "Foundation\n",
      "train is 6\n",
      "test is 6\n",
      "\n",
      "BsmtQual\n",
      "train is 4\n",
      "test is 4\n",
      "\n",
      "BsmtCond\n",
      "train is 4\n",
      "test is 4\n",
      "\n",
      "BsmtExposure\n",
      "train is 4\n",
      "test is 4\n",
      "\n",
      "BsmtFinType1\n",
      "train is 6\n",
      "test is 6\n",
      "\n",
      "BsmtFinType2\n",
      "train is 6\n",
      "test is 6\n",
      "\n",
      "Heating\n",
      "train is 4\n",
      "test is 4\n",
      "\n",
      "HeatingQC\n",
      "train is 5\n",
      "test is 5\n",
      "\n",
      "CentralAir\n",
      "train is 2\n",
      "test is 2\n",
      "\n",
      "Electrical\n",
      "train is 4\n",
      "test is 4\n",
      "\n",
      "KitchenQual\n",
      "train is 4\n",
      "test is 4\n",
      "\n",
      "Functional\n",
      "train is 7\n",
      "test is 7\n",
      "\n",
      "FireplaceQu\n",
      "train is 5\n",
      "test is 5\n",
      "\n",
      "GarageType\n",
      "train is 6\n",
      "test is 6\n",
      "\n",
      "GarageFinish\n",
      "train is 3\n",
      "test is 3\n",
      "\n",
      "GarageQual\n",
      "train is 4\n",
      "test is 4\n",
      "\n",
      "GarageCond\n",
      "train is 4\n",
      "test is 5\n",
      "\n",
      "PavedDrive\n",
      "train is 3\n",
      "test is 3\n",
      "\n",
      "PoolQC\n",
      "train is 2\n",
      "test is 2\n",
      "\n",
      "Fence\n",
      "train is 4\n",
      "test is 4\n",
      "\n",
      "MiscFeature\n",
      "train is 3\n",
      "test is 3\n",
      "\n",
      "SaleType\n",
      "train is 9\n",
      "test is 9\n",
      "\n",
      "SaleCondition\n",
      "train is 6\n",
      "test is 6\n",
      "\n"
     ]
    }
   ],
   "source": [
    "for col in train_df.columns:\n",
    "    if (col != \"SalePrice\"):\n",
    "        if (train_df[col].dtype == \"object\"):\n",
    "            print(col)\n",
    "            print(f\"train is {train_df[col].nunique()}\")\n",
    "            print(f\"test is {test_df[col].nunique()}\")\n",
    "            print()\n",
    "# still problem in GarageCond"
   ],
   "metadata": {
    "collapsed": false,
    "ExecuteTime": {
     "end_time": "2023-06-29T10:41:50.361070Z",
     "start_time": "2023-06-29T10:41:50.281532Z"
    }
   }
  },
  {
   "cell_type": "code",
   "execution_count": 209,
   "outputs": [
    {
     "name": "stdout",
     "output_type": "stream",
     "text": [
      "train is ['TA' 'Fa' nan 'Gd' 'Po']\n",
      "test is ['TA' nan 'Fa' 'Gd' 'Po' 'Ex']\n"
     ]
    }
   ],
   "source": [
    "col = \"GarageCond\"\n",
    "print(f\"train is {train_df[col].unique()}\")\n",
    "print(f\"test is {test_df[col].unique()}\")"
   ],
   "metadata": {
    "collapsed": false,
    "ExecuteTime": {
     "end_time": "2023-06-29T10:41:50.362070Z",
     "start_time": "2023-06-29T10:41:50.345600Z"
    }
   }
  },
  {
   "cell_type": "code",
   "execution_count": 210,
   "outputs": [
    {
     "data": {
      "text/plain": "<Axes: xlabel='GarageCond', ylabel='SalePrice'>"
     },
     "execution_count": 210,
     "metadata": {},
     "output_type": "execute_result"
    },
    {
     "data": {
      "text/plain": "<Figure size 640x480 with 1 Axes>",
      "image/png": "[encoded data removed]"
     },
     "metadata": {},
     "output_type": "display_data"
    }
   ],
   "source": [
    "train_df[\"GarageCond\"].fillna(\"No Garage\",inplace=True)\n",
    "test_df[\"GarageCond\"].fillna(\"No Garage\",inplace=True)\n",
    "\n",
    "test_df[\"GarageCond\"] = test_df[\"GarageCond\"].apply(lambda x: \"Gd\" if x==\"Ex\" else x);\n",
    "sns.barplot(x=\"GarageCond\",y=\"SalePrice\",data=train_df)"
   ],
   "metadata": {
    "collapsed": false,
    "ExecuteTime": {
     "end_time": "2023-06-29T10:41:50.627708Z",
     "start_time": "2023-06-29T10:41:50.364243Z"
    }
   }
  },
  {
   "cell_type": "code",
   "execution_count": 211,
   "outputs": [],
   "source": [
    "mapping = {\n",
    "    20:\"a\",\n",
    "    30:\"b\",\n",
    "    40:\"c\",\n",
    "    45:\"d\",\n",
    "    50:\"e\",\n",
    "    60:\"f\",\n",
    "    70:\"g\",\n",
    "    75:\"h\",\n",
    "    80:\"i\",\n",
    "    85:\"j\",\n",
    "    90:\"k\",\n",
    "    120:\"l\",\n",
    "    150:\"m\",\n",
    "    160:\"n\",\n",
    "    180:\"o\",\n",
    "    190:\"p\",\n",
    "\n",
    "}\n",
    "\n",
    "train_df[\"MSSubClass\"]= train_df[\"MSSubClass\"].map(mapping)\n",
    "test_df[\"MSSubClass\"]= test_df[\"MSSubClass\"].map(mapping)\n",
    "test_df[\"MSSubClass\"] = test_df[\"MSSubClass\"].apply(lambda x: \"n\" if x==\"m\" else x)"
   ],
   "metadata": {
    "collapsed": false,
    "ExecuteTime": {
     "end_time": "2023-06-29T10:41:50.645404Z",
     "start_time": "2023-06-29T10:41:50.631119Z"
    }
   }
  },
  {
   "cell_type": "code",
   "execution_count": 212,
   "outputs": [
    {
     "name": "stdout",
     "output_type": "stream",
     "text": [
      "train is ['TA' 'Fa' 'No Garage' 'Gd' 'Po']\n",
      "test is ['TA' 'No Garage' 'Fa' 'Gd' 'Po']\n"
     ]
    }
   ],
   "source": [
    "print(f\"train is {train_df[col].unique()}\")\n",
    "print(f\"test is {test_df[col].unique()}\")"
   ],
   "metadata": {
    "collapsed": false,
    "ExecuteTime": {
     "end_time": "2023-06-29T10:41:50.684149Z",
     "start_time": "2023-06-29T10:41:50.640159Z"
    }
   }
  },
  {
   "cell_type": "code",
   "execution_count": 213,
   "outputs": [
    {
     "data": {
      "text/plain": "[{'LotFrontage': 253},\n {'Alley': 1343},\n {'MasVnrType': 850},\n {'MasVnrArea': 8},\n {'BsmtQual': 36},\n {'BsmtCond': 36},\n {'BsmtExposure': 37},\n {'BsmtFinType1': 36},\n {'BsmtFinType2': 37},\n {'Electrical': 1},\n {'FireplaceQu': 679},\n {'GarageType': 78},\n {'GarageYrBlt': 78},\n {'GarageFinish': 78},\n {'GarageQual': 78},\n {'PoolQC': 1427},\n {'Fence': 1156},\n {'MiscFeature': 1380}]"
     },
     "execution_count": 213,
     "metadata": {},
     "output_type": "execute_result"
    }
   ],
   "source": [
    "null_cols = []\n",
    "\n",
    "for col in train_df.columns:\n",
    "    if train_df[col].isna().sum() > 0:\n",
    "        null_cols.append({col: train_df[col].isna().sum()})\n",
    "\n",
    "null_cols"
   ],
   "metadata": {
    "collapsed": false,
    "ExecuteTime": {
     "end_time": "2023-06-29T10:41:50.729700Z",
     "start_time": "2023-06-29T10:41:50.663530Z"
    }
   }
  },
  {
   "cell_type": "code",
   "execution_count": 214,
   "outputs": [],
   "source": [
    "fill_by_mean = [\"LotFrontage\",\"MasVnrArea\",\"GarageYrBlt\"]\n",
    "fill_by_not_present = [\"Alley\",\"MasVnrType\",\"BsmtQual\",\"BsmtCond\",\"BsmtExposure\",\"BsmtFinType1\",\"FireplaceQu\",\"GarageType\",\"GarageFinish\",\"GarageQual\",\"PoolQC\",\"Fence\",\"MiscFeature\",\"BsmtFinType2\"]"
   ],
   "metadata": {
    "collapsed": false,
    "ExecuteTime": {
     "end_time": "2023-06-29T10:41:50.730243Z",
     "start_time": "2023-06-29T10:41:50.684310Z"
    }
   }
  },
  {
   "cell_type": "code",
   "execution_count": 215,
   "outputs": [],
   "source": [
    "train_df.drop(columns=[\"Electrical\"],inplace=True)\n",
    "test_df.drop(columns=[\"Electrical\"],inplace=True)"
   ],
   "metadata": {
    "collapsed": false,
    "ExecuteTime": {
     "end_time": "2023-06-29T10:41:50.743335Z",
     "start_time": "2023-06-29T10:41:50.706234Z"
    }
   }
  },
  {
   "cell_type": "code",
   "execution_count": 216,
   "outputs": [],
   "source": [
    "train_df[fill_by_not_present] = train_df[fill_by_not_present].fillna(\"Not Present\")\n",
    "test_df[fill_by_not_present] = test_df[fill_by_not_present].fillna(\"Not Present\")"
   ],
   "metadata": {
    "collapsed": false,
    "ExecuteTime": {
     "end_time": "2023-06-29T10:41:50.744103Z",
     "start_time": "2023-06-29T10:41:50.721567Z"
    }
   }
  },
  {
   "cell_type": "code",
   "execution_count": 217,
   "outputs": [],
   "source": [
    "train_df[fill_by_mean] = train_df[fill_by_mean].fillna(train_df[fill_by_mean].mean())\n",
    "test_df[fill_by_mean] = test_df[fill_by_mean].fillna(test_df[fill_by_mean].mean())"
   ],
   "metadata": {
    "collapsed": false,
    "ExecuteTime": {
     "end_time": "2023-06-29T10:41:50.744330Z",
     "start_time": "2023-06-29T10:41:50.732734Z"
    }
   }
  },
  {
   "cell_type": "code",
   "execution_count": 218,
   "outputs": [
    {
     "name": "stdout",
     "output_type": "stream",
     "text": [
      "MSZoning\n",
      "Utilities\n",
      "Exterior1st\n",
      "Exterior2nd\n",
      "KitchenQual\n",
      "Functional\n",
      "SaleType\n"
     ]
    }
   ],
   "source": [
    "for col in test_df.columns:\n",
    "    if test_df[col].isna().sum() > 0:\n",
    "        if(test_df[col].dtype==\"object\"):\n",
    "            print(col)\n",
    "            test_df[col] = test_df[col].fillna(test_df[col].mode().iloc[0])\n",
    "        else:\n",
    "            test_df[col] = test_df[col].fillna(test_df[col].mean())"
   ],
   "metadata": {
    "collapsed": false,
    "ExecuteTime": {
     "end_time": "2023-06-29T10:41:50.813585Z",
     "start_time": "2023-06-29T10:41:50.766353Z"
    }
   }
  },
  {
   "cell_type": "code",
   "execution_count": 219,
   "outputs": [
    {
     "data": {
      "text/plain": "   Id  LotFrontage  LotArea  OverallQual  OverallCond  YearBuilt  \\\n0   1         65.0     8450            7            5       2003   \n1   2         80.0     9600            6            8       1976   \n2   3         68.0    11250            7            5       2001   \n3   4         60.0     9550            7            5       1915   \n4   5         84.0    14260            8            5       2000   \n\n   YearRemodAdd  MasVnrArea  BsmtFinSF1  BsmtFinSF2  ...  SaleType_ConLw  \\\n0          2003       196.0         706           0  ...           False   \n1          1976         0.0         978           0  ...           False   \n2          2002       162.0         486           0  ...           False   \n3          1970         0.0         216           0  ...           False   \n4          2000       350.0         655           0  ...           False   \n\n   SaleType_New  SaleType_Oth  SaleType_WD  SaleCondition_Abnorml  \\\n0         False         False         True                  False   \n1         False         False         True                  False   \n2         False         False         True                  False   \n3         False         False         True                   True   \n4         False         False         True                  False   \n\n   SaleCondition_AdjLand  SaleCondition_Alloca  SaleCondition_Family  \\\n0                  False                 False                 False   \n1                  False                 False                 False   \n2                  False                 False                 False   \n3                  False                 False                 False   \n4                  False                 False                 False   \n\n   SaleCondition_Normal  SaleCondition_Partial  \n0                  True                  False  \n1                  True                  False  \n2                  True                  False  \n3                 False                  False  \n4                  True                  False  \n\n[5 rows x 295 columns]",
      "text/html": "<div>\n<style scoped>\n    .dataframe tbody tr th:only-of-type {\n        vertical-align: middle;\n    }\n\n    .dataframe tbody tr th {\n        vertical-align: top;\n    }\n\n    .dataframe thead th {\n        text-align: right;\n    }\n</style>\n<table border=\"1\" class=\"dataframe\">\n  <thead>\n    <tr style=\"text-align: right;\">\n      <th></th>\n      <th>Id</th>\n      <th>LotFrontage</th>\n      <th>LotArea</th>\n      <th>OverallQual</th>\n      <th>OverallCond</th>\n      <th>YearBuilt</th>\n      <th>YearRemodAdd</th>\n      <th>MasVnrArea</th>\n      <th>BsmtFinSF1</th>\n      <th>BsmtFinSF2</th>\n      <th>...</th>\n      <th>SaleType_ConLw</th>\n      <th>SaleType_New</th>\n      <th>SaleType_Oth</th>\n      <th>SaleType_WD</th>\n      <th>SaleCondition_Abnorml</th>\n      <th>SaleCondition_AdjLand</th>\n      <th>SaleCondition_Alloca</th>\n      <th>SaleCondition_Family</th>\n      <th>SaleCondition_Normal</th>\n      <th>SaleCondition_Partial</th>\n    </tr>\n  </thead>\n  <tbody>\n    <tr>\n      <th>0</th>\n      <td>1</td>\n      <td>65.0</td>\n      <td>8450</td>\n      <td>7</td>\n      <td>5</td>\n      <td>2003</td>\n      <td>2003</td>\n      <td>196.0</td>\n      <td>706</td>\n      <td>0</td>\n      <td>...</td>\n      <td>False</td>\n      <td>False</td>\n      <td>False</td>\n      <td>True</td>\n      <td>False</td>\n      <td>False</td>\n      <td>False</td>\n      <td>False</td>\n      <td>True</td>\n      <td>False</td>\n    </tr>\n    <tr>\n      <th>1</th>\n      <td>2</td>\n      <td>80.0</td>\n      <td>9600</td>\n      <td>6</td>\n      <td>8</td>\n      <td>1976</td>\n      <td>1976</td>\n      <td>0.0</td>\n      <td>978</td>\n      <td>0</td>\n      <td>...</td>\n      <td>False</td>\n      <td>False</td>\n      <td>False</td>\n      <td>True</td>\n      <td>False</td>\n      <td>False</td>\n      <td>False</td>\n      <td>False</td>\n      <td>True</td>\n      <td>False</td>\n    </tr>\n    <tr>\n      <th>2</th>\n      <td>3</td>\n      <td>68.0</td>\n      <td>11250</td>\n      <td>7</td>\n      <td>5</td>\n      <td>2001</td>\n      <td>2002</td>\n      <td>162.0</td>\n      <td>486</td>\n      <td>0</td>\n      <td>...</td>\n      <td>False</td>\n      <td>False</td>\n      <td>False</td>\n      <td>True</td>\n      <td>False</td>\n      <td>False</td>\n      <td>False</td>\n      <td>False</td>\n      <td>True</td>\n      <td>False</td>\n    </tr>\n    <tr>\n      <th>3</th>\n      <td>4</td>\n      <td>60.0</td>\n      <td>9550</td>\n      <td>7</td>\n      <td>5</td>\n      <td>1915</td>\n      <td>1970</td>\n      <td>0.0</td>\n      <td>216</td>\n      <td>0</td>\n      <td>...</td>\n      <td>False</td>\n      <td>False</td>\n      <td>False</td>\n      <td>True</td>\n      <td>True</td>\n      <td>False</td>\n      <td>False</td>\n      <td>False</td>\n      <td>False</td>\n      <td>False</td>\n    </tr>\n    <tr>\n      <th>4</th>\n      <td>5</td>\n      <td>84.0</td>\n      <td>14260</td>\n      <td>8</td>\n      <td>5</td>\n      <td>2000</td>\n      <td>2000</td>\n      <td>350.0</td>\n      <td>655</td>\n      <td>0</td>\n      <td>...</td>\n      <td>False</td>\n      <td>False</td>\n      <td>False</td>\n      <td>True</td>\n      <td>False</td>\n      <td>False</td>\n      <td>False</td>\n      <td>False</td>\n      <td>True</td>\n      <td>False</td>\n    </tr>\n  </tbody>\n</table>\n<p>5 rows × 295 columns</p>\n</div>"
     },
     "execution_count": 219,
     "metadata": {},
     "output_type": "execute_result"
    }
   ],
   "source": [
    "categorical_cols = []\n",
    "\n",
    "# Iterate over the columns of the train_df DataFrame\n",
    "for col in train_df.columns:\n",
    "    if train_df[col].dtype == \"object\":\n",
    "        categorical_cols.append(col)\n",
    "\n",
    "test_df = pd.get_dummies(test_df, columns=categorical_cols)\n",
    "train_df = pd.get_dummies(train_df, columns=categorical_cols)\n",
    "train_df.head()"
   ],
   "metadata": {
    "collapsed": false,
    "ExecuteTime": {
     "end_time": "2023-06-29T10:41:50.873968Z",
     "start_time": "2023-06-29T10:41:50.803483Z"
    }
   }
  },
  {
   "cell_type": "code",
   "execution_count": 220,
   "outputs": [],
   "source": [
    "def evaluate_model(model,X,y):\n",
    "    model_name = model.__class__.__name__\n",
    "    scores = cross_val_score(model, X, np.log(y), scoring='neg_mean_squared_error', cv=5)\n",
    "    mse_scores = -scores\n",
    "\n",
    "    print(f\"The RMSE score for {model_name} is {mse_scores.mean()}\")\n"
   ],
   "metadata": {
    "collapsed": false,
    "ExecuteTime": {
     "end_time": "2023-06-29T10:41:50.875615Z",
     "start_time": "2023-06-29T10:41:50.847963Z"
    }
   }
  },
  {
   "cell_type": "code",
   "execution_count": 221,
   "outputs": [],
   "source": [
    "X = train_df.drop(columns=[\"SalePrice\",\"Id\"])\n",
    "y = train_df.SalePrice"
   ],
   "metadata": {
    "collapsed": false,
    "ExecuteTime": {
     "end_time": "2023-06-29T10:41:50.876057Z",
     "start_time": "2023-06-29T10:41:50.863296Z"
    }
   }
  },
  {
   "cell_type": "code",
   "execution_count": 222,
   "outputs": [],
   "source": [
    "# models = [Ridge(),RandomForestRegressor(),lgb.LGBMRegressor(),xgb.XGBRegressor(),GradientBoostingRegressor()]\n",
    "# for model in models:\n",
    "#     evaluate_model(model,X,y)\n",
    "#     print()"
   ],
   "metadata": {
    "collapsed": false,
    "ExecuteTime": {
     "end_time": "2023-06-29T10:41:50.876109Z",
     "start_time": "2023-06-29T10:41:50.863843Z"
    }
   }
  },
  {
   "cell_type": "code",
   "execution_count": 223,
   "outputs": [
    {
     "name": "stdout",
     "output_type": "stream",
     "text": [
      "The RMSE score for GradientBoostingRegressor is 0.01617924425471222\n"
     ]
    },
    {
     "data": {
      "text/plain": "GradientBoostingRegressor()",
      "text/html": "<style>#sk-container-id-6 {color: black;background-color: white;}#sk-container-id-6 pre{padding: 0;}#sk-container-id-6 div.sk-toggleable {background-color: white;}#sk-container-id-6 label.sk-toggleable__label {cursor: pointer;display: block;width: 100%;margin-bottom: 0;padding: 0.3em;box-sizing: border-box;text-align: center;}#sk-container-id-6 label.sk-toggleable__label-arrow:before {content: \"▸\";float: left;margin-right: 0.25em;color: #696969;}#sk-container-id-6 label.sk-toggleable__label-arrow:hover:before {color: black;}#sk-container-id-6 div.sk-estimator:hover label.sk-toggleable__label-arrow:before {color: black;}#sk-container-id-6 div.sk-toggleable__content {max-height: 0;max-width: 0;overflow: hidden;text-align: left;background-color: #f0f8ff;}#sk-container-id-6 div.sk-toggleable__content pre {margin: 0.2em;color: black;border-radius: 0.25em;background-color: #f0f8ff;}#sk-container-id-6 input.sk-toggleable__control:checked~div.sk-toggleable__content {max-height: 200px;max-width: 100%;overflow: auto;}#sk-container-id-6 input.sk-toggleable__control:checked~label.sk-toggleable__label-arrow:before {content: \"▾\";}#sk-container-id-6 div.sk-estimator input.sk-toggleable__control:checked~label.sk-toggleable__label {background-color: #d4ebff;}#sk-container-id-6 div.sk-label input.sk-toggleable__control:checked~label.sk-toggleable__label {background-color: #d4ebff;}#sk-container-id-6 input.sk-hidden--visually {border: 0;clip: rect(1px 1px 1px 1px);clip: rect(1px, 1px, 1px, 1px);height: 1px;margin: -1px;overflow: hidden;padding: 0;position: absolute;width: 1px;}#sk-container-id-6 div.sk-estimator {font-family: monospace;background-color: #f0f8ff;border: 1px dotted black;border-radius: 0.25em;box-sizing: border-box;margin-bottom: 0.5em;}#sk-container-id-6 div.sk-estimator:hover {background-color: #d4ebff;}#sk-container-id-6 div.sk-parallel-item::after {content: \"\";width: 100%;border-bottom: 1px solid gray;flex-grow: 1;}#sk-container-id-6 div.sk-label:hover label.sk-toggleable__label {background-color: #d4ebff;}#sk-container-id-6 div.sk-serial::before {content: \"\";position: absolute;border-left: 1px solid gray;box-sizing: border-box;top: 0;bottom: 0;left: 50%;z-index: 0;}#sk-container-id-6 div.sk-serial {display: flex;flex-direction: column;align-items: center;background-color: white;padding-right: 0.2em;padding-left: 0.2em;position: relative;}#sk-container-id-6 div.sk-item {position: relative;z-index: 1;}#sk-container-id-6 div.sk-parallel {display: flex;align-items: stretch;justify-content: center;background-color: white;position: relative;}#sk-container-id-6 div.sk-item::before, #sk-container-id-6 div.sk-parallel-item::before {content: \"\";position: absolute;border-left: 1px solid gray;box-sizing: border-box;top: 0;bottom: 0;left: 50%;z-index: -1;}#sk-container-id-6 div.sk-parallel-item {display: flex;flex-direction: column;z-index: 1;position: relative;background-color: white;}#sk-container-id-6 div.sk-parallel-item:first-child::after {align-self: flex-end;width: 50%;}#sk-container-id-6 div.sk-parallel-item:last-child::after {align-self: flex-start;width: 50%;}#sk-container-id-6 div.sk-parallel-item:only-child::after {width: 0;}#sk-container-id-6 div.sk-dashed-wrapped {border: 1px dashed gray;margin: 0 0.4em 0.5em 0.4em;box-sizing: border-box;padding-bottom: 0.4em;background-color: white;}#sk-container-id-6 div.sk-label label {font-family: monospace;font-weight: bold;display: inline-block;line-height: 1.2em;}#sk-container-id-6 div.sk-label-container {text-align: center;}#sk-container-id-6 div.sk-container {/* jupyter's `normalize.less` sets `[hidden] { display: none; }` but bootstrap.min.css set `[hidden] { display: none !important; }` so we also need the `!important` here to be able to override the default hidden behavior on the sphinx rendered scikit-learn.org. See: https://github.com/scikit-learn/scikit-learn/issues/21755 */display: inline-block !important;position: relative;}#sk-container-id-6 div.sk-text-repr-fallback {display: none;}</style><div id=\"sk-container-id-6\" class=\"sk-top-container\"><div class=\"sk-text-repr-fallback\"><pre>GradientBoostingRegressor()</pre><b>In a Jupyter environment, please rerun this cell to show the HTML representation or trust the notebook. <br />On GitHub, the HTML representation is unable to render, please try loading this page with nbviewer.org.</b></div><div class=\"sk-container\" hidden><div class=\"sk-item\"><div class=\"sk-estimator sk-toggleable\"><input class=\"sk-toggleable__control sk-hidden--visually\" id=\"sk-estimator-id-12\" type=\"checkbox\" checked><label for=\"sk-estimator-id-12\" class=\"sk-toggleable__label sk-toggleable__label-arrow\">GradientBoostingRegressor</label><div class=\"sk-toggleable__content\"><pre>GradientBoostingRegressor()</pre></div></div></div></div></div>"
     },
     "execution_count": 223,
     "metadata": {},
     "output_type": "execute_result"
    }
   ],
   "source": [
    "best_model  = GradientBoostingRegressor()\n",
    "evaluate_model(best_model,X,y)\n",
    "\n",
    "best_model.fit(X,y)"
   ],
   "metadata": {
    "collapsed": false,
    "ExecuteTime": {
     "end_time": "2023-06-29T10:41:56.108146Z",
     "start_time": "2023-06-29T10:41:50.879119Z"
    }
   }
  },
  {
   "cell_type": "code",
   "execution_count": 224,
   "outputs": [
    {
     "data": {
      "text/plain": "     Id      SalePrice\n0  1461  122663.465572\n1  1462  160839.241143\n2  1463  181242.455891\n3  1464  179969.438337\n4  1465  193674.876007",
      "text/html": "<div>\n<style scoped>\n    .dataframe tbody tr th:only-of-type {\n        vertical-align: middle;\n    }\n\n    .dataframe tbody tr th {\n        vertical-align: top;\n    }\n\n    .dataframe thead th {\n        text-align: right;\n    }\n</style>\n<table border=\"1\" class=\"dataframe\">\n  <thead>\n    <tr style=\"text-align: right;\">\n      <th></th>\n      <th>Id</th>\n      <th>SalePrice</th>\n    </tr>\n  </thead>\n  <tbody>\n    <tr>\n      <th>0</th>\n      <td>1461</td>\n      <td>122663.465572</td>\n    </tr>\n    <tr>\n      <th>1</th>\n      <td>1462</td>\n      <td>160839.241143</td>\n    </tr>\n    <tr>\n      <th>2</th>\n      <td>1463</td>\n      <td>181242.455891</td>\n    </tr>\n    <tr>\n      <th>3</th>\n      <td>1464</td>\n      <td>179969.438337</td>\n    </tr>\n    <tr>\n      <th>4</th>\n      <td>1465</td>\n      <td>193674.876007</td>\n    </tr>\n  </tbody>\n</table>\n</div>"
     },
     "execution_count": 224,
     "metadata": {},
     "output_type": "execute_result"
    }
   ],
   "source": [
    "X = test_df.drop(columns=[\"Id\"])\n",
    "predictions = best_model.predict(X)\n",
    "\n",
    "predictions = pd.DataFrame({'Id':test_df.Id,'SalePrice':predictions})\n",
    "predictions.head()\n"
   ],
   "metadata": {
    "collapsed": false,
    "ExecuteTime": {
     "end_time": "2023-06-29T10:41:56.157245Z",
     "start_time": "2023-06-29T10:41:56.123382Z"
    }
   }
  },
  {
   "cell_type": "code",
   "execution_count": 225,
   "outputs": [],
   "source": [
    "predictions.to_csv(\"submission.csv\",index=False)"
   ],
   "metadata": {
    "collapsed": false,
    "ExecuteTime": {
     "end_time": "2023-06-29T10:41:56.172525Z",
     "start_time": "2023-06-29T10:41:56.151661Z"
    }
   }
  }
 ],
 "metadata": {
  "kernelspec": {
   "display_name": "Python 3",
   "language": "python",
   "name": "python3"
  },
  "language_info": {
   "codemirror_mode": {
    "name": "ipython",
    "version": 2
   },
   "file_extension": ".py",
   "mimetype": "text/x-python",
   "name": "python",
   "nbconvert_exporter": "python",
   "pygments_lexer": "ipython2",
   "version": "2.7.6"
  }
 },
 "nbformat": 4,
 "nbformat_minor": 0
}
