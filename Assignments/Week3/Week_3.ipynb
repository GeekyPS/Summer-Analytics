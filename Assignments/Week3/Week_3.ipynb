{
  "cells": [
    {
      "cell_type": "markdown",
      "metadata": {
        "datalore": {
          "hide_input_from_viewers": true,
          "hide_output_from_viewers": true,
          "node_id": "zGa7mCHaDDruHtkm7dEPtv",
          "type": "MD"
        },
        "id": "pyK8yDaV8ycY"
      },
      "source": [
        "# Week 3 SA"
      ]
    },
    {
      "cell_type": "markdown",
      "metadata": {
        "datalore": {
          "hide_input_from_viewers": true,
          "hide_output_from_viewers": true,
          "node_id": "U1ZcRPN3LUr8T0AFox9HNj",
          "type": "MD"
        },
        "id": "zJnb1G8v8ycc"
      },
      "source": [
        "Hey Everyone!! \n",
        "We hope that you are excited to apply your newly acquired knowledge and test it on this notebook.\n",
        "In this assignment, we will be walking through creating an email classifier based the content the mail has."
      ]
    },
    {
      "cell_type": "markdown",
      "metadata": {
        "datalore": {
          "hide_input_from_viewers": true,
          "hide_output_from_viewers": true,
          "node_id": "z4auZFCdOYmoX3bMIniLkV",
          "type": "MD"
        },
        "id": "5YHEqHfS8ycd"
      },
      "source": [
        "## About the data"
      ]
    },
    {
      "cell_type": "markdown",
      "metadata": {
        "datalore": {
          "hide_input_from_viewers": true,
          "hide_output_from_viewers": true,
          "node_id": "oqqW6dUiQklEDKoCWXWv5O",
          "type": "MD"
        },
        "id": "613liCxX8ycd"
      },
      "source": [
        "The data \"email.csv\" has a few rows and about 3K columns including <b>Email_no.</b> and <b>spam</b>. <br>\n",
        "Email_no. is like a unique id for an email and spam denotes whether the given mail is a spam or not (0 = not spam, 1 = spam)<br>\n",
        "Rest of the columns are words in english with the values being equal to the frequency of that word in the email.\n",
        "<br>Our goal is to predict whether the given mail is spam or not"
      ]
    },
    {
      "cell_type": "markdown",
      "metadata": {
        "datalore": {
          "hide_input_from_viewers": true,
          "hide_output_from_viewers": true,
          "node_id": "JAyWVZVGuGxuIiAHDsq61b",
          "type": "MD"
        },
        "id": "MTF_iz9D8yce"
      },
      "source": [
        "## Importing useful libraries"
      ]
    },
    {
      "cell_type": "code",
      "execution_count": 231,
      "metadata": {
        "datalore": {
          "hide_input_from_viewers": true,
          "hide_output_from_viewers": true,
          "node_id": "MGF6Kw4xf8SePOYMc0lIF1",
          "type": "CODE"
        },
        "id": "c2o2kzms8yce"
      },
      "outputs": [],
      "source": [
        "import pandas as pd\n",
        "import numpy as np\n",
        "import seaborn as sns\n",
        "import matplotlib.pyplot as plt"
      ]
    },
    {
      "cell_type": "markdown",
      "metadata": {
        "datalore": {
          "hide_input_from_viewers": true,
          "hide_output_from_viewers": true,
          "node_id": "8QlDKKKCWpgnkoXHPYswvd",
          "type": "MD"
        },
        "id": "EQrheJ3X8ycf"
      },
      "source": [
        "## Loading the data\n",
        "### If you are using Datalore, you may use the csv file directly. Otherwise you may download it from <a href = \"https://drive.google.com/file/d/1OxJ6SSuPypg-AfLbMRl0O9So9aDDNzbC/view?usp=sharing\">this link</a>"
      ]
    },
    {
      "cell_type": "code",
      "execution_count": 232,
      "metadata": {
        "datalore": {
          "hide_input_from_viewers": true,
          "hide_output_from_viewers": true,
          "node_id": "awQRzUu3t4PZmOtlTbPn44",
          "type": "CODE"
        },
        "id": "2YC7z_zh8ycg"
      },
      "outputs": [],
      "source": [
        "df = pd.read_csv('emails.csv')"
      ]
    },
    {
      "cell_type": "markdown",
      "metadata": {
        "datalore": {
          "hide_input_from_viewers": true,
          "hide_output_from_viewers": true,
          "node_id": "ex2R3oVXRwyZaziX9HkcGp",
          "type": "MD"
        },
        "id": "iddBJMYw8ycg"
      },
      "source": [
        "## Describe the data and generate some basic insights unsing methods like .info"
      ]
    },
    {
      "cell_type": "code",
      "execution_count": 233,
      "metadata": {
        "datalore": {
          "hide_input_from_viewers": true,
          "hide_output_from_viewers": true,
          "node_id": "yfyNpm25jyzCNCFOWtDwlM",
          "type": "CODE"
        },
        "id": "hQ-WH3O98ych",
        "outputId": "8b486e0b-50fc-4d1e-af75-9acdbf713aa4"
      },
      "outputs": [
        {
          "data": {
            "text/html": [
              "<div>\n",
              "<style scoped>\n",
              "    .dataframe tbody tr th:only-of-type {\n",
              "        vertical-align: middle;\n",
              "    }\n",
              "\n",
              "    .dataframe tbody tr th {\n",
              "        vertical-align: top;\n",
              "    }\n",
              "\n",
              "    .dataframe thead th {\n",
              "        text-align: right;\n",
              "    }\n",
              "</style>\n",
              "<table border=\"1\" class=\"dataframe\">\n",
              "  <thead>\n",
              "    <tr style=\"text-align: right;\">\n",
              "      <th></th>\n",
              "      <th>Email No.</th>\n",
              "      <th>the</th>\n",
              "      <th>to</th>\n",
              "      <th>ect</th>\n",
              "      <th>and</th>\n",
              "      <th>for</th>\n",
              "      <th>of</th>\n",
              "      <th>a</th>\n",
              "      <th>you</th>\n",
              "      <th>hou</th>\n",
              "      <th>...</th>\n",
              "      <th>connevey</th>\n",
              "      <th>jay</th>\n",
              "      <th>valued</th>\n",
              "      <th>lay</th>\n",
              "      <th>infrastructure</th>\n",
              "      <th>military</th>\n",
              "      <th>allowing</th>\n",
              "      <th>ff</th>\n",
              "      <th>dry</th>\n",
              "      <th>Prediction</th>\n",
              "    </tr>\n",
              "  </thead>\n",
              "  <tbody>\n",
              "    <tr>\n",
              "      <th>0</th>\n",
              "      <td>Email 1</td>\n",
              "      <td>0</td>\n",
              "      <td>0</td>\n",
              "      <td>1</td>\n",
              "      <td>0</td>\n",
              "      <td>0</td>\n",
              "      <td>0</td>\n",
              "      <td>2</td>\n",
              "      <td>0</td>\n",
              "      <td>0</td>\n",
              "      <td>...</td>\n",
              "      <td>0</td>\n",
              "      <td>0</td>\n",
              "      <td>0</td>\n",
              "      <td>0</td>\n",
              "      <td>0</td>\n",
              "      <td>0</td>\n",
              "      <td>0</td>\n",
              "      <td>0</td>\n",
              "      <td>0</td>\n",
              "      <td>0</td>\n",
              "    </tr>\n",
              "    <tr>\n",
              "      <th>1</th>\n",
              "      <td>Email 2</td>\n",
              "      <td>8</td>\n",
              "      <td>13</td>\n",
              "      <td>24</td>\n",
              "      <td>6</td>\n",
              "      <td>6</td>\n",
              "      <td>2</td>\n",
              "      <td>102</td>\n",
              "      <td>1</td>\n",
              "      <td>27</td>\n",
              "      <td>...</td>\n",
              "      <td>0</td>\n",
              "      <td>0</td>\n",
              "      <td>0</td>\n",
              "      <td>0</td>\n",
              "      <td>0</td>\n",
              "      <td>0</td>\n",
              "      <td>0</td>\n",
              "      <td>1</td>\n",
              "      <td>0</td>\n",
              "      <td>0</td>\n",
              "    </tr>\n",
              "    <tr>\n",
              "      <th>2</th>\n",
              "      <td>Email 3</td>\n",
              "      <td>0</td>\n",
              "      <td>0</td>\n",
              "      <td>1</td>\n",
              "      <td>0</td>\n",
              "      <td>0</td>\n",
              "      <td>0</td>\n",
              "      <td>8</td>\n",
              "      <td>0</td>\n",
              "      <td>0</td>\n",
              "      <td>...</td>\n",
              "      <td>0</td>\n",
              "      <td>0</td>\n",
              "      <td>0</td>\n",
              "      <td>0</td>\n",
              "      <td>0</td>\n",
              "      <td>0</td>\n",
              "      <td>0</td>\n",
              "      <td>0</td>\n",
              "      <td>0</td>\n",
              "      <td>0</td>\n",
              "    </tr>\n",
              "    <tr>\n",
              "      <th>3</th>\n",
              "      <td>Email 4</td>\n",
              "      <td>0</td>\n",
              "      <td>5</td>\n",
              "      <td>22</td>\n",
              "      <td>0</td>\n",
              "      <td>5</td>\n",
              "      <td>1</td>\n",
              "      <td>51</td>\n",
              "      <td>2</td>\n",
              "      <td>10</td>\n",
              "      <td>...</td>\n",
              "      <td>0</td>\n",
              "      <td>0</td>\n",
              "      <td>0</td>\n",
              "      <td>0</td>\n",
              "      <td>0</td>\n",
              "      <td>0</td>\n",
              "      <td>0</td>\n",
              "      <td>0</td>\n",
              "      <td>0</td>\n",
              "      <td>0</td>\n",
              "    </tr>\n",
              "    <tr>\n",
              "      <th>4</th>\n",
              "      <td>Email 5</td>\n",
              "      <td>7</td>\n",
              "      <td>6</td>\n",
              "      <td>17</td>\n",
              "      <td>1</td>\n",
              "      <td>5</td>\n",
              "      <td>2</td>\n",
              "      <td>57</td>\n",
              "      <td>0</td>\n",
              "      <td>9</td>\n",
              "      <td>...</td>\n",
              "      <td>0</td>\n",
              "      <td>0</td>\n",
              "      <td>0</td>\n",
              "      <td>0</td>\n",
              "      <td>0</td>\n",
              "      <td>0</td>\n",
              "      <td>0</td>\n",
              "      <td>1</td>\n",
              "      <td>0</td>\n",
              "      <td>0</td>\n",
              "    </tr>\n",
              "  </tbody>\n",
              "</table>\n",
              "<p>5 rows × 3002 columns</p>\n",
              "</div>"
            ],
            "text/plain": [
              "  Email No.  the  to  ect  and  for  of    a  you  hou  ...  connevey  jay  \\\n",
              "0   Email 1    0   0    1    0    0   0    2    0    0  ...         0    0   \n",
              "1   Email 2    8  13   24    6    6   2  102    1   27  ...         0    0   \n",
              "2   Email 3    0   0    1    0    0   0    8    0    0  ...         0    0   \n",
              "3   Email 4    0   5   22    0    5   1   51    2   10  ...         0    0   \n",
              "4   Email 5    7   6   17    1    5   2   57    0    9  ...         0    0   \n",
              "\n",
              "   valued  lay  infrastructure  military  allowing  ff  dry  Prediction  \n",
              "0       0    0               0         0         0   0    0           0  \n",
              "1       0    0               0         0         0   1    0           0  \n",
              "2       0    0               0         0         0   0    0           0  \n",
              "3       0    0               0         0         0   0    0           0  \n",
              "4       0    0               0         0         0   1    0           0  \n",
              "\n",
              "[5 rows x 3002 columns]"
            ]
          },
          "execution_count": 233,
          "metadata": {},
          "output_type": "execute_result"
        }
      ],
      "source": [
        "df.head()"
      ]
    },
    {
      "cell_type": "code",
      "execution_count": 234,
      "metadata": {},
      "outputs": [],
      "source": [
        "df.drop(\"Email No.\",axis=1,inplace=True)\n",
        "# since Email No. uniquely identify columns , which the row index also does , and it has no relation with email being spam or not (it may cause overfitting issues if used as a feature) , lets drop it only"
      ]
    },
    {
      "cell_type": "code",
      "execution_count": 235,
      "metadata": {},
      "outputs": [
        {
          "name": "stdout",
          "output_type": "stream",
          "text": [
            "<class 'pandas.core.frame.DataFrame'>\n",
            "RangeIndex: 5172 entries, 0 to 5171\n",
            "Columns: 3001 entries, the to Prediction\n",
            "dtypes: int64(3001)\n",
            "memory usage: 118.4 MB\n"
          ]
        }
      ],
      "source": [
        "df.info(memory_usage=\"deep\")\n",
        "# this method tells us the details about the data , memory usage deep is used to obtain a more accurate memory usage"
      ]
    },
    {
      "cell_type": "code",
      "execution_count": 236,
      "metadata": {},
      "outputs": [
        {
          "data": {
            "text/html": [
              "<div>\n",
              "<style scoped>\n",
              "    .dataframe tbody tr th:only-of-type {\n",
              "        vertical-align: middle;\n",
              "    }\n",
              "\n",
              "    .dataframe tbody tr th {\n",
              "        vertical-align: top;\n",
              "    }\n",
              "\n",
              "    .dataframe thead th {\n",
              "        text-align: right;\n",
              "    }\n",
              "</style>\n",
              "<table border=\"1\" class=\"dataframe\">\n",
              "  <thead>\n",
              "    <tr style=\"text-align: right;\">\n",
              "      <th></th>\n",
              "      <th>the</th>\n",
              "      <th>to</th>\n",
              "      <th>ect</th>\n",
              "      <th>and</th>\n",
              "      <th>for</th>\n",
              "      <th>of</th>\n",
              "      <th>a</th>\n",
              "      <th>you</th>\n",
              "      <th>hou</th>\n",
              "      <th>in</th>\n",
              "      <th>...</th>\n",
              "      <th>connevey</th>\n",
              "      <th>jay</th>\n",
              "      <th>valued</th>\n",
              "      <th>lay</th>\n",
              "      <th>infrastructure</th>\n",
              "      <th>military</th>\n",
              "      <th>allowing</th>\n",
              "      <th>ff</th>\n",
              "      <th>dry</th>\n",
              "      <th>Prediction</th>\n",
              "    </tr>\n",
              "  </thead>\n",
              "  <tbody>\n",
              "    <tr>\n",
              "      <th>count</th>\n",
              "      <td>5172.000000</td>\n",
              "      <td>5172.000000</td>\n",
              "      <td>5172.000000</td>\n",
              "      <td>5172.000000</td>\n",
              "      <td>5172.000000</td>\n",
              "      <td>5172.000000</td>\n",
              "      <td>5172.000000</td>\n",
              "      <td>5172.000000</td>\n",
              "      <td>5172.000000</td>\n",
              "      <td>5172.000000</td>\n",
              "      <td>...</td>\n",
              "      <td>5172.000000</td>\n",
              "      <td>5172.000000</td>\n",
              "      <td>5172.000000</td>\n",
              "      <td>5172.000000</td>\n",
              "      <td>5172.000000</td>\n",
              "      <td>5172.000000</td>\n",
              "      <td>5172.000000</td>\n",
              "      <td>5172.000000</td>\n",
              "      <td>5172.000000</td>\n",
              "      <td>5172.000000</td>\n",
              "    </tr>\n",
              "    <tr>\n",
              "      <th>mean</th>\n",
              "      <td>6.640565</td>\n",
              "      <td>6.188128</td>\n",
              "      <td>5.143852</td>\n",
              "      <td>3.075599</td>\n",
              "      <td>3.124710</td>\n",
              "      <td>2.627030</td>\n",
              "      <td>55.517401</td>\n",
              "      <td>2.466551</td>\n",
              "      <td>2.024362</td>\n",
              "      <td>10.600155</td>\n",
              "      <td>...</td>\n",
              "      <td>0.005027</td>\n",
              "      <td>0.012568</td>\n",
              "      <td>0.010634</td>\n",
              "      <td>0.098028</td>\n",
              "      <td>0.004254</td>\n",
              "      <td>0.006574</td>\n",
              "      <td>0.004060</td>\n",
              "      <td>0.914733</td>\n",
              "      <td>0.006961</td>\n",
              "      <td>0.290023</td>\n",
              "    </tr>\n",
              "    <tr>\n",
              "      <th>std</th>\n",
              "      <td>11.745009</td>\n",
              "      <td>9.534576</td>\n",
              "      <td>14.101142</td>\n",
              "      <td>6.045970</td>\n",
              "      <td>4.680522</td>\n",
              "      <td>6.229845</td>\n",
              "      <td>87.574172</td>\n",
              "      <td>4.314444</td>\n",
              "      <td>6.967878</td>\n",
              "      <td>19.281892</td>\n",
              "      <td>...</td>\n",
              "      <td>0.105788</td>\n",
              "      <td>0.199682</td>\n",
              "      <td>0.116693</td>\n",
              "      <td>0.569532</td>\n",
              "      <td>0.096252</td>\n",
              "      <td>0.138908</td>\n",
              "      <td>0.072145</td>\n",
              "      <td>2.780203</td>\n",
              "      <td>0.098086</td>\n",
              "      <td>0.453817</td>\n",
              "    </tr>\n",
              "    <tr>\n",
              "      <th>min</th>\n",
              "      <td>0.000000</td>\n",
              "      <td>0.000000</td>\n",
              "      <td>1.000000</td>\n",
              "      <td>0.000000</td>\n",
              "      <td>0.000000</td>\n",
              "      <td>0.000000</td>\n",
              "      <td>0.000000</td>\n",
              "      <td>0.000000</td>\n",
              "      <td>0.000000</td>\n",
              "      <td>0.000000</td>\n",
              "      <td>...</td>\n",
              "      <td>0.000000</td>\n",
              "      <td>0.000000</td>\n",
              "      <td>0.000000</td>\n",
              "      <td>0.000000</td>\n",
              "      <td>0.000000</td>\n",
              "      <td>0.000000</td>\n",
              "      <td>0.000000</td>\n",
              "      <td>0.000000</td>\n",
              "      <td>0.000000</td>\n",
              "      <td>0.000000</td>\n",
              "    </tr>\n",
              "    <tr>\n",
              "      <th>25%</th>\n",
              "      <td>0.000000</td>\n",
              "      <td>1.000000</td>\n",
              "      <td>1.000000</td>\n",
              "      <td>0.000000</td>\n",
              "      <td>1.000000</td>\n",
              "      <td>0.000000</td>\n",
              "      <td>12.000000</td>\n",
              "      <td>0.000000</td>\n",
              "      <td>0.000000</td>\n",
              "      <td>1.000000</td>\n",
              "      <td>...</td>\n",
              "      <td>0.000000</td>\n",
              "      <td>0.000000</td>\n",
              "      <td>0.000000</td>\n",
              "      <td>0.000000</td>\n",
              "      <td>0.000000</td>\n",
              "      <td>0.000000</td>\n",
              "      <td>0.000000</td>\n",
              "      <td>0.000000</td>\n",
              "      <td>0.000000</td>\n",
              "      <td>0.000000</td>\n",
              "    </tr>\n",
              "    <tr>\n",
              "      <th>50%</th>\n",
              "      <td>3.000000</td>\n",
              "      <td>3.000000</td>\n",
              "      <td>1.000000</td>\n",
              "      <td>1.000000</td>\n",
              "      <td>2.000000</td>\n",
              "      <td>1.000000</td>\n",
              "      <td>28.000000</td>\n",
              "      <td>1.000000</td>\n",
              "      <td>0.000000</td>\n",
              "      <td>5.000000</td>\n",
              "      <td>...</td>\n",
              "      <td>0.000000</td>\n",
              "      <td>0.000000</td>\n",
              "      <td>0.000000</td>\n",
              "      <td>0.000000</td>\n",
              "      <td>0.000000</td>\n",
              "      <td>0.000000</td>\n",
              "      <td>0.000000</td>\n",
              "      <td>0.000000</td>\n",
              "      <td>0.000000</td>\n",
              "      <td>0.000000</td>\n",
              "    </tr>\n",
              "    <tr>\n",
              "      <th>75%</th>\n",
              "      <td>8.000000</td>\n",
              "      <td>7.000000</td>\n",
              "      <td>4.000000</td>\n",
              "      <td>3.000000</td>\n",
              "      <td>4.000000</td>\n",
              "      <td>2.000000</td>\n",
              "      <td>62.250000</td>\n",
              "      <td>3.000000</td>\n",
              "      <td>1.000000</td>\n",
              "      <td>12.000000</td>\n",
              "      <td>...</td>\n",
              "      <td>0.000000</td>\n",
              "      <td>0.000000</td>\n",
              "      <td>0.000000</td>\n",
              "      <td>0.000000</td>\n",
              "      <td>0.000000</td>\n",
              "      <td>0.000000</td>\n",
              "      <td>0.000000</td>\n",
              "      <td>1.000000</td>\n",
              "      <td>0.000000</td>\n",
              "      <td>1.000000</td>\n",
              "    </tr>\n",
              "    <tr>\n",
              "      <th>max</th>\n",
              "      <td>210.000000</td>\n",
              "      <td>132.000000</td>\n",
              "      <td>344.000000</td>\n",
              "      <td>89.000000</td>\n",
              "      <td>47.000000</td>\n",
              "      <td>77.000000</td>\n",
              "      <td>1898.000000</td>\n",
              "      <td>70.000000</td>\n",
              "      <td>167.000000</td>\n",
              "      <td>223.000000</td>\n",
              "      <td>...</td>\n",
              "      <td>4.000000</td>\n",
              "      <td>7.000000</td>\n",
              "      <td>2.000000</td>\n",
              "      <td>12.000000</td>\n",
              "      <td>3.000000</td>\n",
              "      <td>4.000000</td>\n",
              "      <td>3.000000</td>\n",
              "      <td>114.000000</td>\n",
              "      <td>4.000000</td>\n",
              "      <td>1.000000</td>\n",
              "    </tr>\n",
              "  </tbody>\n",
              "</table>\n",
              "<p>8 rows × 3001 columns</p>\n",
              "</div>"
            ],
            "text/plain": [
              "               the           to          ect          and          for  \\\n",
              "count  5172.000000  5172.000000  5172.000000  5172.000000  5172.000000   \n",
              "mean      6.640565     6.188128     5.143852     3.075599     3.124710   \n",
              "std      11.745009     9.534576    14.101142     6.045970     4.680522   \n",
              "min       0.000000     0.000000     1.000000     0.000000     0.000000   \n",
              "25%       0.000000     1.000000     1.000000     0.000000     1.000000   \n",
              "50%       3.000000     3.000000     1.000000     1.000000     2.000000   \n",
              "75%       8.000000     7.000000     4.000000     3.000000     4.000000   \n",
              "max     210.000000   132.000000   344.000000    89.000000    47.000000   \n",
              "\n",
              "                of            a          you          hou           in  ...  \\\n",
              "count  5172.000000  5172.000000  5172.000000  5172.000000  5172.000000  ...   \n",
              "mean      2.627030    55.517401     2.466551     2.024362    10.600155  ...   \n",
              "std       6.229845    87.574172     4.314444     6.967878    19.281892  ...   \n",
              "min       0.000000     0.000000     0.000000     0.000000     0.000000  ...   \n",
              "25%       0.000000    12.000000     0.000000     0.000000     1.000000  ...   \n",
              "50%       1.000000    28.000000     1.000000     0.000000     5.000000  ...   \n",
              "75%       2.000000    62.250000     3.000000     1.000000    12.000000  ...   \n",
              "max      77.000000  1898.000000    70.000000   167.000000   223.000000  ...   \n",
              "\n",
              "          connevey          jay       valued          lay  infrastructure  \\\n",
              "count  5172.000000  5172.000000  5172.000000  5172.000000     5172.000000   \n",
              "mean      0.005027     0.012568     0.010634     0.098028        0.004254   \n",
              "std       0.105788     0.199682     0.116693     0.569532        0.096252   \n",
              "min       0.000000     0.000000     0.000000     0.000000        0.000000   \n",
              "25%       0.000000     0.000000     0.000000     0.000000        0.000000   \n",
              "50%       0.000000     0.000000     0.000000     0.000000        0.000000   \n",
              "75%       0.000000     0.000000     0.000000     0.000000        0.000000   \n",
              "max       4.000000     7.000000     2.000000    12.000000        3.000000   \n",
              "\n",
              "          military     allowing           ff          dry   Prediction  \n",
              "count  5172.000000  5172.000000  5172.000000  5172.000000  5172.000000  \n",
              "mean      0.006574     0.004060     0.914733     0.006961     0.290023  \n",
              "std       0.138908     0.072145     2.780203     0.098086     0.453817  \n",
              "min       0.000000     0.000000     0.000000     0.000000     0.000000  \n",
              "25%       0.000000     0.000000     0.000000     0.000000     0.000000  \n",
              "50%       0.000000     0.000000     0.000000     0.000000     0.000000  \n",
              "75%       0.000000     0.000000     1.000000     0.000000     1.000000  \n",
              "max       4.000000     3.000000   114.000000     4.000000     1.000000  \n",
              "\n",
              "[8 rows x 3001 columns]"
            ]
          },
          "execution_count": 236,
          "metadata": {},
          "output_type": "execute_result"
        }
      ],
      "source": [
        "df.describe()\n",
        "# this show us some more insights about the data , about frequency and occurence of each word in an email message"
      ]
    },
    {
      "cell_type": "code",
      "execution_count": 237,
      "metadata": {},
      "outputs": [
        {
          "data": {
            "text/html": [
              "<div>\n",
              "<style scoped>\n",
              "    .dataframe tbody tr th:only-of-type {\n",
              "        vertical-align: middle;\n",
              "    }\n",
              "\n",
              "    .dataframe tbody tr th {\n",
              "        vertical-align: top;\n",
              "    }\n",
              "\n",
              "    .dataframe thead th {\n",
              "        text-align: right;\n",
              "    }\n",
              "</style>\n",
              "<table border=\"1\" class=\"dataframe\">\n",
              "  <thead>\n",
              "    <tr style=\"text-align: right;\">\n",
              "      <th></th>\n",
              "      <th>the</th>\n",
              "      <th>to</th>\n",
              "      <th>ect</th>\n",
              "      <th>and</th>\n",
              "      <th>for</th>\n",
              "      <th>of</th>\n",
              "      <th>a</th>\n",
              "      <th>you</th>\n",
              "      <th>hou</th>\n",
              "      <th>in</th>\n",
              "      <th>...</th>\n",
              "      <th>enhancements</th>\n",
              "      <th>connevey</th>\n",
              "      <th>jay</th>\n",
              "      <th>valued</th>\n",
              "      <th>lay</th>\n",
              "      <th>infrastructure</th>\n",
              "      <th>military</th>\n",
              "      <th>allowing</th>\n",
              "      <th>ff</th>\n",
              "      <th>dry</th>\n",
              "    </tr>\n",
              "    <tr>\n",
              "      <th>Prediction</th>\n",
              "      <th></th>\n",
              "      <th></th>\n",
              "      <th></th>\n",
              "      <th></th>\n",
              "      <th></th>\n",
              "      <th></th>\n",
              "      <th></th>\n",
              "      <th></th>\n",
              "      <th></th>\n",
              "      <th></th>\n",
              "      <th></th>\n",
              "      <th></th>\n",
              "      <th></th>\n",
              "      <th></th>\n",
              "      <th></th>\n",
              "      <th></th>\n",
              "      <th></th>\n",
              "      <th></th>\n",
              "      <th></th>\n",
              "      <th></th>\n",
              "      <th></th>\n",
              "    </tr>\n",
              "  </thead>\n",
              "  <tbody>\n",
              "    <tr>\n",
              "      <th>0</th>\n",
              "      <td>24506</td>\n",
              "      <td>21486</td>\n",
              "      <td>22885</td>\n",
              "      <td>9671</td>\n",
              "      <td>11508</td>\n",
              "      <td>6763</td>\n",
              "      <td>181711</td>\n",
              "      <td>7738</td>\n",
              "      <td>9532</td>\n",
              "      <td>31953</td>\n",
              "      <td>...</td>\n",
              "      <td>27</td>\n",
              "      <td>26</td>\n",
              "      <td>61</td>\n",
              "      <td>12</td>\n",
              "      <td>274</td>\n",
              "      <td>7</td>\n",
              "      <td>3</td>\n",
              "      <td>13</td>\n",
              "      <td>2475</td>\n",
              "      <td>27</td>\n",
              "    </tr>\n",
              "    <tr>\n",
              "      <th>1</th>\n",
              "      <td>9839</td>\n",
              "      <td>10519</td>\n",
              "      <td>3719</td>\n",
              "      <td>6236</td>\n",
              "      <td>4653</td>\n",
              "      <td>6824</td>\n",
              "      <td>105425</td>\n",
              "      <td>5019</td>\n",
              "      <td>938</td>\n",
              "      <td>22871</td>\n",
              "      <td>...</td>\n",
              "      <td>2</td>\n",
              "      <td>0</td>\n",
              "      <td>4</td>\n",
              "      <td>43</td>\n",
              "      <td>233</td>\n",
              "      <td>15</td>\n",
              "      <td>31</td>\n",
              "      <td>8</td>\n",
              "      <td>2256</td>\n",
              "      <td>9</td>\n",
              "    </tr>\n",
              "  </tbody>\n",
              "</table>\n",
              "<p>2 rows × 3000 columns</p>\n",
              "</div>"
            ],
            "text/plain": [
              "              the     to    ect   and    for    of       a   you   hou     in  \\\n",
              "Prediction                                                                      \n",
              "0           24506  21486  22885  9671  11508  6763  181711  7738  9532  31953   \n",
              "1            9839  10519   3719  6236   4653  6824  105425  5019   938  22871   \n",
              "\n",
              "            ...  enhancements  connevey  jay  valued  lay  infrastructure  \\\n",
              "Prediction  ...                                                             \n",
              "0           ...            27        26   61      12  274               7   \n",
              "1           ...             2         0    4      43  233              15   \n",
              "\n",
              "            military  allowing    ff  dry  \n",
              "Prediction                                 \n",
              "0                  3        13  2475   27  \n",
              "1                 31         8  2256    9  \n",
              "\n",
              "[2 rows x 3000 columns]"
            ]
          },
          "execution_count": 237,
          "metadata": {},
          "output_type": "execute_result"
        }
      ],
      "source": [
        "df.groupby(\"Prediction\").sum()\n",
        "# in this data exploration technique , the data is grouped by Prediction to see the pattern of words(their frequency of occurence) which are common is spam email but not in non-spam emails"
      ]
    },
    {
      "cell_type": "code",
      "execution_count": 238,
      "metadata": {},
      "outputs": [
        {
          "data": {
            "text/plain": [
              "['the',\n",
              " 'to',\n",
              " 'ect',\n",
              " 'and',\n",
              " 'for',\n",
              " 'of',\n",
              " 'a',\n",
              " 'you',\n",
              " 'hou',\n",
              " 'in',\n",
              " 'on',\n",
              " 'is',\n",
              " 'this',\n",
              " 'enron',\n",
              " 'i',\n",
              " 'be',\n",
              " 'that',\n",
              " 'will',\n",
              " 'have',\n",
              " 'with',\n",
              " 'your',\n",
              " 'at',\n",
              " 'we',\n",
              " 's',\n",
              " 'are',\n",
              " 'it',\n",
              " 'by',\n",
              " 'com',\n",
              " 'as',\n",
              " 'from',\n",
              " 'gas',\n",
              " 'or',\n",
              " 'not',\n",
              " 'me',\n",
              " 'deal',\n",
              " 'if',\n",
              " 'meter',\n",
              " 'hpl',\n",
              " 'please',\n",
              " 're',\n",
              " 'e',\n",
              " 'any',\n",
              " 'our',\n",
              " 'corp',\n",
              " 'can',\n",
              " 'd',\n",
              " 'all',\n",
              " 'has',\n",
              " 'was',\n",
              " 'know',\n",
              " 'need',\n",
              " 'an',\n",
              " 'forwarded',\n",
              " 'new',\n",
              " 't',\n",
              " 'may',\n",
              " 'up',\n",
              " 'j',\n",
              " 'mmbtu',\n",
              " 'should',\n",
              " 'do',\n",
              " 'am',\n",
              " 'get',\n",
              " 'out',\n",
              " 'see',\n",
              " 'no',\n",
              " 'there',\n",
              " 'price',\n",
              " 'daren',\n",
              " 'but',\n",
              " 'been',\n",
              " 'company',\n",
              " 'l',\n",
              " 'these',\n",
              " 'let',\n",
              " 'so',\n",
              " 'would',\n",
              " 'm',\n",
              " 'into',\n",
              " 'xls',\n",
              " 'farmer',\n",
              " 'attached',\n",
              " 'us',\n",
              " 'information',\n",
              " 'they',\n",
              " 'message',\n",
              " 'day',\n",
              " 'time',\n",
              " 'my',\n",
              " 'one',\n",
              " 'what',\n",
              " 'only',\n",
              " 'http',\n",
              " 'th',\n",
              " 'volume',\n",
              " 'mail',\n",
              " 'contract',\n",
              " 'which',\n",
              " 'month',\n",
              " 'more',\n",
              " 'robert',\n",
              " 'sitara',\n",
              " 'about',\n",
              " 'texas',\n",
              " 'nom',\n",
              " 'energy',\n",
              " 'pec',\n",
              " 'questions',\n",
              " 'www',\n",
              " 'deals',\n",
              " 'volumes',\n",
              " 'pm',\n",
              " 'ena',\n",
              " 'now',\n",
              " 'their',\n",
              " 'file',\n",
              " 'some',\n",
              " 'email',\n",
              " 'just',\n",
              " 'also',\n",
              " 'call',\n",
              " 'change',\n",
              " 'other',\n",
              " 'here',\n",
              " 'like',\n",
              " 'b',\n",
              " 'flow',\n",
              " 'net',\n",
              " 'following',\n",
              " 'p',\n",
              " 'production',\n",
              " 'when',\n",
              " 'over',\n",
              " 'back',\n",
              " 'want',\n",
              " 'original',\n",
              " 'them',\n",
              " 'below',\n",
              " 'o',\n",
              " 'ticket',\n",
              " 'c',\n",
              " 'he',\n",
              " 'could',\n",
              " 'make',\n",
              " 'inc',\n",
              " 'report',\n",
              " 'march',\n",
              " 'contact',\n",
              " 'were',\n",
              " 'days',\n",
              " 'list',\n",
              " 'nomination',\n",
              " 'system',\n",
              " 'who',\n",
              " 'april',\n",
              " 'number',\n",
              " 'sale',\n",
              " 'don',\n",
              " 'its',\n",
              " 'first',\n",
              " 'thanks',\n",
              " 'business',\n",
              " 'help',\n",
              " 'per',\n",
              " 'through',\n",
              " 'july',\n",
              " 'forward',\n",
              " 'font',\n",
              " 'free',\n",
              " 'daily',\n",
              " 'use',\n",
              " 'order',\n",
              " 'today',\n",
              " 'r',\n",
              " 'had',\n",
              " 'fw',\n",
              " 'set',\n",
              " 'plant',\n",
              " 'statements',\n",
              " 'go',\n",
              " 'gary',\n",
              " 'oil',\n",
              " 'line',\n",
              " 'sales',\n",
              " 'w',\n",
              " 'effective',\n",
              " 'well',\n",
              " 'tenaska',\n",
              " 'take',\n",
              " 'june',\n",
              " 'x',\n",
              " 'within',\n",
              " 'nbsp',\n",
              " 'she',\n",
              " 'how',\n",
              " 'north',\n",
              " 'america',\n",
              " 'being',\n",
              " 'under',\n",
              " 'next',\n",
              " 'week',\n",
              " 'than',\n",
              " 'january',\n",
              " 'last',\n",
              " 'two',\n",
              " 'service',\n",
              " 'purchase',\n",
              " 'name',\n",
              " 'less',\n",
              " 'height',\n",
              " 'off',\n",
              " 'agreement',\n",
              " 'k',\n",
              " 'work',\n",
              " 'tap',\n",
              " 'group',\n",
              " 'year',\n",
              " 'based',\n",
              " 'transport',\n",
              " 'after',\n",
              " 'think',\n",
              " 'made',\n",
              " 'each',\n",
              " 'available',\n",
              " 'changes',\n",
              " 'due',\n",
              " 'f',\n",
              " 'h',\n",
              " 'services',\n",
              " 'smith',\n",
              " 'send',\n",
              " 'management',\n",
              " 'stock',\n",
              " 'sent',\n",
              " 'll',\n",
              " 'co',\n",
              " 'office',\n",
              " 'needs',\n",
              " 'cotten',\n",
              " 'did',\n",
              " 'actuals',\n",
              " 'u',\n",
              " 'money',\n",
              " 'before',\n",
              " 'looking',\n",
              " 'then',\n",
              " 'pills',\n",
              " 'online',\n",
              " 'request',\n",
              " 'look',\n",
              " 'desk',\n",
              " 'ami',\n",
              " 'his',\n",
              " 'same',\n",
              " 'george',\n",
              " 'chokshi',\n",
              " 'point',\n",
              " 'delivery',\n",
              " 'friday',\n",
              " 'does',\n",
              " 'size',\n",
              " 'august',\n",
              " 'product',\n",
              " 'pat',\n",
              " 'width',\n",
              " 'iv',\n",
              " 'noms',\n",
              " 'address',\n",
              " 'above',\n",
              " 'sure',\n",
              " 'give',\n",
              " 'october',\n",
              " 'future',\n",
              " 'find',\n",
              " 'market',\n",
              " 'n',\n",
              " 'mary',\n",
              " 'vance',\n",
              " 'melissa',\n",
              " 'said',\n",
              " 'internet',\n",
              " 'still',\n",
              " 'account',\n",
              " 'those',\n",
              " 'down',\n",
              " 'link',\n",
              " 'hsc',\n",
              " 'rate',\n",
              " 'people',\n",
              " 'pipeline',\n",
              " 'best',\n",
              " 'actual',\n",
              " 'very',\n",
              " 'end',\n",
              " 'home',\n",
              " 'houston',\n",
              " 'tu',\n",
              " 'high',\n",
              " 'her',\n",
              " 'team',\n",
              " 'products',\n",
              " 'many',\n",
              " 'currently',\n",
              " 'spot',\n",
              " 'receive',\n",
              " 'good',\n",
              " 'such',\n",
              " 'going',\n",
              " 'process',\n",
              " 'feb',\n",
              " 'monday',\n",
              " 'info',\n",
              " 'david',\n",
              " 'lloyd',\n",
              " 'again',\n",
              " 'both',\n",
              " 'click',\n",
              " 'subject',\n",
              " 'jackie',\n",
              " 'december',\n",
              " 'total',\n",
              " 'na',\n",
              " 'lisa',\n",
              " 've',\n",
              " 'september',\n",
              " 'hours',\n",
              " 'until',\n",
              " 'resources',\n",
              " 'because',\n",
              " 'aol',\n",
              " 'february',\n",
              " 'where',\n",
              " 'g',\n",
              " 'investment',\n",
              " 'issue',\n",
              " 'duke',\n",
              " 'since',\n",
              " 'pay',\n",
              " 'show',\n",
              " 'way',\n",
              " 'global',\n",
              " 'computron',\n",
              " 'further',\n",
              " 'most',\n",
              " 'place',\n",
              " 'offer',\n",
              " 'natural',\n",
              " 'activity',\n",
              " 'eastrans',\n",
              " 'graves',\n",
              " 'right',\n",
              " 'prices',\n",
              " 'date',\n",
              " 'john',\n",
              " 'utilities',\n",
              " 'november',\n",
              " 'clynes',\n",
              " 'jan',\n",
              " 'securities',\n",
              " 'meeting',\n",
              " 'susan',\n",
              " 'hplc',\n",
              " 'julie',\n",
              " 'able',\n",
              " 'received',\n",
              " 'align',\n",
              " 'term',\n",
              " 'id',\n",
              " 'revised',\n",
              " 'thursday',\n",
              " 'pg',\n",
              " 'fee',\n",
              " 'hplno',\n",
              " 'trading',\n",
              " 'additional',\n",
              " 'site',\n",
              " 'txu',\n",
              " 'data',\n",
              " 'wellhead',\n",
              " 'reply',\n",
              " 'taylor',\n",
              " 'news',\n",
              " 'unify',\n",
              " 'michael',\n",
              " 'provide',\n",
              " 'note',\n",
              " 'much',\n",
              " 'access',\n",
              " 'lannou',\n",
              " 'every',\n",
              " 'between',\n",
              " 'keep',\n",
              " 'tuesday',\n",
              " 'review',\n",
              " 'great',\n",
              " 'tom',\n",
              " 'put',\n",
              " 'done',\n",
              " 'long',\n",
              " 'save',\n",
              " 'section',\n",
              " 'must',\n",
              " 'v',\n",
              " 'part',\n",
              " 'nd',\n",
              " 'million',\n",
              " 'check',\n",
              " 'trade',\n",
              " 'bob',\n",
              " 'created',\n",
              " 'steve',\n",
              " 'prior',\n",
              " 'copy',\n",
              " 'continue',\n",
              " 'numbers',\n",
              " 'via',\n",
              " 'world',\n",
              " 'demand',\n",
              " 'hanks',\n",
              " 'contracts',\n",
              " 'phone',\n",
              " 'transaction',\n",
              " 'customer',\n",
              " 'possible',\n",
              " 'pefs',\n",
              " 'meyers',\n",
              " 'months',\n",
              " 'special',\n",
              " 'without',\n",
              " 'used',\n",
              " 'regarding',\n",
              " 'software',\n",
              " 'howard',\n",
              " 'support',\n",
              " 'buy',\n",
              " 'young',\n",
              " 'meters',\n",
              " 'thru',\n",
              " 'believe',\n",
              " 'gcs',\n",
              " 'cec',\n",
              " 'entered',\n",
              " 'control',\n",
              " 'dec',\n",
              " 'face',\n",
              " 'create',\n",
              " 'weissman',\n",
              " 'st',\n",
              " 'color',\n",
              " 'come',\n",
              " 'supply',\n",
              " 'brian',\n",
              " 'hplo',\n",
              " 'own',\n",
              " 'correct',\n",
              " 'customers',\n",
              " 'web',\n",
              " 'allocation',\n",
              " 'soon',\n",
              " 'using',\n",
              " 'development',\n",
              " 'mark',\n",
              " 'low',\n",
              " 'power',\n",
              " 'problem',\n",
              " 'once',\n",
              " 'however',\n",
              " 'tickets',\n",
              " 'border',\n",
              " 'performance',\n",
              " 'manager',\n",
              " 'rates',\n",
              " 'center',\n",
              " 'companies',\n",
              " 'risk',\n",
              " 'details',\n",
              " 'needed',\n",
              " 'international',\n",
              " 'field',\n",
              " 'even',\n",
              " 'someone',\n",
              " 'doc',\n",
              " 'fuel',\n",
              " 'lee',\n",
              " 'paid',\n",
              " 'while',\n",
              " 'start',\n",
              " 'index',\n",
              " 'include',\n",
              " 'nominations',\n",
              " 'act',\n",
              " 'pricing',\n",
              " 'scheduled',\n",
              " 'gathering',\n",
              " 'type',\n",
              " 'href',\n",
              " 'during',\n",
              " 'aimee',\n",
              " 'anything',\n",
              " 'feel',\n",
              " 'fuels',\n",
              " 'getting',\n",
              " 'advice',\n",
              " 'why',\n",
              " 'increase',\n",
              " 'path',\n",
              " 'sell',\n",
              " 'works',\n",
              " 'issues',\n",
              " 'three',\n",
              " 'enronxgate',\n",
              " 'camp',\n",
              " 'either',\n",
              " 'form',\n",
              " 'security',\n",
              " 'interest',\n",
              " 'financial',\n",
              " 'family',\n",
              " 'xp',\n",
              " 'plan',\n",
              " 'current',\n",
              " 'top',\n",
              " 'another',\n",
              " 'src',\n",
              " 'spreadsheet',\n",
              " 'allen',\n",
              " 'wednesday',\n",
              " 'read',\n",
              " 'him',\n",
              " 'working',\n",
              " 'wynne',\n",
              " 'add',\n",
              " 'deliveries',\n",
              " 'buyback',\n",
              " 'allocated',\n",
              " 'firm',\n",
              " 'james',\n",
              " 'marketing',\n",
              " 'tx',\n",
              " 'results',\n",
              " 'got',\n",
              " 'stocks',\n",
              " 'calpine',\n",
              " 'might',\n",
              " 'operations',\n",
              " 'position',\n",
              " 'logistics',\n",
              " 'fax',\n",
              " 'cost',\n",
              " 'party',\n",
              " 'zero',\n",
              " 'pops',\n",
              " 'old',\n",
              " 'pt',\n",
              " 'scheduling',\n",
              " 'flowed',\n",
              " 'dollars',\n",
              " 'update',\n",
              " 'gco',\n",
              " 'katy',\n",
              " 'including',\n",
              " 'follow',\n",
              " 'yahoo',\n",
              " 'already',\n",
              " 'suite',\n",
              " 'error',\n",
              " 'past',\n",
              " 'page',\n",
              " 'stop',\n",
              " 'changed',\n",
              " 'book',\n",
              " 'program',\n",
              " 'few',\n",
              " 'better',\n",
              " 'operating',\n",
              " 'equistar',\n",
              " 'move',\n",
              " 'cotton',\n",
              " 'aep',\n",
              " 'y',\n",
              " 'state',\n",
              " 'ees',\n",
              " 'rita',\n",
              " 'provided',\n",
              " 'employees',\n",
              " 'period',\n",
              " 'morning',\n",
              " 'cd',\n",
              " 'hotmail',\n",
              " 'entex',\n",
              " 'swing',\n",
              " 'real',\n",
              " 'exchange',\n",
              " 'tomorrow',\n",
              " 'lst',\n",
              " 'counterparty',\n",
              " 'parker',\n",
              " 'person',\n",
              " 'follows',\n",
              " 'valid',\n",
              " 'visit',\n",
              " 'little',\n",
              " 'professional',\n",
              " 'quality',\n",
              " 'confirm',\n",
              " 'something',\n",
              " 'megan',\n",
              " 'brenda',\n",
              " 'around',\n",
              " 'windows',\n",
              " 'im',\n",
              " 'storage',\n",
              " 'accounting',\n",
              " 'called',\n",
              " 'ranch',\n",
              " 'tax',\n",
              " 'problems',\n",
              " 'case',\n",
              " 'teco',\n",
              " 'fact',\n",
              " 'always',\n",
              " 'too',\n",
              " 'unsubscribe',\n",
              " 'amount',\n",
              " 'coastal',\n",
              " 'never',\n",
              " 'rodriguez',\n",
              " 'love',\n",
              " 'acton',\n",
              " 'shut',\n",
              " 'pipe',\n",
              " 'project',\n",
              " 'hope',\n",
              " 'limited',\n",
              " 'invoice',\n",
              " 'credit',\n",
              " 'full',\n",
              " 'survey',\n",
              " 'ray',\n",
              " 'carlos',\n",
              " 'anyone',\n",
              " 'wanted',\n",
              " 'yet',\n",
              " 'ic',\n",
              " 'scott',\n",
              " 'years',\n",
              " 'charlie',\n",
              " 'soft',\n",
              " 'notice',\n",
              " 'advise',\n",
              " 'addition',\n",
              " 'donald',\n",
              " 'lsk',\n",
              " 'wish',\n",
              " 'katherine',\n",
              " 'website',\n",
              " 'hplnl',\n",
              " 'schumack',\n",
              " 'prescription',\n",
              " 'cover',\n",
              " 'shares',\n",
              " 'cash',\n",
              " 'imbalance',\n",
              " 'united',\n",
              " 'handle',\n",
              " 'big',\n",
              " 'everyone',\n",
              " 'style',\n",
              " 'clear',\n",
              " 'producer',\n",
              " 'weekend',\n",
              " 'city',\n",
              " 'requested',\n",
              " 'stone',\n",
              " 'left',\n",
              " 'payment',\n",
              " 'mobil',\n",
              " 'shows',\n",
              " 'small',\n",
              " 'confirmed',\n",
              " 'technology',\n",
              " 'meet',\n",
              " 'extend',\n",
              " 'life',\n",
              " 'intended',\n",
              " 'sherlyn',\n",
              " 'schedule',\n",
              " 'else',\n",
              " 'letter',\n",
              " 'box',\n",
              " 'bill',\n",
              " 'richard',\n",
              " 'lamphier',\n",
              " 'complete',\n",
              " 'ever',\n",
              " 'release',\n",
              " 'newsletter',\n",
              " 'anita',\n",
              " 'clem',\n",
              " 'having',\n",
              " 'herod',\n",
              " 'beginning',\n",
              " 'papayoti',\n",
              " 'try',\n",
              " 'mike',\n",
              " 'enter',\n",
              " 'estimates',\n",
              " 'location',\n",
              " 'cut',\n",
              " 'question',\n",
              " 'things',\n",
              " 'personal',\n",
              " 'feedback',\n",
              " 'cialis',\n",
              " 'found',\n",
              " 'area',\n",
              " 'dow',\n",
              " 'terms',\n",
              " 'central',\n",
              " 'necessary',\n",
              " 'man',\n",
              " 'run',\n",
              " 'reason',\n",
              " 'third',\n",
              " 'midcon',\n",
              " 'charge',\n",
              " 'president',\n",
              " 'de',\n",
              " 'listed',\n",
              " 'meds',\n",
              " 'thomas',\n",
              " 'thought',\n",
              " 'capital',\n",
              " 'added',\n",
              " 'ask',\n",
              " 'weeks',\n",
              " 'investing',\n",
              " 'commercial',\n",
              " 'star',\n",
              " 'several',\n",
              " 'easy',\n",
              " 'view',\n",
              " 'cannot',\n",
              " 'extended',\n",
              " 'lauri',\n",
              " 'beaumont',\n",
              " 'union',\n",
              " 'times',\n",
              " 'open',\n",
              " 'cause',\n",
              " 'monthly',\n",
              " 'action',\n",
              " 'offers',\n",
              " 'industry',\n",
              " 'states',\n",
              " 'side',\n",
              " 'mailto',\n",
              " 'probably',\n",
              " 'neal',\n",
              " 'second',\n",
              " 'stephanie',\n",
              " 'download',\n",
              " 'flash',\n",
              " 'agree',\n",
              " 'mcf',\n",
              " 'transfer',\n",
              " 'doing',\n",
              " 'important',\n",
              " 'basis',\n",
              " 'different',\n",
              " 'final',\n",
              " 'koch',\n",
              " 'exxon',\n",
              " 'remove',\n",
              " 'microsoft',\n",
              " 'interested',\n",
              " 'application',\n",
              " 'sept',\n",
              " 'mg',\n",
              " 'write',\n",
              " 'lp',\n",
              " 'east',\n",
              " 'requirements',\n",
              " 'code',\n",
              " 'value',\n",
              " 'thank',\n",
              " 'together',\n",
              " 'exploration',\n",
              " 'mid',\n",
              " 'dfarmer',\n",
              " 'everything',\n",
              " 'receipt',\n",
              " 'thu',\n",
              " 'afternoon',\n",
              " 'late',\n",
              " 'enserch',\n",
              " 'coming',\n",
              " 'bank',\n",
              " 'response',\n",
              " 'tell',\n",
              " 'shipping',\n",
              " 'night',\n",
              " 'events',\n",
              " 'cynthia',\n",
              " 'lsp',\n",
              " 'close',\n",
              " 'legal',\n",
              " 'country',\n",
              " 'direct',\n",
              " 'expected',\n",
              " 'ces',\n",
              " 'corporation',\n",
              " 'options',\n",
              " 'really',\n",
              " 'voip',\n",
              " 'nominated',\n",
              " 'etc',\n",
              " 'latest',\n",
              " 'potential',\n",
              " 'priced',\n",
              " 'edward',\n",
              " 'valero',\n",
              " 'material',\n",
              " 'stack',\n",
              " 'victor',\n",
              " 'redeliveries',\n",
              " 'loss',\n",
              " 'remember',\n",
              " 'baumbach',\n",
              " 'option',\n",
              " 'private',\n",
              " 'longer',\n",
              " 'aware',\n",
              " 'included',\n",
              " 'drugs',\n",
              " 'public',\n",
              " 'reinhardt',\n",
              " 'version',\n",
              " 'hesse',\n",
              " 'discuss',\n",
              " 'related',\n",
              " 'asked',\n",
              " 'say',\n",
              " 'viagra',\n",
              " 'revision',\n",
              " 'bgcolor',\n",
              " 'kind',\n",
              " 'pro',\n",
              " 'completed',\n",
              " 'health',\n",
              " 'ready',\n",
              " 'plans',\n",
              " 'registered',\n",
              " 'regards',\n",
              " 'carthage',\n",
              " 'zone',\n",
              " 'fill',\n",
              " 'away',\n",
              " 'computer',\n",
              " 'systems',\n",
              " 'industrial',\n",
              " 'mentioned',\n",
              " 'told',\n",
              " 'therefore',\n",
              " 'growth',\n",
              " 'sold',\n",
              " 'track',\n",
              " 'reports',\n",
              " 'south',\n",
              " 'rd',\n",
              " 'jim',\n",
              " 'costs',\n",
              " 'image',\n",
              " 'expect',\n",
              " 'return',\n",
              " 'physical',\n",
              " 'el',\n",
              " 'browser',\n",
              " 'donna',\n",
              " 'stacey',\n",
              " 'begin',\n",
              " 'china',\n",
              " 'duty',\n",
              " 'approximately',\n",
              " 'showing',\n",
              " 'unit',\n",
              " 'jones',\n",
              " 'hard',\n",
              " 'verify',\n",
              " 'updated',\n",
              " 'eol',\n",
              " 'cs',\n",
              " 'orders',\n",
              " 'talk',\n",
              " 'trying',\n",
              " 'base',\n",
              " 'given',\n",
              " 'server',\n",
              " 'source',\n",
              " 'pathed',\n",
              " 'strong',\n",
              " 'bryan',\n",
              " 'directly',\n",
              " 'risks',\n",
              " 'whole',\n",
              " 'major',\n",
              " 'users',\n",
              " 'purchases',\n",
              " 'oo',\n",
              " 'karen',\n",
              " 'luong',\n",
              " 'level',\n",
              " 'required',\n",
              " 'delivered',\n",
              " 'portfolio',\n",
              " 'riley',\n",
              " 'ali',\n",
              " 'easttexas',\n",
              " 'poorman',\n",
              " 'bellamy',\n",
              " 'assistance',\n",
              " 'nothing',\n",
              " 'gif',\n",
              " 'thing',\n",
              " 'retail',\n",
              " 'didn',\n",
              " 'valley',\n",
              " 'department',\n",
              " 'cleburne',\n",
              " 'allow',\n",
              " 'gpgfin',\n",
              " 'answer',\n",
              " 'items',\n",
              " 'paste',\n",
              " 'avila',\n",
              " 'taken',\n",
              " 'mm',\n",
              " 'nguyen',\n",
              " 'ensure',\n",
              " 'reference',\n",
              " 'hall',\n",
              " 'later',\n",
              " 'lone',\n",
              " 'user',\n",
              " 'methanol',\n",
              " 'facility',\n",
              " 'network',\n",
              " 'spoke',\n",
              " 'though',\n",
              " 'tabs',\n",
              " 'taking',\n",
              " 'status',\n",
              " 'considered',\n",
              " 'purchased',\n",
              " 'says',\n",
              " 'yourself',\n",
              " 'paliourg',\n",
              " 'dy',\n",
              " 'jeff',\n",
              " 'businesses',\n",
              " 'fred',\n",
              " 'transportation',\n",
              " 'apache',\n",
              " 'morris',\n",
              " 'nov',\n",
              " 'ltd',\n",
              " 'brand',\n",
              " 'federal',\n",
              " 'statement',\n",
              " 'oasis',\n",
              " 'reflect',\n",
              " 'assets',\n",
              " 'lamadrid',\n",
              " 'general',\n",
              " 'bridge',\n",
              " 'ability',\n",
              " 'oct',\n",
              " 'play',\n",
              " 'enrononline',\n",
              " 'compliance',\n",
              " 'spam',\n",
              " 'availability',\n",
              " 'king',\n",
              " 'understanding',\n",
              " 'chance',\n",
              " 'quick',\n",
              " 'effort',\n",
              " 'points',\n",
              " 'reliantenergy',\n",
              " 'fixed',\n",
              " 'short',\n",
              " 'hill',\n",
              " 'cheryl',\n",
              " 'aepin',\n",
              " 'key',\n",
              " 'understand',\n",
              " 'valign',\n",
              " 'capacity',\n",
              " 'game',\n",
              " 'took',\n",
              " ...]"
            ]
          },
          "execution_count": 238,
          "metadata": {},
          "output_type": "execute_result"
        }
      ],
      "source": [
        "df.columns.to_list()\n",
        "\n",
        "# this analysis reveals that the datset has many columns which are just english letters that have no meaning , like e , l ,m etc , so we need to drop them as columns as they have no meaning , only I and A are one letter english words that makes sense, also two letters words make no sense even a and i does not help in detecting spam so drop them all\n",
        " "
      ]
    },
    {
      "cell_type": "code",
      "execution_count": 239,
      "metadata": {},
      "outputs": [
        {
          "data": {
            "text/plain": [
              "(5172, 3001)"
            ]
          },
          "execution_count": 239,
          "metadata": {},
          "output_type": "execute_result"
        }
      ],
      "source": [
        "df.shape"
      ]
    },
    {
      "cell_type": "code",
      "execution_count": 240,
      "metadata": {},
      "outputs": [
        {
          "name": "stdout",
          "output_type": "stream",
          "text": [
            "['to', 'of', 'a', 'in', 'on', 'is', 'i', 'be', 'at', 'we', 's', 'it', 'by', 'as', 'or', 'me', 'if', 're', 'e', 'd', 'an', 't', 'up', 'j', 'do', 'am', 'no', 'l', 'so', 'm', 'us', 'my', 'th', 'pm', 'b', 'p', 'o', 'c', 'he', 'r', 'fw', 'go', 'w', 'x', 'k', 'f', 'h', 'll', 'co', 'u', 'iv', 'n', 'tu', 'na', 've', 'g', 'id', 'pg', 'v', 'nd', 'st', 'xp', 'tx', 'pt', 'y', 'cd', 'im', 'ic', 'de', 'mg', 'lp', 'rd', 'el', 'cs', 'oo', 'mm', 'dy', 'mx', 'pc', 'cp', 'mr', 'ua', 'cc', 'al', 'rc', 'wi', 'la', 'ok', 'vs', 'cf', 'ei', 'ed', 'gd', 'ex', 'br', 'sa', 'oi', 'gb', 'ca', 'jo', 'td', 'hl', 'ms', 'dr', 'rx', 'hi', 'z', 'q', 'jr', 'mb', 'gr', 'en', 'hr', 'rm', 'ga', 'se', 'eb', 'tv', 'mo', 'tr', 'ce', 'da', 'ad', 'ti', 'wc', 'ft', 'pi', 'sr', 'rr', 'hp', 'xl', 'dl', 'em', 'pa', 'ls', 'ii', 'et', 'un', 'ya', 'ma', 'ac', 'ct', 'fl', 'ut', 'mi', 'po', 'sp', 'ea', 'le', 'ur', 'ml', 'tm', 'ff']\n"
          ]
        }
      ],
      "source": [
        "columns_to_drop = []\n",
        "\n",
        "for col in df.columns:\n",
        "    if(len(col)<=2):\n",
        "        columns_to_drop.append(col)\n",
        "\n",
        "print(columns_to_drop)      \n",
        "# as we can see many two letter words are meaningless and other words cannot be used as features so drop them "
      ]
    },
    {
      "cell_type": "code",
      "execution_count": 241,
      "metadata": {},
      "outputs": [],
      "source": [
        "df.drop(columns=columns_to_drop,inplace=True)"
      ]
    },
    {
      "cell_type": "markdown",
      "metadata": {
        "datalore": {
          "hide_input_from_viewers": true,
          "hide_output_from_viewers": true,
          "node_id": "zvjpKUkrIVkahpty2eoRva",
          "type": "MD"
        },
        "id": "wQR3di1_8yci"
      },
      "source": [
        "## Looking at the data"
      ]
    },
    {
      "cell_type": "code",
      "execution_count": 242,
      "metadata": {
        "datalore": {
          "hide_input_from_viewers": true,
          "hide_output_from_viewers": true,
          "node_id": "CFY6hpEHnTNc05xveVXitg",
          "type": "CODE"
        },
        "id": "_0H-_dZv8yci"
      },
      "outputs": [
        {
          "data": {
            "text/plain": [
              "<BarContainer object of 5 artists>"
            ]
          },
          "execution_count": 242,
          "metadata": {},
          "output_type": "execute_result"
        },
        {
          "data": {
            "image/png": "[encoded data removed]",
            "text/plain": [
              "<Figure size 640x480 with 1 Axes>"
            ]
          },
          "metadata": {},
          "output_type": "display_data"
        }
      ],
      "source": [
        "# Plot histogram to visualize the top 5 common words in spam mail and non-spam mails seperately.\n",
        "spam_emails  = df[df.Prediction==1].sum().sort_values(ascending=False).head(5)\n",
        "\n",
        "sns.set_style(style=\"darkgrid\")\n",
        "plt.title(\"Spam\")\n",
        "plt.xlabel(\"Most Common Words in Spam Email\")\n",
        "plt.ylabel(\"Frequency of Occurence\")\n",
        "plt.bar(spam_emails.index, spam_emails.values)\n",
        "\n",
        "# since it is categorical data , so bar plot makes more sense rather than hostogram\n"
      ]
    },
    {
      "cell_type": "code",
      "execution_count": 243,
      "metadata": {},
      "outputs": [
        {
          "data": {
            "text/plain": [
              "<BarContainer object of 5 artists>"
            ]
          },
          "execution_count": 243,
          "metadata": {},
          "output_type": "execute_result"
        },
        {
          "data": {
            "image/png": "[encoded data removed]",
            "text/plain": [
              "<Figure size 640x480 with 1 Axes>"
            ]
          },
          "metadata": {},
          "output_type": "display_data"
        }
      ],
      "source": [
        "non_spam_emails  = df[df.Prediction==0].sum().sort_values(ascending=False).head(5)\n",
        "\n",
        "sns.set_style(style=\"darkgrid\")\n",
        "plt.title(\"Non-Spam\")\n",
        "plt.xlabel(\"Most Common Words in Non-Spam Email\")\n",
        "plt.ylabel(\"Frequency of Occurence\")\n",
        "plt.bar(non_spam_emails.index, non_spam_emails.values)"
      ]
    },
    {
      "cell_type": "markdown",
      "metadata": {
        "datalore": {
          "hide_input_from_viewers": true,
          "hide_output_from_viewers": true,
          "node_id": "C3PCd8f8vDpy1xh1S0jLnr",
          "type": "MD"
        },
        "id": "9MWPRUms8yci"
      },
      "source": [
        "## Figuring out some comparatively more important features"
      ]
    },
    {
      "cell_type": "code",
      "execution_count": 244,
      "metadata": {
        "datalore": {
          "hide_input_from_viewers": true,
          "hide_output_from_viewers": true,
          "node_id": "2ZKzjK3mKBGSfxz73JEBVF",
          "type": "CODE"
        },
        "id": "359mS9Qf8yci"
      },
      "outputs": [
        {
          "data": {
            "text/plain": [
              "(5172, 2848)"
            ]
          },
          "execution_count": 244,
          "metadata": {},
          "output_type": "execute_result"
        }
      ],
      "source": [
        "# There are 3K rows given in this dataset, can you think of some method to reduce the number of columns in the dataset? \n",
        "# Try taking only top 1.5K that will comprise of some of the most \"deciding factors\" \n",
        "\n",
        "df.shape\n",
        "\n",
        "# one way to eliminate columns is to take difference of occurence of words in spam and non spam emails , i.e if some word is occuring 4000 times in spam and 4010 in non spam then it won't be a best way to diffentiate between spam and non spam , as insignificant difference\n",
        "\n",
        "# this kind of word are common words and are not specific to spam or non spam only so eliminate these"
      ]
    },
    {
      "cell_type": "code",
      "execution_count": 245,
      "metadata": {},
      "outputs": [
        {
          "data": {
            "text/plain": [
              "the               14667\n",
              "ect               19166\n",
              "and                3435\n",
              "for                6855\n",
              "you                2719\n",
              "                  ...  \n",
              "lay                  41\n",
              "infrastructure        8\n",
              "military             28\n",
              "allowing              5\n",
              "dry                  18\n",
              "Length: 2847, dtype: int64"
            ]
          },
          "execution_count": 245,
          "metadata": {},
          "output_type": "execute_result"
        }
      ],
      "source": [
        "# since number of columns is 2.5k so lets eliminate 1000 columns with least difference in values\n",
        "grouped_data = pd.DataFrame(df.groupby(\"Prediction\").sum())\n",
        "grouped_data.head()\n",
        "\n",
        "diff= grouped_data.loc[0,:]-grouped_data.loc[1,:]\n",
        "diff = diff.abs()\n",
        "# we need absolute values of difference\n",
        "diff\n",
        "\n"
      ]
    },
    {
      "cell_type": "code",
      "execution_count": 246,
      "metadata": {},
      "outputs": [
        {
          "data": {
            "text/plain": [
              "Index(['personal', 'aware', 'black', 'outstanding', 'multiple', 'comes',\n",
              "       'built', 'quantities', 'makes', 'completely',\n",
              "       ...\n",
              "       'transco', 'briley', 'apple', 'sheri', 'locker', 'nick', 'zajac',\n",
              "       'exploration', 'image', 'assets'],\n",
              "      dtype='object', length=1300)"
            ]
          },
          "execution_count": 246,
          "metadata": {},
          "output_type": "execute_result"
        }
      ],
      "source": [
        "columns_to_drop = diff.nsmallest(1300).index\n",
        "columns_to_drop\n",
        "\n",
        "# these are the columns which make the least difference\n"
      ]
    },
    {
      "cell_type": "code",
      "execution_count": 247,
      "metadata": {},
      "outputs": [],
      "source": [
        "df.drop(columns=columns_to_drop,inplace=True)"
      ]
    },
    {
      "cell_type": "code",
      "execution_count": 248,
      "metadata": {},
      "outputs": [
        {
          "data": {
            "text/plain": [
              "<BarContainer object of 5 artists>"
            ]
          },
          "execution_count": 248,
          "metadata": {},
          "output_type": "execute_result"
        },
        {
          "data": {
            "image/png": "[encoded data removed]",
            "text/plain": [
              "<Figure size 640x480 with 1 Axes>"
            ]
          },
          "metadata": {},
          "output_type": "display_data"
        }
      ],
      "source": [
        "spam_emails  = df[df.Prediction==1].sum().sort_values(ascending=False).head(5)\n",
        "\n",
        "sns.set_style(style=\"darkgrid\")\n",
        "plt.title(\"Spam\")\n",
        "plt.xlabel(\"Most Common Words in Spam Email\")\n",
        "plt.ylabel(\"Frequency of Occurence\")\n",
        "plt.bar(spam_emails.index, spam_emails.values)"
      ]
    },
    {
      "cell_type": "code",
      "execution_count": 249,
      "metadata": {},
      "outputs": [
        {
          "data": {
            "text/plain": [
              "<BarContainer object of 5 artists>"
            ]
          },
          "execution_count": 249,
          "metadata": {},
          "output_type": "execute_result"
        },
        {
          "data": {
            "image/png": "[encoded data removed]",
            "text/plain": [
              "<Figure size 640x480 with 1 Axes>"
            ]
          },
          "metadata": {},
          "output_type": "display_data"
        }
      ],
      "source": [
        "non_spam_emails  = df[df.Prediction==0].sum().sort_values(ascending=False).head(5)\n",
        "\n",
        "sns.set_style(style=\"darkgrid\")\n",
        "plt.title(\"Non-Spam\")\n",
        "plt.xlabel(\"Most Common Words in Non-Spam Email\")\n",
        "plt.ylabel(\"Frequency of Occurence\")\n",
        "plt.bar(non_spam_emails.index, non_spam_emails.values)"
      ]
    },
    {
      "cell_type": "code",
      "execution_count": 250,
      "metadata": {},
      "outputs": [
        {
          "data": {
            "text/plain": [
              "(5172, 1548)"
            ]
          },
          "execution_count": 250,
          "metadata": {},
          "output_type": "execute_result"
        }
      ],
      "source": [
        "df.shape"
      ]
    },
    {
      "cell_type": "markdown",
      "metadata": {
        "datalore": {
          "hide_input_from_viewers": true,
          "hide_output_from_viewers": true,
          "node_id": "5xGBoaQ3gyqscgTKblwyrX",
          "type": "MD"
        },
        "id": "yC8De4Tp8yci"
      },
      "source": [
        "## Train - Test Split"
      ]
    },
    {
      "cell_type": "code",
      "execution_count": 251,
      "metadata": {
        "datalore": {
          "hide_input_from_viewers": true,
          "hide_output_from_viewers": true,
          "node_id": "DIQmF7EKujPfytxRg3YCI7",
          "type": "CODE"
        },
        "id": "F4QVqOT68yci"
      },
      "outputs": [],
      "source": [
        "# Create trianing and testing data\n",
        "\n",
        "from sklearn.model_selection import train_test_split\n",
        "\n",
        "X = df.drop(columns=[\"Prediction\"])\n",
        "y = df.Prediction\n",
        "\n",
        "X_train,X_test,y_train, y_test = train_test_split(X,y,test_size=0.33,random_state=23)\n"
      ]
    },
    {
      "cell_type": "markdown",
      "metadata": {
        "datalore": {
          "hide_input_from_viewers": true,
          "hide_output_from_viewers": true,
          "node_id": "UN8loYrBwgtFXUDewcXM17",
          "type": "MD"
        },
        "id": "l97n0L_08yci"
      },
      "source": [
        "## Making Predictions using Multinomial NB Classifier"
      ]
    },
    {
      "cell_type": "code",
      "execution_count": 252,
      "metadata": {
        "datalore": {
          "hide_input_from_viewers": true,
          "hide_output_from_viewers": true,
          "node_id": "6yp042arvwnqg0LGrmuWWV",
          "type": "CODE"
        },
        "id": "LjWS2knL8ycj"
      },
      "outputs": [
        {
          "data": {
            "text/html": [
              "<style>#sk-container-id-18 {color: black;background-color: white;}#sk-container-id-18 pre{padding: 0;}#sk-container-id-18 div.sk-toggleable {background-color: white;}#sk-container-id-18 label.sk-toggleable__label {cursor: pointer;display: block;width: 100%;margin-bottom: 0;padding: 0.3em;box-sizing: border-box;text-align: center;}#sk-container-id-18 label.sk-toggleable__label-arrow:before {content: \"▸\";float: left;margin-right: 0.25em;color: #696969;}#sk-container-id-18 label.sk-toggleable__label-arrow:hover:before {color: black;}#sk-container-id-18 div.sk-estimator:hover label.sk-toggleable__label-arrow:before {color: black;}#sk-container-id-18 div.sk-toggleable__content {max-height: 0;max-width: 0;overflow: hidden;text-align: left;background-color: #f0f8ff;}#sk-container-id-18 div.sk-toggleable__content pre {margin: 0.2em;color: black;border-radius: 0.25em;background-color: #f0f8ff;}#sk-container-id-18 input.sk-toggleable__control:checked~div.sk-toggleable__content {max-height: 200px;max-width: 100%;overflow: auto;}#sk-container-id-18 input.sk-toggleable__control:checked~label.sk-toggleable__label-arrow:before {content: \"▾\";}#sk-container-id-18 div.sk-estimator input.sk-toggleable__control:checked~label.sk-toggleable__label {background-color: #d4ebff;}#sk-container-id-18 div.sk-label input.sk-toggleable__control:checked~label.sk-toggleable__label {background-color: #d4ebff;}#sk-container-id-18 input.sk-hidden--visually {border: 0;clip: rect(1px 1px 1px 1px);clip: rect(1px, 1px, 1px, 1px);height: 1px;margin: -1px;overflow: hidden;padding: 0;position: absolute;width: 1px;}#sk-container-id-18 div.sk-estimator {font-family: monospace;background-color: #f0f8ff;border: 1px dotted black;border-radius: 0.25em;box-sizing: border-box;margin-bottom: 0.5em;}#sk-container-id-18 div.sk-estimator:hover {background-color: #d4ebff;}#sk-container-id-18 div.sk-parallel-item::after {content: \"\";width: 100%;border-bottom: 1px solid gray;flex-grow: 1;}#sk-container-id-18 div.sk-label:hover label.sk-toggleable__label {background-color: #d4ebff;}#sk-container-id-18 div.sk-serial::before {content: \"\";position: absolute;border-left: 1px solid gray;box-sizing: border-box;top: 0;bottom: 0;left: 50%;z-index: 0;}#sk-container-id-18 div.sk-serial {display: flex;flex-direction: column;align-items: center;background-color: white;padding-right: 0.2em;padding-left: 0.2em;position: relative;}#sk-container-id-18 div.sk-item {position: relative;z-index: 1;}#sk-container-id-18 div.sk-parallel {display: flex;align-items: stretch;justify-content: center;background-color: white;position: relative;}#sk-container-id-18 div.sk-item::before, #sk-container-id-18 div.sk-parallel-item::before {content: \"\";position: absolute;border-left: 1px solid gray;box-sizing: border-box;top: 0;bottom: 0;left: 50%;z-index: -1;}#sk-container-id-18 div.sk-parallel-item {display: flex;flex-direction: column;z-index: 1;position: relative;background-color: white;}#sk-container-id-18 div.sk-parallel-item:first-child::after {align-self: flex-end;width: 50%;}#sk-container-id-18 div.sk-parallel-item:last-child::after {align-self: flex-start;width: 50%;}#sk-container-id-18 div.sk-parallel-item:only-child::after {width: 0;}#sk-container-id-18 div.sk-dashed-wrapped {border: 1px dashed gray;margin: 0 0.4em 0.5em 0.4em;box-sizing: border-box;padding-bottom: 0.4em;background-color: white;}#sk-container-id-18 div.sk-label label {font-family: monospace;font-weight: bold;display: inline-block;line-height: 1.2em;}#sk-container-id-18 div.sk-label-container {text-align: center;}#sk-container-id-18 div.sk-container {/* jupyter's `normalize.less` sets `[hidden] { display: none; }` but bootstrap.min.css set `[hidden] { display: none !important; }` so we also need the `!important` here to be able to override the default hidden behavior on the sphinx rendered scikit-learn.org. See: https://github.com/scikit-learn/scikit-learn/issues/21755 */display: inline-block !important;position: relative;}#sk-container-id-18 div.sk-text-repr-fallback {display: none;}</style><div id=\"sk-container-id-18\" class=\"sk-top-container\"><div class=\"sk-text-repr-fallback\"><pre>MultinomialNB()</pre><b>In a Jupyter environment, please rerun this cell to show the HTML representation or trust the notebook. <br />On GitHub, the HTML representation is unable to render, please try loading this page with nbviewer.org.</b></div><div class=\"sk-container\" hidden><div class=\"sk-item\"><div class=\"sk-estimator sk-toggleable\"><input class=\"sk-toggleable__control sk-hidden--visually\" id=\"sk-estimator-id-18\" type=\"checkbox\" checked><label for=\"sk-estimator-id-18\" class=\"sk-toggleable__label sk-toggleable__label-arrow\">MultinomialNB</label><div class=\"sk-toggleable__content\"><pre>MultinomialNB()</pre></div></div></div></div></div>"
            ],
            "text/plain": [
              "MultinomialNB()"
            ]
          },
          "execution_count": 252,
          "metadata": {},
          "output_type": "execute_result"
        }
      ],
      "source": [
        "# Feed the train data into multinomial naive bias classifier\n",
        "from sklearn.naive_bayes import MultinomialNB\n",
        "model = MultinomialNB()\n",
        "model.fit(X_train,y_train)"
      ]
    },
    {
      "cell_type": "code",
      "execution_count": 253,
      "metadata": {},
      "outputs": [
        {
          "data": {
            "text/plain": [
              "0.9349736379613357"
            ]
          },
          "execution_count": 253,
          "metadata": {},
          "output_type": "execute_result"
        }
      ],
      "source": [
        "model.score(X_test,y_test)\n",
        "# hence the model have almist 93% accuracy on testing subset of the data"
      ]
    },
    {
      "cell_type": "code",
      "execution_count": 254,
      "metadata": {},
      "outputs": [
        {
          "data": {
            "text/plain": [
              "0.9400590549341705"
            ]
          },
          "execution_count": 254,
          "metadata": {},
          "output_type": "execute_result"
        }
      ],
      "source": [
        "from sklearn.model_selection import cross_val_score\n",
        "\n",
        "multiNB = MultinomialNB()\n",
        "\n",
        "cross_val_score(multiNB,X,y,cv=5).mean()\n",
        "# this is also a measure of models performance where it divides data into multiple subsets to enchance accuracy"
      ]
    },
    {
      "cell_type": "code",
      "execution_count": 255,
      "metadata": {
        "datalore": {
          "hide_input_from_viewers": true,
          "hide_output_from_viewers": true,
          "node_id": "wtCFPWcgIz4aAXhzKV6wE8",
          "type": "CODE"
        },
        "id": "1PtBUMY78ycj"
      },
      "outputs": [],
      "source": [
        "# Check the model's accuracy of test data and plot the ROC-AUC curve\n",
        "from sklearn.metrics import roc_auc_score,roc_curve"
      ]
    },
    {
      "cell_type": "code",
      "execution_count": 256,
      "metadata": {},
      "outputs": [],
      "source": [
        "#calculating values of probablity by which model predicts the value in this binary classification\n",
        "y_pred_prob = model.predict_proba(X_test)"
      ]
    },
    {
      "cell_type": "code",
      "execution_count": 257,
      "metadata": {},
      "outputs": [],
      "source": [
        "score = roc_auc_score(y_test,y_pred_prob[:,1])\n",
        "# this score is are under the curve or AUC, more the AUC better the model\n",
        "\n",
        "fpr, tpr, thresholds = roc_curve(y_test, y_pred_prob[:, 1])"
      ]
    },
    {
      "cell_type": "code",
      "execution_count": 258,
      "metadata": {},
      "outputs": [],
      "source": [
        "x_random = np.linspace(0,1,100)\n",
        "y_random = x_random\n",
        "\n",
        "# this is used to plot ROC-AUC curve for a random classifier that is a classifier which is purely random and considers no pattern or info from data\n",
        "# this is plotted for refrence , curves above it are more accurate"
      ]
    },
    {
      "cell_type": "code",
      "execution_count": 259,
      "metadata": {},
      "outputs": [
        {
          "data": {
            "image/png": "[encoded data removed]",
            "text/plain": [
              "<Figure size 640x480 with 1 Axes>"
            ]
          },
          "metadata": {},
          "output_type": "display_data"
        }
      ],
      "source": [
        "plt.plot(fpr, tpr, label='Multinomial Naive Bayes (AUC = {:.2f})'.format(score))\n",
        "plt.plot(x_random,y_random, label='Random Classifier',color=\"black\",linestyle=\"dotted\")\n",
        "plt.xlabel('False Positivity Rate (1-Specificity)')\n",
        "plt.ylabel('True Positivity Rate (Sensitivity)')\n",
        "plt.title('Receiver Operating Characteristic (ROC)')\n",
        "plt.legend(loc='lower right')\n",
        "plt.show()"
      ]
    },
    {
      "cell_type": "markdown",
      "metadata": {
        "datalore": {
          "hide_input_from_viewers": true,
          "hide_output_from_viewers": true,
          "node_id": "g6MfgE1AdZhjcc50qcKU1s",
          "type": "MD"
        },
        "id": "9k00vidf8ycj"
      },
      "source": [
        "## Plot the confusion Matrix"
      ]
    },
    {
      "cell_type": "code",
      "execution_count": 260,
      "metadata": {
        "datalore": {
          "hide_input_from_viewers": true,
          "hide_output_from_viewers": true,
          "node_id": "tiAhIiHk0VOWiKcZY5FLXw",
          "type": "CODE"
        },
        "id": "PB2wQde88ycj"
      },
      "outputs": [],
      "source": [
        "# Print Confusion Matrix using any 5 words of your choice with the column 'spam'\n",
        "from sklearn.metrics import confusion_matrix\n",
        "\n",
        "X_sample = df.drop(\"Prediction\",axis=1).sample(5,random_state=87)\n",
        "y_sample = df.sample(5,random_state=87).Prediction\n",
        "\n",
        "# randomly 5 rows are chosen"
      ]
    },
    {
      "cell_type": "code",
      "execution_count": 261,
      "metadata": {},
      "outputs": [
        {
          "name": "stdout",
          "output_type": "stream",
          "text": [
            "[[4 0]\n",
            " [0 1]]\n"
          ]
        }
      ],
      "source": [
        "y_pred = model.predict(X_sample)\n",
        "print(confusion_matrix(y_sample,y_pred))\n",
        "\n",
        "# True Positive       False Positive\n",
        "# False Negative      True Negative\n",
        "\n"
      ]
    },
    {
      "cell_type": "code",
      "execution_count": 262,
      "metadata": {},
      "outputs": [],
      "source": [
        "# now for entire data\n",
        "y_pred = model.predict(X_test)\n",
        "matrix = confusion_matrix(y_test,y_pred)"
      ]
    },
    {
      "cell_type": "code",
      "execution_count": 263,
      "metadata": {},
      "outputs": [
        {
          "data": {
            "text/plain": [
              "Text(52.722222222222214, 0.5, 'Actual')"
            ]
          },
          "execution_count": 263,
          "metadata": {},
          "output_type": "execute_result"
        },
        {
          "data": {
            "image/png": "[encoded data removed]",
            "text/plain": [
              "<Figure size 640x480 with 2 Axes>"
            ]
          },
          "metadata": {},
          "output_type": "display_data"
        }
      ],
      "source": [
        "labels = [\"Spam\",\"Non-Spam\"]\n",
        "sns.heatmap(matrix, annot=True, fmt='d', cmap='Blues',xticklabels=labels,yticklabels=labels)\n",
        "plt.title('Confusion Matrix Heatmap')\n",
        "plt.xlabel('Predicted')\n",
        "plt.ylabel('Actual')\n",
        "\n",
        "# more elements in confusion matrix on diagonals the better the model"
      ]
    },
    {
      "cell_type": "markdown",
      "metadata": {
        "datalore": {
          "hide_input_from_viewers": true,
          "hide_output_from_viewers": true,
          "node_id": "HF7SHfRsuivs31MT5QEdYU",
          "type": "MD"
        },
        "id": "jHjWvi_B8ycj"
      },
      "source": [
        "## Trying out with SVMs"
      ]
    },
    {
      "cell_type": "code",
      "execution_count": 264,
      "metadata": {
        "datalore": {
          "hide_input_from_viewers": true,
          "hide_output_from_viewers": true,
          "node_id": "dharQLmMD4LOZurvenkdom",
          "type": "CODE"
        },
        "id": "rmh5sNA_8ycj"
      },
      "outputs": [
        {
          "data": {
            "text/html": [
              "<style>#sk-container-id-19 {color: black;background-color: white;}#sk-container-id-19 pre{padding: 0;}#sk-container-id-19 div.sk-toggleable {background-color: white;}#sk-container-id-19 label.sk-toggleable__label {cursor: pointer;display: block;width: 100%;margin-bottom: 0;padding: 0.3em;box-sizing: border-box;text-align: center;}#sk-container-id-19 label.sk-toggleable__label-arrow:before {content: \"▸\";float: left;margin-right: 0.25em;color: #696969;}#sk-container-id-19 label.sk-toggleable__label-arrow:hover:before {color: black;}#sk-container-id-19 div.sk-estimator:hover label.sk-toggleable__label-arrow:before {color: black;}#sk-container-id-19 div.sk-toggleable__content {max-height: 0;max-width: 0;overflow: hidden;text-align: left;background-color: #f0f8ff;}#sk-container-id-19 div.sk-toggleable__content pre {margin: 0.2em;color: black;border-radius: 0.25em;background-color: #f0f8ff;}#sk-container-id-19 input.sk-toggleable__control:checked~div.sk-toggleable__content {max-height: 200px;max-width: 100%;overflow: auto;}#sk-container-id-19 input.sk-toggleable__control:checked~label.sk-toggleable__label-arrow:before {content: \"▾\";}#sk-container-id-19 div.sk-estimator input.sk-toggleable__control:checked~label.sk-toggleable__label {background-color: #d4ebff;}#sk-container-id-19 div.sk-label input.sk-toggleable__control:checked~label.sk-toggleable__label {background-color: #d4ebff;}#sk-container-id-19 input.sk-hidden--visually {border: 0;clip: rect(1px 1px 1px 1px);clip: rect(1px, 1px, 1px, 1px);height: 1px;margin: -1px;overflow: hidden;padding: 0;position: absolute;width: 1px;}#sk-container-id-19 div.sk-estimator {font-family: monospace;background-color: #f0f8ff;border: 1px dotted black;border-radius: 0.25em;box-sizing: border-box;margin-bottom: 0.5em;}#sk-container-id-19 div.sk-estimator:hover {background-color: #d4ebff;}#sk-container-id-19 div.sk-parallel-item::after {content: \"\";width: 100%;border-bottom: 1px solid gray;flex-grow: 1;}#sk-container-id-19 div.sk-label:hover label.sk-toggleable__label {background-color: #d4ebff;}#sk-container-id-19 div.sk-serial::before {content: \"\";position: absolute;border-left: 1px solid gray;box-sizing: border-box;top: 0;bottom: 0;left: 50%;z-index: 0;}#sk-container-id-19 div.sk-serial {display: flex;flex-direction: column;align-items: center;background-color: white;padding-right: 0.2em;padding-left: 0.2em;position: relative;}#sk-container-id-19 div.sk-item {position: relative;z-index: 1;}#sk-container-id-19 div.sk-parallel {display: flex;align-items: stretch;justify-content: center;background-color: white;position: relative;}#sk-container-id-19 div.sk-item::before, #sk-container-id-19 div.sk-parallel-item::before {content: \"\";position: absolute;border-left: 1px solid gray;box-sizing: border-box;top: 0;bottom: 0;left: 50%;z-index: -1;}#sk-container-id-19 div.sk-parallel-item {display: flex;flex-direction: column;z-index: 1;position: relative;background-color: white;}#sk-container-id-19 div.sk-parallel-item:first-child::after {align-self: flex-end;width: 50%;}#sk-container-id-19 div.sk-parallel-item:last-child::after {align-self: flex-start;width: 50%;}#sk-container-id-19 div.sk-parallel-item:only-child::after {width: 0;}#sk-container-id-19 div.sk-dashed-wrapped {border: 1px dashed gray;margin: 0 0.4em 0.5em 0.4em;box-sizing: border-box;padding-bottom: 0.4em;background-color: white;}#sk-container-id-19 div.sk-label label {font-family: monospace;font-weight: bold;display: inline-block;line-height: 1.2em;}#sk-container-id-19 div.sk-label-container {text-align: center;}#sk-container-id-19 div.sk-container {/* jupyter's `normalize.less` sets `[hidden] { display: none; }` but bootstrap.min.css set `[hidden] { display: none !important; }` so we also need the `!important` here to be able to override the default hidden behavior on the sphinx rendered scikit-learn.org. See: https://github.com/scikit-learn/scikit-learn/issues/21755 */display: inline-block !important;position: relative;}#sk-container-id-19 div.sk-text-repr-fallback {display: none;}</style><div id=\"sk-container-id-19\" class=\"sk-top-container\"><div class=\"sk-text-repr-fallback\"><pre>SVC(probability=True)</pre><b>In a Jupyter environment, please rerun this cell to show the HTML representation or trust the notebook. <br />On GitHub, the HTML representation is unable to render, please try loading this page with nbviewer.org.</b></div><div class=\"sk-container\" hidden><div class=\"sk-item\"><div class=\"sk-estimator sk-toggleable\"><input class=\"sk-toggleable__control sk-hidden--visually\" id=\"sk-estimator-id-19\" type=\"checkbox\" checked><label for=\"sk-estimator-id-19\" class=\"sk-toggleable__label sk-toggleable__label-arrow\">SVC</label><div class=\"sk-toggleable__content\"><pre>SVC(probability=True)</pre></div></div></div></div></div>"
            ],
            "text/plain": [
              "SVC(probability=True)"
            ]
          },
          "execution_count": 264,
          "metadata": {},
          "output_type": "execute_result"
        }
      ],
      "source": [
        "# Try using Support Vector Classifier (SVC) from scikit-learn\n",
        "# Apply similar processes as above through SVC i.e., Make prediction, check accuacy and plot confusion matrix\n",
        "\n",
        "from sklearn.svm import SVC\n",
        "\n",
        "model2 = SVC(probability=True)\n",
        "model2.fit(X_train,y_train)\n"
      ]
    },
    {
      "cell_type": "code",
      "execution_count": 265,
      "metadata": {},
      "outputs": [
        {
          "data": {
            "text/plain": [
              "0.9548916227299356"
            ]
          },
          "execution_count": 265,
          "metadata": {},
          "output_type": "execute_result"
        }
      ],
      "source": [
        "model2.score(X_test,y_test)"
      ]
    },
    {
      "cell_type": "code",
      "execution_count": 266,
      "metadata": {},
      "outputs": [
        {
          "data": {
            "image/png": "[encoded data removed]",
            "text/plain": [
              "<Figure size 640x480 with 1 Axes>"
            ]
          },
          "metadata": {},
          "output_type": "display_data"
        }
      ],
      "source": [
        "from sklearn.metrics import roc_auc_score,roc_curve\n",
        "\n",
        "y_pred_prob2 = model2.predict_proba(X_test)\n",
        "fpr2, tpr2, thresholds2 = roc_curve(y_test, y_pred_prob2[:, 1])\n",
        "\n",
        "score2 = roc_auc_score(y_test,y_pred_prob2[:,1])\n",
        "\n",
        "\n",
        "plt.plot(fpr2, tpr2, label='Support Vector Machines (AUC = {:.2f})'.format(score2))\n",
        "plt.plot(x_random,y_random, label='Random Classifier',color=\"black\",linestyle=\"dotted\")\n",
        "plt.xlabel('False Positivity Rate (1-Specificity)')\n",
        "plt.ylabel('True Positivity Rate (Sensitivity)')\n",
        "plt.title('Receiver Operating Characteristic (ROC)')\n",
        "plt.legend(loc='lower right')\n",
        "plt.show()\n"
      ]
    },
    {
      "cell_type": "code",
      "execution_count": 267,
      "metadata": {},
      "outputs": [],
      "source": [
        "y_pred2 = model2.predict(X_test)\n",
        "matrix2 = confusion_matrix(y_test,y_pred2)"
      ]
    },
    {
      "cell_type": "code",
      "execution_count": 268,
      "metadata": {},
      "outputs": [
        {
          "data": {
            "text/plain": [
              "Text(52.722222222222214, 0.5, 'Actual')"
            ]
          },
          "execution_count": 268,
          "metadata": {},
          "output_type": "execute_result"
        },
        {
          "data": {
            "image/png": "[encoded data removed]",
            "text/plain": [
              "<Figure size 640x480 with 2 Axes>"
            ]
          },
          "metadata": {},
          "output_type": "display_data"
        }
      ],
      "source": [
        "labels = [\"Spam\",\"Non-Spam\"]\n",
        "sns.heatmap(matrix2, annot=True, fmt='d', cmap='Blues',xticklabels=labels,yticklabels=labels)\n",
        "plt.title('Confusion Matrix Heatmap')\n",
        "plt.xlabel('Predicted')\n",
        "plt.ylabel('Actual')\n"
      ]
    },
    {
      "cell_type": "markdown",
      "metadata": {
        "datalore": {
          "hide_input_from_viewers": true,
          "hide_output_from_viewers": true,
          "node_id": "rDs3zZmLCuEMozF6sE4QdY",
          "type": "MD"
        },
        "id": "d8Bgog8U8ycj"
      },
      "source": [
        "## Comparing the models"
      ]
    },
    {
      "cell_type": "code",
      "execution_count": 269,
      "metadata": {
        "datalore": {
          "hide_input_from_viewers": true,
          "hide_output_from_viewers": true,
          "node_id": "OXkV2RFBF1Ld7DQFVa6083",
          "type": "CODE"
        },
        "id": "FrzQ7A8M8ycj"
      },
      "outputs": [
        {
          "data": {
            "image/png": "[encoded data removed]",
            "text/plain": [
              "<Figure size 640x480 with 1 Axes>"
            ]
          },
          "metadata": {},
          "output_type": "display_data"
        }
      ],
      "source": [
        "# Which model performed better?\n",
        "plt.plot(fpr2, tpr2, label='Support Vector Machines (AUC = {:.2f})'.format(score2),color=\"blue\")\n",
        "plt.plot(fpr, tpr, label='Multinomial Naive Bayes (AUC = {:.2f})'.format(score),color=\"orange\")\n",
        "plt.plot(x_random,y_random, label='Random Classifier',color=\"black\",linestyle=\"dotted\")\n",
        "plt.xlabel('False Positivity Rate (1-Specificity)')\n",
        "plt.ylabel('True Positivity Rate (Sensitivity)')\n",
        "plt.title('Receiver Operating Characteristic (ROC)')\n",
        "plt.legend(loc='lower right')\n",
        "plt.show()\n",
        "\n",
        "# so its clearly visible from AUC-ROC that SVM performed better than multinomial naive bayes classifier \n",
        "\n"
      ]
    },
    {
      "cell_type": "code",
      "execution_count": 270,
      "metadata": {},
      "outputs": [],
      "source": [
        "# Can you suggest some reason for better performance of one model over the other?\n",
        "\n",
        "# SVM performed slightly better than mutinomial naive bayes because unlike naive bayes it does not treat features independent but try to find a pattern between then which in this case of spam classifcation is crucial"
      ]
    },
    {
      "cell_type": "markdown",
      "metadata": {
        "datalore": {
          "hide_input_from_viewers": true,
          "hide_output_from_viewers": true,
          "node_id": "ZaqRxhVmJPCcmG1rd2ksQs",
          "type": "MD"
        },
        "id": "b8f7S8ZW8ycj"
      },
      "source": [
        "## Bonus Question"
      ]
    },
    {
      "cell_type": "code",
      "execution_count": 271,
      "metadata": {
        "datalore": {
          "hide_input_from_viewers": true,
          "hide_output_from_viewers": true,
          "node_id": "AlYkiwHK5HWuVKBPZBPTuj",
          "type": "CODE"
        },
        "id": "q315VsNE8yck"
      },
      "outputs": [
        {
          "data": {
            "text/html": [
              "<div>\n",
              "<style scoped>\n",
              "    .dataframe tbody tr th:only-of-type {\n",
              "        vertical-align: middle;\n",
              "    }\n",
              "\n",
              "    .dataframe tbody tr th {\n",
              "        vertical-align: top;\n",
              "    }\n",
              "\n",
              "    .dataframe thead th {\n",
              "        text-align: right;\n",
              "    }\n",
              "</style>\n",
              "<table border=\"1\" class=\"dataframe\">\n",
              "  <thead>\n",
              "    <tr style=\"text-align: right;\">\n",
              "      <th></th>\n",
              "      <th>am</th>\n",
              "      <th>amazing</th>\n",
              "      <th>and</th>\n",
              "      <th>are</th>\n",
              "      <th>classify</th>\n",
              "      <th>currently</th>\n",
              "      <th>developer</th>\n",
              "      <th>mails</th>\n",
              "      <th>of</th>\n",
              "      <th>on</th>\n",
              "      <th>project</th>\n",
              "      <th>python</th>\n",
              "      <th>some</th>\n",
              "      <th>the</th>\n",
              "      <th>to</th>\n",
              "      <th>working</th>\n",
              "    </tr>\n",
              "  </thead>\n",
              "  <tbody>\n",
              "    <tr>\n",
              "      <th>0</th>\n",
              "      <td>1</td>\n",
              "      <td>1</td>\n",
              "      <td>2</td>\n",
              "      <td>1</td>\n",
              "      <td>1</td>\n",
              "      <td>1</td>\n",
              "      <td>1</td>\n",
              "      <td>2</td>\n",
              "      <td>1</td>\n",
              "      <td>1</td>\n",
              "      <td>1</td>\n",
              "      <td>1</td>\n",
              "      <td>1</td>\n",
              "      <td>1</td>\n",
              "      <td>1</td>\n",
              "      <td>1</td>\n",
              "    </tr>\n",
              "  </tbody>\n",
              "</table>\n",
              "</div>"
            ],
            "text/plain": [
              "   am  amazing  and  are  classify  currently  developer  mails  of  on  \\\n",
              "0   1        1    2    1         1          1          1      2   1   1   \n",
              "\n",
              "   project  python  some  the  to  working  \n",
              "0        1       1     1    1   1        1  "
            ]
          },
          "execution_count": 271,
          "metadata": {},
          "output_type": "execute_result"
        }
      ],
      "source": [
        "from sklearn.feature_extraction.text import CountVectorizer\n",
        "\n",
        "# Given a string. Try to create the dataset having each word of dataset as column and row values as the frequency of that word.\n",
        "# For example \n",
        "s = \"I am a Python developer and currently working on a project to classify mails and some of the mails are amazing\"\n",
        "\n",
        "vectorizer = CountVectorizer()\n",
        "\n",
        "freq = vectorizer.fit_transform([s])\n",
        "feature_names = vectorizer.get_feature_names_out()\n",
        "df = pd.DataFrame(freq.toarray(),columns=feature_names)\n",
        "df.head()\n",
        "# dataframe = {\"I\" : 1,\n",
        "#              \"am\" :1,\n",
        "#              \"a\" : 2,\n",
        "#               ...}"
      ]
    }
  ],
  "metadata": {
    "colab": {
      "provenance": []
    },
    "datalore": {
      "base_environment": "default",
      "computation_mode": "JUPYTER",
      "package_manager": "pip",
      "packages": [],
      "report_row_ids": [],
      "version": 3
    },
    "kernelspec": {
      "display_name": "Python 3",
      "language": "python",
      "name": "python3"
    },
    "language_info": {
      "codemirror_mode": {
        "name": "ipython",
        "version": 3
      },
      "file_extension": ".py",
      "mimetype": "text/x-python",
      "name": "python",
      "nbconvert_exporter": "python",
      "pygments_lexer": "ipython3",
      "version": "3.10.9"
    }
  },
  "nbformat": 4,
  "nbformat_minor": 0
}
