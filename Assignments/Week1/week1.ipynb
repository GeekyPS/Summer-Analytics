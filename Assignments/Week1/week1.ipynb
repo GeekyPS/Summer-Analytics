{
  "cells": [
    {
      "cell_type": "markdown",
      "metadata": {
        "id": "7t7O3hPJQQ1h"
      },
      "source": [
        "**Welcome to your first assignment of Summer Analytics 2023! We hope you are excited to implement and test everything you have learnt up until now.<a href = \"https://drive.google.com/file/d/1U73P58VAc4EXM98Or9feKnVx9I9FOP_L/view?usp=sharing\"> The dataset</a> which you'll use includes information about Movies.**"
      ]
    },
    {
      "cell_type": "markdown",
      "metadata": {
        "id": "8yDZv8F_QiqH"
      },
      "source": [
        " We've got an interesting set of questions for you to get a basic understanding of pandas and data visualization libraries. GOOD LUCK!\n",
        " \n",
        "Let's get started with importing numpy, pandas, seaborn and matplotlib! "
      ]
    },
    {
      "cell_type": "markdown",
      "metadata": {
        "id": "p-nMuCNQQxx_"
      },
      "source": [
        "Note - matplotlib should be imported with the command :\n",
        "\n",
        "**import matplotlib.pyplot as plt**"
      ]
    },
    {
      "cell_type": "markdown",
      "metadata": {
        "id": "nz8BTfnCRC8v"
      },
      "source": [
        "Start by importing all important libraries"
      ]
    },
    {
      "cell_type": "code",
      "execution_count": 371,
      "metadata": {
        "id": "rKkyeMJiO0up"
      },
      "outputs": [],
      "source": [
        "from matplotlib import pyplot as plt\n",
        "import pandas as pd"
      ]
    },
    {
      "cell_type": "markdown",
      "metadata": {
        "id": "2N8LabERRONN"
      },
      "source": [
        "Read the csv file and assign it to a variable ."
      ]
    },
    {
      "cell_type": "code",
      "execution_count": 372,
      "metadata": {
        "colab": {
          "base_uri": "https://localhost:8080/",
          "height": 595
        },
        "id": "vnjh3IZmRO72",
        "outputId": "e20d1816-eba9-4d3f-e4e6-4d792660f8dc"
      },
      "outputs": [
        {
          "data": {
            "text/html": [
              "<div>\n",
              "<style scoped>\n",
              "    .dataframe tbody tr th:only-of-type {\n",
              "        vertical-align: middle;\n",
              "    }\n",
              "\n",
              "    .dataframe tbody tr th {\n",
              "        vertical-align: top;\n",
              "    }\n",
              "\n",
              "    .dataframe thead th {\n",
              "        text-align: right;\n",
              "    }\n",
              "</style>\n",
              "<table border=\"1\" class=\"dataframe\">\n",
              "  <thead>\n",
              "    <tr style=\"text-align: right;\">\n",
              "      <th></th>\n",
              "      <th>Poster_Link</th>\n",
              "      <th>Series_Title</th>\n",
              "      <th>Released_Year</th>\n",
              "      <th>Certificate</th>\n",
              "      <th>Runtime</th>\n",
              "      <th>Genre</th>\n",
              "      <th>IMDB_Rating</th>\n",
              "      <th>Overview</th>\n",
              "      <th>Meta_score</th>\n",
              "      <th>Director</th>\n",
              "      <th>Star1</th>\n",
              "      <th>Star2</th>\n",
              "      <th>Star3</th>\n",
              "      <th>Star4</th>\n",
              "      <th>No_of_Votes</th>\n",
              "      <th>Gross</th>\n",
              "    </tr>\n",
              "  </thead>\n",
              "  <tbody>\n",
              "    <tr>\n",
              "      <th>0</th>\n",
              "      <td>https://m.media-amazon.com/images/M/MV5BMDFkYT...</td>\n",
              "      <td>The Shawshank Redemption</td>\n",
              "      <td>1994</td>\n",
              "      <td>A</td>\n",
              "      <td>142 min</td>\n",
              "      <td>Drama</td>\n",
              "      <td>9.3</td>\n",
              "      <td>Two imprisoned men bond over a number of years...</td>\n",
              "      <td>80.0</td>\n",
              "      <td>Frank Darabont</td>\n",
              "      <td>Tim Robbins</td>\n",
              "      <td>Morgan Freeman</td>\n",
              "      <td>Bob Gunton</td>\n",
              "      <td>William Sadler</td>\n",
              "      <td>2343110</td>\n",
              "      <td>28,341,469</td>\n",
              "    </tr>\n",
              "    <tr>\n",
              "      <th>1</th>\n",
              "      <td>https://m.media-amazon.com/images/M/MV5BM2MyNj...</td>\n",
              "      <td>The Godfather</td>\n",
              "      <td>1972</td>\n",
              "      <td>A</td>\n",
              "      <td>175 min</td>\n",
              "      <td>Crime, Drama</td>\n",
              "      <td>9.2</td>\n",
              "      <td>An organized crime dynasty's aging patriarch t...</td>\n",
              "      <td>100.0</td>\n",
              "      <td>Francis Ford Coppola</td>\n",
              "      <td>Marlon Brando</td>\n",
              "      <td>Al Pacino</td>\n",
              "      <td>James Caan</td>\n",
              "      <td>Diane Keaton</td>\n",
              "      <td>1620367</td>\n",
              "      <td>134,966,411</td>\n",
              "    </tr>\n",
              "    <tr>\n",
              "      <th>2</th>\n",
              "      <td>https://m.media-amazon.com/images/M/MV5BMTMxNT...</td>\n",
              "      <td>The Dark Knight</td>\n",
              "      <td>2008</td>\n",
              "      <td>UA</td>\n",
              "      <td>152 min</td>\n",
              "      <td>Action, Crime, Drama</td>\n",
              "      <td>9.0</td>\n",
              "      <td>When the menace known as the Joker wreaks havo...</td>\n",
              "      <td>84.0</td>\n",
              "      <td>Christopher Nolan</td>\n",
              "      <td>Christian Bale</td>\n",
              "      <td>Heath Ledger</td>\n",
              "      <td>Aaron Eckhart</td>\n",
              "      <td>Michael Caine</td>\n",
              "      <td>2303232</td>\n",
              "      <td>534,858,444</td>\n",
              "    </tr>\n",
              "    <tr>\n",
              "      <th>3</th>\n",
              "      <td>https://m.media-amazon.com/images/M/MV5BMWMwMG...</td>\n",
              "      <td>The Godfather: Part II</td>\n",
              "      <td>1974</td>\n",
              "      <td>A</td>\n",
              "      <td>202 min</td>\n",
              "      <td>Crime, Drama</td>\n",
              "      <td>9.0</td>\n",
              "      <td>The early life and career of Vito Corleone in ...</td>\n",
              "      <td>90.0</td>\n",
              "      <td>Francis Ford Coppola</td>\n",
              "      <td>Al Pacino</td>\n",
              "      <td>Robert De Niro</td>\n",
              "      <td>Robert Duvall</td>\n",
              "      <td>Diane Keaton</td>\n",
              "      <td>1129952</td>\n",
              "      <td>57,300,000</td>\n",
              "    </tr>\n",
              "    <tr>\n",
              "      <th>4</th>\n",
              "      <td>https://m.media-amazon.com/images/M/MV5BMWU4N2...</td>\n",
              "      <td>12 Angry Men</td>\n",
              "      <td>1957</td>\n",
              "      <td>U</td>\n",
              "      <td>96 min</td>\n",
              "      <td>Crime, Drama</td>\n",
              "      <td>9.0</td>\n",
              "      <td>A jury holdout attempts to prevent a miscarria...</td>\n",
              "      <td>96.0</td>\n",
              "      <td>Sidney Lumet</td>\n",
              "      <td>Henry Fonda</td>\n",
              "      <td>Lee J. Cobb</td>\n",
              "      <td>Martin Balsam</td>\n",
              "      <td>John Fiedler</td>\n",
              "      <td>689845</td>\n",
              "      <td>4,360,000</td>\n",
              "    </tr>\n",
              "  </tbody>\n",
              "</table>\n",
              "</div>"
            ],
            "text/plain": [
              "                                         Poster_Link   \n",
              "0  https://m.media-amazon.com/images/M/MV5BMDFkYT...  \\\n",
              "1  https://m.media-amazon.com/images/M/MV5BM2MyNj...   \n",
              "2  https://m.media-amazon.com/images/M/MV5BMTMxNT...   \n",
              "3  https://m.media-amazon.com/images/M/MV5BMWMwMG...   \n",
              "4  https://m.media-amazon.com/images/M/MV5BMWU4N2...   \n",
              "\n",
              "               Series_Title Released_Year Certificate  Runtime   \n",
              "0  The Shawshank Redemption          1994           A  142 min  \\\n",
              "1             The Godfather          1972           A  175 min   \n",
              "2           The Dark Knight          2008          UA  152 min   \n",
              "3    The Godfather: Part II          1974           A  202 min   \n",
              "4              12 Angry Men          1957           U   96 min   \n",
              "\n",
              "                  Genre  IMDB_Rating   \n",
              "0                 Drama          9.3  \\\n",
              "1          Crime, Drama          9.2   \n",
              "2  Action, Crime, Drama          9.0   \n",
              "3          Crime, Drama          9.0   \n",
              "4          Crime, Drama          9.0   \n",
              "\n",
              "                                            Overview  Meta_score   \n",
              "0  Two imprisoned men bond over a number of years...        80.0  \\\n",
              "1  An organized crime dynasty's aging patriarch t...       100.0   \n",
              "2  When the menace known as the Joker wreaks havo...        84.0   \n",
              "3  The early life and career of Vito Corleone in ...        90.0   \n",
              "4  A jury holdout attempts to prevent a miscarria...        96.0   \n",
              "\n",
              "               Director           Star1           Star2          Star3   \n",
              "0        Frank Darabont     Tim Robbins  Morgan Freeman     Bob Gunton  \\\n",
              "1  Francis Ford Coppola   Marlon Brando       Al Pacino     James Caan   \n",
              "2     Christopher Nolan  Christian Bale    Heath Ledger  Aaron Eckhart   \n",
              "3  Francis Ford Coppola       Al Pacino  Robert De Niro  Robert Duvall   \n",
              "4          Sidney Lumet     Henry Fonda     Lee J. Cobb  Martin Balsam   \n",
              "\n",
              "            Star4  No_of_Votes        Gross  \n",
              "0  William Sadler      2343110   28,341,469  \n",
              "1    Diane Keaton      1620367  134,966,411  \n",
              "2   Michael Caine      2303232  534,858,444  \n",
              "3    Diane Keaton      1129952   57,300,000  \n",
              "4    John Fiedler       689845    4,360,000  "
            ]
          },
          "execution_count": 372,
          "metadata": {},
          "output_type": "execute_result"
        }
      ],
      "source": [
        "data = pd.read_csv(\"data.csv\")\n",
        "data.head()\n"
      ]
    },
    {
      "cell_type": "markdown",
      "metadata": {
        "id": "EifdwomBRPxy"
      },
      "source": [
        "Display shape of dataframe"
      ]
    },
    {
      "cell_type": "code",
      "execution_count": 373,
      "metadata": {
        "id": "lM8S9INfRSt3"
      },
      "outputs": [
        {
          "data": {
            "text/plain": [
              "(1000, 16)"
            ]
          },
          "execution_count": 373,
          "metadata": {},
          "output_type": "execute_result"
        }
      ],
      "source": [
        "data.shape"
      ]
    },
    {
      "cell_type": "markdown",
      "metadata": {
        "id": "Q9xTIt54RVTY"
      },
      "source": [
        "Print all columns of dataframe"
      ]
    },
    {
      "cell_type": "code",
      "execution_count": 374,
      "metadata": {
        "id": "kn3VPvn6RV4_"
      },
      "outputs": [
        {
          "data": {
            "text/plain": [
              "Index(['Poster_Link', 'Series_Title', 'Released_Year', 'Certificate',\n",
              "       'Runtime', 'Genre', 'IMDB_Rating', 'Overview', 'Meta_score', 'Director',\n",
              "       'Star1', 'Star2', 'Star3', 'Star4', 'No_of_Votes', 'Gross'],\n",
              "      dtype='object')"
            ]
          },
          "execution_count": 374,
          "metadata": {},
          "output_type": "execute_result"
        }
      ],
      "source": [
        "data.columns"
      ]
    },
    {
      "cell_type": "markdown",
      "metadata": {
        "id": "3jtm084KRleN"
      },
      "source": [
        "Remove the column 'Poster_Link' and update the dataframe."
      ]
    },
    {
      "cell_type": "code",
      "execution_count": 375,
      "metadata": {
        "id": "zYIz3q0ARnuU"
      },
      "outputs": [
        {
          "data": {
            "text/html": [
              "<div>\n",
              "<style scoped>\n",
              "    .dataframe tbody tr th:only-of-type {\n",
              "        vertical-align: middle;\n",
              "    }\n",
              "\n",
              "    .dataframe tbody tr th {\n",
              "        vertical-align: top;\n",
              "    }\n",
              "\n",
              "    .dataframe thead th {\n",
              "        text-align: right;\n",
              "    }\n",
              "</style>\n",
              "<table border=\"1\" class=\"dataframe\">\n",
              "  <thead>\n",
              "    <tr style=\"text-align: right;\">\n",
              "      <th></th>\n",
              "      <th>Series_Title</th>\n",
              "      <th>Released_Year</th>\n",
              "      <th>Certificate</th>\n",
              "      <th>Runtime</th>\n",
              "      <th>Genre</th>\n",
              "      <th>IMDB_Rating</th>\n",
              "      <th>Overview</th>\n",
              "      <th>Meta_score</th>\n",
              "      <th>Director</th>\n",
              "      <th>Star1</th>\n",
              "      <th>Star2</th>\n",
              "      <th>Star3</th>\n",
              "      <th>Star4</th>\n",
              "      <th>No_of_Votes</th>\n",
              "      <th>Gross</th>\n",
              "    </tr>\n",
              "  </thead>\n",
              "  <tbody>\n",
              "    <tr>\n",
              "      <th>0</th>\n",
              "      <td>The Shawshank Redemption</td>\n",
              "      <td>1994</td>\n",
              "      <td>A</td>\n",
              "      <td>142 min</td>\n",
              "      <td>Drama</td>\n",
              "      <td>9.3</td>\n",
              "      <td>Two imprisoned men bond over a number of years...</td>\n",
              "      <td>80.0</td>\n",
              "      <td>Frank Darabont</td>\n",
              "      <td>Tim Robbins</td>\n",
              "      <td>Morgan Freeman</td>\n",
              "      <td>Bob Gunton</td>\n",
              "      <td>William Sadler</td>\n",
              "      <td>2343110</td>\n",
              "      <td>28,341,469</td>\n",
              "    </tr>\n",
              "    <tr>\n",
              "      <th>1</th>\n",
              "      <td>The Godfather</td>\n",
              "      <td>1972</td>\n",
              "      <td>A</td>\n",
              "      <td>175 min</td>\n",
              "      <td>Crime, Drama</td>\n",
              "      <td>9.2</td>\n",
              "      <td>An organized crime dynasty's aging patriarch t...</td>\n",
              "      <td>100.0</td>\n",
              "      <td>Francis Ford Coppola</td>\n",
              "      <td>Marlon Brando</td>\n",
              "      <td>Al Pacino</td>\n",
              "      <td>James Caan</td>\n",
              "      <td>Diane Keaton</td>\n",
              "      <td>1620367</td>\n",
              "      <td>134,966,411</td>\n",
              "    </tr>\n",
              "    <tr>\n",
              "      <th>2</th>\n",
              "      <td>The Dark Knight</td>\n",
              "      <td>2008</td>\n",
              "      <td>UA</td>\n",
              "      <td>152 min</td>\n",
              "      <td>Action, Crime, Drama</td>\n",
              "      <td>9.0</td>\n",
              "      <td>When the menace known as the Joker wreaks havo...</td>\n",
              "      <td>84.0</td>\n",
              "      <td>Christopher Nolan</td>\n",
              "      <td>Christian Bale</td>\n",
              "      <td>Heath Ledger</td>\n",
              "      <td>Aaron Eckhart</td>\n",
              "      <td>Michael Caine</td>\n",
              "      <td>2303232</td>\n",
              "      <td>534,858,444</td>\n",
              "    </tr>\n",
              "    <tr>\n",
              "      <th>3</th>\n",
              "      <td>The Godfather: Part II</td>\n",
              "      <td>1974</td>\n",
              "      <td>A</td>\n",
              "      <td>202 min</td>\n",
              "      <td>Crime, Drama</td>\n",
              "      <td>9.0</td>\n",
              "      <td>The early life and career of Vito Corleone in ...</td>\n",
              "      <td>90.0</td>\n",
              "      <td>Francis Ford Coppola</td>\n",
              "      <td>Al Pacino</td>\n",
              "      <td>Robert De Niro</td>\n",
              "      <td>Robert Duvall</td>\n",
              "      <td>Diane Keaton</td>\n",
              "      <td>1129952</td>\n",
              "      <td>57,300,000</td>\n",
              "    </tr>\n",
              "    <tr>\n",
              "      <th>4</th>\n",
              "      <td>12 Angry Men</td>\n",
              "      <td>1957</td>\n",
              "      <td>U</td>\n",
              "      <td>96 min</td>\n",
              "      <td>Crime, Drama</td>\n",
              "      <td>9.0</td>\n",
              "      <td>A jury holdout attempts to prevent a miscarria...</td>\n",
              "      <td>96.0</td>\n",
              "      <td>Sidney Lumet</td>\n",
              "      <td>Henry Fonda</td>\n",
              "      <td>Lee J. Cobb</td>\n",
              "      <td>Martin Balsam</td>\n",
              "      <td>John Fiedler</td>\n",
              "      <td>689845</td>\n",
              "      <td>4,360,000</td>\n",
              "    </tr>\n",
              "  </tbody>\n",
              "</table>\n",
              "</div>"
            ],
            "text/plain": [
              "               Series_Title Released_Year Certificate  Runtime   \n",
              "0  The Shawshank Redemption          1994           A  142 min  \\\n",
              "1             The Godfather          1972           A  175 min   \n",
              "2           The Dark Knight          2008          UA  152 min   \n",
              "3    The Godfather: Part II          1974           A  202 min   \n",
              "4              12 Angry Men          1957           U   96 min   \n",
              "\n",
              "                  Genre  IMDB_Rating   \n",
              "0                 Drama          9.3  \\\n",
              "1          Crime, Drama          9.2   \n",
              "2  Action, Crime, Drama          9.0   \n",
              "3          Crime, Drama          9.0   \n",
              "4          Crime, Drama          9.0   \n",
              "\n",
              "                                            Overview  Meta_score   \n",
              "0  Two imprisoned men bond over a number of years...        80.0  \\\n",
              "1  An organized crime dynasty's aging patriarch t...       100.0   \n",
              "2  When the menace known as the Joker wreaks havo...        84.0   \n",
              "3  The early life and career of Vito Corleone in ...        90.0   \n",
              "4  A jury holdout attempts to prevent a miscarria...        96.0   \n",
              "\n",
              "               Director           Star1           Star2          Star3   \n",
              "0        Frank Darabont     Tim Robbins  Morgan Freeman     Bob Gunton  \\\n",
              "1  Francis Ford Coppola   Marlon Brando       Al Pacino     James Caan   \n",
              "2     Christopher Nolan  Christian Bale    Heath Ledger  Aaron Eckhart   \n",
              "3  Francis Ford Coppola       Al Pacino  Robert De Niro  Robert Duvall   \n",
              "4          Sidney Lumet     Henry Fonda     Lee J. Cobb  Martin Balsam   \n",
              "\n",
              "            Star4  No_of_Votes        Gross  \n",
              "0  William Sadler      2343110   28,341,469  \n",
              "1    Diane Keaton      1620367  134,966,411  \n",
              "2   Michael Caine      2303232  534,858,444  \n",
              "3    Diane Keaton      1129952   57,300,000  \n",
              "4    John Fiedler       689845    4,360,000  "
            ]
          },
          "execution_count": 375,
          "metadata": {},
          "output_type": "execute_result"
        }
      ],
      "source": [
        "data.drop(\"Poster_Link\",axis=1,inplace=True)\n",
        "data.head()"
      ]
    },
    {
      "cell_type": "markdown",
      "metadata": {
        "id": "ss6QYp4YRrfY"
      },
      "source": [
        "Set the 'Series_Title' column as the index of dataframe"
      ]
    },
    {
      "cell_type": "code",
      "execution_count": 376,
      "metadata": {
        "id": "iXNaEmTkR3tB"
      },
      "outputs": [
        {
          "data": {
            "text/html": [
              "<div>\n",
              "<style scoped>\n",
              "    .dataframe tbody tr th:only-of-type {\n",
              "        vertical-align: middle;\n",
              "    }\n",
              "\n",
              "    .dataframe tbody tr th {\n",
              "        vertical-align: top;\n",
              "    }\n",
              "\n",
              "    .dataframe thead th {\n",
              "        text-align: right;\n",
              "    }\n",
              "</style>\n",
              "<table border=\"1\" class=\"dataframe\">\n",
              "  <thead>\n",
              "    <tr style=\"text-align: right;\">\n",
              "      <th></th>\n",
              "      <th>Released_Year</th>\n",
              "      <th>Certificate</th>\n",
              "      <th>Runtime</th>\n",
              "      <th>Genre</th>\n",
              "      <th>IMDB_Rating</th>\n",
              "      <th>Overview</th>\n",
              "      <th>Meta_score</th>\n",
              "      <th>Director</th>\n",
              "      <th>Star1</th>\n",
              "      <th>Star2</th>\n",
              "      <th>Star3</th>\n",
              "      <th>Star4</th>\n",
              "      <th>No_of_Votes</th>\n",
              "      <th>Gross</th>\n",
              "    </tr>\n",
              "    <tr>\n",
              "      <th>Series_Title</th>\n",
              "      <th></th>\n",
              "      <th></th>\n",
              "      <th></th>\n",
              "      <th></th>\n",
              "      <th></th>\n",
              "      <th></th>\n",
              "      <th></th>\n",
              "      <th></th>\n",
              "      <th></th>\n",
              "      <th></th>\n",
              "      <th></th>\n",
              "      <th></th>\n",
              "      <th></th>\n",
              "      <th></th>\n",
              "    </tr>\n",
              "  </thead>\n",
              "  <tbody>\n",
              "    <tr>\n",
              "      <th>The Shawshank Redemption</th>\n",
              "      <td>1994</td>\n",
              "      <td>A</td>\n",
              "      <td>142 min</td>\n",
              "      <td>Drama</td>\n",
              "      <td>9.3</td>\n",
              "      <td>Two imprisoned men bond over a number of years...</td>\n",
              "      <td>80.0</td>\n",
              "      <td>Frank Darabont</td>\n",
              "      <td>Tim Robbins</td>\n",
              "      <td>Morgan Freeman</td>\n",
              "      <td>Bob Gunton</td>\n",
              "      <td>William Sadler</td>\n",
              "      <td>2343110</td>\n",
              "      <td>28,341,469</td>\n",
              "    </tr>\n",
              "    <tr>\n",
              "      <th>The Godfather</th>\n",
              "      <td>1972</td>\n",
              "      <td>A</td>\n",
              "      <td>175 min</td>\n",
              "      <td>Crime, Drama</td>\n",
              "      <td>9.2</td>\n",
              "      <td>An organized crime dynasty's aging patriarch t...</td>\n",
              "      <td>100.0</td>\n",
              "      <td>Francis Ford Coppola</td>\n",
              "      <td>Marlon Brando</td>\n",
              "      <td>Al Pacino</td>\n",
              "      <td>James Caan</td>\n",
              "      <td>Diane Keaton</td>\n",
              "      <td>1620367</td>\n",
              "      <td>134,966,411</td>\n",
              "    </tr>\n",
              "    <tr>\n",
              "      <th>The Dark Knight</th>\n",
              "      <td>2008</td>\n",
              "      <td>UA</td>\n",
              "      <td>152 min</td>\n",
              "      <td>Action, Crime, Drama</td>\n",
              "      <td>9.0</td>\n",
              "      <td>When the menace known as the Joker wreaks havo...</td>\n",
              "      <td>84.0</td>\n",
              "      <td>Christopher Nolan</td>\n",
              "      <td>Christian Bale</td>\n",
              "      <td>Heath Ledger</td>\n",
              "      <td>Aaron Eckhart</td>\n",
              "      <td>Michael Caine</td>\n",
              "      <td>2303232</td>\n",
              "      <td>534,858,444</td>\n",
              "    </tr>\n",
              "    <tr>\n",
              "      <th>The Godfather: Part II</th>\n",
              "      <td>1974</td>\n",
              "      <td>A</td>\n",
              "      <td>202 min</td>\n",
              "      <td>Crime, Drama</td>\n",
              "      <td>9.0</td>\n",
              "      <td>The early life and career of Vito Corleone in ...</td>\n",
              "      <td>90.0</td>\n",
              "      <td>Francis Ford Coppola</td>\n",
              "      <td>Al Pacino</td>\n",
              "      <td>Robert De Niro</td>\n",
              "      <td>Robert Duvall</td>\n",
              "      <td>Diane Keaton</td>\n",
              "      <td>1129952</td>\n",
              "      <td>57,300,000</td>\n",
              "    </tr>\n",
              "    <tr>\n",
              "      <th>12 Angry Men</th>\n",
              "      <td>1957</td>\n",
              "      <td>U</td>\n",
              "      <td>96 min</td>\n",
              "      <td>Crime, Drama</td>\n",
              "      <td>9.0</td>\n",
              "      <td>A jury holdout attempts to prevent a miscarria...</td>\n",
              "      <td>96.0</td>\n",
              "      <td>Sidney Lumet</td>\n",
              "      <td>Henry Fonda</td>\n",
              "      <td>Lee J. Cobb</td>\n",
              "      <td>Martin Balsam</td>\n",
              "      <td>John Fiedler</td>\n",
              "      <td>689845</td>\n",
              "      <td>4,360,000</td>\n",
              "    </tr>\n",
              "  </tbody>\n",
              "</table>\n",
              "</div>"
            ],
            "text/plain": [
              "                         Released_Year Certificate  Runtime   \n",
              "Series_Title                                                  \n",
              "The Shawshank Redemption          1994           A  142 min  \\\n",
              "The Godfather                     1972           A  175 min   \n",
              "The Dark Knight                   2008          UA  152 min   \n",
              "The Godfather: Part II            1974           A  202 min   \n",
              "12 Angry Men                      1957           U   96 min   \n",
              "\n",
              "                                         Genre  IMDB_Rating   \n",
              "Series_Title                                                  \n",
              "The Shawshank Redemption                 Drama          9.3  \\\n",
              "The Godfather                     Crime, Drama          9.2   \n",
              "The Dark Knight           Action, Crime, Drama          9.0   \n",
              "The Godfather: Part II            Crime, Drama          9.0   \n",
              "12 Angry Men                      Crime, Drama          9.0   \n",
              "\n",
              "                                                                   Overview   \n",
              "Series_Title                                                                  \n",
              "The Shawshank Redemption  Two imprisoned men bond over a number of years...  \\\n",
              "The Godfather             An organized crime dynasty's aging patriarch t...   \n",
              "The Dark Knight           When the menace known as the Joker wreaks havo...   \n",
              "The Godfather: Part II    The early life and career of Vito Corleone in ...   \n",
              "12 Angry Men              A jury holdout attempts to prevent a miscarria...   \n",
              "\n",
              "                          Meta_score              Director           Star1   \n",
              "Series_Title                                                                 \n",
              "The Shawshank Redemption        80.0        Frank Darabont     Tim Robbins  \\\n",
              "The Godfather                  100.0  Francis Ford Coppola   Marlon Brando   \n",
              "The Dark Knight                 84.0     Christopher Nolan  Christian Bale   \n",
              "The Godfather: Part II          90.0  Francis Ford Coppola       Al Pacino   \n",
              "12 Angry Men                    96.0          Sidney Lumet     Henry Fonda   \n",
              "\n",
              "                                   Star2          Star3           Star4   \n",
              "Series_Title                                                              \n",
              "The Shawshank Redemption  Morgan Freeman     Bob Gunton  William Sadler  \\\n",
              "The Godfather                  Al Pacino     James Caan    Diane Keaton   \n",
              "The Dark Knight             Heath Ledger  Aaron Eckhart   Michael Caine   \n",
              "The Godfather: Part II    Robert De Niro  Robert Duvall    Diane Keaton   \n",
              "12 Angry Men                 Lee J. Cobb  Martin Balsam    John Fiedler   \n",
              "\n",
              "                          No_of_Votes        Gross  \n",
              "Series_Title                                        \n",
              "The Shawshank Redemption      2343110   28,341,469  \n",
              "The Godfather                 1620367  134,966,411  \n",
              "The Dark Knight               2303232  534,858,444  \n",
              "The Godfather: Part II        1129952   57,300,000  \n",
              "12 Angry Men                   689845    4,360,000  "
            ]
          },
          "execution_count": 376,
          "metadata": {},
          "output_type": "execute_result"
        }
      ],
      "source": [
        "data.set_index('Series_Title',inplace=True)\n",
        "data.head()"
      ]
    },
    {
      "cell_type": "markdown",
      "metadata": {
        "id": "f6cj49w0R4PS"
      },
      "source": [
        "Print a list of all the unique Genre"
      ]
    },
    {
      "cell_type": "code",
      "execution_count": 377,
      "metadata": {
        "id": "CO4kbBsySVjr"
      },
      "outputs": [
        {
          "data": {
            "text/plain": [
              "array(['Drama', 'Crime', 'Action', 'Biography', 'Western', 'Comedy',\n",
              "       'Adventure', 'Animation', 'Horror', 'Mystery', 'Film-Noir',\n",
              "       'Fantasy', 'Family', 'Thriller'], dtype=object)"
            ]
          },
          "execution_count": 377,
          "metadata": {},
          "output_type": "execute_result"
        }
      ],
      "source": [
        "data.Genre.str.split(',',expand=True)[0].unique()"
      ]
    },
    {
      "cell_type": "markdown",
      "metadata": {
        "id": "Dfj_ZoVBS97W"
      },
      "source": [
        "1. What is the Number of Directors in the given dataset ? "
      ]
    },
    {
      "cell_type": "code",
      "execution_count": 378,
      "metadata": {
        "id": "92f8NLciTIU_"
      },
      "outputs": [
        {
          "data": {
            "text/plain": [
              "548"
            ]
          },
          "execution_count": 378,
          "metadata": {},
          "output_type": "execute_result"
        }
      ],
      "source": [
        "data.Director.nunique()"
      ]
    },
    {
      "cell_type": "markdown",
      "metadata": {
        "id": "5UnvBViyTOc9"
      },
      "source": [
        "2. What is the mean, median and standard deviation of IMDB rating in the dataset ?"
      ]
    },
    {
      "cell_type": "code",
      "execution_count": 379,
      "metadata": {
        "id": "sOL7O83LTg30"
      },
      "outputs": [
        {
          "data": {
            "text/plain": [
              "count    1000.000000\n",
              "mean        7.949300\n",
              "std         0.275491\n",
              "min         7.600000\n",
              "25%         7.700000\n",
              "50%         7.900000\n",
              "75%         8.100000\n",
              "max         9.300000\n",
              "Name: IMDB_Rating, dtype: float64"
            ]
          },
          "execution_count": 379,
          "metadata": {},
          "output_type": "execute_result"
        }
      ],
      "source": [
        "data.IMDB_Rating.describe()\n",
        "# 50% is the median"
      ]
    },
    {
      "cell_type": "code",
      "execution_count": 380,
      "metadata": {},
      "outputs": [
        {
          "data": {
            "text/plain": [
              "0.2754912074920095"
            ]
          },
          "execution_count": 380,
          "metadata": {},
          "output_type": "execute_result"
        }
      ],
      "source": [
        "data.IMDB_Rating.std()\n",
        "# standard deviation"
      ]
    },
    {
      "cell_type": "markdown",
      "metadata": {
        "id": "d_k1zoajTxyx"
      },
      "source": [
        "3. Which director has directed the most number of movies?"
      ]
    },
    {
      "cell_type": "code",
      "execution_count": 381,
      "metadata": {
        "id": "-gvnNqSsT88L"
      },
      "outputs": [
        {
          "data": {
            "text/plain": [
              "'Alfred Hitchcock'"
            ]
          },
          "execution_count": 381,
          "metadata": {},
          "output_type": "execute_result"
        }
      ],
      "source": [
        "data.Director.value_counts().index[0]"
      ]
    },
    {
      "cell_type": "markdown",
      "metadata": {
        "id": "zGHeeFZnT-yx"
      },
      "source": [
        "4. Name the Movie which has the highest Runtime ?"
      ]
    },
    {
      "cell_type": "code",
      "execution_count": 382,
      "metadata": {
        "id": "-1BAOzXoUKL1"
      },
      "outputs": [],
      "source": [
        "data[\"Runtime\"] = data.Runtime.str.replace(\"min\",\"\").astype(int)\n",
        "\n",
        "# converting runtime to int to compare"
      ]
    },
    {
      "cell_type": "code",
      "execution_count": 383,
      "metadata": {},
      "outputs": [
        {
          "data": {
            "text/plain": [
              "'Gangs of Wasseypur'"
            ]
          },
          "execution_count": 383,
          "metadata": {},
          "output_type": "execute_result"
        }
      ],
      "source": [
        "data[data.Runtime==data.Runtime.max()].index[0]\n",
        "# movie with highest runtime"
      ]
    },
    {
      "cell_type": "markdown",
      "metadata": {
        "id": "ast-zD1gULUS"
      },
      "source": [
        "5. How many movies are released after year 2000 and have IMDB rating > 8.5 ?"
      ]
    },
    {
      "cell_type": "code",
      "execution_count": 384,
      "metadata": {
        "id": "2SA7L3G-VLom"
      },
      "outputs": [
        {
          "data": {
            "text/plain": [
              "Released_Year     object\n",
              "Certificate       object\n",
              "Runtime            int64\n",
              "Genre             object\n",
              "IMDB_Rating      float64\n",
              "Overview          object\n",
              "Meta_score       float64\n",
              "Director          object\n",
              "Star1             object\n",
              "Star2             object\n",
              "Star3             object\n",
              "Star4             object\n",
              "No_of_Votes        int64\n",
              "Gross             object\n",
              "dtype: object"
            ]
          },
          "execution_count": 384,
          "metadata": {},
          "output_type": "execute_result"
        }
      ],
      "source": [
        "data.dtypes"
      ]
    },
    {
      "cell_type": "code",
      "execution_count": 385,
      "metadata": {},
      "outputs": [
        {
          "data": {
            "text/html": [
              "<div>\n",
              "<style scoped>\n",
              "    .dataframe tbody tr th:only-of-type {\n",
              "        vertical-align: middle;\n",
              "    }\n",
              "\n",
              "    .dataframe tbody tr th {\n",
              "        vertical-align: top;\n",
              "    }\n",
              "\n",
              "    .dataframe thead th {\n",
              "        text-align: right;\n",
              "    }\n",
              "</style>\n",
              "<table border=\"1\" class=\"dataframe\">\n",
              "  <thead>\n",
              "    <tr style=\"text-align: right;\">\n",
              "      <th></th>\n",
              "      <th>Released_Year</th>\n",
              "      <th>Certificate</th>\n",
              "      <th>Runtime</th>\n",
              "      <th>Genre</th>\n",
              "      <th>IMDB_Rating</th>\n",
              "      <th>Overview</th>\n",
              "      <th>Meta_score</th>\n",
              "      <th>Director</th>\n",
              "      <th>Star1</th>\n",
              "      <th>Star2</th>\n",
              "      <th>Star3</th>\n",
              "      <th>Star4</th>\n",
              "      <th>No_of_Votes</th>\n",
              "      <th>Gross</th>\n",
              "    </tr>\n",
              "    <tr>\n",
              "      <th>Series_Title</th>\n",
              "      <th></th>\n",
              "      <th></th>\n",
              "      <th></th>\n",
              "      <th></th>\n",
              "      <th></th>\n",
              "      <th></th>\n",
              "      <th></th>\n",
              "      <th></th>\n",
              "      <th></th>\n",
              "      <th></th>\n",
              "      <th></th>\n",
              "      <th></th>\n",
              "      <th></th>\n",
              "      <th></th>\n",
              "    </tr>\n",
              "  </thead>\n",
              "  <tbody>\n",
              "    <tr>\n",
              "      <th>Apollo 13</th>\n",
              "      <td>PG</td>\n",
              "      <td>U</td>\n",
              "      <td>140</td>\n",
              "      <td>Adventure, Drama, History</td>\n",
              "      <td>7.6</td>\n",
              "      <td>NASA must devise a strategy to return Apollo 1...</td>\n",
              "      <td>77.0</td>\n",
              "      <td>Ron Howard</td>\n",
              "      <td>Tom Hanks</td>\n",
              "      <td>Bill Paxton</td>\n",
              "      <td>Kevin Bacon</td>\n",
              "      <td>Gary Sinise</td>\n",
              "      <td>269197</td>\n",
              "      <td>173,837,933</td>\n",
              "    </tr>\n",
              "  </tbody>\n",
              "</table>\n",
              "</div>"
            ],
            "text/plain": [
              "             Released_Year Certificate  Runtime                      Genre   \n",
              "Series_Title                                                                 \n",
              "Apollo 13               PG           U      140  Adventure, Drama, History  \\\n",
              "\n",
              "              IMDB_Rating                                           Overview   \n",
              "Series_Title                                                                   \n",
              "Apollo 13             7.6  NASA must devise a strategy to return Apollo 1...  \\\n",
              "\n",
              "              Meta_score    Director      Star1        Star2        Star3   \n",
              "Series_Title                                                                \n",
              "Apollo 13           77.0  Ron Howard  Tom Hanks  Bill Paxton  Kevin Bacon  \\\n",
              "\n",
              "                    Star4  No_of_Votes        Gross  \n",
              "Series_Title                                         \n",
              "Apollo 13     Gary Sinise       269197  173,837,933  "
            ]
          },
          "execution_count": 385,
          "metadata": {},
          "output_type": "execute_result"
        }
      ],
      "source": [
        "data[data.Released_Year==\"PG\"].head()\n",
        "# this data causing problem in converting released year to int so lets drop it for that purpose"
      ]
    },
    {
      "cell_type": "code",
      "execution_count": 386,
      "metadata": {},
      "outputs": [],
      "source": [
        "data.drop(\"Apollo 13\",inplace=True);"
      ]
    },
    {
      "cell_type": "code",
      "execution_count": 387,
      "metadata": {},
      "outputs": [
        {
          "data": {
            "text/plain": [
              "11"
            ]
          },
          "execution_count": 387,
          "metadata": {},
          "output_type": "execute_result"
        }
      ],
      "source": [
        "data[\"Released_Year\"] = data.Released_Year.astype(int)\n",
        "data[(data.Released_Year>2000) & (data.IMDB_Rating>8.5)].shape[0]\n",
        "# this shows only 11 movies satisy the condition"
      ]
    },
    {
      "cell_type": "code",
      "execution_count": 388,
      "metadata": {},
      "outputs": [
        {
          "data": {
            "text/html": [
              "<div>\n",
              "<style scoped>\n",
              "    .dataframe tbody tr th:only-of-type {\n",
              "        vertical-align: middle;\n",
              "    }\n",
              "\n",
              "    .dataframe tbody tr th {\n",
              "        vertical-align: top;\n",
              "    }\n",
              "\n",
              "    .dataframe thead th {\n",
              "        text-align: right;\n",
              "    }\n",
              "</style>\n",
              "<table border=\"1\" class=\"dataframe\">\n",
              "  <thead>\n",
              "    <tr style=\"text-align: right;\">\n",
              "      <th></th>\n",
              "      <th>Released_Year</th>\n",
              "      <th>Certificate</th>\n",
              "      <th>Runtime</th>\n",
              "      <th>Genre</th>\n",
              "      <th>IMDB_Rating</th>\n",
              "      <th>Overview</th>\n",
              "      <th>Meta_score</th>\n",
              "      <th>Director</th>\n",
              "      <th>Star1</th>\n",
              "      <th>Star2</th>\n",
              "      <th>Star3</th>\n",
              "      <th>Star4</th>\n",
              "      <th>No_of_Votes</th>\n",
              "      <th>Gross</th>\n",
              "    </tr>\n",
              "    <tr>\n",
              "      <th>Series_Title</th>\n",
              "      <th></th>\n",
              "      <th></th>\n",
              "      <th></th>\n",
              "      <th></th>\n",
              "      <th></th>\n",
              "      <th></th>\n",
              "      <th></th>\n",
              "      <th></th>\n",
              "      <th></th>\n",
              "      <th></th>\n",
              "      <th></th>\n",
              "      <th></th>\n",
              "      <th></th>\n",
              "      <th></th>\n",
              "    </tr>\n",
              "  </thead>\n",
              "  <tbody>\n",
              "    <tr>\n",
              "      <th>The Dark Knight</th>\n",
              "      <td>2008</td>\n",
              "      <td>UA</td>\n",
              "      <td>152</td>\n",
              "      <td>Action, Crime, Drama</td>\n",
              "      <td>9.0</td>\n",
              "      <td>When the menace known as the Joker wreaks havo...</td>\n",
              "      <td>84.0</td>\n",
              "      <td>Christopher Nolan</td>\n",
              "      <td>Christian Bale</td>\n",
              "      <td>Heath Ledger</td>\n",
              "      <td>Aaron Eckhart</td>\n",
              "      <td>Michael Caine</td>\n",
              "      <td>2303232</td>\n",
              "      <td>534,858,444</td>\n",
              "    </tr>\n",
              "    <tr>\n",
              "      <th>The Lord of the Rings: The Return of the King</th>\n",
              "      <td>2003</td>\n",
              "      <td>U</td>\n",
              "      <td>201</td>\n",
              "      <td>Action, Adventure, Drama</td>\n",
              "      <td>8.9</td>\n",
              "      <td>Gandalf and Aragorn lead the World of Men agai...</td>\n",
              "      <td>94.0</td>\n",
              "      <td>Peter Jackson</td>\n",
              "      <td>Elijah Wood</td>\n",
              "      <td>Viggo Mortensen</td>\n",
              "      <td>Ian McKellen</td>\n",
              "      <td>Orlando Bloom</td>\n",
              "      <td>1642758</td>\n",
              "      <td>377,845,905</td>\n",
              "    </tr>\n",
              "    <tr>\n",
              "      <th>Inception</th>\n",
              "      <td>2010</td>\n",
              "      <td>UA</td>\n",
              "      <td>148</td>\n",
              "      <td>Action, Adventure, Sci-Fi</td>\n",
              "      <td>8.8</td>\n",
              "      <td>A thief who steals corporate secrets through t...</td>\n",
              "      <td>74.0</td>\n",
              "      <td>Christopher Nolan</td>\n",
              "      <td>Leonardo DiCaprio</td>\n",
              "      <td>Joseph Gordon-Levitt</td>\n",
              "      <td>Elliot Page</td>\n",
              "      <td>Ken Watanabe</td>\n",
              "      <td>2067042</td>\n",
              "      <td>292,576,195</td>\n",
              "    </tr>\n",
              "    <tr>\n",
              "      <th>The Lord of the Rings: The Fellowship of the Ring</th>\n",
              "      <td>2001</td>\n",
              "      <td>U</td>\n",
              "      <td>178</td>\n",
              "      <td>Action, Adventure, Drama</td>\n",
              "      <td>8.8</td>\n",
              "      <td>A meek Hobbit from the Shire and eight compani...</td>\n",
              "      <td>92.0</td>\n",
              "      <td>Peter Jackson</td>\n",
              "      <td>Elijah Wood</td>\n",
              "      <td>Ian McKellen</td>\n",
              "      <td>Orlando Bloom</td>\n",
              "      <td>Sean Bean</td>\n",
              "      <td>1661481</td>\n",
              "      <td>315,544,750</td>\n",
              "    </tr>\n",
              "    <tr>\n",
              "      <th>The Lord of the Rings: The Two Towers</th>\n",
              "      <td>2002</td>\n",
              "      <td>UA</td>\n",
              "      <td>179</td>\n",
              "      <td>Action, Adventure, Drama</td>\n",
              "      <td>8.7</td>\n",
              "      <td>While Frodo and Sam edge closer to Mordor with...</td>\n",
              "      <td>87.0</td>\n",
              "      <td>Peter Jackson</td>\n",
              "      <td>Elijah Wood</td>\n",
              "      <td>Ian McKellen</td>\n",
              "      <td>Viggo Mortensen</td>\n",
              "      <td>Orlando Bloom</td>\n",
              "      <td>1485555</td>\n",
              "      <td>342,551,365</td>\n",
              "    </tr>\n",
              "    <tr>\n",
              "      <th>Hamilton</th>\n",
              "      <td>2020</td>\n",
              "      <td>PG-13</td>\n",
              "      <td>160</td>\n",
              "      <td>Biography, Drama, History</td>\n",
              "      <td>8.6</td>\n",
              "      <td>The real life of one of America's foremost fou...</td>\n",
              "      <td>90.0</td>\n",
              "      <td>Thomas Kail</td>\n",
              "      <td>Lin-Manuel Miranda</td>\n",
              "      <td>Phillipa Soo</td>\n",
              "      <td>Leslie Odom Jr.</td>\n",
              "      <td>Renée Elise Goldsberry</td>\n",
              "      <td>55291</td>\n",
              "      <td>NaN</td>\n",
              "    </tr>\n",
              "    <tr>\n",
              "      <th>Gisaengchung</th>\n",
              "      <td>2019</td>\n",
              "      <td>A</td>\n",
              "      <td>132</td>\n",
              "      <td>Comedy, Drama, Thriller</td>\n",
              "      <td>8.6</td>\n",
              "      <td>Greed and class discrimination threaten the ne...</td>\n",
              "      <td>96.0</td>\n",
              "      <td>Bong Joon Ho</td>\n",
              "      <td>Kang-ho Song</td>\n",
              "      <td>Lee Sun-kyun</td>\n",
              "      <td>Cho Yeo-jeong</td>\n",
              "      <td>Choi Woo-sik</td>\n",
              "      <td>552778</td>\n",
              "      <td>53,367,844</td>\n",
              "    </tr>\n",
              "    <tr>\n",
              "      <th>Soorarai Pottru</th>\n",
              "      <td>2020</td>\n",
              "      <td>U</td>\n",
              "      <td>153</td>\n",
              "      <td>Drama</td>\n",
              "      <td>8.6</td>\n",
              "      <td>Nedumaaran Rajangam \"Maara\" sets out to make t...</td>\n",
              "      <td>NaN</td>\n",
              "      <td>Sudha Kongara</td>\n",
              "      <td>Suriya</td>\n",
              "      <td>Madhavan</td>\n",
              "      <td>Paresh Rawal</td>\n",
              "      <td>Aparna Balamurali</td>\n",
              "      <td>54995</td>\n",
              "      <td>NaN</td>\n",
              "    </tr>\n",
              "    <tr>\n",
              "      <th>Interstellar</th>\n",
              "      <td>2014</td>\n",
              "      <td>UA</td>\n",
              "      <td>169</td>\n",
              "      <td>Adventure, Drama, Sci-Fi</td>\n",
              "      <td>8.6</td>\n",
              "      <td>A team of explorers travel through a wormhole ...</td>\n",
              "      <td>74.0</td>\n",
              "      <td>Christopher Nolan</td>\n",
              "      <td>Matthew McConaughey</td>\n",
              "      <td>Anne Hathaway</td>\n",
              "      <td>Jessica Chastain</td>\n",
              "      <td>Mackenzie Foy</td>\n",
              "      <td>1512360</td>\n",
              "      <td>188,020,017</td>\n",
              "    </tr>\n",
              "    <tr>\n",
              "      <th>Cidade de Deus</th>\n",
              "      <td>2002</td>\n",
              "      <td>A</td>\n",
              "      <td>130</td>\n",
              "      <td>Crime, Drama</td>\n",
              "      <td>8.6</td>\n",
              "      <td>In the slums of Rio, two kids' paths diverge a...</td>\n",
              "      <td>79.0</td>\n",
              "      <td>Fernando Meirelles</td>\n",
              "      <td>Kátia Lund</td>\n",
              "      <td>Alexandre Rodrigues</td>\n",
              "      <td>Leandro Firmino</td>\n",
              "      <td>Matheus Nachtergaele</td>\n",
              "      <td>699256</td>\n",
              "      <td>7,563,397</td>\n",
              "    </tr>\n",
              "    <tr>\n",
              "      <th>Sen to Chihiro no kamikakushi</th>\n",
              "      <td>2001</td>\n",
              "      <td>U</td>\n",
              "      <td>125</td>\n",
              "      <td>Animation, Adventure, Family</td>\n",
              "      <td>8.6</td>\n",
              "      <td>During her family's move to the suburbs, a sul...</td>\n",
              "      <td>96.0</td>\n",
              "      <td>Hayao Miyazaki</td>\n",
              "      <td>Daveigh Chase</td>\n",
              "      <td>Suzanne Pleshette</td>\n",
              "      <td>Miyu Irino</td>\n",
              "      <td>Rumi Hiiragi</td>\n",
              "      <td>651376</td>\n",
              "      <td>10,055,859</td>\n",
              "    </tr>\n",
              "  </tbody>\n",
              "</table>\n",
              "</div>"
            ],
            "text/plain": [
              "                                                   Released_Year Certificate   \n",
              "Series_Title                                                                   \n",
              "The Dark Knight                                             2008          UA  \\\n",
              "The Lord of the Rings: The Return of the King               2003           U   \n",
              "Inception                                                   2010          UA   \n",
              "The Lord of the Rings: The Fellowship of the Ring           2001           U   \n",
              "The Lord of the Rings: The Two Towers                       2002          UA   \n",
              "Hamilton                                                    2020       PG-13   \n",
              "Gisaengchung                                                2019           A   \n",
              "Soorarai Pottru                                             2020           U   \n",
              "Interstellar                                                2014          UA   \n",
              "Cidade de Deus                                              2002           A   \n",
              "Sen to Chihiro no kamikakushi                               2001           U   \n",
              "\n",
              "                                                   Runtime   \n",
              "Series_Title                                                 \n",
              "The Dark Knight                                        152  \\\n",
              "The Lord of the Rings: The Return of the King          201   \n",
              "Inception                                              148   \n",
              "The Lord of the Rings: The Fellowship of the Ring      178   \n",
              "The Lord of the Rings: The Two Towers                  179   \n",
              "Hamilton                                               160   \n",
              "Gisaengchung                                           132   \n",
              "Soorarai Pottru                                        153   \n",
              "Interstellar                                           169   \n",
              "Cidade de Deus                                         130   \n",
              "Sen to Chihiro no kamikakushi                          125   \n",
              "\n",
              "                                                                          Genre   \n",
              "Series_Title                                                                      \n",
              "The Dark Knight                                            Action, Crime, Drama  \\\n",
              "The Lord of the Rings: The Return of the King          Action, Adventure, Drama   \n",
              "Inception                                             Action, Adventure, Sci-Fi   \n",
              "The Lord of the Rings: The Fellowship of the Ring      Action, Adventure, Drama   \n",
              "The Lord of the Rings: The Two Towers                  Action, Adventure, Drama   \n",
              "Hamilton                                              Biography, Drama, History   \n",
              "Gisaengchung                                            Comedy, Drama, Thriller   \n",
              "Soorarai Pottru                                                           Drama   \n",
              "Interstellar                                           Adventure, Drama, Sci-Fi   \n",
              "Cidade de Deus                                                     Crime, Drama   \n",
              "Sen to Chihiro no kamikakushi                      Animation, Adventure, Family   \n",
              "\n",
              "                                                   IMDB_Rating   \n",
              "Series_Title                                                     \n",
              "The Dark Knight                                            9.0  \\\n",
              "The Lord of the Rings: The Return of the King              8.9   \n",
              "Inception                                                  8.8   \n",
              "The Lord of the Rings: The Fellowship of the Ring          8.8   \n",
              "The Lord of the Rings: The Two Towers                      8.7   \n",
              "Hamilton                                                   8.6   \n",
              "Gisaengchung                                               8.6   \n",
              "Soorarai Pottru                                            8.6   \n",
              "Interstellar                                               8.6   \n",
              "Cidade de Deus                                             8.6   \n",
              "Sen to Chihiro no kamikakushi                              8.6   \n",
              "\n",
              "                                                                                            Overview   \n",
              "Series_Title                                                                                           \n",
              "The Dark Knight                                    When the menace known as the Joker wreaks havo...  \\\n",
              "The Lord of the Rings: The Return of the King      Gandalf and Aragorn lead the World of Men agai...   \n",
              "Inception                                          A thief who steals corporate secrets through t...   \n",
              "The Lord of the Rings: The Fellowship of the Ring  A meek Hobbit from the Shire and eight compani...   \n",
              "The Lord of the Rings: The Two Towers              While Frodo and Sam edge closer to Mordor with...   \n",
              "Hamilton                                           The real life of one of America's foremost fou...   \n",
              "Gisaengchung                                       Greed and class discrimination threaten the ne...   \n",
              "Soorarai Pottru                                    Nedumaaran Rajangam \"Maara\" sets out to make t...   \n",
              "Interstellar                                       A team of explorers travel through a wormhole ...   \n",
              "Cidade de Deus                                     In the slums of Rio, two kids' paths diverge a...   \n",
              "Sen to Chihiro no kamikakushi                      During her family's move to the suburbs, a sul...   \n",
              "\n",
              "                                                   Meta_score   \n",
              "Series_Title                                                    \n",
              "The Dark Knight                                          84.0  \\\n",
              "The Lord of the Rings: The Return of the King            94.0   \n",
              "Inception                                                74.0   \n",
              "The Lord of the Rings: The Fellowship of the Ring        92.0   \n",
              "The Lord of the Rings: The Two Towers                    87.0   \n",
              "Hamilton                                                 90.0   \n",
              "Gisaengchung                                             96.0   \n",
              "Soorarai Pottru                                           NaN   \n",
              "Interstellar                                             74.0   \n",
              "Cidade de Deus                                           79.0   \n",
              "Sen to Chihiro no kamikakushi                            96.0   \n",
              "\n",
              "                                                             Director   \n",
              "Series_Title                                                            \n",
              "The Dark Knight                                     Christopher Nolan  \\\n",
              "The Lord of the Rings: The Return of the King           Peter Jackson   \n",
              "Inception                                           Christopher Nolan   \n",
              "The Lord of the Rings: The Fellowship of the Ring       Peter Jackson   \n",
              "The Lord of the Rings: The Two Towers                   Peter Jackson   \n",
              "Hamilton                                                  Thomas Kail   \n",
              "Gisaengchung                                             Bong Joon Ho   \n",
              "Soorarai Pottru                                         Sudha Kongara   \n",
              "Interstellar                                        Christopher Nolan   \n",
              "Cidade de Deus                                     Fernando Meirelles   \n",
              "Sen to Chihiro no kamikakushi                          Hayao Miyazaki   \n",
              "\n",
              "                                                                 Star1   \n",
              "Series_Title                                                             \n",
              "The Dark Knight                                         Christian Bale  \\\n",
              "The Lord of the Rings: The Return of the King              Elijah Wood   \n",
              "Inception                                            Leonardo DiCaprio   \n",
              "The Lord of the Rings: The Fellowship of the Ring          Elijah Wood   \n",
              "The Lord of the Rings: The Two Towers                      Elijah Wood   \n",
              "Hamilton                                            Lin-Manuel Miranda   \n",
              "Gisaengchung                                              Kang-ho Song   \n",
              "Soorarai Pottru                                                 Suriya   \n",
              "Interstellar                                       Matthew McConaughey   \n",
              "Cidade de Deus                                              Kátia Lund   \n",
              "Sen to Chihiro no kamikakushi                            Daveigh Chase   \n",
              "\n",
              "                                                                  Star2   \n",
              "Series_Title                                                              \n",
              "The Dark Knight                                            Heath Ledger  \\\n",
              "The Lord of the Rings: The Return of the King           Viggo Mortensen   \n",
              "Inception                                          Joseph Gordon-Levitt   \n",
              "The Lord of the Rings: The Fellowship of the Ring          Ian McKellen   \n",
              "The Lord of the Rings: The Two Towers                      Ian McKellen   \n",
              "Hamilton                                                   Phillipa Soo   \n",
              "Gisaengchung                                               Lee Sun-kyun   \n",
              "Soorarai Pottru                                                Madhavan   \n",
              "Interstellar                                              Anne Hathaway   \n",
              "Cidade de Deus                                      Alexandre Rodrigues   \n",
              "Sen to Chihiro no kamikakushi                         Suzanne Pleshette   \n",
              "\n",
              "                                                              Star3   \n",
              "Series_Title                                                          \n",
              "The Dark Knight                                       Aaron Eckhart  \\\n",
              "The Lord of the Rings: The Return of the King          Ian McKellen   \n",
              "Inception                                               Elliot Page   \n",
              "The Lord of the Rings: The Fellowship of the Ring     Orlando Bloom   \n",
              "The Lord of the Rings: The Two Towers               Viggo Mortensen   \n",
              "Hamilton                                            Leslie Odom Jr.   \n",
              "Gisaengchung                                          Cho Yeo-jeong   \n",
              "Soorarai Pottru                                        Paresh Rawal   \n",
              "Interstellar                                       Jessica Chastain   \n",
              "Cidade de Deus                                      Leandro Firmino   \n",
              "Sen to Chihiro no kamikakushi                            Miyu Irino   \n",
              "\n",
              "                                                                    Star4   \n",
              "Series_Title                                                                \n",
              "The Dark Knight                                             Michael Caine  \\\n",
              "The Lord of the Rings: The Return of the King               Orlando Bloom   \n",
              "Inception                                                    Ken Watanabe   \n",
              "The Lord of the Rings: The Fellowship of the Ring               Sean Bean   \n",
              "The Lord of the Rings: The Two Towers                       Orlando Bloom   \n",
              "Hamilton                                           Renée Elise Goldsberry   \n",
              "Gisaengchung                                                 Choi Woo-sik   \n",
              "Soorarai Pottru                                         Aparna Balamurali   \n",
              "Interstellar                                                Mackenzie Foy   \n",
              "Cidade de Deus                                       Matheus Nachtergaele   \n",
              "Sen to Chihiro no kamikakushi                                Rumi Hiiragi   \n",
              "\n",
              "                                                   No_of_Votes        Gross  \n",
              "Series_Title                                                                 \n",
              "The Dark Knight                                        2303232  534,858,444  \n",
              "The Lord of the Rings: The Return of the King          1642758  377,845,905  \n",
              "Inception                                              2067042  292,576,195  \n",
              "The Lord of the Rings: The Fellowship of the Ring      1661481  315,544,750  \n",
              "The Lord of the Rings: The Two Towers                  1485555  342,551,365  \n",
              "Hamilton                                                 55291          NaN  \n",
              "Gisaengchung                                            552778   53,367,844  \n",
              "Soorarai Pottru                                          54995          NaN  \n",
              "Interstellar                                           1512360  188,020,017  \n",
              "Cidade de Deus                                          699256    7,563,397  \n",
              "Sen to Chihiro no kamikakushi                           651376   10,055,859  "
            ]
          },
          "execution_count": 388,
          "metadata": {},
          "output_type": "execute_result"
        }
      ],
      "source": [
        "data[(data.Released_Year>2000) & (data.IMDB_Rating>8.5)].head(11)"
      ]
    },
    {
      "cell_type": "markdown",
      "metadata": {
        "id": "jYq9gv3aUl1u"
      },
      "source": [
        "Using seaborn make different types of plots, observe the trend and answer the questions.\n",
        "6. Make a countplot of Movies directed by all directors."
      ]
    },
    {
      "cell_type": "code",
      "execution_count": 389,
      "metadata": {
        "id": "WOYH5X29ViUR"
      },
      "outputs": [
        {
          "data": {
            "text/plain": [
              "Text(0.5, 1.0, 'Top 5 Prolific Directors')"
            ]
          },
          "execution_count": 389,
          "metadata": {},
          "output_type": "execute_result"
        },
        {
          "data": {
            "image/png": "[encoded data removed]",
            "text/plain": [
              "<Figure size 1000x600 with 1 Axes>"
            ]
          },
          "metadata": {},
          "output_type": "display_data"
        }
      ],
      "source": [
        "import seaborn as sns\n",
        "\n",
        "directors_to_show = data[\"Director\"].value_counts().head(5)\n",
        "plt.figure(figsize=(10,6))\n",
        "sns.countplot(x=\"Director\",data=data,order=directors_to_show.index)\n",
        "plt.title(\"Top 5 Prolific Directors\") \n",
        "# showing here the top 5 values as number of unique directors is over 500"
      ]
    },
    {
      "cell_type": "markdown",
      "metadata": {
        "id": "caUYiLeHVjIf"
      },
      "source": [
        "7. Make a plot to analyze distribution of IMDB rating?"
      ]
    },
    {
      "cell_type": "code",
      "execution_count": 390,
      "metadata": {
        "id": "c12iHvlLV9PR"
      },
      "outputs": [
        {
          "data": {
            "text/plain": [
              "(2538, 14)"
            ]
          },
          "execution_count": 390,
          "metadata": {},
          "output_type": "execute_result"
        }
      ],
      "source": [
        "\n",
        "data[\"Genre\"] = data.Genre.astype(str).str.split(',')\n",
        "out = data.explode(\"Genre\")\n",
        "out.shape\n",
        "# cleaning the data, separating comma based Genre to separate rows for easier analysis , as visible the dataframe exploded i.e become almsot 2.5 times\n"
      ]
    },
    {
      "cell_type": "code",
      "execution_count": 391,
      "metadata": {},
      "outputs": [
        {
          "data": {
            "text/plain": [
              "<Axes: xlabel='IMDB_Rating', ylabel='Genre'>"
            ]
          },
          "execution_count": 391,
          "metadata": {},
          "output_type": "execute_result"
        },
        {
          "data": {
            "image/png": "[encoded data removed]",
            "text/plain": [
              "<Figure size 1000x1200 with 1 Axes>"
            ]
          },
          "metadata": {},
          "output_type": "display_data"
        }
      ],
      "source": [
        "plt.figure(figsize=(10,12))\n",
        "sns.barplot(x=\"IMDB_Rating\",y=\"Genre\",data=out)"
      ]
    },
    {
      "cell_type": "markdown",
      "metadata": {
        "id": "dXCoPuYlWISU"
      },
      "source": [
        "8. What type of Genre has the highest IMDB rating?"
      ]
    },
    {
      "cell_type": "code",
      "execution_count": 392,
      "metadata": {
        "id": "0r9cKE7fWjBU"
      },
      "outputs": [
        {
          "data": {
            "text/html": [
              "<div>\n",
              "<style scoped>\n",
              "    .dataframe tbody tr th:only-of-type {\n",
              "        vertical-align: middle;\n",
              "    }\n",
              "\n",
              "    .dataframe tbody tr th {\n",
              "        vertical-align: top;\n",
              "    }\n",
              "\n",
              "    .dataframe thead th {\n",
              "        text-align: right;\n",
              "    }\n",
              "</style>\n",
              "<table border=\"1\" class=\"dataframe\">\n",
              "  <thead>\n",
              "    <tr style=\"text-align: right;\">\n",
              "      <th></th>\n",
              "      <th>Released_Year</th>\n",
              "      <th>Certificate</th>\n",
              "      <th>Runtime</th>\n",
              "      <th>Genre</th>\n",
              "      <th>IMDB_Rating</th>\n",
              "      <th>Overview</th>\n",
              "      <th>Meta_score</th>\n",
              "      <th>Director</th>\n",
              "      <th>Star1</th>\n",
              "      <th>Star2</th>\n",
              "      <th>Star3</th>\n",
              "      <th>Star4</th>\n",
              "      <th>No_of_Votes</th>\n",
              "      <th>Gross</th>\n",
              "    </tr>\n",
              "    <tr>\n",
              "      <th>Series_Title</th>\n",
              "      <th></th>\n",
              "      <th></th>\n",
              "      <th></th>\n",
              "      <th></th>\n",
              "      <th></th>\n",
              "      <th></th>\n",
              "      <th></th>\n",
              "      <th></th>\n",
              "      <th></th>\n",
              "      <th></th>\n",
              "      <th></th>\n",
              "      <th></th>\n",
              "      <th></th>\n",
              "      <th></th>\n",
              "    </tr>\n",
              "  </thead>\n",
              "  <tbody>\n",
              "    <tr>\n",
              "      <th>The Shawshank Redemption</th>\n",
              "      <td>1994</td>\n",
              "      <td>A</td>\n",
              "      <td>142</td>\n",
              "      <td>[Drama]</td>\n",
              "      <td>9.3</td>\n",
              "      <td>Two imprisoned men bond over a number of years...</td>\n",
              "      <td>80.0</td>\n",
              "      <td>Frank Darabont</td>\n",
              "      <td>Tim Robbins</td>\n",
              "      <td>Morgan Freeman</td>\n",
              "      <td>Bob Gunton</td>\n",
              "      <td>William Sadler</td>\n",
              "      <td>2343110</td>\n",
              "      <td>28,341,469</td>\n",
              "    </tr>\n",
              "  </tbody>\n",
              "</table>\n",
              "</div>"
            ],
            "text/plain": [
              "                          Released_Year Certificate  Runtime    Genre   \n",
              "Series_Title                                                            \n",
              "The Shawshank Redemption           1994           A      142  [Drama]  \\\n",
              "\n",
              "                          IMDB_Rating   \n",
              "Series_Title                            \n",
              "The Shawshank Redemption          9.3  \\\n",
              "\n",
              "                                                                   Overview   \n",
              "Series_Title                                                                  \n",
              "The Shawshank Redemption  Two imprisoned men bond over a number of years...  \\\n",
              "\n",
              "                          Meta_score        Director        Star1   \n",
              "Series_Title                                                        \n",
              "The Shawshank Redemption        80.0  Frank Darabont  Tim Robbins  \\\n",
              "\n",
              "                                   Star2       Star3           Star4   \n",
              "Series_Title                                                           \n",
              "The Shawshank Redemption  Morgan Freeman  Bob Gunton  William Sadler  \\\n",
              "\n",
              "                          No_of_Votes       Gross  \n",
              "Series_Title                                       \n",
              "The Shawshank Redemption      2343110  28,341,469  "
            ]
          },
          "execution_count": 392,
          "metadata": {},
          "output_type": "execute_result"
        }
      ],
      "source": [
        "# we can clearly see from above barplot that movies belonging to 'Western' genre have the highest IMDB ratings on an average\n",
        "data[data.IMDB_Rating ==data.IMDB_Rating.max() ].head()\n",
        "# also genre drama has the highest individual imdb rating\n"
      ]
    },
    {
      "cell_type": "markdown",
      "metadata": {
        "id": "Ff2urhAhWrHO"
      },
      "source": [
        "9. Name the top 5 movies that have earned highest Meta score. "
      ]
    },
    {
      "cell_type": "code",
      "execution_count": 393,
      "metadata": {
        "id": "lta342_iWxLd"
      },
      "outputs": [
        {
          "data": {
            "text/html": [
              "<div>\n",
              "<style scoped>\n",
              "    .dataframe tbody tr th:only-of-type {\n",
              "        vertical-align: middle;\n",
              "    }\n",
              "\n",
              "    .dataframe tbody tr th {\n",
              "        vertical-align: top;\n",
              "    }\n",
              "\n",
              "    .dataframe thead th {\n",
              "        text-align: right;\n",
              "    }\n",
              "</style>\n",
              "<table border=\"1\" class=\"dataframe\">\n",
              "  <thead>\n",
              "    <tr style=\"text-align: right;\">\n",
              "      <th></th>\n",
              "      <th>Released_Year</th>\n",
              "      <th>Certificate</th>\n",
              "      <th>Runtime</th>\n",
              "      <th>Genre</th>\n",
              "      <th>IMDB_Rating</th>\n",
              "      <th>Overview</th>\n",
              "      <th>Meta_score</th>\n",
              "      <th>Director</th>\n",
              "      <th>Star1</th>\n",
              "      <th>Star2</th>\n",
              "      <th>Star3</th>\n",
              "      <th>Star4</th>\n",
              "      <th>No_of_Votes</th>\n",
              "      <th>Gross</th>\n",
              "    </tr>\n",
              "    <tr>\n",
              "      <th>Series_Title</th>\n",
              "      <th></th>\n",
              "      <th></th>\n",
              "      <th></th>\n",
              "      <th></th>\n",
              "      <th></th>\n",
              "      <th></th>\n",
              "      <th></th>\n",
              "      <th></th>\n",
              "      <th></th>\n",
              "      <th></th>\n",
              "      <th></th>\n",
              "      <th></th>\n",
              "      <th></th>\n",
              "      <th></th>\n",
              "    </tr>\n",
              "  </thead>\n",
              "  <tbody>\n",
              "    <tr>\n",
              "      <th>The Godfather</th>\n",
              "      <td>1972</td>\n",
              "      <td>A</td>\n",
              "      <td>175</td>\n",
              "      <td>[Crime,  Drama]</td>\n",
              "      <td>9.2</td>\n",
              "      <td>An organized crime dynasty's aging patriarch t...</td>\n",
              "      <td>100.0</td>\n",
              "      <td>Francis Ford Coppola</td>\n",
              "      <td>Marlon Brando</td>\n",
              "      <td>Al Pacino</td>\n",
              "      <td>James Caan</td>\n",
              "      <td>Diane Keaton</td>\n",
              "      <td>1620367</td>\n",
              "      <td>134,966,411</td>\n",
              "    </tr>\n",
              "    <tr>\n",
              "      <th>Casablanca</th>\n",
              "      <td>1942</td>\n",
              "      <td>U</td>\n",
              "      <td>102</td>\n",
              "      <td>[Drama,  Romance,  War]</td>\n",
              "      <td>8.5</td>\n",
              "      <td>A cynical expatriate American cafe owner strug...</td>\n",
              "      <td>100.0</td>\n",
              "      <td>Michael Curtiz</td>\n",
              "      <td>Humphrey Bogart</td>\n",
              "      <td>Ingrid Bergman</td>\n",
              "      <td>Paul Henreid</td>\n",
              "      <td>Claude Rains</td>\n",
              "      <td>522093</td>\n",
              "      <td>1,024,560</td>\n",
              "    </tr>\n",
              "    <tr>\n",
              "      <th>Rear Window</th>\n",
              "      <td>1954</td>\n",
              "      <td>U</td>\n",
              "      <td>112</td>\n",
              "      <td>[Mystery,  Thriller]</td>\n",
              "      <td>8.4</td>\n",
              "      <td>A wheelchair-bound photographer spies on his n...</td>\n",
              "      <td>100.0</td>\n",
              "      <td>Alfred Hitchcock</td>\n",
              "      <td>James Stewart</td>\n",
              "      <td>Grace Kelly</td>\n",
              "      <td>Wendell Corey</td>\n",
              "      <td>Thelma Ritter</td>\n",
              "      <td>444074</td>\n",
              "      <td>36,764,313</td>\n",
              "    </tr>\n",
              "    <tr>\n",
              "      <th>Lawrence of Arabia</th>\n",
              "      <td>1962</td>\n",
              "      <td>U</td>\n",
              "      <td>228</td>\n",
              "      <td>[Adventure,  Biography,  Drama]</td>\n",
              "      <td>8.3</td>\n",
              "      <td>The story of T.E. Lawrence, the English office...</td>\n",
              "      <td>100.0</td>\n",
              "      <td>David Lean</td>\n",
              "      <td>Peter O'Toole</td>\n",
              "      <td>Alec Guinness</td>\n",
              "      <td>Anthony Quinn</td>\n",
              "      <td>Jack Hawkins</td>\n",
              "      <td>268085</td>\n",
              "      <td>44,824,144</td>\n",
              "    </tr>\n",
              "    <tr>\n",
              "      <th>Vertigo</th>\n",
              "      <td>1958</td>\n",
              "      <td>A</td>\n",
              "      <td>128</td>\n",
              "      <td>[Mystery,  Romance,  Thriller]</td>\n",
              "      <td>8.3</td>\n",
              "      <td>A former police detective juggles wrestling wi...</td>\n",
              "      <td>100.0</td>\n",
              "      <td>Alfred Hitchcock</td>\n",
              "      <td>James Stewart</td>\n",
              "      <td>Kim Novak</td>\n",
              "      <td>Barbara Bel Geddes</td>\n",
              "      <td>Tom Helmore</td>\n",
              "      <td>364368</td>\n",
              "      <td>3,200,000</td>\n",
              "    </tr>\n",
              "  </tbody>\n",
              "</table>\n",
              "</div>"
            ],
            "text/plain": [
              "                    Released_Year Certificate  Runtime   \n",
              "Series_Title                                             \n",
              "The Godfather                1972           A      175  \\\n",
              "Casablanca                   1942           U      102   \n",
              "Rear Window                  1954           U      112   \n",
              "Lawrence of Arabia           1962           U      228   \n",
              "Vertigo                      1958           A      128   \n",
              "\n",
              "                                              Genre  IMDB_Rating   \n",
              "Series_Title                                                       \n",
              "The Godfather                       [Crime,  Drama]          9.2  \\\n",
              "Casablanca                  [Drama,  Romance,  War]          8.5   \n",
              "Rear Window                    [Mystery,  Thriller]          8.4   \n",
              "Lawrence of Arabia  [Adventure,  Biography,  Drama]          8.3   \n",
              "Vertigo              [Mystery,  Romance,  Thriller]          8.3   \n",
              "\n",
              "                                                             Overview   \n",
              "Series_Title                                                            \n",
              "The Godfather       An organized crime dynasty's aging patriarch t...  \\\n",
              "Casablanca          A cynical expatriate American cafe owner strug...   \n",
              "Rear Window         A wheelchair-bound photographer spies on his n...   \n",
              "Lawrence of Arabia  The story of T.E. Lawrence, the English office...   \n",
              "Vertigo             A former police detective juggles wrestling wi...   \n",
              "\n",
              "                    Meta_score              Director            Star1   \n",
              "Series_Title                                                            \n",
              "The Godfather            100.0  Francis Ford Coppola    Marlon Brando  \\\n",
              "Casablanca               100.0        Michael Curtiz  Humphrey Bogart   \n",
              "Rear Window              100.0      Alfred Hitchcock    James Stewart   \n",
              "Lawrence of Arabia       100.0            David Lean    Peter O'Toole   \n",
              "Vertigo                  100.0      Alfred Hitchcock    James Stewart   \n",
              "\n",
              "                             Star2               Star3          Star4   \n",
              "Series_Title                                                            \n",
              "The Godfather            Al Pacino          James Caan   Diane Keaton  \\\n",
              "Casablanca          Ingrid Bergman        Paul Henreid   Claude Rains   \n",
              "Rear Window            Grace Kelly       Wendell Corey  Thelma Ritter   \n",
              "Lawrence of Arabia   Alec Guinness       Anthony Quinn   Jack Hawkins   \n",
              "Vertigo                  Kim Novak  Barbara Bel Geddes    Tom Helmore   \n",
              "\n",
              "                    No_of_Votes        Gross  \n",
              "Series_Title                                  \n",
              "The Godfather           1620367  134,966,411  \n",
              "Casablanca               522093    1,024,560  \n",
              "Rear Window              444074   36,764,313  \n",
              "Lawrence of Arabia       268085   44,824,144  \n",
              "Vertigo                  364368    3,200,000  "
            ]
          },
          "execution_count": 393,
          "metadata": {},
          "output_type": "execute_result"
        }
      ],
      "source": [
        "data.nlargest(5,\"Meta_score\")"
      ]
    },
    {
      "cell_type": "markdown",
      "metadata": {
        "id": "FPmZIOiwW5Jo"
      },
      "source": [
        "10. Of which Genre movie has the highest Runtime?"
      ]
    },
    {
      "cell_type": "code",
      "execution_count": 394,
      "metadata": {
        "id": "R5a1FemoXJuo"
      },
      "outputs": [
        {
          "data": {
            "text/plain": [
              "<Axes: xlabel='Runtime', ylabel='Genre'>"
            ]
          },
          "execution_count": 394,
          "metadata": {},
          "output_type": "execute_result"
        },
        {
          "data": {
            "image/png": "[encoded data removed]",
            "text/plain": [
              "<Figure size 1000x800 with 1 Axes>"
            ]
          },
          "metadata": {},
          "output_type": "display_data"
        }
      ],
      "source": [
        "plt.figure(figsize=(10,8))\n",
        "sns.barplot(x=\"Runtime\",y=\"Genre\",data=out)"
      ]
    },
    {
      "cell_type": "code",
      "execution_count": 395,
      "metadata": {},
      "outputs": [
        {
          "data": {
            "text/html": [
              "<div>\n",
              "<style scoped>\n",
              "    .dataframe tbody tr th:only-of-type {\n",
              "        vertical-align: middle;\n",
              "    }\n",
              "\n",
              "    .dataframe tbody tr th {\n",
              "        vertical-align: top;\n",
              "    }\n",
              "\n",
              "    .dataframe thead th {\n",
              "        text-align: right;\n",
              "    }\n",
              "</style>\n",
              "<table border=\"1\" class=\"dataframe\">\n",
              "  <thead>\n",
              "    <tr style=\"text-align: right;\">\n",
              "      <th></th>\n",
              "      <th>Released_Year</th>\n",
              "      <th>Certificate</th>\n",
              "      <th>Runtime</th>\n",
              "      <th>Genre</th>\n",
              "      <th>IMDB_Rating</th>\n",
              "      <th>Overview</th>\n",
              "      <th>Meta_score</th>\n",
              "      <th>Director</th>\n",
              "      <th>Star1</th>\n",
              "      <th>Star2</th>\n",
              "      <th>Star3</th>\n",
              "      <th>Star4</th>\n",
              "      <th>No_of_Votes</th>\n",
              "      <th>Gross</th>\n",
              "    </tr>\n",
              "    <tr>\n",
              "      <th>Series_Title</th>\n",
              "      <th></th>\n",
              "      <th></th>\n",
              "      <th></th>\n",
              "      <th></th>\n",
              "      <th></th>\n",
              "      <th></th>\n",
              "      <th></th>\n",
              "      <th></th>\n",
              "      <th></th>\n",
              "      <th></th>\n",
              "      <th></th>\n",
              "      <th></th>\n",
              "      <th></th>\n",
              "      <th></th>\n",
              "    </tr>\n",
              "  </thead>\n",
              "  <tbody>\n",
              "    <tr>\n",
              "      <th>Gangs of Wasseypur</th>\n",
              "      <td>2012</td>\n",
              "      <td>A</td>\n",
              "      <td>321</td>\n",
              "      <td>[Action,  Comedy,  Crime]</td>\n",
              "      <td>8.2</td>\n",
              "      <td>A clash between Sultan and Shahid Khan leads t...</td>\n",
              "      <td>89.0</td>\n",
              "      <td>Anurag Kashyap</td>\n",
              "      <td>Manoj Bajpayee</td>\n",
              "      <td>Richa Chadha</td>\n",
              "      <td>Nawazuddin Siddiqui</td>\n",
              "      <td>Tigmanshu Dhulia</td>\n",
              "      <td>82365</td>\n",
              "      <td>NaN</td>\n",
              "    </tr>\n",
              "  </tbody>\n",
              "</table>\n",
              "</div>"
            ],
            "text/plain": [
              "                    Released_Year Certificate  Runtime   \n",
              "Series_Title                                             \n",
              "Gangs of Wasseypur           2012           A      321  \\\n",
              "\n",
              "                                        Genre  IMDB_Rating   \n",
              "Series_Title                                                 \n",
              "Gangs of Wasseypur  [Action,  Comedy,  Crime]          8.2  \\\n",
              "\n",
              "                                                             Overview   \n",
              "Series_Title                                                            \n",
              "Gangs of Wasseypur  A clash between Sultan and Shahid Khan leads t...  \\\n",
              "\n",
              "                    Meta_score        Director           Star1         Star2   \n",
              "Series_Title                                                                   \n",
              "Gangs of Wasseypur        89.0  Anurag Kashyap  Manoj Bajpayee  Richa Chadha  \\\n",
              "\n",
              "                                  Star3             Star4  No_of_Votes Gross  \n",
              "Series_Title                                                                  \n",
              "Gangs of Wasseypur  Nawazuddin Siddiqui  Tigmanshu Dhulia        82365   NaN  "
            ]
          },
          "execution_count": 395,
          "metadata": {},
          "output_type": "execute_result"
        }
      ],
      "source": [
        "# Western movies have the highest average runtime as well\n",
        "\n",
        "data[data.Runtime ==data.Runtime.max() ].head()\n",
        "\n",
        "# Action, Comedy, Crime movie has the highest individual runtime\n"
      ]
    }
  ],
  "metadata": {
    "colab": {
      "provenance": []
    },
    "kernelspec": {
      "display_name": "Python 3",
      "name": "python3"
    },
    "language_info": {
      "codemirror_mode": {
        "name": "ipython",
        "version": 3
      },
      "file_extension": ".py",
      "mimetype": "text/x-python",
      "name": "python",
      "nbconvert_exporter": "python",
      "pygments_lexer": "ipython3",
      "version": "3.9.6"
    }
  },
  "nbformat": 4,
  "nbformat_minor": 0
}
