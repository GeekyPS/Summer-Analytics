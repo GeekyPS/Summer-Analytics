{
 "cells": [
  {
   "cell_type": "markdown",
   "source": [
    "### Hyperparameter Tuning\n",
    "- GridSearchCV\n",
    "- RandomisedSearchCV"
   ],
   "metadata": {
    "collapsed": false
   }
  },
  {
   "cell_type": "code",
   "execution_count": 4,
   "metadata": {
    "collapsed": true,
    "ExecuteTime": {
     "end_time": "2023-06-28T08:07:43.043542Z",
     "start_time": "2023-06-28T08:07:43.037957Z"
    }
   },
   "outputs": [],
   "source": [
    "import pandas as pd\n",
    "from sklearn.datasets import load_breast_cancer\n",
    "from sklearn.svm import SVC\n",
    "from sklearn.model_selection import GridSearchCV, RandomizedSearchCV"
   ]
  },
  {
   "cell_type": "code",
   "execution_count": 5,
   "outputs": [],
   "source": [
    "breast_cancer_dataset = load_breast_cancer()"
   ],
   "metadata": {
    "collapsed": false,
    "ExecuteTime": {
     "end_time": "2023-06-28T08:07:43.685Z",
     "start_time": "2023-06-28T08:07:43.675631Z"
    }
   }
  },
  {
   "cell_type": "code",
   "execution_count": 6,
   "outputs": [
    {
     "data": {
      "text/plain": "   mean radius  mean texture  mean perimeter  mean area  mean smoothness  \\\n0        17.99         10.38          122.80     1001.0          0.11840   \n1        20.57         17.77          132.90     1326.0          0.08474   \n2        19.69         21.25          130.00     1203.0          0.10960   \n3        11.42         20.38           77.58      386.1          0.14250   \n4        20.29         14.34          135.10     1297.0          0.10030   \n\n   mean compactness  mean concavity  mean concave points  mean symmetry  \\\n0           0.27760          0.3001              0.14710         0.2419   \n1           0.07864          0.0869              0.07017         0.1812   \n2           0.15990          0.1974              0.12790         0.2069   \n3           0.28390          0.2414              0.10520         0.2597   \n4           0.13280          0.1980              0.10430         0.1809   \n\n   mean fractal dimension  ...  worst radius  worst texture  worst perimeter  \\\n0                 0.07871  ...         25.38          17.33           184.60   \n1                 0.05667  ...         24.99          23.41           158.80   \n2                 0.05999  ...         23.57          25.53           152.50   \n3                 0.09744  ...         14.91          26.50            98.87   \n4                 0.05883  ...         22.54          16.67           152.20   \n\n   worst area  worst smoothness  worst compactness  worst concavity  \\\n0      2019.0            0.1622             0.6656           0.7119   \n1      1956.0            0.1238             0.1866           0.2416   \n2      1709.0            0.1444             0.4245           0.4504   \n3       567.7            0.2098             0.8663           0.6869   \n4      1575.0            0.1374             0.2050           0.4000   \n\n   worst concave points  worst symmetry  worst fractal dimension  \n0                0.2654          0.4601                  0.11890  \n1                0.1860          0.2750                  0.08902  \n2                0.2430          0.3613                  0.08758  \n3                0.2575          0.6638                  0.17300  \n4                0.1625          0.2364                  0.07678  \n\n[5 rows x 30 columns]",
      "text/html": "<div>\n<style scoped>\n    .dataframe tbody tr th:only-of-type {\n        vertical-align: middle;\n    }\n\n    .dataframe tbody tr th {\n        vertical-align: top;\n    }\n\n    .dataframe thead th {\n        text-align: right;\n    }\n</style>\n<table border=\"1\" class=\"dataframe\">\n  <thead>\n    <tr style=\"text-align: right;\">\n      <th></th>\n      <th>mean radius</th>\n      <th>mean texture</th>\n      <th>mean perimeter</th>\n      <th>mean area</th>\n      <th>mean smoothness</th>\n      <th>mean compactness</th>\n      <th>mean concavity</th>\n      <th>mean concave points</th>\n      <th>mean symmetry</th>\n      <th>mean fractal dimension</th>\n      <th>...</th>\n      <th>worst radius</th>\n      <th>worst texture</th>\n      <th>worst perimeter</th>\n      <th>worst area</th>\n      <th>worst smoothness</th>\n      <th>worst compactness</th>\n      <th>worst concavity</th>\n      <th>worst concave points</th>\n      <th>worst symmetry</th>\n      <th>worst fractal dimension</th>\n    </tr>\n  </thead>\n  <tbody>\n    <tr>\n      <th>0</th>\n      <td>17.99</td>\n      <td>10.38</td>\n      <td>122.80</td>\n      <td>1001.0</td>\n      <td>0.11840</td>\n      <td>0.27760</td>\n      <td>0.3001</td>\n      <td>0.14710</td>\n      <td>0.2419</td>\n      <td>0.07871</td>\n      <td>...</td>\n      <td>25.38</td>\n      <td>17.33</td>\n      <td>184.60</td>\n      <td>2019.0</td>\n      <td>0.1622</td>\n      <td>0.6656</td>\n      <td>0.7119</td>\n      <td>0.2654</td>\n      <td>0.4601</td>\n      <td>0.11890</td>\n    </tr>\n    <tr>\n      <th>1</th>\n      <td>20.57</td>\n      <td>17.77</td>\n      <td>132.90</td>\n      <td>1326.0</td>\n      <td>0.08474</td>\n      <td>0.07864</td>\n      <td>0.0869</td>\n      <td>0.07017</td>\n      <td>0.1812</td>\n      <td>0.05667</td>\n      <td>...</td>\n      <td>24.99</td>\n      <td>23.41</td>\n      <td>158.80</td>\n      <td>1956.0</td>\n      <td>0.1238</td>\n      <td>0.1866</td>\n      <td>0.2416</td>\n      <td>0.1860</td>\n      <td>0.2750</td>\n      <td>0.08902</td>\n    </tr>\n    <tr>\n      <th>2</th>\n      <td>19.69</td>\n      <td>21.25</td>\n      <td>130.00</td>\n      <td>1203.0</td>\n      <td>0.10960</td>\n      <td>0.15990</td>\n      <td>0.1974</td>\n      <td>0.12790</td>\n      <td>0.2069</td>\n      <td>0.05999</td>\n      <td>...</td>\n      <td>23.57</td>\n      <td>25.53</td>\n      <td>152.50</td>\n      <td>1709.0</td>\n      <td>0.1444</td>\n      <td>0.4245</td>\n      <td>0.4504</td>\n      <td>0.2430</td>\n      <td>0.3613</td>\n      <td>0.08758</td>\n    </tr>\n    <tr>\n      <th>3</th>\n      <td>11.42</td>\n      <td>20.38</td>\n      <td>77.58</td>\n      <td>386.1</td>\n      <td>0.14250</td>\n      <td>0.28390</td>\n      <td>0.2414</td>\n      <td>0.10520</td>\n      <td>0.2597</td>\n      <td>0.09744</td>\n      <td>...</td>\n      <td>14.91</td>\n      <td>26.50</td>\n      <td>98.87</td>\n      <td>567.7</td>\n      <td>0.2098</td>\n      <td>0.8663</td>\n      <td>0.6869</td>\n      <td>0.2575</td>\n      <td>0.6638</td>\n      <td>0.17300</td>\n    </tr>\n    <tr>\n      <th>4</th>\n      <td>20.29</td>\n      <td>14.34</td>\n      <td>135.10</td>\n      <td>1297.0</td>\n      <td>0.10030</td>\n      <td>0.13280</td>\n      <td>0.1980</td>\n      <td>0.10430</td>\n      <td>0.1809</td>\n      <td>0.05883</td>\n      <td>...</td>\n      <td>22.54</td>\n      <td>16.67</td>\n      <td>152.20</td>\n      <td>1575.0</td>\n      <td>0.1374</td>\n      <td>0.2050</td>\n      <td>0.4000</td>\n      <td>0.1625</td>\n      <td>0.2364</td>\n      <td>0.07678</td>\n    </tr>\n  </tbody>\n</table>\n<p>5 rows × 30 columns</p>\n</div>"
     },
     "execution_count": 6,
     "metadata": {},
     "output_type": "execute_result"
    }
   ],
   "source": [
    "df = pd.DataFrame(breast_cancer_dataset.data, columns=breast_cancer_dataset.feature_names)\n",
    "df.head()"
   ],
   "metadata": {
    "collapsed": false,
    "ExecuteTime": {
     "end_time": "2023-06-28T08:10:50.016423Z",
     "start_time": "2023-06-28T08:10:49.992174Z"
    }
   }
  },
  {
   "cell_type": "code",
   "execution_count": 7,
   "outputs": [],
   "source": [
    "df[\"label\"]=breast_cancer_dataset.target"
   ],
   "metadata": {
    "collapsed": false,
    "ExecuteTime": {
     "end_time": "2023-06-28T08:12:08.732490Z",
     "start_time": "2023-06-28T08:12:08.731236Z"
    }
   }
  },
  {
   "cell_type": "code",
   "execution_count": 9,
   "outputs": [
    {
     "data": {
      "text/plain": "(569, 31)"
     },
     "execution_count": 9,
     "metadata": {},
     "output_type": "execute_result"
    }
   ],
   "source": [
    "df.shape"
   ],
   "metadata": {
    "collapsed": false,
    "ExecuteTime": {
     "end_time": "2023-06-28T08:12:20.981272Z",
     "start_time": "2023-06-28T08:12:20.970165Z"
    }
   }
  },
  {
   "cell_type": "code",
   "execution_count": 10,
   "outputs": [
    {
     "data": {
      "text/plain": "mean radius                0\nmean texture               0\nmean perimeter             0\nmean area                  0\nmean smoothness            0\nmean compactness           0\nmean concavity             0\nmean concave points        0\nmean symmetry              0\nmean fractal dimension     0\nradius error               0\ntexture error              0\nperimeter error            0\narea error                 0\nsmoothness error           0\ncompactness error          0\nconcavity error            0\nconcave points error       0\nsymmetry error             0\nfractal dimension error    0\nworst radius               0\nworst texture              0\nworst perimeter            0\nworst area                 0\nworst smoothness           0\nworst compactness          0\nworst concavity            0\nworst concave points       0\nworst symmetry             0\nworst fractal dimension    0\nlabel                      0\ndtype: int64"
     },
     "execution_count": 10,
     "metadata": {},
     "output_type": "execute_result"
    }
   ],
   "source": [
    "df.isna().sum()"
   ],
   "metadata": {
    "collapsed": false,
    "ExecuteTime": {
     "end_time": "2023-06-28T08:12:31.958148Z",
     "start_time": "2023-06-28T08:12:31.949535Z"
    }
   }
  },
  {
   "cell_type": "code",
   "execution_count": 12,
   "outputs": [
    {
     "data": {
      "text/plain": "label\n1    357\n0    212\nName: count, dtype: int64"
     },
     "execution_count": 12,
     "metadata": {},
     "output_type": "execute_result"
    }
   ],
   "source": [
    "df.label.value_counts()"
   ],
   "metadata": {
    "collapsed": false,
    "ExecuteTime": {
     "end_time": "2023-06-28T08:13:59.424620Z",
     "start_time": "2023-06-28T08:13:59.422928Z"
    }
   }
  },
  {
   "cell_type": "markdown",
   "source": [
    "0 --> Malignant\n",
    "\n",
    "1 --> Balign"
   ],
   "metadata": {
    "collapsed": false
   }
  },
  {
   "cell_type": "code",
   "execution_count": 13,
   "outputs": [],
   "source": [
    "X = df.drop(columns=[\"label\"])\n",
    "y = df.label"
   ],
   "metadata": {
    "collapsed": false,
    "ExecuteTime": {
     "end_time": "2023-06-28T08:15:03.342439Z",
     "start_time": "2023-06-28T08:15:03.341740Z"
    }
   }
  },
  {
   "cell_type": "markdown",
   "source": [
    "## GridSearchCV\n",
    "\n",
    "It is used for determining the best parameter for our model"
   ],
   "metadata": {
    "collapsed": false
   }
  },
  {
   "cell_type": "code",
   "execution_count": 29,
   "outputs": [],
   "source": [
    "model = SVC()"
   ],
   "metadata": {
    "collapsed": false,
    "ExecuteTime": {
     "end_time": "2023-06-28T20:02:29.227479Z",
     "start_time": "2023-06-28T20:02:29.218104Z"
    }
   }
  },
  {
   "cell_type": "code",
   "execution_count": 30,
   "outputs": [],
   "source": [
    "# hyperparameters\n",
    "parameters = {\n",
    "    \"kernel\":[\"linear\",\"poly\",\"rbf\",\"sigmoid\"],\n",
    "    \"C\":[1,5,10,20]\n",
    "}\n",
    "\n",
    "# grid search\n",
    "classifier = GridSearchCV(model,parameters,cv=5)"
   ],
   "metadata": {
    "collapsed": false,
    "ExecuteTime": {
     "end_time": "2023-06-28T20:02:29.379723Z",
     "start_time": "2023-06-28T20:02:29.376320Z"
    }
   }
  },
  {
   "cell_type": "code",
   "execution_count": 31,
   "outputs": [
    {
     "data": {
      "text/plain": "GridSearchCV(cv=5, estimator=SVC(),\n             param_grid={'C': [1, 5, 10, 20],\n                         'kernel': ['linear', 'poly', 'rbf', 'sigmoid']})",
      "text/html": "<style>#sk-container-id-2 {color: black;background-color: white;}#sk-container-id-2 pre{padding: 0;}#sk-container-id-2 div.sk-toggleable {background-color: white;}#sk-container-id-2 label.sk-toggleable__label {cursor: pointer;display: block;width: 100%;margin-bottom: 0;padding: 0.3em;box-sizing: border-box;text-align: center;}#sk-container-id-2 label.sk-toggleable__label-arrow:before {content: \"▸\";float: left;margin-right: 0.25em;color: #696969;}#sk-container-id-2 label.sk-toggleable__label-arrow:hover:before {color: black;}#sk-container-id-2 div.sk-estimator:hover label.sk-toggleable__label-arrow:before {color: black;}#sk-container-id-2 div.sk-toggleable__content {max-height: 0;max-width: 0;overflow: hidden;text-align: left;background-color: #f0f8ff;}#sk-container-id-2 div.sk-toggleable__content pre {margin: 0.2em;color: black;border-radius: 0.25em;background-color: #f0f8ff;}#sk-container-id-2 input.sk-toggleable__control:checked~div.sk-toggleable__content {max-height: 200px;max-width: 100%;overflow: auto;}#sk-container-id-2 input.sk-toggleable__control:checked~label.sk-toggleable__label-arrow:before {content: \"▾\";}#sk-container-id-2 div.sk-estimator input.sk-toggleable__control:checked~label.sk-toggleable__label {background-color: #d4ebff;}#sk-container-id-2 div.sk-label input.sk-toggleable__control:checked~label.sk-toggleable__label {background-color: #d4ebff;}#sk-container-id-2 input.sk-hidden--visually {border: 0;clip: rect(1px 1px 1px 1px);clip: rect(1px, 1px, 1px, 1px);height: 1px;margin: -1px;overflow: hidden;padding: 0;position: absolute;width: 1px;}#sk-container-id-2 div.sk-estimator {font-family: monospace;background-color: #f0f8ff;border: 1px dotted black;border-radius: 0.25em;box-sizing: border-box;margin-bottom: 0.5em;}#sk-container-id-2 div.sk-estimator:hover {background-color: #d4ebff;}#sk-container-id-2 div.sk-parallel-item::after {content: \"\";width: 100%;border-bottom: 1px solid gray;flex-grow: 1;}#sk-container-id-2 div.sk-label:hover label.sk-toggleable__label {background-color: #d4ebff;}#sk-container-id-2 div.sk-serial::before {content: \"\";position: absolute;border-left: 1px solid gray;box-sizing: border-box;top: 0;bottom: 0;left: 50%;z-index: 0;}#sk-container-id-2 div.sk-serial {display: flex;flex-direction: column;align-items: center;background-color: white;padding-right: 0.2em;padding-left: 0.2em;position: relative;}#sk-container-id-2 div.sk-item {position: relative;z-index: 1;}#sk-container-id-2 div.sk-parallel {display: flex;align-items: stretch;justify-content: center;background-color: white;position: relative;}#sk-container-id-2 div.sk-item::before, #sk-container-id-2 div.sk-parallel-item::before {content: \"\";position: absolute;border-left: 1px solid gray;box-sizing: border-box;top: 0;bottom: 0;left: 50%;z-index: -1;}#sk-container-id-2 div.sk-parallel-item {display: flex;flex-direction: column;z-index: 1;position: relative;background-color: white;}#sk-container-id-2 div.sk-parallel-item:first-child::after {align-self: flex-end;width: 50%;}#sk-container-id-2 div.sk-parallel-item:last-child::after {align-self: flex-start;width: 50%;}#sk-container-id-2 div.sk-parallel-item:only-child::after {width: 0;}#sk-container-id-2 div.sk-dashed-wrapped {border: 1px dashed gray;margin: 0 0.4em 0.5em 0.4em;box-sizing: border-box;padding-bottom: 0.4em;background-color: white;}#sk-container-id-2 div.sk-label label {font-family: monospace;font-weight: bold;display: inline-block;line-height: 1.2em;}#sk-container-id-2 div.sk-label-container {text-align: center;}#sk-container-id-2 div.sk-container {/* jupyter's `normalize.less` sets `[hidden] { display: none; }` but bootstrap.min.css set `[hidden] { display: none !important; }` so we also need the `!important` here to be able to override the default hidden behavior on the sphinx rendered scikit-learn.org. See: https://github.com/scikit-learn/scikit-learn/issues/21755 */display: inline-block !important;position: relative;}#sk-container-id-2 div.sk-text-repr-fallback {display: none;}</style><div id=\"sk-container-id-2\" class=\"sk-top-container\"><div class=\"sk-text-repr-fallback\"><pre>GridSearchCV(cv=5, estimator=SVC(),\n             param_grid={&#x27;C&#x27;: [1, 5, 10, 20],\n                         &#x27;kernel&#x27;: [&#x27;linear&#x27;, &#x27;poly&#x27;, &#x27;rbf&#x27;, &#x27;sigmoid&#x27;]})</pre><b>In a Jupyter environment, please rerun this cell to show the HTML representation or trust the notebook. <br />On GitHub, the HTML representation is unable to render, please try loading this page with nbviewer.org.</b></div><div class=\"sk-container\" hidden><div class=\"sk-item sk-dashed-wrapped\"><div class=\"sk-label-container\"><div class=\"sk-label sk-toggleable\"><input class=\"sk-toggleable__control sk-hidden--visually\" id=\"sk-estimator-id-4\" type=\"checkbox\" ><label for=\"sk-estimator-id-4\" class=\"sk-toggleable__label sk-toggleable__label-arrow\">GridSearchCV</label><div class=\"sk-toggleable__content\"><pre>GridSearchCV(cv=5, estimator=SVC(),\n             param_grid={&#x27;C&#x27;: [1, 5, 10, 20],\n                         &#x27;kernel&#x27;: [&#x27;linear&#x27;, &#x27;poly&#x27;, &#x27;rbf&#x27;, &#x27;sigmoid&#x27;]})</pre></div></div></div><div class=\"sk-parallel\"><div class=\"sk-parallel-item\"><div class=\"sk-item\"><div class=\"sk-label-container\"><div class=\"sk-label sk-toggleable\"><input class=\"sk-toggleable__control sk-hidden--visually\" id=\"sk-estimator-id-5\" type=\"checkbox\" ><label for=\"sk-estimator-id-5\" class=\"sk-toggleable__label sk-toggleable__label-arrow\">estimator: SVC</label><div class=\"sk-toggleable__content\"><pre>SVC()</pre></div></div></div><div class=\"sk-serial\"><div class=\"sk-item\"><div class=\"sk-estimator sk-toggleable\"><input class=\"sk-toggleable__control sk-hidden--visually\" id=\"sk-estimator-id-6\" type=\"checkbox\" ><label for=\"sk-estimator-id-6\" class=\"sk-toggleable__label sk-toggleable__label-arrow\">SVC</label><div class=\"sk-toggleable__content\"><pre>SVC()</pre></div></div></div></div></div></div></div></div></div></div>"
     },
     "execution_count": 31,
     "metadata": {},
     "output_type": "execute_result"
    }
   ],
   "source": [
    "classifier.fit(X,y)"
   ],
   "metadata": {
    "collapsed": false,
    "ExecuteTime": {
     "end_time": "2023-06-28T20:03:10.600156Z",
     "start_time": "2023-06-28T20:02:29.508296Z"
    }
   }
  },
  {
   "cell_type": "code",
   "execution_count": 32,
   "outputs": [
    {
     "data": {
      "text/plain": "{'mean_fit_time': array([6.84370279e-01, 2.12421417e-03, 2.12159157e-03, 4.54263687e-03,\n        1.37542729e+00, 2.10533142e-03, 1.97505951e-03, 4.48536873e-03,\n        2.08636661e+00, 2.38642693e-03, 2.02884674e-03, 4.13041115e-03,\n        3.51080723e+00, 2.55198479e-03, 2.08168030e-03, 4.35886383e-03]),\n 'std_fit_time': array([2.99795607e-01, 1.21574082e-04, 1.03630834e-04, 1.61167672e-04,\n        2.75891685e-01, 2.44780286e-04, 1.02588498e-04, 4.36839627e-04,\n        5.33663179e-01, 1.28079082e-04, 1.64627544e-04, 1.89490035e-04,\n        1.13908595e+00, 1.84172166e-04, 1.33823514e-04, 3.72776505e-04]),\n 'mean_score_time': array([0.00107784, 0.00087833, 0.0012074 , 0.00152102, 0.00114098,\n        0.00085764, 0.0010736 , 0.00156698, 0.00124459, 0.00092301,\n        0.00113773, 0.00131407, 0.00187483, 0.00103364, 0.00103374,\n        0.00146389]),\n 'std_score_time': array([1.55993864e-04, 7.58716699e-05, 1.45130808e-04, 9.30785156e-05,\n        2.69285214e-04, 4.80829218e-05, 5.13584832e-05, 3.32383670e-04,\n        3.15156371e-04, 1.28145282e-04, 1.61821980e-04, 1.55207382e-05,\n        1.32427502e-03, 2.07786988e-04, 4.35275283e-05, 1.60848914e-04]),\n 'param_C': masked_array(data=[1, 1, 1, 1, 5, 5, 5, 5, 10, 10, 10, 10, 20, 20, 20, 20],\n              mask=[False, False, False, False, False, False, False, False,\n                    False, False, False, False, False, False, False, False],\n        fill_value='?',\n             dtype=object),\n 'param_kernel': masked_array(data=['linear', 'poly', 'rbf', 'sigmoid', 'linear', 'poly',\n                    'rbf', 'sigmoid', 'linear', 'poly', 'rbf', 'sigmoid',\n                    'linear', 'poly', 'rbf', 'sigmoid'],\n              mask=[False, False, False, False, False, False, False, False,\n                    False, False, False, False, False, False, False, False],\n        fill_value='?',\n             dtype=object),\n 'params': [{'C': 1, 'kernel': 'linear'},\n  {'C': 1, 'kernel': 'poly'},\n  {'C': 1, 'kernel': 'rbf'},\n  {'C': 1, 'kernel': 'sigmoid'},\n  {'C': 5, 'kernel': 'linear'},\n  {'C': 5, 'kernel': 'poly'},\n  {'C': 5, 'kernel': 'rbf'},\n  {'C': 5, 'kernel': 'sigmoid'},\n  {'C': 10, 'kernel': 'linear'},\n  {'C': 10, 'kernel': 'poly'},\n  {'C': 10, 'kernel': 'rbf'},\n  {'C': 10, 'kernel': 'sigmoid'},\n  {'C': 20, 'kernel': 'linear'},\n  {'C': 20, 'kernel': 'poly'},\n  {'C': 20, 'kernel': 'rbf'},\n  {'C': 20, 'kernel': 'sigmoid'}],\n 'split0_test_score': array([0.94736842, 0.84210526, 0.85087719, 0.54385965, 0.94736842,\n        0.88596491, 0.88596491, 0.49122807, 0.93859649, 0.88596491,\n        0.87719298, 0.48245614, 0.92982456, 0.87719298, 0.87719298,\n        0.47368421]),\n 'split1_test_score': array([0.92982456, 0.88596491, 0.89473684, 0.45614035, 0.93859649,\n        0.9122807 , 0.92982456, 0.42105263, 0.93859649, 0.92105263,\n        0.92105263, 0.40350877, 0.95614035, 0.92105263, 0.92105263,\n        0.40350877]),\n 'split2_test_score': array([0.97368421, 0.92982456, 0.92982456, 0.46491228, 0.97368421,\n        0.92105263, 0.93859649, 0.42105263, 0.97368421, 0.90350877,\n        0.9122807 , 0.42105263, 0.95614035, 0.90350877, 0.92105263,\n        0.42105263]),\n 'split3_test_score': array([0.92105263, 0.94736842, 0.94736842, 0.38596491, 0.92982456,\n        0.93859649, 0.94736842, 0.35087719, 0.94736842, 0.93859649,\n        0.95614035, 0.34210526, 0.93859649, 0.93859649, 0.94736842,\n        0.34210526]),\n 'split4_test_score': array([0.95575221, 0.9380531 , 0.9380531 , 0.45132743, 0.96460177,\n        0.95575221, 0.95575221, 0.37168142, 0.96460177, 0.95575221,\n        0.94690265, 0.36283186, 0.96460177, 0.95575221, 0.9380531 ,\n        0.3539823 ]),\n 'mean_test_score': array([0.94553641, 0.90866325, 0.91217202, 0.46044093, 0.95081509,\n        0.92272939, 0.93150132, 0.41117839, 0.95256948, 0.920975  ,\n        0.92271386, 0.40239093, 0.9490607 , 0.91922062, 0.92094395,\n        0.39886664]),\n 'std_test_score': array([0.01868869, 0.03938232, 0.03544367, 0.05025317, 0.01621632,\n        0.02368918, 0.02435811, 0.04857818, 0.01419963, 0.02470123,\n        0.02787898, 0.0489065 , 0.01281637, 0.02730027, 0.02410455,\n        0.0476401 ]),\n 'rank_test_score': array([ 4, 12, 11, 13,  2,  6,  5, 14,  1,  8,  7, 15,  3, 10,  9, 16],\n       dtype=int32)}"
     },
     "execution_count": 32,
     "metadata": {},
     "output_type": "execute_result"
    }
   ],
   "source": [
    "classifier.cv_results_"
   ],
   "metadata": {
    "collapsed": false,
    "ExecuteTime": {
     "end_time": "2023-06-28T20:03:10.601141Z",
     "start_time": "2023-06-28T20:03:10.597147Z"
    }
   }
  },
  {
   "cell_type": "code",
   "execution_count": 33,
   "outputs": [
    {
     "data": {
      "text/plain": "   mean_fit_time  std_fit_time  mean_score_time  std_score_time param_C  \\\n0       0.684370      0.299796         0.001078        0.000156       1   \n1       0.002124      0.000122         0.000878        0.000076       1   \n2       0.002122      0.000104         0.001207        0.000145       1   \n3       0.004543      0.000161         0.001521        0.000093       1   \n4       1.375427      0.275892         0.001141        0.000269       5   \n\n  param_kernel                         params  split0_test_score  \\\n0       linear   {'C': 1, 'kernel': 'linear'}           0.947368   \n1         poly     {'C': 1, 'kernel': 'poly'}           0.842105   \n2          rbf      {'C': 1, 'kernel': 'rbf'}           0.850877   \n3      sigmoid  {'C': 1, 'kernel': 'sigmoid'}           0.543860   \n4       linear   {'C': 5, 'kernel': 'linear'}           0.947368   \n\n   split1_test_score  split2_test_score  split3_test_score  split4_test_score  \\\n0           0.929825           0.973684           0.921053           0.955752   \n1           0.885965           0.929825           0.947368           0.938053   \n2           0.894737           0.929825           0.947368           0.938053   \n3           0.456140           0.464912           0.385965           0.451327   \n4           0.938596           0.973684           0.929825           0.964602   \n\n   mean_test_score  std_test_score  rank_test_score  \n0         0.945536        0.018689                4  \n1         0.908663        0.039382               12  \n2         0.912172        0.035444               11  \n3         0.460441        0.050253               13  \n4         0.950815        0.016216                2  ",
      "text/html": "<div>\n<style scoped>\n    .dataframe tbody tr th:only-of-type {\n        vertical-align: middle;\n    }\n\n    .dataframe tbody tr th {\n        vertical-align: top;\n    }\n\n    .dataframe thead th {\n        text-align: right;\n    }\n</style>\n<table border=\"1\" class=\"dataframe\">\n  <thead>\n    <tr style=\"text-align: right;\">\n      <th></th>\n      <th>mean_fit_time</th>\n      <th>std_fit_time</th>\n      <th>mean_score_time</th>\n      <th>std_score_time</th>\n      <th>param_C</th>\n      <th>param_kernel</th>\n      <th>params</th>\n      <th>split0_test_score</th>\n      <th>split1_test_score</th>\n      <th>split2_test_score</th>\n      <th>split3_test_score</th>\n      <th>split4_test_score</th>\n      <th>mean_test_score</th>\n      <th>std_test_score</th>\n      <th>rank_test_score</th>\n    </tr>\n  </thead>\n  <tbody>\n    <tr>\n      <th>0</th>\n      <td>0.684370</td>\n      <td>0.299796</td>\n      <td>0.001078</td>\n      <td>0.000156</td>\n      <td>1</td>\n      <td>linear</td>\n      <td>{'C': 1, 'kernel': 'linear'}</td>\n      <td>0.947368</td>\n      <td>0.929825</td>\n      <td>0.973684</td>\n      <td>0.921053</td>\n      <td>0.955752</td>\n      <td>0.945536</td>\n      <td>0.018689</td>\n      <td>4</td>\n    </tr>\n    <tr>\n      <th>1</th>\n      <td>0.002124</td>\n      <td>0.000122</td>\n      <td>0.000878</td>\n      <td>0.000076</td>\n      <td>1</td>\n      <td>poly</td>\n      <td>{'C': 1, 'kernel': 'poly'}</td>\n      <td>0.842105</td>\n      <td>0.885965</td>\n      <td>0.929825</td>\n      <td>0.947368</td>\n      <td>0.938053</td>\n      <td>0.908663</td>\n      <td>0.039382</td>\n      <td>12</td>\n    </tr>\n    <tr>\n      <th>2</th>\n      <td>0.002122</td>\n      <td>0.000104</td>\n      <td>0.001207</td>\n      <td>0.000145</td>\n      <td>1</td>\n      <td>rbf</td>\n      <td>{'C': 1, 'kernel': 'rbf'}</td>\n      <td>0.850877</td>\n      <td>0.894737</td>\n      <td>0.929825</td>\n      <td>0.947368</td>\n      <td>0.938053</td>\n      <td>0.912172</td>\n      <td>0.035444</td>\n      <td>11</td>\n    </tr>\n    <tr>\n      <th>3</th>\n      <td>0.004543</td>\n      <td>0.000161</td>\n      <td>0.001521</td>\n      <td>0.000093</td>\n      <td>1</td>\n      <td>sigmoid</td>\n      <td>{'C': 1, 'kernel': 'sigmoid'}</td>\n      <td>0.543860</td>\n      <td>0.456140</td>\n      <td>0.464912</td>\n      <td>0.385965</td>\n      <td>0.451327</td>\n      <td>0.460441</td>\n      <td>0.050253</td>\n      <td>13</td>\n    </tr>\n    <tr>\n      <th>4</th>\n      <td>1.375427</td>\n      <td>0.275892</td>\n      <td>0.001141</td>\n      <td>0.000269</td>\n      <td>5</td>\n      <td>linear</td>\n      <td>{'C': 5, 'kernel': 'linear'}</td>\n      <td>0.947368</td>\n      <td>0.938596</td>\n      <td>0.973684</td>\n      <td>0.929825</td>\n      <td>0.964602</td>\n      <td>0.950815</td>\n      <td>0.016216</td>\n      <td>2</td>\n    </tr>\n  </tbody>\n</table>\n</div>"
     },
     "execution_count": 33,
     "metadata": {},
     "output_type": "execute_result"
    }
   ],
   "source": [
    "# loading the results to pandas dataframe\n",
    "result =pd.DataFrame(classifier.cv_results_)\n",
    "result.head()"
   ],
   "metadata": {
    "collapsed": false,
    "ExecuteTime": {
     "end_time": "2023-06-28T20:03:10.615587Z",
     "start_time": "2023-06-28T20:03:10.601265Z"
    }
   }
  },
  {
   "cell_type": "code",
   "execution_count": 34,
   "outputs": [
    {
     "data": {
      "text/plain": "{'C': 10, 'kernel': 'linear'}"
     },
     "execution_count": 34,
     "metadata": {},
     "output_type": "execute_result"
    }
   ],
   "source": [
    "best_parameters = classifier.best_params_\n",
    "best_parameters"
   ],
   "metadata": {
    "collapsed": false,
    "ExecuteTime": {
     "end_time": "2023-06-28T20:03:10.615829Z",
     "start_time": "2023-06-28T20:03:10.611313Z"
    }
   }
  },
  {
   "cell_type": "code",
   "execution_count": 35,
   "outputs": [
    {
     "data": {
      "text/plain": "0.9525694767893185"
     },
     "execution_count": 35,
     "metadata": {},
     "output_type": "execute_result"
    }
   ],
   "source": [
    "highest_accuracy = classifier.best_score_\n",
    "highest_accuracy"
   ],
   "metadata": {
    "collapsed": false,
    "ExecuteTime": {
     "end_time": "2023-06-28T20:03:10.631671Z",
     "start_time": "2023-06-28T20:03:10.615890Z"
    }
   }
  },
  {
   "cell_type": "code",
   "execution_count": 39,
   "outputs": [
    {
     "data": {
      "text/plain": "   param_C param_kernel  mean_test_score\n0        1       linear         0.945536\n1        1         poly         0.908663\n2        1          rbf         0.912172\n3        1      sigmoid         0.460441\n4        5       linear         0.950815\n5        5         poly         0.922729\n6        5          rbf         0.931501\n7        5      sigmoid         0.411178\n8       10       linear         0.952569\n9       10         poly         0.920975\n10      10          rbf         0.922714\n11      10      sigmoid         0.402391\n12      20       linear         0.949061\n13      20         poly         0.919221\n14      20          rbf         0.920944\n15      20      sigmoid         0.398867",
      "text/html": "<div>\n<style scoped>\n    .dataframe tbody tr th:only-of-type {\n        vertical-align: middle;\n    }\n\n    .dataframe tbody tr th {\n        vertical-align: top;\n    }\n\n    .dataframe thead th {\n        text-align: right;\n    }\n</style>\n<table border=\"1\" class=\"dataframe\">\n  <thead>\n    <tr style=\"text-align: right;\">\n      <th></th>\n      <th>param_C</th>\n      <th>param_kernel</th>\n      <th>mean_test_score</th>\n    </tr>\n  </thead>\n  <tbody>\n    <tr>\n      <th>0</th>\n      <td>1</td>\n      <td>linear</td>\n      <td>0.945536</td>\n    </tr>\n    <tr>\n      <th>1</th>\n      <td>1</td>\n      <td>poly</td>\n      <td>0.908663</td>\n    </tr>\n    <tr>\n      <th>2</th>\n      <td>1</td>\n      <td>rbf</td>\n      <td>0.912172</td>\n    </tr>\n    <tr>\n      <th>3</th>\n      <td>1</td>\n      <td>sigmoid</td>\n      <td>0.460441</td>\n    </tr>\n    <tr>\n      <th>4</th>\n      <td>5</td>\n      <td>linear</td>\n      <td>0.950815</td>\n    </tr>\n    <tr>\n      <th>5</th>\n      <td>5</td>\n      <td>poly</td>\n      <td>0.922729</td>\n    </tr>\n    <tr>\n      <th>6</th>\n      <td>5</td>\n      <td>rbf</td>\n      <td>0.931501</td>\n    </tr>\n    <tr>\n      <th>7</th>\n      <td>5</td>\n      <td>sigmoid</td>\n      <td>0.411178</td>\n    </tr>\n    <tr>\n      <th>8</th>\n      <td>10</td>\n      <td>linear</td>\n      <td>0.952569</td>\n    </tr>\n    <tr>\n      <th>9</th>\n      <td>10</td>\n      <td>poly</td>\n      <td>0.920975</td>\n    </tr>\n    <tr>\n      <th>10</th>\n      <td>10</td>\n      <td>rbf</td>\n      <td>0.922714</td>\n    </tr>\n    <tr>\n      <th>11</th>\n      <td>10</td>\n      <td>sigmoid</td>\n      <td>0.402391</td>\n    </tr>\n    <tr>\n      <th>12</th>\n      <td>20</td>\n      <td>linear</td>\n      <td>0.949061</td>\n    </tr>\n    <tr>\n      <th>13</th>\n      <td>20</td>\n      <td>poly</td>\n      <td>0.919221</td>\n    </tr>\n    <tr>\n      <th>14</th>\n      <td>20</td>\n      <td>rbf</td>\n      <td>0.920944</td>\n    </tr>\n    <tr>\n      <th>15</th>\n      <td>20</td>\n      <td>sigmoid</td>\n      <td>0.398867</td>\n    </tr>\n  </tbody>\n</table>\n</div>"
     },
     "execution_count": 39,
     "metadata": {},
     "output_type": "execute_result"
    }
   ],
   "source": [
    "grid_search_result = result[[\"param_C\",\"param_kernel\",\"mean_test_score\"]]\n",
    "grid_search_result"
   ],
   "metadata": {
    "collapsed": false,
    "ExecuteTime": {
     "end_time": "2023-06-28T20:03:17.014558Z",
     "start_time": "2023-06-28T20:03:17.011250Z"
    }
   }
  },
  {
   "cell_type": "markdown",
   "source": [
    "## RandomisedSearchCV\n",
    "\n",
    "It is used for determining the best parameter for our model"
   ],
   "metadata": {
    "collapsed": false
   }
  },
  {
   "cell_type": "code",
   "execution_count": 38,
   "outputs": [],
   "source": [
    "model = SVC()"
   ],
   "metadata": {
    "collapsed": false,
    "ExecuteTime": {
     "end_time": "2023-06-28T20:03:10.743924Z",
     "start_time": "2023-06-28T20:03:10.677025Z"
    }
   }
  },
  {
   "cell_type": "code",
   "execution_count": 40,
   "outputs": [],
   "source": [
    "parameters = {\n",
    "    \"kernel\":[\"linear\",\"poly\",\"rbf\",\"sigmoid\"],\n",
    "    \"C\":[1,5,10,20]\n",
    "}"
   ],
   "metadata": {
    "collapsed": false,
    "ExecuteTime": {
     "end_time": "2023-06-28T20:03:29.971959Z",
     "start_time": "2023-06-28T20:03:29.960104Z"
    }
   }
  },
  {
   "cell_type": "code",
   "execution_count": 41,
   "outputs": [],
   "source": [
    "classifier = RandomizedSearchCV(model,parameters,cv=5)"
   ],
   "metadata": {
    "collapsed": false,
    "ExecuteTime": {
     "end_time": "2023-06-28T20:06:10.806738Z",
     "start_time": "2023-06-28T20:06:10.802434Z"
    }
   }
  },
  {
   "cell_type": "code",
   "execution_count": 42,
   "outputs": [
    {
     "data": {
      "text/plain": "RandomizedSearchCV(cv=5, estimator=SVC(),\n                   param_distributions={'C': [1, 5, 10, 20],\n                                        'kernel': ['linear', 'poly', 'rbf',\n                                                   'sigmoid']})",
      "text/html": "<style>#sk-container-id-3 {color: black;background-color: white;}#sk-container-id-3 pre{padding: 0;}#sk-container-id-3 div.sk-toggleable {background-color: white;}#sk-container-id-3 label.sk-toggleable__label {cursor: pointer;display: block;width: 100%;margin-bottom: 0;padding: 0.3em;box-sizing: border-box;text-align: center;}#sk-container-id-3 label.sk-toggleable__label-arrow:before {content: \"▸\";float: left;margin-right: 0.25em;color: #696969;}#sk-container-id-3 label.sk-toggleable__label-arrow:hover:before {color: black;}#sk-container-id-3 div.sk-estimator:hover label.sk-toggleable__label-arrow:before {color: black;}#sk-container-id-3 div.sk-toggleable__content {max-height: 0;max-width: 0;overflow: hidden;text-align: left;background-color: #f0f8ff;}#sk-container-id-3 div.sk-toggleable__content pre {margin: 0.2em;color: black;border-radius: 0.25em;background-color: #f0f8ff;}#sk-container-id-3 input.sk-toggleable__control:checked~div.sk-toggleable__content {max-height: 200px;max-width: 100%;overflow: auto;}#sk-container-id-3 input.sk-toggleable__control:checked~label.sk-toggleable__label-arrow:before {content: \"▾\";}#sk-container-id-3 div.sk-estimator input.sk-toggleable__control:checked~label.sk-toggleable__label {background-color: #d4ebff;}#sk-container-id-3 div.sk-label input.sk-toggleable__control:checked~label.sk-toggleable__label {background-color: #d4ebff;}#sk-container-id-3 input.sk-hidden--visually {border: 0;clip: rect(1px 1px 1px 1px);clip: rect(1px, 1px, 1px, 1px);height: 1px;margin: -1px;overflow: hidden;padding: 0;position: absolute;width: 1px;}#sk-container-id-3 div.sk-estimator {font-family: monospace;background-color: #f0f8ff;border: 1px dotted black;border-radius: 0.25em;box-sizing: border-box;margin-bottom: 0.5em;}#sk-container-id-3 div.sk-estimator:hover {background-color: #d4ebff;}#sk-container-id-3 div.sk-parallel-item::after {content: \"\";width: 100%;border-bottom: 1px solid gray;flex-grow: 1;}#sk-container-id-3 div.sk-label:hover label.sk-toggleable__label {background-color: #d4ebff;}#sk-container-id-3 div.sk-serial::before {content: \"\";position: absolute;border-left: 1px solid gray;box-sizing: border-box;top: 0;bottom: 0;left: 50%;z-index: 0;}#sk-container-id-3 div.sk-serial {display: flex;flex-direction: column;align-items: center;background-color: white;padding-right: 0.2em;padding-left: 0.2em;position: relative;}#sk-container-id-3 div.sk-item {position: relative;z-index: 1;}#sk-container-id-3 div.sk-parallel {display: flex;align-items: stretch;justify-content: center;background-color: white;position: relative;}#sk-container-id-3 div.sk-item::before, #sk-container-id-3 div.sk-parallel-item::before {content: \"\";position: absolute;border-left: 1px solid gray;box-sizing: border-box;top: 0;bottom: 0;left: 50%;z-index: -1;}#sk-container-id-3 div.sk-parallel-item {display: flex;flex-direction: column;z-index: 1;position: relative;background-color: white;}#sk-container-id-3 div.sk-parallel-item:first-child::after {align-self: flex-end;width: 50%;}#sk-container-id-3 div.sk-parallel-item:last-child::after {align-self: flex-start;width: 50%;}#sk-container-id-3 div.sk-parallel-item:only-child::after {width: 0;}#sk-container-id-3 div.sk-dashed-wrapped {border: 1px dashed gray;margin: 0 0.4em 0.5em 0.4em;box-sizing: border-box;padding-bottom: 0.4em;background-color: white;}#sk-container-id-3 div.sk-label label {font-family: monospace;font-weight: bold;display: inline-block;line-height: 1.2em;}#sk-container-id-3 div.sk-label-container {text-align: center;}#sk-container-id-3 div.sk-container {/* jupyter's `normalize.less` sets `[hidden] { display: none; }` but bootstrap.min.css set `[hidden] { display: none !important; }` so we also need the `!important` here to be able to override the default hidden behavior on the sphinx rendered scikit-learn.org. See: https://github.com/scikit-learn/scikit-learn/issues/21755 */display: inline-block !important;position: relative;}#sk-container-id-3 div.sk-text-repr-fallback {display: none;}</style><div id=\"sk-container-id-3\" class=\"sk-top-container\"><div class=\"sk-text-repr-fallback\"><pre>RandomizedSearchCV(cv=5, estimator=SVC(),\n                   param_distributions={&#x27;C&#x27;: [1, 5, 10, 20],\n                                        &#x27;kernel&#x27;: [&#x27;linear&#x27;, &#x27;poly&#x27;, &#x27;rbf&#x27;,\n                                                   &#x27;sigmoid&#x27;]})</pre><b>In a Jupyter environment, please rerun this cell to show the HTML representation or trust the notebook. <br />On GitHub, the HTML representation is unable to render, please try loading this page with nbviewer.org.</b></div><div class=\"sk-container\" hidden><div class=\"sk-item sk-dashed-wrapped\"><div class=\"sk-label-container\"><div class=\"sk-label sk-toggleable\"><input class=\"sk-toggleable__control sk-hidden--visually\" id=\"sk-estimator-id-7\" type=\"checkbox\" ><label for=\"sk-estimator-id-7\" class=\"sk-toggleable__label sk-toggleable__label-arrow\">RandomizedSearchCV</label><div class=\"sk-toggleable__content\"><pre>RandomizedSearchCV(cv=5, estimator=SVC(),\n                   param_distributions={&#x27;C&#x27;: [1, 5, 10, 20],\n                                        &#x27;kernel&#x27;: [&#x27;linear&#x27;, &#x27;poly&#x27;, &#x27;rbf&#x27;,\n                                                   &#x27;sigmoid&#x27;]})</pre></div></div></div><div class=\"sk-parallel\"><div class=\"sk-parallel-item\"><div class=\"sk-item\"><div class=\"sk-label-container\"><div class=\"sk-label sk-toggleable\"><input class=\"sk-toggleable__control sk-hidden--visually\" id=\"sk-estimator-id-8\" type=\"checkbox\" ><label for=\"sk-estimator-id-8\" class=\"sk-toggleable__label sk-toggleable__label-arrow\">estimator: SVC</label><div class=\"sk-toggleable__content\"><pre>SVC()</pre></div></div></div><div class=\"sk-serial\"><div class=\"sk-item\"><div class=\"sk-estimator sk-toggleable\"><input class=\"sk-toggleable__control sk-hidden--visually\" id=\"sk-estimator-id-9\" type=\"checkbox\" ><label for=\"sk-estimator-id-9\" class=\"sk-toggleable__label sk-toggleable__label-arrow\">SVC</label><div class=\"sk-toggleable__content\"><pre>SVC()</pre></div></div></div></div></div></div></div></div></div></div>"
     },
     "execution_count": 42,
     "metadata": {},
     "output_type": "execute_result"
    }
   ],
   "source": [
    "classifier.fit(X,y)"
   ],
   "metadata": {
    "collapsed": false,
    "ExecuteTime": {
     "end_time": "2023-06-28T20:07:00.549192Z",
     "start_time": "2023-06-28T20:06:20.646983Z"
    }
   }
  },
  {
   "cell_type": "code",
   "execution_count": 43,
   "outputs": [
    {
     "data": {
      "text/plain": "{'mean_fit_time': array([6.62162828e-01, 2.22983360e-03, 4.46043015e-03, 3.35379457e+00,\n        2.07247734e-03, 2.16460228e-03, 2.07248945e+00, 4.22554016e-03,\n        1.36383243e+00, 2.06298828e-03]),\n 'std_fit_time': array([2.55721749e-01, 1.74348424e-04, 1.13169904e-04, 1.04899566e+00,\n        1.91859304e-04, 5.49578356e-05, 5.23057781e-01, 2.19081918e-04,\n        2.71641967e-01, 2.14331296e-04]),\n 'mean_score_time': array([0.0010911 , 0.00116739, 0.00154099, 0.00227361, 0.00082893,\n        0.00080824, 0.00111976, 0.0013474 , 0.00108733, 0.00107279]),\n 'std_score_time': array([8.94479149e-05, 1.28393627e-04, 1.34838099e-04, 1.53933243e-03,\n        5.06974558e-06, 3.63092006e-05, 1.68039580e-04, 5.06226371e-05,\n        3.59626905e-05, 1.07133393e-04]),\n 'param_kernel': masked_array(data=['linear', 'rbf', 'sigmoid', 'linear', 'poly', 'poly',\n                    'linear', 'sigmoid', 'linear', 'rbf'],\n              mask=[False, False, False, False, False, False, False, False,\n                    False, False],\n        fill_value='?',\n             dtype=object),\n 'param_C': masked_array(data=[1, 20, 10, 20, 1, 10, 10, 20, 5, 10],\n              mask=[False, False, False, False, False, False, False, False,\n                    False, False],\n        fill_value='?',\n             dtype=object),\n 'params': [{'kernel': 'linear', 'C': 1},\n  {'kernel': 'rbf', 'C': 20},\n  {'kernel': 'sigmoid', 'C': 10},\n  {'kernel': 'linear', 'C': 20},\n  {'kernel': 'poly', 'C': 1},\n  {'kernel': 'poly', 'C': 10},\n  {'kernel': 'linear', 'C': 10},\n  {'kernel': 'sigmoid', 'C': 20},\n  {'kernel': 'linear', 'C': 5},\n  {'kernel': 'rbf', 'C': 10}],\n 'split0_test_score': array([0.94736842, 0.87719298, 0.48245614, 0.92982456, 0.84210526,\n        0.88596491, 0.93859649, 0.47368421, 0.94736842, 0.87719298]),\n 'split1_test_score': array([0.92982456, 0.92105263, 0.40350877, 0.95614035, 0.88596491,\n        0.92105263, 0.93859649, 0.40350877, 0.93859649, 0.92105263]),\n 'split2_test_score': array([0.97368421, 0.92105263, 0.42105263, 0.95614035, 0.92982456,\n        0.90350877, 0.97368421, 0.42105263, 0.97368421, 0.9122807 ]),\n 'split3_test_score': array([0.92105263, 0.94736842, 0.34210526, 0.93859649, 0.94736842,\n        0.93859649, 0.94736842, 0.34210526, 0.92982456, 0.95614035]),\n 'split4_test_score': array([0.95575221, 0.9380531 , 0.36283186, 0.96460177, 0.9380531 ,\n        0.95575221, 0.96460177, 0.3539823 , 0.96460177, 0.94690265]),\n 'mean_test_score': array([0.94553641, 0.92094395, 0.40239093, 0.9490607 , 0.90866325,\n        0.920975  , 0.95256948, 0.39886664, 0.95081509, 0.92271386]),\n 'std_test_score': array([0.01868869, 0.02410455, 0.0489065 , 0.01281637, 0.03938232,\n        0.02470123, 0.01419963, 0.0476401 , 0.01621632, 0.02787898]),\n 'rank_test_score': array([ 4,  7,  9,  3,  8,  6,  1, 10,  2,  5], dtype=int32)}"
     },
     "execution_count": 43,
     "metadata": {},
     "output_type": "execute_result"
    }
   ],
   "source": [
    "classifier.cv_results_"
   ],
   "metadata": {
    "collapsed": false,
    "ExecuteTime": {
     "end_time": "2023-06-28T20:07:00.565944Z",
     "start_time": "2023-06-28T20:07:00.552960Z"
    }
   }
  },
  {
   "cell_type": "code",
   "execution_count": 44,
   "outputs": [
    {
     "data": {
      "text/plain": "{'kernel': 'linear', 'C': 10}"
     },
     "execution_count": 44,
     "metadata": {},
     "output_type": "execute_result"
    }
   ],
   "source": [
    "classifier.best_params_"
   ],
   "metadata": {
    "collapsed": false,
    "ExecuteTime": {
     "end_time": "2023-06-28T20:07:00.566189Z",
     "start_time": "2023-06-28T20:07:00.555690Z"
    }
   }
  },
  {
   "cell_type": "code",
   "execution_count": 45,
   "outputs": [
    {
     "data": {
      "text/plain": "0.9525694767893185"
     },
     "execution_count": 45,
     "metadata": {},
     "output_type": "execute_result"
    }
   ],
   "source": [
    "classifier.best_score_"
   ],
   "metadata": {
    "collapsed": false,
    "ExecuteTime": {
     "end_time": "2023-06-28T20:07:02.784988Z",
     "start_time": "2023-06-28T20:07:02.778871Z"
    }
   }
  },
  {
   "cell_type": "code",
   "execution_count": null,
   "outputs": [],
   "source": [],
   "metadata": {
    "collapsed": false
   }
  }
 ],
 "metadata": {
  "kernelspec": {
   "display_name": "Python 3",
   "language": "python",
   "name": "python3"
  },
  "language_info": {
   "codemirror_mode": {
    "name": "ipython",
    "version": 2
   },
   "file_extension": ".py",
   "mimetype": "text/x-python",
   "name": "python",
   "nbconvert_exporter": "python",
   "pygments_lexer": "ipython2",
   "version": "2.7.6"
  }
 },
 "nbformat": 4,
 "nbformat_minor": 0
}
