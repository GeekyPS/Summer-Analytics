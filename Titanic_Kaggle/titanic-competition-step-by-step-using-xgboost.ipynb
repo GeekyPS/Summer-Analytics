{
 "cells": [
  {
   "cell_type": "markdown",
   "id": "078df536",
   "metadata": {
    "execution": {
     "iopub.execute_input": "2023-03-31T12:12:07.166226Z",
     "iopub.status.busy": "2023-03-31T12:12:07.165711Z",
     "iopub.status.idle": "2023-03-31T12:12:07.173500Z",
     "shell.execute_reply": "2023-03-31T12:12:07.172090Z",
     "shell.execute_reply.started": "2023-03-31T12:12:07.166185Z"
    },
    "papermill": {
     "duration": 0.048911,
     "end_time": "2023-05-20T11:31:31.146000",
     "exception": false,
     "start_time": "2023-05-20T11:31:31.097089",
     "status": "completed"
    },
    "tags": []
   },
   "source": [
    "# Contents\n",
    "1. Introduction.\n",
    "2. Import Necessary Libraries and Load Data.\n",
    "3. Exploratory Data Analysis.\n",
    "4. Correlation.\n",
    "5. Data Wrangling.\n",
    "6. Feature Selection.\n",
    "7. Tuning Xgboost Model\n",
    "8. Training and Evaluationg the XGBoost Model.\n",
    "9. Calculating Test Predictions and Creating Submission File.\n",
    "10. Model Interpretaion.\n",
    "11. Thank you."
   ]
  },
  {
   "cell_type": "markdown",
   "id": "9ea67d85",
   "metadata": {
    "papermill": {
     "duration": 0.045118,
     "end_time": "2023-05-20T11:31:31.235942",
     "exception": false,
     "start_time": "2023-05-20T11:31:31.190824",
     "status": "completed"
    },
    "tags": []
   },
   "source": [
    "# 1. Introduction\n",
    "\n",
    "This notebook implements an XGBoost model to predict the likelihood of survival for passengers aboard the Titanic using information provided in the Kaggle.com Titanic competition dataset.\n",
    "\n",
    "## 1.1 Dataset\n",
    "The Titanic dataset was obtained from the Kaggle Titanic - Machine Learning from Disaster competition. [Titanic - Machine Learning from Disaster](https://www.kaggle.com/competitions/titanic/overview)\n",
    "\n",
    "## 1.2 Context\n",
    "Quoting \"The Challenge\" as described on the Kaggle Titanic competition page:\n",
    "\n",
    "- On April 15, 1912, during her maiden voyage, the widely considered “unsinkable” RMS Titanic sank after colliding with an iceberg. Unfortunately, there weren’t enough lifeboats for everyone onboard, resulting in the death of 1502 out of 2224 passengers and crew.\n",
    "- While there was some element of luck involved in surviving, it seems some groups of people were more likely to survive than others.\n",
    "- In this challenge, we ask you to build a predictive model that answers the question: “what sorts of people were more likely to survive?” using passenger data (i.e., name, age, gender, socio-economic class, etc).\n",
    "\n",
    "## 1.2 Note to Readers\n",
    "I created this notebook as an attempt to approach the Titanic Problem in a step-by-step way that would be helpful for beginners. I hope that those who review this notebook will be generous with their comments, criticisms, and advice, both positive and negative. <br>\n",
    "Thank you for your time, and I wish you all the best!"
   ]
  },
  {
   "cell_type": "markdown",
   "id": "26c96a38",
   "metadata": {
    "papermill": {
     "duration": 0.044951,
     "end_time": "2023-05-20T11:31:31.326022",
     "exception": false,
     "start_time": "2023-05-20T11:31:31.281071",
     "status": "completed"
    },
    "tags": []
   },
   "source": [
    "# 2. Import Necessary Libraries and Load Data"
   ]
  },
  {
   "cell_type": "code",
   "execution_count": 3,
   "id": "f4cf6dff",
   "metadata": {
    "execution": {
     "iopub.execute_input": "2023-05-20T11:31:31.418493Z",
     "iopub.status.busy": "2023-05-20T11:31:31.417639Z",
     "iopub.status.idle": "2023-05-20T11:31:33.354427Z",
     "shell.execute_reply": "2023-05-20T11:31:33.352367Z"
    },
    "papermill": {
     "duration": 1.986675,
     "end_time": "2023-05-20T11:31:33.358293",
     "exception": false,
     "start_time": "2023-05-20T11:31:31.371618",
     "status": "completed"
    },
    "tags": [],
    "ExecuteTime": {
     "end_time": "2023-06-25T17:54:34.672329Z",
     "start_time": "2023-06-25T17:54:34.661643Z"
    }
   },
   "outputs": [],
   "source": [
    "import pandas as pd\n",
    "import numpy as np\n",
    "import seaborn as sns\n",
    "import matplotlib.pyplot as plt\n",
    "from xgboost import XGBClassifier\n",
    "from sklearn.model_selection import train_test_split, StratifiedKFold, GridSearchCV\n",
    "from sklearn.metrics import accuracy_score, precision_score, recall_score, roc_curve, auc\n",
    "from sklearn.preprocessing import LabelEncoder\n",
    "from xgboost import XGBClassifier\n",
    "\n",
    "plt.style.use('ggplot')\n",
    "pd.set_option('display.max_columns', False)\n",
    "seed= 92"
   ]
  },
  {
   "cell_type": "markdown",
   "id": "559358a4",
   "metadata": {
    "papermill": {
     "duration": 0.044493,
     "end_time": "2023-05-20T11:31:33.456565",
     "exception": false,
     "start_time": "2023-05-20T11:31:33.412072",
     "status": "completed"
    },
    "tags": []
   },
   "source": [
    "loading train and test data into dataframes:"
   ]
  },
  {
   "cell_type": "code",
   "execution_count": 4,
   "id": "923f013a",
   "metadata": {
    "execution": {
     "iopub.execute_input": "2023-05-20T11:31:33.547510Z",
     "iopub.status.busy": "2023-05-20T11:31:33.546952Z",
     "iopub.status.idle": "2023-05-20T11:31:33.589748Z",
     "shell.execute_reply": "2023-05-20T11:31:33.588309Z"
    },
    "papermill": {
     "duration": 0.092031,
     "end_time": "2023-05-20T11:31:33.593137",
     "exception": false,
     "start_time": "2023-05-20T11:31:33.501106",
     "status": "completed"
    },
    "tags": [],
    "ExecuteTime": {
     "end_time": "2023-06-25T17:54:37.084417Z",
     "start_time": "2023-06-25T17:54:37.061481Z"
    }
   },
   "outputs": [],
   "source": [
    "train= pd.read_csv('train.csv')\n",
    "test= pd.read_csv('test.csv')"
   ]
  },
  {
   "cell_type": "markdown",
   "id": "21c2c9b5",
   "metadata": {
    "papermill": {
     "duration": 0.044028,
     "end_time": "2023-05-20T11:31:33.682316",
     "exception": false,
     "start_time": "2023-05-20T11:31:33.638288",
     "status": "completed"
    },
    "tags": []
   },
   "source": [
    "# 3. Exploratory Data Analysis\n",
    "Exploratory Data Analysis (EDA) is an essential step in the data analysis process, which involves examining the data to gain insights and understand its structure and content. In this step, we typically check for duplicates, assess the shape of the data, and identify any initial patterns or trends. EDA helps us get a basic understanding of the data and lays the foundation for further analysis and modeling, so let's do it:"
   ]
  },
  {
   "cell_type": "code",
   "execution_count": 5,
   "id": "706c6a76",
   "metadata": {
    "execution": {
     "iopub.execute_input": "2023-05-20T11:31:33.775336Z",
     "iopub.status.busy": "2023-05-20T11:31:33.774809Z",
     "iopub.status.idle": "2023-05-20T11:31:33.813541Z",
     "shell.execute_reply": "2023-05-20T11:31:33.812331Z"
    },
    "papermill": {
     "duration": 0.089338,
     "end_time": "2023-05-20T11:31:33.816518",
     "exception": false,
     "start_time": "2023-05-20T11:31:33.727180",
     "status": "completed"
    },
    "tags": [],
    "ExecuteTime": {
     "end_time": "2023-06-25T17:54:39.189437Z",
     "start_time": "2023-06-25T17:54:39.155224Z"
    }
   },
   "outputs": [
    {
     "name": "stdout",
     "output_type": "stream",
     "text": [
      "Number of duplicate rows: 0\n",
      "Shape of train:    (891, 12)\n",
      "Shape of test:     (418, 11)\n",
      "Shape of all_data: (1309, 12)\n"
     ]
    }
   ],
   "source": [
    "#Combining train and test\n",
    "all_data = pd.concat([train, test], axis=0).reset_index(drop=True)\n",
    "\n",
    "#Duplicates and shapes\n",
    "print(F\"Number of duplicate rows: {len(all_data.drop('Survived', axis=1))-len(all_data.drop('Survived', axis=1).drop_duplicates())}\")\n",
    "print(f\"Shape of train:    {train.shape}\")\n",
    "print(f\"Shape of test:     {test.shape}\")\n",
    "print(f\"Shape of all_data: {all_data.shape}\")"
   ]
  },
  {
   "cell_type": "markdown",
   "id": "6e7463ac",
   "metadata": {
    "papermill": {
     "duration": 0.046416,
     "end_time": "2023-05-20T11:31:33.911233",
     "exception": false,
     "start_time": "2023-05-20T11:31:33.864817",
     "status": "completed"
    },
    "tags": []
   },
   "source": [
    "`.info()` provides usefull information including names of columns and datatypes:"
   ]
  },
  {
   "cell_type": "code",
   "execution_count": 6,
   "id": "7dc1e7a8",
   "metadata": {
    "execution": {
     "iopub.execute_input": "2023-05-20T11:31:34.010163Z",
     "iopub.status.busy": "2023-05-20T11:31:34.009341Z",
     "iopub.status.idle": "2023-05-20T11:31:34.043246Z",
     "shell.execute_reply": "2023-05-20T11:31:34.041561Z"
    },
    "papermill": {
     "duration": 0.088545,
     "end_time": "2023-05-20T11:31:34.047173",
     "exception": false,
     "start_time": "2023-05-20T11:31:33.958628",
     "status": "completed"
    },
    "tags": [],
    "ExecuteTime": {
     "end_time": "2023-06-25T17:54:40.878418Z",
     "start_time": "2023-06-25T17:54:40.866492Z"
    }
   },
   "outputs": [
    {
     "name": "stdout",
     "output_type": "stream",
     "text": [
      "#TRAIN INFO:\n",
      "<class 'pandas.core.frame.DataFrame'>\n",
      "RangeIndex: 891 entries, 0 to 890\n",
      "Data columns (total 12 columns):\n",
      " #   Column       Non-Null Count  Dtype  \n",
      "---  ------       --------------  -----  \n",
      " 0   PassengerId  891 non-null    int64  \n",
      " 1   Survived     891 non-null    int64  \n",
      " 2   Pclass       891 non-null    int64  \n",
      " 3   Name         891 non-null    object \n",
      " 4   Sex          891 non-null    object \n",
      " 5   Age          714 non-null    float64\n",
      " 6   SibSp        891 non-null    int64  \n",
      " 7   Parch        891 non-null    int64  \n",
      " 8   Ticket       891 non-null    object \n",
      " 9   Fare         891 non-null    float64\n",
      " 10  Cabin        204 non-null    object \n",
      " 11  Embarked     889 non-null    object \n",
      "dtypes: float64(2), int64(5), object(5)\n",
      "memory usage: 83.7+ KB\n",
      "None \n",
      "\n",
      "#TEST INFO:\n",
      "<class 'pandas.core.frame.DataFrame'>\n",
      "RangeIndex: 418 entries, 0 to 417\n",
      "Data columns (total 11 columns):\n",
      " #   Column       Non-Null Count  Dtype  \n",
      "---  ------       --------------  -----  \n",
      " 0   PassengerId  418 non-null    int64  \n",
      " 1   Pclass       418 non-null    int64  \n",
      " 2   Name         418 non-null    object \n",
      " 3   Sex          418 non-null    object \n",
      " 4   Age          332 non-null    float64\n",
      " 5   SibSp        418 non-null    int64  \n",
      " 6   Parch        418 non-null    int64  \n",
      " 7   Ticket       418 non-null    object \n",
      " 8   Fare         417 non-null    float64\n",
      " 9   Cabin        91 non-null     object \n",
      " 10  Embarked     418 non-null    object \n",
      "dtypes: float64(2), int64(4), object(5)\n",
      "memory usage: 36.0+ KB\n",
      "None\n"
     ]
    }
   ],
   "source": [
    "print('#TRAIN INFO:')\n",
    "print(train.info(),'\\n')\n",
    "print('#TEST INFO:')\n",
    "print(test.info())"
   ]
  },
  {
   "cell_type": "markdown",
   "id": "4c248419",
   "metadata": {
    "papermill": {
     "duration": 0.045622,
     "end_time": "2023-05-20T11:31:34.138638",
     "exception": false,
     "start_time": "2023-05-20T11:31:34.093016",
     "status": "completed"
    },
    "tags": []
   },
   "source": [
    "- Training data has 12 columns, 11 variables and the label column \"Survived'.\n",
    "- Test data has 11 columns, columns \"Survived\" is not present as it is what we need to predict."
   ]
  },
  {
   "cell_type": "markdown",
   "id": "8f265c7a",
   "metadata": {
    "papermill": {
     "duration": 0.046427,
     "end_time": "2023-05-20T11:31:34.232802",
     "exception": false,
     "start_time": "2023-05-20T11:31:34.186375",
     "status": "completed"
    },
    "tags": []
   },
   "source": [
    "let's explore the columns one by one:"
   ]
  },
  {
   "cell_type": "markdown",
   "id": "489e5c93",
   "metadata": {
    "papermill": {
     "duration": 0.046095,
     "end_time": "2023-05-20T11:31:34.324390",
     "exception": false,
     "start_time": "2023-05-20T11:31:34.278295",
     "status": "completed"
    },
    "tags": []
   },
   "source": [
    "## 3.1 PassengerId:\n",
    "The identifier column with a datatype of int64. There are no dupicates as shown below."
   ]
  },
  {
   "cell_type": "code",
   "execution_count": 7,
   "id": "71a73c8f",
   "metadata": {
    "execution": {
     "iopub.execute_input": "2023-05-20T11:31:34.420854Z",
     "iopub.status.busy": "2023-05-20T11:31:34.420389Z",
     "iopub.status.idle": "2023-05-20T11:31:34.429888Z",
     "shell.execute_reply": "2023-05-20T11:31:34.428314Z"
    },
    "papermill": {
     "duration": 0.062198,
     "end_time": "2023-05-20T11:31:34.432774",
     "exception": false,
     "start_time": "2023-05-20T11:31:34.370576",
     "status": "completed"
    },
    "tags": [],
    "ExecuteTime": {
     "end_time": "2023-06-25T17:54:43.169515Z",
     "start_time": "2023-06-25T17:54:43.150035Z"
    }
   },
   "outputs": [
    {
     "name": "stdout",
     "output_type": "stream",
     "text": [
      "Number of duplicates in PassengerId column = 0\n"
     ]
    }
   ],
   "source": [
    "print(F\"Number of duplicates in PassengerId column = {len(all_data)-len(pd.unique(all_data['PassengerId']))}\")"
   ]
  },
  {
   "cell_type": "markdown",
   "id": "94544563",
   "metadata": {
    "papermill": {
     "duration": 0.045347,
     "end_time": "2023-05-20T11:31:34.525376",
     "exception": false,
     "start_time": "2023-05-20T11:31:34.480029",
     "status": "completed"
    },
    "tags": []
   },
   "source": [
    "## 3.2 Survived:\n",
    "The label column, with a datatype of int64, it has two values: 0 represents passengers who did not survive, and 1 represents those who did. Among the 891 passengers in the training set, 61.6% survived and 38.4% did not."
   ]
  },
  {
   "cell_type": "code",
   "execution_count": 8,
   "id": "b3157e55",
   "metadata": {
    "execution": {
     "iopub.execute_input": "2023-05-20T11:31:34.619012Z",
     "iopub.status.busy": "2023-05-20T11:31:34.618519Z",
     "iopub.status.idle": "2023-05-20T11:31:34.629647Z",
     "shell.execute_reply": "2023-05-20T11:31:34.628035Z"
    },
    "papermill": {
     "duration": 0.061903,
     "end_time": "2023-05-20T11:31:34.632801",
     "exception": false,
     "start_time": "2023-05-20T11:31:34.570898",
     "status": "completed"
    },
    "tags": [],
    "ExecuteTime": {
     "end_time": "2023-06-25T17:54:44.354466Z",
     "start_time": "2023-06-25T17:54:44.346914Z"
    }
   },
   "outputs": [
    {
     "name": "stdout",
     "output_type": "stream",
     "text": [
      "Value count\n",
      "Survived\n",
      "0    549\n",
      "1    342\n",
      "Name: count, dtype: int64\n",
      "\n",
      "Ratio\n",
      "Survived\n",
      "0    0.616162\n",
      "1    0.383838\n",
      "Name: proportion, dtype: float64\n"
     ]
    }
   ],
   "source": [
    "print(\"Value count\")\n",
    "print(train['Survived'].value_counts())\n",
    "print(\"\\nRatio\")\n",
    "print(train['Survived'].value_counts(normalize= True))"
   ]
  },
  {
   "cell_type": "code",
   "execution_count": 9,
   "id": "cf771bdf",
   "metadata": {
    "execution": {
     "iopub.execute_input": "2023-05-20T11:31:34.727420Z",
     "iopub.status.busy": "2023-05-20T11:31:34.725819Z",
     "iopub.status.idle": "2023-05-20T11:31:34.973604Z",
     "shell.execute_reply": "2023-05-20T11:31:34.972024Z"
    },
    "papermill": {
     "duration": 0.299224,
     "end_time": "2023-05-20T11:31:34.977184",
     "exception": false,
     "start_time": "2023-05-20T11:31:34.677960",
     "status": "completed"
    },
    "tags": [],
    "ExecuteTime": {
     "end_time": "2023-06-25T17:54:45.377947Z",
     "start_time": "2023-06-25T17:54:45.168978Z"
    }
   },
   "outputs": [
    {
     "data": {
      "text/plain": "<Figure size 640x480 with 1 Axes>",
      "image/png": "[encoded data removed]"
     },
     "metadata": {},
     "output_type": "display_data"
    }
   ],
   "source": [
    "sns.countplot(data=train, x='Survived', width= 0.3, alpha= 0.9)\n",
    "plt.xticks(ticks=[0, 1], labels=['Did not survive', 'Survived'])\n",
    "plt.title(\"Survival Count\")\n",
    "plt.xlabel(\"\")\n",
    "plt.show()"
   ]
  },
  {
   "cell_type": "markdown",
   "id": "f32226cd",
   "metadata": {
    "papermill": {
     "duration": 0.046643,
     "end_time": "2023-05-20T11:31:35.070141",
     "exception": false,
     "start_time": "2023-05-20T11:31:35.023498",
     "status": "completed"
    },
    "tags": []
   },
   "source": [
    "## 3.3 Pclass:\n",
    "Refers to Passenger class with a datatype of int64, where 1 represents 1st class, 2 represents 2nd class, and 3 represents 3rd class. It is notable that the survival percentage in the 1st class is the highest."
   ]
  },
  {
   "cell_type": "code",
   "execution_count": 10,
   "id": "2519adc8",
   "metadata": {
    "execution": {
     "iopub.execute_input": "2023-05-20T11:31:35.166785Z",
     "iopub.status.busy": "2023-05-20T11:31:35.166333Z",
     "iopub.status.idle": "2023-05-20T11:31:35.223084Z",
     "shell.execute_reply": "2023-05-20T11:31:35.221571Z"
    },
    "papermill": {
     "duration": 0.108373,
     "end_time": "2023-05-20T11:31:35.226231",
     "exception": false,
     "start_time": "2023-05-20T11:31:35.117858",
     "status": "completed"
    },
    "tags": [],
    "ExecuteTime": {
     "end_time": "2023-06-25T17:54:47.019335Z",
     "start_time": "2023-06-25T17:54:47.003534Z"
    }
   },
   "outputs": [
    {
     "name": "stdout",
     "output_type": "stream",
     "text": [
      "         No  Yes  Total Survival %\n",
      "Pclass                            \n",
      "1        80  136    216      63.0%\n",
      "2        97   87    184      47.3%\n",
      "3       372  119    491      24.2%\n"
     ]
    }
   ],
   "source": [
    "pclass_pivot = train.pivot_table(index='Pclass', columns='Survived', values='PassengerId', aggfunc='count')\n",
    "pclass_pivot.columns = ['No', 'Yes']\n",
    "pclass_pivot['Total'] = pclass_pivot['Yes'] + pclass_pivot['No']\n",
    "pclass_pivot['Survival %'] = round(pclass_pivot['Yes'] / (pclass_pivot['Yes'] + pclass_pivot['No']) * 100,1).astype(str) + '%'\n",
    "print(pclass_pivot)"
   ]
  },
  {
   "cell_type": "code",
   "execution_count": 11,
   "id": "90001adb",
   "metadata": {
    "execution": {
     "iopub.execute_input": "2023-05-20T11:31:35.322057Z",
     "iopub.status.busy": "2023-05-20T11:31:35.321628Z",
     "iopub.status.idle": "2023-05-20T11:31:35.680649Z",
     "shell.execute_reply": "2023-05-20T11:31:35.679307Z"
    },
    "papermill": {
     "duration": 0.409846,
     "end_time": "2023-05-20T11:31:35.683725",
     "exception": false,
     "start_time": "2023-05-20T11:31:35.273879",
     "status": "completed"
    },
    "tags": [],
    "ExecuteTime": {
     "end_time": "2023-06-25T17:54:47.953691Z",
     "start_time": "2023-06-25T17:54:47.730543Z"
    }
   },
   "outputs": [
    {
     "data": {
      "text/plain": "<Figure size 900x300 with 2 Axes>",
      "image/png": "[encoded data removed]"
     },
     "metadata": {},
     "output_type": "display_data"
    }
   ],
   "source": [
    "fig= plt.figure(figsize=(9,3))\n",
    "\n",
    "ax1= plt.subplot(1,2,1)\n",
    "sns.countplot(x=\"Pclass\", data=train, width= 0.5, alpha= 0.9, ax=ax1)\n",
    "ax1.set_title(\"Passenger count by Class\")\n",
    "ax1.set_ylim([0, 550])\n",
    "\n",
    "\n",
    "ax2= plt.subplot(1,2,2)\n",
    "pclass_survival_rate = train.groupby('Pclass')['Survived'].mean().reset_index()\n",
    "sns.barplot(x='Pclass', y='Survived', data=pclass_survival_rate,  alpha= 0.9, width= 0.5, ax= ax2)\n",
    "ax2.set_title('Survival Rate by Class')\n",
    "ax2.set_xlabel('Pclass')\n",
    "ax2.set_ylabel('Survival Rate')\n",
    "ax2.set_ylim([0, 0.75])\n",
    "for p in ax2.patches:\n",
    "    ax2.annotate(f'{p.get_height()*100:.1f}%', (p.get_x() + p.get_width() / 2., p.get_height()),\n",
    "                ha='center', va='center', fontsize=9, color='black', xytext=(0, 8),\n",
    "                textcoords='offset points')\n",
    "\n",
    "plt.subplots_adjust(wspace=0.25)\n",
    "plt.show()"
   ]
  },
  {
   "cell_type": "markdown",
   "id": "eacfe0ca",
   "metadata": {
    "papermill": {
     "duration": 0.046098,
     "end_time": "2023-05-20T11:31:35.777401",
     "exception": false,
     "start_time": "2023-05-20T11:31:35.731303",
     "status": "completed"
    },
    "tags": []
   },
   "source": [
    "## 3.4 Name:\n",
    "This column includes the names of the passengers and their titles. The datatype is object. Upon inspection, there are two duplicate names in the dataset, you can see below that the duplicates have different ages and tickets, so we will assume that they are different people who happen to have the same name by chance."
   ]
  },
  {
   "cell_type": "code",
   "execution_count": 12,
   "id": "9dae3074",
   "metadata": {
    "execution": {
     "iopub.execute_input": "2023-05-20T11:31:35.875757Z",
     "iopub.status.busy": "2023-05-20T11:31:35.874692Z",
     "iopub.status.idle": "2023-05-20T11:31:35.883415Z",
     "shell.execute_reply": "2023-05-20T11:31:35.881717Z"
    },
    "papermill": {
     "duration": 0.062268,
     "end_time": "2023-05-20T11:31:35.886005",
     "exception": false,
     "start_time": "2023-05-20T11:31:35.823737",
     "status": "completed"
    },
    "tags": [],
    "ExecuteTime": {
     "end_time": "2023-06-25T17:54:49.142116Z",
     "start_time": "2023-06-25T17:54:49.101112Z"
    }
   },
   "outputs": [
    {
     "name": "stdout",
     "output_type": "stream",
     "text": [
      "Number of duplicates in Name column = 2\n"
     ]
    }
   ],
   "source": [
    "print(F\"Number of duplicates in Name column = {len(all_data)-len(pd.unique(all_data['Name']))}\")"
   ]
  },
  {
   "cell_type": "code",
   "execution_count": 13,
   "id": "18942ffc",
   "metadata": {
    "execution": {
     "iopub.execute_input": "2023-05-20T11:31:35.983087Z",
     "iopub.status.busy": "2023-05-20T11:31:35.982157Z",
     "iopub.status.idle": "2023-05-20T11:31:36.017951Z",
     "shell.execute_reply": "2023-05-20T11:31:36.016780Z"
    },
    "papermill": {
     "duration": 0.087779,
     "end_time": "2023-05-20T11:31:36.020899",
     "exception": false,
     "start_time": "2023-05-20T11:31:35.933120",
     "status": "completed"
    },
    "tags": [],
    "ExecuteTime": {
     "end_time": "2023-06-25T17:54:50.019783Z",
     "start_time": "2023-06-25T17:54:50.003102Z"
    }
   },
   "outputs": [
    {
     "data": {
      "text/plain": "     PassengerId  Survived  Pclass  ...    Fare Cabin  Embarked\n289          290       1.0       3  ...  7.7500   NaN         Q\n897          898       NaN       3  ...  7.6292   NaN         Q\n696          697       0.0       3  ...  8.0500   NaN         S\n891          892       NaN       3  ...  7.8292   NaN         Q\n\n[4 rows x 12 columns]",
      "text/html": "<div>\n<style scoped>\n    .dataframe tbody tr th:only-of-type {\n        vertical-align: middle;\n    }\n\n    .dataframe tbody tr th {\n        vertical-align: top;\n    }\n\n    .dataframe thead th {\n        text-align: right;\n    }\n</style>\n<table border=\"1\" class=\"dataframe\">\n  <thead>\n    <tr style=\"text-align: right;\">\n      <th></th>\n      <th>PassengerId</th>\n      <th>Survived</th>\n      <th>Pclass</th>\n      <th>Name</th>\n      <th>Sex</th>\n      <th>Age</th>\n      <th>SibSp</th>\n      <th>Parch</th>\n      <th>Ticket</th>\n      <th>Fare</th>\n      <th>Cabin</th>\n      <th>Embarked</th>\n    </tr>\n  </thead>\n  <tbody>\n    <tr>\n      <th>289</th>\n      <td>290</td>\n      <td>1.0</td>\n      <td>3</td>\n      <td>Connolly, Miss. Kate</td>\n      <td>female</td>\n      <td>22.0</td>\n      <td>0</td>\n      <td>0</td>\n      <td>370373</td>\n      <td>7.7500</td>\n      <td>NaN</td>\n      <td>Q</td>\n    </tr>\n    <tr>\n      <th>897</th>\n      <td>898</td>\n      <td>NaN</td>\n      <td>3</td>\n      <td>Connolly, Miss. Kate</td>\n      <td>female</td>\n      <td>30.0</td>\n      <td>0</td>\n      <td>0</td>\n      <td>330972</td>\n      <td>7.6292</td>\n      <td>NaN</td>\n      <td>Q</td>\n    </tr>\n    <tr>\n      <th>696</th>\n      <td>697</td>\n      <td>0.0</td>\n      <td>3</td>\n      <td>Kelly, Mr. James</td>\n      <td>male</td>\n      <td>44.0</td>\n      <td>0</td>\n      <td>0</td>\n      <td>363592</td>\n      <td>8.0500</td>\n      <td>NaN</td>\n      <td>S</td>\n    </tr>\n    <tr>\n      <th>891</th>\n      <td>892</td>\n      <td>NaN</td>\n      <td>3</td>\n      <td>Kelly, Mr. James</td>\n      <td>male</td>\n      <td>34.5</td>\n      <td>0</td>\n      <td>0</td>\n      <td>330911</td>\n      <td>7.8292</td>\n      <td>NaN</td>\n      <td>Q</td>\n    </tr>\n  </tbody>\n</table>\n</div>"
     },
     "execution_count": 13,
     "metadata": {},
     "output_type": "execute_result"
    }
   ],
   "source": [
    "all_data[all_data.duplicated(subset='Name', keep=False)].sort_values('Name')"
   ]
  },
  {
   "cell_type": "markdown",
   "id": "2f727622",
   "metadata": {
    "papermill": {
     "duration": 0.047962,
     "end_time": "2023-05-20T11:31:36.116509",
     "exception": false,
     "start_time": "2023-05-20T11:31:36.068547",
     "status": "completed"
    },
    "tags": []
   },
   "source": [
    "## 3.5 Sex:\n",
    "This column indicates the sex of the passenger, with a datatype of object and values of either male or female. In our training data, we have 577 males and 314 females. Notably, being a female is good predictive of survival as 74.2% of women survived while only 18.9% of men survived."
   ]
  },
  {
   "cell_type": "code",
   "execution_count": 14,
   "id": "520666fa",
   "metadata": {
    "execution": {
     "iopub.execute_input": "2023-05-20T11:31:36.216942Z",
     "iopub.status.busy": "2023-05-20T11:31:36.216143Z",
     "iopub.status.idle": "2023-05-20T11:31:36.249861Z",
     "shell.execute_reply": "2023-05-20T11:31:36.248637Z"
    },
    "papermill": {
     "duration": 0.086945,
     "end_time": "2023-05-20T11:31:36.252683",
     "exception": false,
     "start_time": "2023-05-20T11:31:36.165738",
     "status": "completed"
    },
    "tags": [],
    "ExecuteTime": {
     "end_time": "2023-06-25T17:54:51.650629Z",
     "start_time": "2023-06-25T17:54:51.608489Z"
    }
   },
   "outputs": [
    {
     "data": {
      "text/plain": "         No  Yes  Total Survival %\nSex                               \nfemale   81  233    314      74.2%\nmale    468  109    577      18.9%",
      "text/html": "<div>\n<style scoped>\n    .dataframe tbody tr th:only-of-type {\n        vertical-align: middle;\n    }\n\n    .dataframe tbody tr th {\n        vertical-align: top;\n    }\n\n    .dataframe thead th {\n        text-align: right;\n    }\n</style>\n<table border=\"1\" class=\"dataframe\">\n  <thead>\n    <tr style=\"text-align: right;\">\n      <th></th>\n      <th>No</th>\n      <th>Yes</th>\n      <th>Total</th>\n      <th>Survival %</th>\n    </tr>\n    <tr>\n      <th>Sex</th>\n      <th></th>\n      <th></th>\n      <th></th>\n      <th></th>\n    </tr>\n  </thead>\n  <tbody>\n    <tr>\n      <th>female</th>\n      <td>81</td>\n      <td>233</td>\n      <td>314</td>\n      <td>74.2%</td>\n    </tr>\n    <tr>\n      <th>male</th>\n      <td>468</td>\n      <td>109</td>\n      <td>577</td>\n      <td>18.9%</td>\n    </tr>\n  </tbody>\n</table>\n</div>"
     },
     "execution_count": 14,
     "metadata": {},
     "output_type": "execute_result"
    }
   ],
   "source": [
    "sex_pivot = train.pivot_table(index='Sex', columns='Survived', values='PassengerId', aggfunc='count', fill_value= 0)\n",
    "sex_pivot.columns = ['No', 'Yes']\n",
    "sex_pivot['Total'] = sex_pivot.sum(axis=1)\n",
    "sex_pivot['Survival %'] = round(sex_pivot['Yes'] / sex_pivot['Total']  * 100,1).astype(str) + '%'\n",
    "sex_pivot"
   ]
  },
  {
   "cell_type": "code",
   "execution_count": 15,
   "id": "57760508",
   "metadata": {
    "execution": {
     "iopub.execute_input": "2023-05-20T11:31:36.351335Z",
     "iopub.status.busy": "2023-05-20T11:31:36.350201Z",
     "iopub.status.idle": "2023-05-20T11:31:36.683509Z",
     "shell.execute_reply": "2023-05-20T11:31:36.682302Z"
    },
    "papermill": {
     "duration": 0.385418,
     "end_time": "2023-05-20T11:31:36.686366",
     "exception": false,
     "start_time": "2023-05-20T11:31:36.300948",
     "status": "completed"
    },
    "tags": [],
    "ExecuteTime": {
     "end_time": "2023-06-25T17:54:53.008363Z",
     "start_time": "2023-06-25T17:54:52.870561Z"
    }
   },
   "outputs": [
    {
     "data": {
      "text/plain": "<Figure size 900x300 with 2 Axes>",
      "image/png": "[encoded data removed]"
     },
     "metadata": {},
     "output_type": "display_data"
    }
   ],
   "source": [
    "fig= plt.figure(figsize=(9,3))\n",
    "\n",
    "ax1= plt.subplot(1,2,1)\n",
    "sns.countplot(x=\"Sex\", data=train, width= 0.4, alpha= 0.9, order=['female', 'male'], ax=ax1)\n",
    "ax1.set_title(\"Passenger count by Sex \")\n",
    "ax1.set_ylim([0, 700])\n",
    "\n",
    "\n",
    "ax2= plt.subplot(1,2,2)\n",
    "sex_survival_rate = train.groupby('Sex')['Survived'].mean().reset_index()\n",
    "sns.barplot(x='Sex', y='Survived', data=sex_survival_rate,  alpha= 0.9, width= 0.4, ax= ax2)\n",
    "ax2.set_title('Survival Rate by Sex')\n",
    "ax2.set_xlabel('Sex')\n",
    "ax2.set_ylabel('Survival Rate')\n",
    "ax2.set_ylim([0, 1])\n",
    "for p in ax2.patches:\n",
    "    ax2.annotate(f'{p.get_height()*100:.1f}%', (p.get_x() + p.get_width() / 2., p.get_height()),\n",
    "                ha='center', va='center', fontsize=9, color='black', xytext=(0, 8),\n",
    "                textcoords='offset points')\n",
    "\n",
    "plt.subplots_adjust(wspace=0.3)\n",
    "plt.show()"
   ]
  },
  {
   "cell_type": "markdown",
   "id": "2943643e",
   "metadata": {
    "papermill": {
     "duration": 0.047948,
     "end_time": "2023-05-20T11:31:36.782661",
     "exception": false,
     "start_time": "2023-05-20T11:31:36.734713",
     "status": "completed"
    },
    "tags": []
   },
   "source": [
    "## 3.6 Age:\n",
    "Passenger age, datatype float64.  Let's examine the age distribution in both the train and test datasets. The two histogrom plots in the first line below indicate that the distribution of age in both train and test datasets is comparable, and the kernal density plot (kde) below confirm that. However, when we look at the boxplot of age by survival status, we can see that the age distributions for both the \"survived\" and \"did not survive\" groups appear similar. This suggests that age, on it's own, may not be a strong predictor for survival."
   ]
  },
  {
   "cell_type": "code",
   "execution_count": 16,
   "id": "8a153fa5",
   "metadata": {
    "execution": {
     "iopub.execute_input": "2023-05-20T11:31:36.882324Z",
     "iopub.status.busy": "2023-05-20T11:31:36.881521Z",
     "iopub.status.idle": "2023-05-20T11:31:37.669388Z",
     "shell.execute_reply": "2023-05-20T11:31:37.667941Z"
    },
    "papermill": {
     "duration": 0.841743,
     "end_time": "2023-05-20T11:31:37.672877",
     "exception": false,
     "start_time": "2023-05-20T11:31:36.831134",
     "status": "completed"
    },
    "tags": [],
    "ExecuteTime": {
     "end_time": "2023-06-25T17:54:54.966259Z",
     "start_time": "2023-06-25T17:54:54.099874Z"
    }
   },
   "outputs": [
    {
     "data": {
      "text/plain": "<Figure size 1000x700 with 4 Axes>",
      "image/png": "[encoded data removed]"
     },
     "metadata": {},
     "output_type": "display_data"
    }
   ],
   "source": [
    "fig = plt.figure(figsize=(10, 7))\n",
    "\n",
    "ax1 = plt.subplot(2, 2, 1)\n",
    "count, bin_edges = np.histogram(train['Age'].dropna(), bins=range(0, 90, 5))\n",
    "ax1.hist(train['Age'].dropna(), bins=bin_edges, alpha= 0.45, density=True, color='blue', edgecolor='white')\n",
    "ax1.set_title('train dataset', fontsize=13)\n",
    "\n",
    "ax2 = plt.subplot(2, 2, 2)\n",
    "count, bin_edges = np.histogram(test['Age'].dropna(), bins=range(0, 90, 5))\n",
    "ax2.hist(test['Age'].dropna(), bins=bin_edges, alpha= 0.45, density=True, color='blue', edgecolor='white')\n",
    "ax2.set_title('test dataset', fontsize=13)\n",
    "\n",
    "ax3 = plt.subplot(2, 2, 3)\n",
    "sns.kdeplot(data=train, x='Age', color='green', label='train', linewidth= 1, ax=ax3)\n",
    "sns.kdeplot(data=test, x='Age', color='red', label='test', linewidth= 1, ax=ax3)\n",
    "plt.legend()\n",
    "ax3.set_title('kde plot of train and test', fontsize=13)\n",
    "\n",
    "ax4 = plt.subplot(2, 2, 4)\n",
    "sns.boxplot(data=train.dropna(subset=['Age']), y=\"Age\", x=\"Survived\", ax=ax4)\n",
    "ax4.set_xticks([0, 1], ['Did not survive', 'Survived'])\n",
    "ax4.set_title(\"Boxplot of Age by Survival Status\")\n",
    "ax4.set_xlabel(\"\")\n",
    "\n",
    "plt.subplots_adjust(hspace=0.3, wspace=0.3)\n",
    "plt.suptitle('Age distribution in train and test datasets', y=0.97, fontsize=15)\n",
    "\n",
    "plt.show()"
   ]
  },
  {
   "cell_type": "markdown",
   "id": "cbaee881",
   "metadata": {
    "papermill": {
     "duration": 0.050206,
     "end_time": "2023-05-20T11:31:37.772315",
     "exception": false,
     "start_time": "2023-05-20T11:31:37.722109",
     "status": "completed"
    },
    "tags": []
   },
   "source": [
    "## 3.7 SibSp:\n",
    "Represents the number of siblings and spouses a passenger had aboard. Its datatype is int64. We can see in the plot below that the majority of passengers didn't have siblings or spouses aboard, and those who had one or two SibSp have the highest survival rate, we also can see that none of the passengers with 5 or 6 SibSp survived."
   ]
  },
  {
   "cell_type": "code",
   "execution_count": 17,
   "id": "ff86f1d4",
   "metadata": {
    "execution": {
     "iopub.execute_input": "2023-05-20T11:31:37.875514Z",
     "iopub.status.busy": "2023-05-20T11:31:37.875022Z",
     "iopub.status.idle": "2023-05-20T11:31:38.456489Z",
     "shell.execute_reply": "2023-05-20T11:31:38.455040Z"
    },
    "papermill": {
     "duration": 0.637316,
     "end_time": "2023-05-20T11:31:38.459605",
     "exception": false,
     "start_time": "2023-05-20T11:31:37.822289",
     "status": "completed"
    },
    "tags": [],
    "ExecuteTime": {
     "end_time": "2023-06-25T17:54:56.731322Z",
     "start_time": "2023-06-25T17:54:56.496364Z"
    }
   },
   "outputs": [
    {
     "data": {
      "text/plain": "<Figure size 1000x300 with 2 Axes>",
      "image/png": "[encoded data removed]"
     },
     "metadata": {},
     "output_type": "display_data"
    }
   ],
   "source": [
    "fig= plt.figure(figsize=(10,3))\n",
    "\n",
    "ax1= plt.subplot(1,2,1)\n",
    "sns.countplot(x=\"SibSp\", data=train, alpha= 0.8, ax=ax1)\n",
    "ax1.set_title(\"Passenger count by SibSp \")\n",
    "ax1.set_ylim([0, 650])\n",
    "\n",
    "ax2= plt.subplot(1,2,2)\n",
    "sibsp_survival_rate = train.groupby('SibSp')['Survived'].mean().reset_index()\n",
    "sns.barplot(x='SibSp', y='Survived', data=sibsp_survival_rate, alpha= 0.8, color='grey', ax= ax2)\n",
    "for i in range(1,3):\n",
    "    plt.gca().get_children()[i].set_color('g')\n",
    "ax2.set_title('Survival Rate by SibSp')\n",
    "ax2.set_xlabel('SibSp')\n",
    "ax2.set_ylabel('Survival Rate')\n",
    "ax2.set_ylim([0, 0.6])\n",
    "for p in ax2.patches:\n",
    "    ax2.annotate(f'{p.get_height()*100:.1f}%', (p.get_x() + p.get_width() / 2., p.get_height()),\n",
    "                ha='center', va='center', fontsize=9, color='black', xytext=(0, 8),\n",
    "                textcoords='offset points')\n",
    "\n",
    "plt.subplots_adjust(wspace=0.25)\n",
    "plt.show()"
   ]
  },
  {
   "cell_type": "markdown",
   "id": "ae88eec9",
   "metadata": {
    "papermill": {
     "duration": 0.049695,
     "end_time": "2023-05-20T11:31:38.560104",
     "exception": false,
     "start_time": "2023-05-20T11:31:38.510409",
     "status": "completed"
    },
    "tags": []
   },
   "source": [
    "Here are the detailed counts for each category in the SibSp column:"
   ]
  },
  {
   "cell_type": "code",
   "execution_count": 84,
   "id": "60d945d2",
   "metadata": {
    "execution": {
     "iopub.execute_input": "2023-05-20T11:31:38.662173Z",
     "iopub.status.busy": "2023-05-20T11:31:38.661595Z",
     "iopub.status.idle": "2023-05-20T11:31:38.698438Z",
     "shell.execute_reply": "2023-05-20T11:31:38.696725Z"
    },
    "papermill": {
     "duration": 0.091644,
     "end_time": "2023-05-20T11:31:38.701747",
     "exception": false,
     "start_time": "2023-05-20T11:31:38.610103",
     "status": "completed"
    },
    "tags": [],
    "ExecuteTime": {
     "end_time": "2023-06-25T17:57:38.409818Z",
     "start_time": "2023-06-25T17:57:38.393602Z"
    }
   },
   "outputs": [
    {
     "data": {
      "text/plain": "        No  Yes  Total Survival %\nSibSp                            \n0      398  210    608      34.5%\n1       97  112    209      53.6%\n2       15   13     28      46.4%\n3       12    4     16      25.0%\n4       15    3     18      16.7%\n5        5    0      5       0.0%\n8        7    0      7       0.0%",
      "text/html": "<div>\n<style scoped>\n    .dataframe tbody tr th:only-of-type {\n        vertical-align: middle;\n    }\n\n    .dataframe tbody tr th {\n        vertical-align: top;\n    }\n\n    .dataframe thead th {\n        text-align: right;\n    }\n</style>\n<table border=\"1\" class=\"dataframe\">\n  <thead>\n    <tr style=\"text-align: right;\">\n      <th></th>\n      <th>No</th>\n      <th>Yes</th>\n      <th>Total</th>\n      <th>Survival %</th>\n    </tr>\n    <tr>\n      <th>SibSp</th>\n      <th></th>\n      <th></th>\n      <th></th>\n      <th></th>\n    </tr>\n  </thead>\n  <tbody>\n    <tr>\n      <th>0</th>\n      <td>398</td>\n      <td>210</td>\n      <td>608</td>\n      <td>34.5%</td>\n    </tr>\n    <tr>\n      <th>1</th>\n      <td>97</td>\n      <td>112</td>\n      <td>209</td>\n      <td>53.6%</td>\n    </tr>\n    <tr>\n      <th>2</th>\n      <td>15</td>\n      <td>13</td>\n      <td>28</td>\n      <td>46.4%</td>\n    </tr>\n    <tr>\n      <th>3</th>\n      <td>12</td>\n      <td>4</td>\n      <td>16</td>\n      <td>25.0%</td>\n    </tr>\n    <tr>\n      <th>4</th>\n      <td>15</td>\n      <td>3</td>\n      <td>18</td>\n      <td>16.7%</td>\n    </tr>\n    <tr>\n      <th>5</th>\n      <td>5</td>\n      <td>0</td>\n      <td>5</td>\n      <td>0.0%</td>\n    </tr>\n    <tr>\n      <th>8</th>\n      <td>7</td>\n      <td>0</td>\n      <td>7</td>\n      <td>0.0%</td>\n    </tr>\n  </tbody>\n</table>\n</div>"
     },
     "execution_count": 84,
     "metadata": {},
     "output_type": "execute_result"
    }
   ],
   "source": [
    "SibSp_pivot= train.pivot_table(index= 'SibSp', columns='Survived', values='PassengerId', aggfunc='count', fill_value= 0)\n",
    "SibSp_pivot.columns= ['No','Yes']\n",
    "SibSp_pivot['Total'] = SibSp_pivot.sum(axis=1)\n",
    "SibSp_pivot['Survival %']= round(SibSp_pivot['Yes']/SibSp_pivot['Total']*100,1).astype(str) + '%'\n",
    "SibSp_pivot"
   ]
  },
  {
   "cell_type": "markdown",
   "id": "bef4bfdd",
   "metadata": {
    "papermill": {
     "duration": 0.04992,
     "end_time": "2023-05-20T11:31:38.802608",
     "exception": false,
     "start_time": "2023-05-20T11:31:38.752688",
     "status": "completed"
    },
    "tags": []
   },
   "source": [
    "## 3.8 Parch:\n",
    "Refers to the number of parents and/or children aboard. It is an int64 data type. We see below that the majority of passengers did not have parents or children aboard, and people with 2,3 and 4 Parch has the highest survival rate."
   ]
  },
  {
   "cell_type": "code",
   "execution_count": 19,
   "id": "572ee687",
   "metadata": {
    "execution": {
     "iopub.execute_input": "2023-05-20T11:31:38.905895Z",
     "iopub.status.busy": "2023-05-20T11:31:38.905484Z",
     "iopub.status.idle": "2023-05-20T11:31:39.354916Z",
     "shell.execute_reply": "2023-05-20T11:31:39.353399Z"
    },
    "papermill": {
     "duration": 0.505398,
     "end_time": "2023-05-20T11:31:39.358123",
     "exception": false,
     "start_time": "2023-05-20T11:31:38.852725",
     "status": "completed"
    },
    "tags": [],
    "ExecuteTime": {
     "end_time": "2023-06-25T17:54:58.204020Z",
     "start_time": "2023-06-25T17:54:57.922234Z"
    }
   },
   "outputs": [
    {
     "data": {
      "text/plain": "<Figure size 1000x300 with 2 Axes>",
      "image/png": "[encoded data removed]"
     },
     "metadata": {},
     "output_type": "display_data"
    }
   ],
   "source": [
    "fig= plt.figure(figsize=(10,3))\n",
    "\n",
    "ax1= plt.subplot(1,2,1)\n",
    "sns.countplot(x=\"Parch\", data=train, alpha= 0.8, ax=ax1)\n",
    "ax1.set_title(\"Passenger count by Parch \")\n",
    "ax1.set_ylim([0, 750])\n",
    "\n",
    "ax2= plt.subplot(1,2,2)\n",
    "Parch_survival_rate = train.groupby('Parch')['Survived'].mean().reset_index().sort_values(by='Survived', ascending=False)\n",
    "sns.barplot(x='Parch', y='Survived', data=Parch_survival_rate, alpha= 0.8, color='grey', ax= ax2)\n",
    "for i in range(1,4):\n",
    "    plt.gca().get_children()[i].set_color('g')\n",
    "ax2.set_title('Survival Rate by Parch')\n",
    "ax2.set_xlabel('Parch')\n",
    "ax2.set_ylabel('Survival Rate')\n",
    "ax2.set_ylim([0, 0.7])\n",
    "for p in ax2.patches:\n",
    "    ax2.annotate(f'{p.get_height()*100:.1f}%', (p.get_x() + p.get_width() / 2., p.get_height()),\n",
    "                ha='center', va='center', fontsize=9, color='black', xytext=(0, 8),\n",
    "                textcoords='offset points')\n",
    "\n",
    "plt.subplots_adjust(wspace=0.25)\n",
    "plt.show()"
   ]
  },
  {
   "cell_type": "markdown",
   "id": "6191747f",
   "metadata": {
    "papermill": {
     "duration": 0.051996,
     "end_time": "2023-05-20T11:31:39.461905",
     "exception": false,
     "start_time": "2023-05-20T11:31:39.409909",
     "status": "completed"
    },
    "tags": []
   },
   "source": [
    "Here are the detailed counts for each category in the Parch column:"
   ]
  },
  {
   "cell_type": "code",
   "execution_count": 20,
   "id": "138fff42",
   "metadata": {
    "execution": {
     "iopub.execute_input": "2023-05-20T11:31:39.568704Z",
     "iopub.status.busy": "2023-05-20T11:31:39.568232Z",
     "iopub.status.idle": "2023-05-20T11:31:39.601742Z",
     "shell.execute_reply": "2023-05-20T11:31:39.600321Z"
    },
    "papermill": {
     "duration": 0.088858,
     "end_time": "2023-05-20T11:31:39.604513",
     "exception": false,
     "start_time": "2023-05-20T11:31:39.515655",
     "status": "completed"
    },
    "tags": [],
    "ExecuteTime": {
     "end_time": "2023-06-25T17:54:58.403811Z",
     "start_time": "2023-06-25T17:54:58.336737Z"
    }
   },
   "outputs": [
    {
     "data": {
      "text/plain": "        No  Yes  Total Survival %\nParch                            \n0      445  233    678      34.4%\n1       53   65    118      55.1%\n2       40   40     80      50.0%\n3        2    3      5      60.0%\n4        4    0      4       0.0%\n5        4    1      5      20.0%\n6        1    0      1       0.0%",
      "text/html": "<div>\n<style scoped>\n    .dataframe tbody tr th:only-of-type {\n        vertical-align: middle;\n    }\n\n    .dataframe tbody tr th {\n        vertical-align: top;\n    }\n\n    .dataframe thead th {\n        text-align: right;\n    }\n</style>\n<table border=\"1\" class=\"dataframe\">\n  <thead>\n    <tr style=\"text-align: right;\">\n      <th></th>\n      <th>No</th>\n      <th>Yes</th>\n      <th>Total</th>\n      <th>Survival %</th>\n    </tr>\n    <tr>\n      <th>Parch</th>\n      <th></th>\n      <th></th>\n      <th></th>\n      <th></th>\n    </tr>\n  </thead>\n  <tbody>\n    <tr>\n      <th>0</th>\n      <td>445</td>\n      <td>233</td>\n      <td>678</td>\n      <td>34.4%</td>\n    </tr>\n    <tr>\n      <th>1</th>\n      <td>53</td>\n      <td>65</td>\n      <td>118</td>\n      <td>55.1%</td>\n    </tr>\n    <tr>\n      <th>2</th>\n      <td>40</td>\n      <td>40</td>\n      <td>80</td>\n      <td>50.0%</td>\n    </tr>\n    <tr>\n      <th>3</th>\n      <td>2</td>\n      <td>3</td>\n      <td>5</td>\n      <td>60.0%</td>\n    </tr>\n    <tr>\n      <th>4</th>\n      <td>4</td>\n      <td>0</td>\n      <td>4</td>\n      <td>0.0%</td>\n    </tr>\n    <tr>\n      <th>5</th>\n      <td>4</td>\n      <td>1</td>\n      <td>5</td>\n      <td>20.0%</td>\n    </tr>\n    <tr>\n      <th>6</th>\n      <td>1</td>\n      <td>0</td>\n      <td>1</td>\n      <td>0.0%</td>\n    </tr>\n  </tbody>\n</table>\n</div>"
     },
     "execution_count": 20,
     "metadata": {},
     "output_type": "execute_result"
    }
   ],
   "source": [
    "parch_pivot= train.pivot_table(index= 'Parch', columns='Survived', values='PassengerId', aggfunc='count', fill_value= 0)\n",
    "parch_pivot.columns= ['No','Yes']\n",
    "parch_pivot['Total'] = parch_pivot.sum(axis=1)\n",
    "parch_pivot['Survival %']= round(parch_pivot['Yes']/parch_pivot['Total']*100,1).astype(str) +'%'\n",
    "parch_pivot"
   ]
  },
  {
   "cell_type": "markdown",
   "id": "4081f008",
   "metadata": {
    "papermill": {
     "duration": 0.051226,
     "end_time": "2023-05-20T11:31:39.706763",
     "exception": false,
     "start_time": "2023-05-20T11:31:39.655537",
     "status": "completed"
    },
    "tags": []
   },
   "source": [
    "## 3.9 Ticket:\n",
    "Ticket number, datatype object. We notice below that a ticket number might belong to more than one passenger and some of the tickets has a string prefix."
   ]
  },
  {
   "cell_type": "code",
   "execution_count": 21,
   "id": "7e5e9f60",
   "metadata": {
    "execution": {
     "iopub.execute_input": "2023-05-20T11:31:39.814327Z",
     "iopub.status.busy": "2023-05-20T11:31:39.813403Z",
     "iopub.status.idle": "2023-05-20T11:31:39.824806Z",
     "shell.execute_reply": "2023-05-20T11:31:39.823503Z"
    },
    "papermill": {
     "duration": 0.067029,
     "end_time": "2023-05-20T11:31:39.827537",
     "exception": false,
     "start_time": "2023-05-20T11:31:39.760508",
     "status": "completed"
    },
    "tags": [],
    "ExecuteTime": {
     "end_time": "2023-06-25T17:54:58.918776Z",
     "start_time": "2023-06-25T17:54:58.901893Z"
    }
   },
   "outputs": [
    {
     "data": {
      "text/plain": "Ticket\n347082      7\nCA. 2343    7\n1601        7\n3101295     6\nCA 2144     6\n           ..\n9234        1\n19988       1\n2693        1\nPC 17612    1\n370376      1\nName: count, Length: 681, dtype: int64"
     },
     "execution_count": 21,
     "metadata": {},
     "output_type": "execute_result"
    }
   ],
   "source": [
    "train['Ticket'].value_counts()"
   ]
  },
  {
   "cell_type": "markdown",
   "id": "2579445f",
   "metadata": {
    "papermill": {
     "duration": 0.05266,
     "end_time": "2023-05-20T11:31:39.931151",
     "exception": false,
     "start_time": "2023-05-20T11:31:39.878491",
     "status": "completed"
    },
    "tags": []
   },
   "source": [
    "## 3.10 Fare:\n",
    "Passenger Fare (British pound), datatype float64. As we saw before with the age variable, the ditribution of fare between train and test datasets is comparable. However,the boxplot shows that the majority of passengers who didn't survive paid less than the median fare paid by passengers who suvived . we also see that the fare varies, as there are 248 unique fare amounts paid. <br>\n",
    "Note: in the boxplot, I eleminated the one passenger who paid more than 500 as this outlier was causing the whole plot to be more compressed, you can undo that by deleting the condition \"[train['Fare']<500]\""
   ]
  },
  {
   "cell_type": "code",
   "execution_count": 22,
   "id": "e9203349",
   "metadata": {
    "execution": {
     "iopub.execute_input": "2023-05-20T11:31:40.038608Z",
     "iopub.status.busy": "2023-05-20T11:31:40.038106Z",
     "iopub.status.idle": "2023-05-20T11:31:40.045305Z",
     "shell.execute_reply": "2023-05-20T11:31:40.044265Z"
    },
    "papermill": {
     "duration": 0.064443,
     "end_time": "2023-05-20T11:31:40.048154",
     "exception": false,
     "start_time": "2023-05-20T11:31:39.983711",
     "status": "completed"
    },
    "tags": [],
    "ExecuteTime": {
     "end_time": "2023-06-25T17:54:59.102591Z",
     "start_time": "2023-06-25T17:54:59.092357Z"
    }
   },
   "outputs": [
    {
     "name": "stdout",
     "output_type": "stream",
     "text": [
      "Number of unique Fare values= 248\n"
     ]
    }
   ],
   "source": [
    "print(F\"Number of unique Fare values= {len(pd.unique(train['Fare']))}\")"
   ]
  },
  {
   "cell_type": "code",
   "execution_count": 23,
   "id": "46069bd3",
   "metadata": {
    "execution": {
     "iopub.execute_input": "2023-05-20T11:31:40.153732Z",
     "iopub.status.busy": "2023-05-20T11:31:40.152879Z",
     "iopub.status.idle": "2023-05-20T11:31:40.887665Z",
     "shell.execute_reply": "2023-05-20T11:31:40.886276Z"
    },
    "papermill": {
     "duration": 0.792877,
     "end_time": "2023-05-20T11:31:40.892306",
     "exception": false,
     "start_time": "2023-05-20T11:31:40.099429",
     "status": "completed"
    },
    "tags": [],
    "ExecuteTime": {
     "end_time": "2023-06-25T17:54:59.790581Z",
     "start_time": "2023-06-25T17:54:59.196626Z"
    }
   },
   "outputs": [
    {
     "data": {
      "text/plain": "<Figure size 1000x700 with 4 Axes>",
      "image/png": "[encoded data removed]"
     },
     "metadata": {},
     "output_type": "display_data"
    }
   ],
   "source": [
    "fig = plt.figure(figsize=(10, 7))\n",
    "\n",
    "ax1 = plt.subplot(2, 2, 1)\n",
    "count, bin_edges = np.histogram(train['Fare'], bins=range(0, 90, 5))\n",
    "ax1.hist(train['Fare'].dropna(), bins=bin_edges, alpha= 0.45, density=True, color='blue', edgecolor='white')\n",
    "ax1.set_title('train dataset', fontsize=13)\n",
    "\n",
    "ax2 = plt.subplot(2, 2, 2)\n",
    "count, bin_edges = np.histogram(test['Fare'], bins=range(0, 90, 5))\n",
    "ax2.hist(test['Fare'].dropna(), bins=bin_edges, alpha= 0.45, density=True, color='blue', edgecolor='white')\n",
    "ax2.set_title('test dataset', fontsize=13)\n",
    "\n",
    "ax3 = plt.subplot(2, 2, 3)\n",
    "sns.kdeplot(data=train, x='Fare', color='green', label='train', linewidth= 1, ax=ax3)\n",
    "sns.kdeplot(data=test, x='Fare', color='red', label='test', linewidth= 1, ax=ax3)\n",
    "ax3.legend()\n",
    "ax3.set_title('kde plot of train and test', fontsize=13)\n",
    "\n",
    "ax4 = plt.subplot(2, 2, 4)\n",
    "sns.boxplot(data=train[train['Fare']<500], y=\"Fare\", x=\"Survived\", ax=ax4)\n",
    "ax4.set_xticks([0, 1], ['Did not survive', 'Survived'])\n",
    "ax4.set_title(\"Boxplot of Fare by Survival Status\")\n",
    "ax4.set_xlabel(\"\")\n",
    "\n",
    "plt.subplots_adjust(hspace=0.4, wspace=0.3)\n",
    "plt.suptitle('Fare distribution in train and test datasets', y=0.97, fontsize=15)\n",
    "plt.show()"
   ]
  },
  {
   "cell_type": "markdown",
   "id": "9e3bb623",
   "metadata": {
    "papermill": {
     "duration": 0.055368,
     "end_time": "2023-05-20T11:31:41.004708",
     "exception": false,
     "start_time": "2023-05-20T11:31:40.949340",
     "status": "completed"
    },
    "tags": []
   },
   "source": [
    "## 3.11 Cabin:\n",
    "The Cabin column contains a combination of letters and numbers that correspond to a passenger's assigned cabin. We can observe from the data that some passengers were assigned multiple cabins, and when this occurs, all the cabins share the same letter. Based on this observation, we can group passengers by the letter in their cabin code."
   ]
  },
  {
   "cell_type": "code",
   "execution_count": 24,
   "id": "7fe25656",
   "metadata": {
    "execution": {
     "iopub.execute_input": "2023-05-20T11:31:41.116846Z",
     "iopub.status.busy": "2023-05-20T11:31:41.116436Z",
     "iopub.status.idle": "2023-05-20T11:31:41.128257Z",
     "shell.execute_reply": "2023-05-20T11:31:41.126778Z"
    },
    "papermill": {
     "duration": 0.071714,
     "end_time": "2023-05-20T11:31:41.131301",
     "exception": false,
     "start_time": "2023-05-20T11:31:41.059587",
     "status": "completed"
    },
    "tags": [],
    "ExecuteTime": {
     "end_time": "2023-06-25T17:54:59.792800Z",
     "start_time": "2023-06-25T17:54:59.738072Z"
    }
   },
   "outputs": [
    {
     "data": {
      "text/plain": "Cabin\nB96 B98        4\nG6             4\nC23 C25 C27    4\nC22 C26        3\nF33            3\n              ..\nE34            1\nC7             1\nC54            1\nE36            1\nC148           1\nName: count, Length: 147, dtype: int64"
     },
     "execution_count": 24,
     "metadata": {},
     "output_type": "execute_result"
    }
   ],
   "source": [
    "train['Cabin'].value_counts()"
   ]
  },
  {
   "cell_type": "markdown",
   "id": "548108e0",
   "metadata": {
    "papermill": {
     "duration": 0.058266,
     "end_time": "2023-05-20T11:31:41.245837",
     "exception": false,
     "start_time": "2023-05-20T11:31:41.187571",
     "status": "completed"
    },
    "tags": []
   },
   "source": [
    "## 3.12 Embarked:\n",
    "The \"Embarked\" column represents the port of embarkation and has a datatype of object. The values are \"C\" for Cherbourg, \"Q\" for Queenstown, and \"S\" for Southampton. We can see below that the majority of passengers who did not survive embarked in Southampton."
   ]
  },
  {
   "cell_type": "code",
   "execution_count": 25,
   "id": "b0fe1362",
   "metadata": {
    "execution": {
     "iopub.execute_input": "2023-05-20T11:31:41.356981Z",
     "iopub.status.busy": "2023-05-20T11:31:41.356482Z",
     "iopub.status.idle": "2023-05-20T11:31:41.733329Z",
     "shell.execute_reply": "2023-05-20T11:31:41.731823Z"
    },
    "papermill": {
     "duration": 0.436976,
     "end_time": "2023-05-20T11:31:41.736369",
     "exception": false,
     "start_time": "2023-05-20T11:31:41.299393",
     "status": "completed"
    },
    "tags": [],
    "ExecuteTime": {
     "end_time": "2023-06-25T17:54:59.965810Z",
     "start_time": "2023-06-25T17:54:59.762017Z"
    }
   },
   "outputs": [
    {
     "data": {
      "text/plain": "<Figure size 900x300 with 2 Axes>",
      "image/png": "[encoded data removed]"
     },
     "metadata": {},
     "output_type": "display_data"
    }
   ],
   "source": [
    "fig= plt.figure(figsize=(9,3))\n",
    "\n",
    "ax1= plt.subplot(1,2,1)\n",
    "sns.countplot(x=\"Embarked\", data=train, width= 0.4, alpha= 0.9, order=['C', 'Q', 'S'], ax=ax1)\n",
    "ax1.set_title(\"Passenger count by port of embarkation\", fontsize=10)\n",
    "ax1.set_ylim([0, 700])\n",
    "\n",
    "\n",
    "ax2= plt.subplot(1,2,2)\n",
    "Embarked_survival_rate = train.groupby('Embarked')['Survived'].mean().reset_index()\n",
    "sns.barplot(x='Embarked', y='Survived', data=Embarked_survival_rate,  alpha= 0.9, width= 0.4, ax= ax2)\n",
    "ax2.set_title('Survival Rate by port of embarkation', fontsize=10)\n",
    "ax2.set_xlabel('Embarked')\n",
    "ax2.set_ylabel('Survival Rate')\n",
    "ax2.set_ylim([0, 0.65])\n",
    "for p in ax2.patches:\n",
    "    ax2.annotate(f'{p.get_height()*100:.1f}%', (p.get_x() + p.get_width() / 2., p.get_height()),\n",
    "                ha='center', va='center', fontsize=9, color='black', xytext=(0, 8),\n",
    "                textcoords='offset points')\n",
    "\n",
    "plt.subplots_adjust(wspace=0.5)\n",
    "plt.show()"
   ]
  },
  {
   "cell_type": "markdown",
   "id": "31516d31",
   "metadata": {
    "papermill": {
     "duration": 0.053525,
     "end_time": "2023-05-20T11:31:41.843797",
     "exception": false,
     "start_time": "2023-05-20T11:31:41.790272",
     "status": "completed"
    },
    "tags": []
   },
   "source": [
    "Here are the detailed counts for each category in the Embarked column:"
   ]
  },
  {
   "cell_type": "code",
   "execution_count": 26,
   "id": "51904ffb",
   "metadata": {
    "execution": {
     "iopub.execute_input": "2023-05-20T11:31:41.955831Z",
     "iopub.status.busy": "2023-05-20T11:31:41.955313Z",
     "iopub.status.idle": "2023-05-20T11:31:41.988834Z",
     "shell.execute_reply": "2023-05-20T11:31:41.987437Z"
    },
    "papermill": {
     "duration": 0.094223,
     "end_time": "2023-05-20T11:31:41.991899",
     "exception": false,
     "start_time": "2023-05-20T11:31:41.897676",
     "status": "completed"
    },
    "tags": [],
    "ExecuteTime": {
     "end_time": "2023-06-25T17:55:00.070614Z",
     "start_time": "2023-06-25T17:54:59.926337Z"
    }
   },
   "outputs": [
    {
     "data": {
      "text/plain": "           No  Yes  Total Survival %\nEmbarked                            \nC          75   93    168      55.4%\nQ          47   30     77      39.0%\nS         427  217    644      33.7%",
      "text/html": "<div>\n<style scoped>\n    .dataframe tbody tr th:only-of-type {\n        vertical-align: middle;\n    }\n\n    .dataframe tbody tr th {\n        vertical-align: top;\n    }\n\n    .dataframe thead th {\n        text-align: right;\n    }\n</style>\n<table border=\"1\" class=\"dataframe\">\n  <thead>\n    <tr style=\"text-align: right;\">\n      <th></th>\n      <th>No</th>\n      <th>Yes</th>\n      <th>Total</th>\n      <th>Survival %</th>\n    </tr>\n    <tr>\n      <th>Embarked</th>\n      <th></th>\n      <th></th>\n      <th></th>\n      <th></th>\n    </tr>\n  </thead>\n  <tbody>\n    <tr>\n      <th>C</th>\n      <td>75</td>\n      <td>93</td>\n      <td>168</td>\n      <td>55.4%</td>\n    </tr>\n    <tr>\n      <th>Q</th>\n      <td>47</td>\n      <td>30</td>\n      <td>77</td>\n      <td>39.0%</td>\n    </tr>\n    <tr>\n      <th>S</th>\n      <td>427</td>\n      <td>217</td>\n      <td>644</td>\n      <td>33.7%</td>\n    </tr>\n  </tbody>\n</table>\n</div>"
     },
     "execution_count": 26,
     "metadata": {},
     "output_type": "execute_result"
    }
   ],
   "source": [
    "embarked_pivot = train.pivot_table(index='Embarked', columns='Survived', values='PassengerId', aggfunc='count', fill_value= 0)\n",
    "embarked_pivot.columns = ['No', 'Yes']\n",
    "embarked_pivot['Total'] = embarked_pivot.sum(axis=1)\n",
    "embarked_pivot['Survival %'] = round(embarked_pivot['Yes'] / embarked_pivot['Total']  * 100,1).astype(str) + '%'\n",
    "embarked_pivot"
   ]
  },
  {
   "cell_type": "markdown",
   "id": "486d882e",
   "metadata": {
    "papermill": {
     "duration": 0.055736,
     "end_time": "2023-05-20T11:31:42.102508",
     "exception": false,
     "start_time": "2023-05-20T11:31:42.046772",
     "status": "completed"
    },
    "tags": []
   },
   "source": [
    "# 4. Correlation:\n",
    "Before making any changes to our data, let us examine the correlation matrix, we notice that:\n",
    "- Survived is noticabily correlated with Pclass and Fare\n",
    "- Pclass is noticabily correlated with Age and Fare.\n",
    "- Age is noticabily correlated with Pclass, SibSp and Parch.\n",
    "- SibSP is noticabily correlated with Parch and Fare.\n",
    "- Parch is noticabily correlated with Fare.# 4. Correlation:# 4. Correlation:\n",
    "Before making any changes to our data, let us examine the correlation matrix, we notice that:\n",
    "- Survived is noticabily correlated with Pclass and Fare\n",
    "- Pclass is noticabily correlated with Age and Fare.\n",
    "- Age is noticabily correlated with Pclass, SibSp and Parch.\n",
    "- SibSP is noticabily correlated with Parch and Fare.\n",
    "- Parch is noticabily correlated with Fare."
   ]
  },
  {
   "cell_type": "code",
   "execution_count": 27,
   "id": "5e18f8cb",
   "metadata": {
    "execution": {
     "iopub.execute_input": "2023-05-20T11:31:42.216718Z",
     "iopub.status.busy": "2023-05-20T11:31:42.216251Z",
     "iopub.status.idle": "2023-05-20T11:31:42.826858Z",
     "shell.execute_reply": "2023-05-20T11:31:42.825422Z"
    },
    "papermill": {
     "duration": 0.671421,
     "end_time": "2023-05-20T11:31:42.829766",
     "exception": false,
     "start_time": "2023-05-20T11:31:42.158345",
     "status": "completed"
    },
    "tags": [],
    "ExecuteTime": {
     "end_time": "2023-06-25T17:55:00.565253Z",
     "start_time": "2023-06-25T17:54:59.933424Z"
    }
   },
   "outputs": [
    {
     "ename": "ValueError",
     "evalue": "could not convert string to float: 'Braund, Mr. Owen Harris'",
     "output_type": "error",
     "traceback": [
      "\u001B[0;31m---------------------------------------------------------------------------\u001B[0m",
      "\u001B[0;31mValueError\u001B[0m                                Traceback (most recent call last)",
      "Cell \u001B[0;32mIn[27], line 1\u001B[0m\n\u001B[0;32m----> 1\u001B[0m corr\u001B[38;5;241m=\u001B[39m \u001B[43mtrain\u001B[49m\u001B[38;5;241;43m.\u001B[39;49m\u001B[43mcorr\u001B[49m\u001B[43m(\u001B[49m\u001B[43m)\u001B[49m\n\u001B[1;32m      2\u001B[0m plt\u001B[38;5;241m.\u001B[39mfigure(figsize\u001B[38;5;241m=\u001B[39m (\u001B[38;5;241m10\u001B[39m,\u001B[38;5;241m10\u001B[39m))\n\u001B[1;32m      3\u001B[0m sns\u001B[38;5;241m.\u001B[39mheatmap(corr, annot\u001B[38;5;241m=\u001B[39m\u001B[38;5;28;01mTrue\u001B[39;00m, cmap\u001B[38;5;241m=\u001B[39m\u001B[38;5;124m'\u001B[39m\u001B[38;5;124mcoolwarm\u001B[39m\u001B[38;5;124m'\u001B[39m, vmin\u001B[38;5;241m=\u001B[39m\u001B[38;5;241m-\u001B[39m\u001B[38;5;241m1\u001B[39m, vmax\u001B[38;5;241m=\u001B[39m\u001B[38;5;241m1\u001B[39m)\n",
      "File \u001B[0;32m~/Desktop/Summer-Analytics/venv/lib/python3.9/site-packages/pandas/core/frame.py:10054\u001B[0m, in \u001B[0;36mDataFrame.corr\u001B[0;34m(self, method, min_periods, numeric_only)\u001B[0m\n\u001B[1;32m  10052\u001B[0m cols \u001B[38;5;241m=\u001B[39m data\u001B[38;5;241m.\u001B[39mcolumns\n\u001B[1;32m  10053\u001B[0m idx \u001B[38;5;241m=\u001B[39m cols\u001B[38;5;241m.\u001B[39mcopy()\n\u001B[0;32m> 10054\u001B[0m mat \u001B[38;5;241m=\u001B[39m \u001B[43mdata\u001B[49m\u001B[38;5;241;43m.\u001B[39;49m\u001B[43mto_numpy\u001B[49m\u001B[43m(\u001B[49m\u001B[43mdtype\u001B[49m\u001B[38;5;241;43m=\u001B[39;49m\u001B[38;5;28;43mfloat\u001B[39;49m\u001B[43m,\u001B[49m\u001B[43m \u001B[49m\u001B[43mna_value\u001B[49m\u001B[38;5;241;43m=\u001B[39;49m\u001B[43mnp\u001B[49m\u001B[38;5;241;43m.\u001B[39;49m\u001B[43mnan\u001B[49m\u001B[43m,\u001B[49m\u001B[43m \u001B[49m\u001B[43mcopy\u001B[49m\u001B[38;5;241;43m=\u001B[39;49m\u001B[38;5;28;43;01mFalse\u001B[39;49;00m\u001B[43m)\u001B[49m\n\u001B[1;32m  10056\u001B[0m \u001B[38;5;28;01mif\u001B[39;00m method \u001B[38;5;241m==\u001B[39m \u001B[38;5;124m\"\u001B[39m\u001B[38;5;124mpearson\u001B[39m\u001B[38;5;124m\"\u001B[39m:\n\u001B[1;32m  10057\u001B[0m     correl \u001B[38;5;241m=\u001B[39m libalgos\u001B[38;5;241m.\u001B[39mnancorr(mat, minp\u001B[38;5;241m=\u001B[39mmin_periods)\n",
      "File \u001B[0;32m~/Desktop/Summer-Analytics/venv/lib/python3.9/site-packages/pandas/core/frame.py:1838\u001B[0m, in \u001B[0;36mDataFrame.to_numpy\u001B[0;34m(self, dtype, copy, na_value)\u001B[0m\n\u001B[1;32m   1836\u001B[0m \u001B[38;5;28;01mif\u001B[39;00m dtype \u001B[38;5;129;01mis\u001B[39;00m \u001B[38;5;129;01mnot\u001B[39;00m \u001B[38;5;28;01mNone\u001B[39;00m:\n\u001B[1;32m   1837\u001B[0m     dtype \u001B[38;5;241m=\u001B[39m np\u001B[38;5;241m.\u001B[39mdtype(dtype)\n\u001B[0;32m-> 1838\u001B[0m result \u001B[38;5;241m=\u001B[39m \u001B[38;5;28;43mself\u001B[39;49m\u001B[38;5;241;43m.\u001B[39;49m\u001B[43m_mgr\u001B[49m\u001B[38;5;241;43m.\u001B[39;49m\u001B[43mas_array\u001B[49m\u001B[43m(\u001B[49m\u001B[43mdtype\u001B[49m\u001B[38;5;241;43m=\u001B[39;49m\u001B[43mdtype\u001B[49m\u001B[43m,\u001B[49m\u001B[43m \u001B[49m\u001B[43mcopy\u001B[49m\u001B[38;5;241;43m=\u001B[39;49m\u001B[43mcopy\u001B[49m\u001B[43m,\u001B[49m\u001B[43m \u001B[49m\u001B[43mna_value\u001B[49m\u001B[38;5;241;43m=\u001B[39;49m\u001B[43mna_value\u001B[49m\u001B[43m)\u001B[49m\n\u001B[1;32m   1839\u001B[0m \u001B[38;5;28;01mif\u001B[39;00m result\u001B[38;5;241m.\u001B[39mdtype \u001B[38;5;129;01mis\u001B[39;00m \u001B[38;5;129;01mnot\u001B[39;00m dtype:\n\u001B[1;32m   1840\u001B[0m     result \u001B[38;5;241m=\u001B[39m np\u001B[38;5;241m.\u001B[39marray(result, dtype\u001B[38;5;241m=\u001B[39mdtype, copy\u001B[38;5;241m=\u001B[39m\u001B[38;5;28;01mFalse\u001B[39;00m)\n",
      "File \u001B[0;32m~/Desktop/Summer-Analytics/venv/lib/python3.9/site-packages/pandas/core/internals/managers.py:1732\u001B[0m, in \u001B[0;36mBlockManager.as_array\u001B[0;34m(self, dtype, copy, na_value)\u001B[0m\n\u001B[1;32m   1730\u001B[0m         arr\u001B[38;5;241m.\u001B[39mflags\u001B[38;5;241m.\u001B[39mwriteable \u001B[38;5;241m=\u001B[39m \u001B[38;5;28;01mFalse\u001B[39;00m\n\u001B[1;32m   1731\u001B[0m \u001B[38;5;28;01melse\u001B[39;00m:\n\u001B[0;32m-> 1732\u001B[0m     arr \u001B[38;5;241m=\u001B[39m \u001B[38;5;28;43mself\u001B[39;49m\u001B[38;5;241;43m.\u001B[39;49m\u001B[43m_interleave\u001B[49m\u001B[43m(\u001B[49m\u001B[43mdtype\u001B[49m\u001B[38;5;241;43m=\u001B[39;49m\u001B[43mdtype\u001B[49m\u001B[43m,\u001B[49m\u001B[43m \u001B[49m\u001B[43mna_value\u001B[49m\u001B[38;5;241;43m=\u001B[39;49m\u001B[43mna_value\u001B[49m\u001B[43m)\u001B[49m\n\u001B[1;32m   1733\u001B[0m     \u001B[38;5;66;03m# The underlying data was copied within _interleave, so no need\u001B[39;00m\n\u001B[1;32m   1734\u001B[0m     \u001B[38;5;66;03m# to further copy if copy=True or setting na_value\u001B[39;00m\n\u001B[1;32m   1736\u001B[0m \u001B[38;5;28;01mif\u001B[39;00m na_value \u001B[38;5;129;01mis\u001B[39;00m \u001B[38;5;129;01mnot\u001B[39;00m lib\u001B[38;5;241m.\u001B[39mno_default:\n",
      "File \u001B[0;32m~/Desktop/Summer-Analytics/venv/lib/python3.9/site-packages/pandas/core/internals/managers.py:1794\u001B[0m, in \u001B[0;36mBlockManager._interleave\u001B[0;34m(self, dtype, na_value)\u001B[0m\n\u001B[1;32m   1792\u001B[0m     \u001B[38;5;28;01melse\u001B[39;00m:\n\u001B[1;32m   1793\u001B[0m         arr \u001B[38;5;241m=\u001B[39m blk\u001B[38;5;241m.\u001B[39mget_values(dtype)\n\u001B[0;32m-> 1794\u001B[0m     \u001B[43mresult\u001B[49m\u001B[43m[\u001B[49m\u001B[43mrl\u001B[49m\u001B[38;5;241;43m.\u001B[39;49m\u001B[43mindexer\u001B[49m\u001B[43m]\u001B[49m \u001B[38;5;241m=\u001B[39m arr\n\u001B[1;32m   1795\u001B[0m     itemmask[rl\u001B[38;5;241m.\u001B[39mindexer] \u001B[38;5;241m=\u001B[39m \u001B[38;5;241m1\u001B[39m\n\u001B[1;32m   1797\u001B[0m \u001B[38;5;28;01mif\u001B[39;00m \u001B[38;5;129;01mnot\u001B[39;00m itemmask\u001B[38;5;241m.\u001B[39mall():\n",
      "\u001B[0;31mValueError\u001B[0m: could not convert string to float: 'Braund, Mr. Owen Harris'"
     ]
    }
   ],
   "source": [
    "corr= train.corr()\n",
    "plt.figure(figsize= (10,10))\n",
    "sns.heatmap(corr, annot=True, cmap='coolwarm', vmin=-1, vmax=1)\n",
    "plt.show()"
   ]
  },
  {
   "cell_type": "markdown",
   "id": "442c49dd",
   "metadata": {
    "papermill": {
     "duration": 0.057757,
     "end_time": "2023-05-20T11:31:42.943531",
     "exception": false,
     "start_time": "2023-05-20T11:31:42.885774",
     "status": "completed"
    },
    "tags": []
   },
   "source": [
    "# 5. Data Wrangling:"
   ]
  },
  {
   "cell_type": "markdown",
   "id": "e500873b",
   "metadata": {
    "papermill": {
     "duration": 0.055404,
     "end_time": "2023-05-20T11:31:43.055030",
     "exception": false,
     "start_time": "2023-05-20T11:31:42.999626",
     "status": "completed"
    },
    "tags": []
   },
   "source": [
    "## 5.1 Imputing Missing Values"
   ]
  },
  {
   "cell_type": "markdown",
   "id": "af21973f",
   "metadata": {
    "papermill": {
     "duration": 0.057017,
     "end_time": "2023-05-20T11:31:43.169257",
     "exception": false,
     "start_time": "2023-05-20T11:31:43.112240",
     "status": "completed"
    },
    "tags": []
   },
   "source": [
    "Below we can see three columns with missing values: Age, Cabin, and Embarked."
   ]
  },
  {
   "cell_type": "code",
   "execution_count": null,
   "id": "e5152bec",
   "metadata": {
    "execution": {
     "iopub.execute_input": "2023-05-20T11:31:43.284318Z",
     "iopub.status.busy": "2023-05-20T11:31:43.283796Z",
     "iopub.status.idle": "2023-05-20T11:31:43.295944Z",
     "shell.execute_reply": "2023-05-20T11:31:43.294553Z"
    },
    "papermill": {
     "duration": 0.074681,
     "end_time": "2023-05-20T11:31:43.299324",
     "exception": false,
     "start_time": "2023-05-20T11:31:43.224643",
     "status": "completed"
    },
    "tags": []
   },
   "outputs": [],
   "source": [
    "train.isnull().sum()"
   ]
  },
  {
   "cell_type": "markdown",
   "id": "61334cf2",
   "metadata": {
    "papermill": {
     "duration": 0.056381,
     "end_time": "2023-05-20T11:31:43.413073",
     "exception": false,
     "start_time": "2023-05-20T11:31:43.356692",
     "status": "completed"
    },
    "tags": []
   },
   "source": [
    "### 5.1.1 Missing values in the `Age` column:\n",
    "A common approach to filling missing values in a numerical column is to replace them with the mean or median of that column. However, upon further analysis, we observe that the median age differs based on gender and passenger class. Specifically, the median age for men is higher than women in each of the three classes, and the median age for first class is higher than second class, which is also higher than third class. Thus, we can leverage this observation and replace the missing values in the age column using the median of the respective passenger class and gender grouping."
   ]
  },
  {
   "cell_type": "code",
   "execution_count": null,
   "id": "9c2090db",
   "metadata": {
    "execution": {
     "iopub.execute_input": "2023-05-20T11:31:43.531837Z",
     "iopub.status.busy": "2023-05-20T11:31:43.531378Z",
     "iopub.status.idle": "2023-05-20T11:31:43.881323Z",
     "shell.execute_reply": "2023-05-20T11:31:43.879675Z"
    },
    "papermill": {
     "duration": 0.413454,
     "end_time": "2023-05-20T11:31:43.884566",
     "exception": false,
     "start_time": "2023-05-20T11:31:43.471112",
     "status": "completed"
    },
    "tags": []
   },
   "outputs": [],
   "source": [
    "sns.boxplot(x='Pclass', y='Age', hue='Sex', data=train)\n",
    "plt.title('Age distribution by Pclass and Sex')\n",
    "plt.show()"
   ]
  },
  {
   "cell_type": "markdown",
   "id": "95e12bd4",
   "metadata": {
    "papermill": {
     "duration": 0.056476,
     "end_time": "2023-05-20T11:31:43.998234",
     "exception": false,
     "start_time": "2023-05-20T11:31:43.941758",
     "status": "completed"
    },
    "tags": []
   },
   "source": [
    "Let's start by grouping Age by Pclass and Sex and using median as the aggregation funtion."
   ]
  },
  {
   "cell_type": "code",
   "execution_count": null,
   "id": "57aa62cb",
   "metadata": {
    "execution": {
     "iopub.execute_input": "2023-05-20T11:31:44.115431Z",
     "iopub.status.busy": "2023-05-20T11:31:44.114955Z",
     "iopub.status.idle": "2023-05-20T11:31:44.131486Z",
     "shell.execute_reply": "2023-05-20T11:31:44.129770Z"
    },
    "papermill": {
     "duration": 0.078745,
     "end_time": "2023-05-20T11:31:44.134572",
     "exception": false,
     "start_time": "2023-05-20T11:31:44.055827",
     "status": "completed"
    },
    "tags": []
   },
   "outputs": [],
   "source": [
    "age_median = train.groupby(['Pclass','Sex'])['Age'].median()\n",
    "age_median"
   ]
  },
  {
   "cell_type": "markdown",
   "id": "07e5d76d",
   "metadata": {
    "papermill": {
     "duration": 0.057116,
     "end_time": "2023-05-20T11:31:44.249466",
     "exception": false,
     "start_time": "2023-05-20T11:31:44.192350",
     "status": "completed"
    },
    "tags": []
   },
   "source": [
    "Impute missing values using the calculated medians"
   ]
  },
  {
   "cell_type": "code",
   "execution_count": 28,
   "id": "8db2303c",
   "metadata": {
    "execution": {
     "iopub.execute_input": "2023-05-20T11:31:44.388273Z",
     "iopub.status.busy": "2023-05-20T11:31:44.387083Z",
     "iopub.status.idle": "2023-05-20T11:31:44.434227Z",
     "shell.execute_reply": "2023-05-20T11:31:44.432662Z"
    },
    "papermill": {
     "duration": 0.126099,
     "end_time": "2023-05-20T11:31:44.437661",
     "exception": false,
     "start_time": "2023-05-20T11:31:44.311562",
     "status": "completed"
    },
    "tags": [],
    "ExecuteTime": {
     "end_time": "2023-06-25T17:55:00.923564Z",
     "start_time": "2023-06-25T17:55:00.727517Z"
    }
   },
   "outputs": [
    {
     "ename": "NameError",
     "evalue": "name 'age_median' is not defined",
     "output_type": "error",
     "traceback": [
      "\u001B[0;31m---------------------------------------------------------------------------\u001B[0m",
      "\u001B[0;31mNameError\u001B[0m                                 Traceback (most recent call last)",
      "Cell \u001B[0;32mIn[28], line 1\u001B[0m\n\u001B[0;32m----> 1\u001B[0m train[\u001B[38;5;124m'\u001B[39m\u001B[38;5;124mAge\u001B[39m\u001B[38;5;124m'\u001B[39m] \u001B[38;5;241m=\u001B[39m \u001B[43mtrain\u001B[49m\u001B[38;5;241;43m.\u001B[39;49m\u001B[43mapply\u001B[49m\u001B[43m(\u001B[49m\u001B[38;5;28;43;01mlambda\u001B[39;49;00m\u001B[43m \u001B[49m\u001B[43mx\u001B[49m\u001B[43m:\u001B[49m\u001B[43m \u001B[49m\u001B[43mage_median\u001B[49m\u001B[38;5;241;43m.\u001B[39;49m\u001B[43mloc\u001B[49m\u001B[43m[\u001B[49m\u001B[43m(\u001B[49m\u001B[43mx\u001B[49m\u001B[43m[\u001B[49m\u001B[38;5;124;43m'\u001B[39;49m\u001B[38;5;124;43mPclass\u001B[39;49m\u001B[38;5;124;43m'\u001B[39;49m\u001B[43m]\u001B[49m\u001B[43m,\u001B[49m\u001B[43m \u001B[49m\u001B[43mx\u001B[49m\u001B[43m[\u001B[49m\u001B[38;5;124;43m'\u001B[39;49m\u001B[38;5;124;43mSex\u001B[39;49m\u001B[38;5;124;43m'\u001B[39;49m\u001B[43m]\u001B[49m\u001B[43m)\u001B[49m\u001B[43m]\u001B[49m\u001B[43m \u001B[49m\u001B[38;5;28;43;01mif\u001B[39;49;00m\u001B[43m \u001B[49m\u001B[43mnp\u001B[49m\u001B[38;5;241;43m.\u001B[39;49m\u001B[43misnan\u001B[49m\u001B[43m(\u001B[49m\u001B[43mx\u001B[49m\u001B[43m[\u001B[49m\u001B[38;5;124;43m'\u001B[39;49m\u001B[38;5;124;43mAge\u001B[39;49m\u001B[38;5;124;43m'\u001B[39;49m\u001B[43m]\u001B[49m\u001B[43m)\u001B[49m\u001B[43m \u001B[49m\u001B[38;5;28;43;01melse\u001B[39;49;00m\u001B[43m \u001B[49m\u001B[43mx\u001B[49m\u001B[43m[\u001B[49m\u001B[38;5;124;43m'\u001B[39;49m\u001B[38;5;124;43mAge\u001B[39;49m\u001B[38;5;124;43m'\u001B[39;49m\u001B[43m]\u001B[49m\u001B[43m,\u001B[49m\u001B[43m \u001B[49m\u001B[43maxis\u001B[49m\u001B[38;5;241;43m=\u001B[39;49m\u001B[38;5;241;43m1\u001B[39;49m\u001B[43m)\u001B[49m\n",
      "File \u001B[0;32m~/Desktop/Summer-Analytics/venv/lib/python3.9/site-packages/pandas/core/frame.py:9423\u001B[0m, in \u001B[0;36mDataFrame.apply\u001B[0;34m(self, func, axis, raw, result_type, args, **kwargs)\u001B[0m\n\u001B[1;32m   9412\u001B[0m \u001B[38;5;28;01mfrom\u001B[39;00m \u001B[38;5;21;01mpandas\u001B[39;00m\u001B[38;5;21;01m.\u001B[39;00m\u001B[38;5;21;01mcore\u001B[39;00m\u001B[38;5;21;01m.\u001B[39;00m\u001B[38;5;21;01mapply\u001B[39;00m \u001B[38;5;28;01mimport\u001B[39;00m frame_apply\n\u001B[1;32m   9414\u001B[0m op \u001B[38;5;241m=\u001B[39m frame_apply(\n\u001B[1;32m   9415\u001B[0m     \u001B[38;5;28mself\u001B[39m,\n\u001B[1;32m   9416\u001B[0m     func\u001B[38;5;241m=\u001B[39mfunc,\n\u001B[0;32m   (...)\u001B[0m\n\u001B[1;32m   9421\u001B[0m     kwargs\u001B[38;5;241m=\u001B[39mkwargs,\n\u001B[1;32m   9422\u001B[0m )\n\u001B[0;32m-> 9423\u001B[0m \u001B[38;5;28;01mreturn\u001B[39;00m \u001B[43mop\u001B[49m\u001B[38;5;241;43m.\u001B[39;49m\u001B[43mapply\u001B[49m\u001B[43m(\u001B[49m\u001B[43m)\u001B[49m\u001B[38;5;241m.\u001B[39m__finalize__(\u001B[38;5;28mself\u001B[39m, method\u001B[38;5;241m=\u001B[39m\u001B[38;5;124m\"\u001B[39m\u001B[38;5;124mapply\u001B[39m\u001B[38;5;124m\"\u001B[39m)\n",
      "File \u001B[0;32m~/Desktop/Summer-Analytics/venv/lib/python3.9/site-packages/pandas/core/apply.py:678\u001B[0m, in \u001B[0;36mFrameApply.apply\u001B[0;34m(self)\u001B[0m\n\u001B[1;32m    675\u001B[0m \u001B[38;5;28;01melif\u001B[39;00m \u001B[38;5;28mself\u001B[39m\u001B[38;5;241m.\u001B[39mraw:\n\u001B[1;32m    676\u001B[0m     \u001B[38;5;28;01mreturn\u001B[39;00m \u001B[38;5;28mself\u001B[39m\u001B[38;5;241m.\u001B[39mapply_raw()\n\u001B[0;32m--> 678\u001B[0m \u001B[38;5;28;01mreturn\u001B[39;00m \u001B[38;5;28;43mself\u001B[39;49m\u001B[38;5;241;43m.\u001B[39;49m\u001B[43mapply_standard\u001B[49m\u001B[43m(\u001B[49m\u001B[43m)\u001B[49m\n",
      "File \u001B[0;32m~/Desktop/Summer-Analytics/venv/lib/python3.9/site-packages/pandas/core/apply.py:798\u001B[0m, in \u001B[0;36mFrameApply.apply_standard\u001B[0;34m(self)\u001B[0m\n\u001B[1;32m    797\u001B[0m \u001B[38;5;28;01mdef\u001B[39;00m \u001B[38;5;21mapply_standard\u001B[39m(\u001B[38;5;28mself\u001B[39m):\n\u001B[0;32m--> 798\u001B[0m     results, res_index \u001B[38;5;241m=\u001B[39m \u001B[38;5;28;43mself\u001B[39;49m\u001B[38;5;241;43m.\u001B[39;49m\u001B[43mapply_series_generator\u001B[49m\u001B[43m(\u001B[49m\u001B[43m)\u001B[49m\n\u001B[1;32m    800\u001B[0m     \u001B[38;5;66;03m# wrap results\u001B[39;00m\n\u001B[1;32m    801\u001B[0m     \u001B[38;5;28;01mreturn\u001B[39;00m \u001B[38;5;28mself\u001B[39m\u001B[38;5;241m.\u001B[39mwrap_results(results, res_index)\n",
      "File \u001B[0;32m~/Desktop/Summer-Analytics/venv/lib/python3.9/site-packages/pandas/core/apply.py:814\u001B[0m, in \u001B[0;36mFrameApply.apply_series_generator\u001B[0;34m(self)\u001B[0m\n\u001B[1;32m    811\u001B[0m \u001B[38;5;28;01mwith\u001B[39;00m option_context(\u001B[38;5;124m\"\u001B[39m\u001B[38;5;124mmode.chained_assignment\u001B[39m\u001B[38;5;124m\"\u001B[39m, \u001B[38;5;28;01mNone\u001B[39;00m):\n\u001B[1;32m    812\u001B[0m     \u001B[38;5;28;01mfor\u001B[39;00m i, v \u001B[38;5;129;01min\u001B[39;00m \u001B[38;5;28menumerate\u001B[39m(series_gen):\n\u001B[1;32m    813\u001B[0m         \u001B[38;5;66;03m# ignore SettingWithCopy here in case the user mutates\u001B[39;00m\n\u001B[0;32m--> 814\u001B[0m         results[i] \u001B[38;5;241m=\u001B[39m \u001B[38;5;28;43mself\u001B[39;49m\u001B[38;5;241;43m.\u001B[39;49m\u001B[43mf\u001B[49m\u001B[43m(\u001B[49m\u001B[43mv\u001B[49m\u001B[43m)\u001B[49m\n\u001B[1;32m    815\u001B[0m         \u001B[38;5;28;01mif\u001B[39;00m \u001B[38;5;28misinstance\u001B[39m(results[i], ABCSeries):\n\u001B[1;32m    816\u001B[0m             \u001B[38;5;66;03m# If we have a view on v, we need to make a copy because\u001B[39;00m\n\u001B[1;32m    817\u001B[0m             \u001B[38;5;66;03m#  series_generator will swap out the underlying data\u001B[39;00m\n\u001B[1;32m    818\u001B[0m             results[i] \u001B[38;5;241m=\u001B[39m results[i]\u001B[38;5;241m.\u001B[39mcopy(deep\u001B[38;5;241m=\u001B[39m\u001B[38;5;28;01mFalse\u001B[39;00m)\n",
      "Cell \u001B[0;32mIn[28], line 1\u001B[0m, in \u001B[0;36m<lambda>\u001B[0;34m(x)\u001B[0m\n\u001B[0;32m----> 1\u001B[0m train[\u001B[38;5;124m'\u001B[39m\u001B[38;5;124mAge\u001B[39m\u001B[38;5;124m'\u001B[39m] \u001B[38;5;241m=\u001B[39m train\u001B[38;5;241m.\u001B[39mapply(\u001B[38;5;28;01mlambda\u001B[39;00m x: \u001B[43mage_median\u001B[49m\u001B[38;5;241m.\u001B[39mloc[(x[\u001B[38;5;124m'\u001B[39m\u001B[38;5;124mPclass\u001B[39m\u001B[38;5;124m'\u001B[39m], x[\u001B[38;5;124m'\u001B[39m\u001B[38;5;124mSex\u001B[39m\u001B[38;5;124m'\u001B[39m])] \u001B[38;5;28;01mif\u001B[39;00m np\u001B[38;5;241m.\u001B[39misnan(x[\u001B[38;5;124m'\u001B[39m\u001B[38;5;124mAge\u001B[39m\u001B[38;5;124m'\u001B[39m]) \u001B[38;5;28;01melse\u001B[39;00m x[\u001B[38;5;124m'\u001B[39m\u001B[38;5;124mAge\u001B[39m\u001B[38;5;124m'\u001B[39m], axis\u001B[38;5;241m=\u001B[39m\u001B[38;5;241m1\u001B[39m)\n",
      "\u001B[0;31mNameError\u001B[0m: name 'age_median' is not defined"
     ]
    }
   ],
   "source": [
    "train['Age'] = train.apply(lambda x: age_median.loc[(x['Pclass'], x['Sex'])] if np.isnan(x['Age']) else x['Age'], axis=1)"
   ]
  },
  {
   "cell_type": "markdown",
   "id": "0e8c8832",
   "metadata": {
    "papermill": {
     "duration": 0.056086,
     "end_time": "2023-05-20T11:31:44.550651",
     "exception": false,
     "start_time": "2023-05-20T11:31:44.494565",
     "status": "completed"
    },
    "tags": []
   },
   "source": [
    "### 5.1.2 Missing values in the `Embarked` column:\n",
    "As for the \"Embarked\" column, we have only two missing values. We can either drop those rows or replace the missing values with the most frequent value in the column. In this case, I will choose the latter option and fill the missing values with the most frequent value of the \"Embarked\" column.<br>\n",
    "Note: You can see below that I viewed the two records and looked all_data to see if someone with the same ticket number has the port of embarkation registered, which was a dead end."
   ]
  },
  {
   "cell_type": "code",
   "execution_count": 29,
   "id": "facd0ba6",
   "metadata": {
    "execution": {
     "iopub.execute_input": "2023-05-20T11:31:44.667232Z",
     "iopub.status.busy": "2023-05-20T11:31:44.666365Z",
     "iopub.status.idle": "2023-05-20T11:31:44.698022Z",
     "shell.execute_reply": "2023-05-20T11:31:44.696651Z"
    },
    "papermill": {
     "duration": 0.093326,
     "end_time": "2023-05-20T11:31:44.701048",
     "exception": false,
     "start_time": "2023-05-20T11:31:44.607722",
     "status": "completed"
    },
    "tags": [],
    "ExecuteTime": {
     "end_time": "2023-06-25T17:55:01.109706Z",
     "start_time": "2023-06-25T17:55:00.904472Z"
    }
   },
   "outputs": [
    {
     "data": {
      "text/plain": "     PassengerId  Survived  Pclass  ...  Fare Cabin  Embarked\n61            62         1       1  ...  80.0   B28       NaN\n829          830         1       1  ...  80.0   B28       NaN\n\n[2 rows x 12 columns]",
      "text/html": "<div>\n<style scoped>\n    .dataframe tbody tr th:only-of-type {\n        vertical-align: middle;\n    }\n\n    .dataframe tbody tr th {\n        vertical-align: top;\n    }\n\n    .dataframe thead th {\n        text-align: right;\n    }\n</style>\n<table border=\"1\" class=\"dataframe\">\n  <thead>\n    <tr style=\"text-align: right;\">\n      <th></th>\n      <th>PassengerId</th>\n      <th>Survived</th>\n      <th>Pclass</th>\n      <th>Name</th>\n      <th>Sex</th>\n      <th>Age</th>\n      <th>SibSp</th>\n      <th>Parch</th>\n      <th>Ticket</th>\n      <th>Fare</th>\n      <th>Cabin</th>\n      <th>Embarked</th>\n    </tr>\n  </thead>\n  <tbody>\n    <tr>\n      <th>61</th>\n      <td>62</td>\n      <td>1</td>\n      <td>1</td>\n      <td>Icard, Miss. Amelie</td>\n      <td>female</td>\n      <td>38.0</td>\n      <td>0</td>\n      <td>0</td>\n      <td>113572</td>\n      <td>80.0</td>\n      <td>B28</td>\n      <td>NaN</td>\n    </tr>\n    <tr>\n      <th>829</th>\n      <td>830</td>\n      <td>1</td>\n      <td>1</td>\n      <td>Stone, Mrs. George Nelson (Martha Evelyn)</td>\n      <td>female</td>\n      <td>62.0</td>\n      <td>0</td>\n      <td>0</td>\n      <td>113572</td>\n      <td>80.0</td>\n      <td>B28</td>\n      <td>NaN</td>\n    </tr>\n  </tbody>\n</table>\n</div>"
     },
     "execution_count": 29,
     "metadata": {},
     "output_type": "execute_result"
    }
   ],
   "source": [
    "train[train['Embarked'].isnull()]"
   ]
  },
  {
   "cell_type": "code",
   "execution_count": 30,
   "id": "545dda16",
   "metadata": {
    "execution": {
     "iopub.execute_input": "2023-05-20T11:31:44.820143Z",
     "iopub.status.busy": "2023-05-20T11:31:44.819189Z",
     "iopub.status.idle": "2023-05-20T11:31:44.853247Z",
     "shell.execute_reply": "2023-05-20T11:31:44.851527Z"
    },
    "papermill": {
     "duration": 0.097879,
     "end_time": "2023-05-20T11:31:44.856389",
     "exception": false,
     "start_time": "2023-05-20T11:31:44.758510",
     "status": "completed"
    },
    "tags": [],
    "ExecuteTime": {
     "end_time": "2023-06-25T17:55:01.112682Z",
     "start_time": "2023-06-25T17:55:00.991645Z"
    }
   },
   "outputs": [
    {
     "data": {
      "text/plain": "     PassengerId  Survived  Pclass  ...  Fare Cabin  Embarked\n61            62       1.0       1  ...  80.0   B28       NaN\n829          830       1.0       1  ...  80.0   B28       NaN\n\n[2 rows x 12 columns]",
      "text/html": "<div>\n<style scoped>\n    .dataframe tbody tr th:only-of-type {\n        vertical-align: middle;\n    }\n\n    .dataframe tbody tr th {\n        vertical-align: top;\n    }\n\n    .dataframe thead th {\n        text-align: right;\n    }\n</style>\n<table border=\"1\" class=\"dataframe\">\n  <thead>\n    <tr style=\"text-align: right;\">\n      <th></th>\n      <th>PassengerId</th>\n      <th>Survived</th>\n      <th>Pclass</th>\n      <th>Name</th>\n      <th>Sex</th>\n      <th>Age</th>\n      <th>SibSp</th>\n      <th>Parch</th>\n      <th>Ticket</th>\n      <th>Fare</th>\n      <th>Cabin</th>\n      <th>Embarked</th>\n    </tr>\n  </thead>\n  <tbody>\n    <tr>\n      <th>61</th>\n      <td>62</td>\n      <td>1.0</td>\n      <td>1</td>\n      <td>Icard, Miss. Amelie</td>\n      <td>female</td>\n      <td>38.0</td>\n      <td>0</td>\n      <td>0</td>\n      <td>113572</td>\n      <td>80.0</td>\n      <td>B28</td>\n      <td>NaN</td>\n    </tr>\n    <tr>\n      <th>829</th>\n      <td>830</td>\n      <td>1.0</td>\n      <td>1</td>\n      <td>Stone, Mrs. George Nelson (Martha Evelyn)</td>\n      <td>female</td>\n      <td>62.0</td>\n      <td>0</td>\n      <td>0</td>\n      <td>113572</td>\n      <td>80.0</td>\n      <td>B28</td>\n      <td>NaN</td>\n    </tr>\n  </tbody>\n</table>\n</div>"
     },
     "execution_count": 30,
     "metadata": {},
     "output_type": "execute_result"
    }
   ],
   "source": [
    "all_data[all_data['Ticket']=='113572']"
   ]
  },
  {
   "cell_type": "code",
   "execution_count": 31,
   "id": "83f7110a",
   "metadata": {
    "execution": {
     "iopub.execute_input": "2023-05-20T11:31:44.977004Z",
     "iopub.status.busy": "2023-05-20T11:31:44.976547Z",
     "iopub.status.idle": "2023-05-20T11:31:44.986608Z",
     "shell.execute_reply": "2023-05-20T11:31:44.984995Z"
    },
    "papermill": {
     "duration": 0.074014,
     "end_time": "2023-05-20T11:31:44.989334",
     "exception": false,
     "start_time": "2023-05-20T11:31:44.915320",
     "status": "completed"
    },
    "tags": [],
    "ExecuteTime": {
     "end_time": "2023-06-25T17:55:01.184496Z",
     "start_time": "2023-06-25T17:55:01.085287Z"
    }
   },
   "outputs": [
    {
     "name": "stdout",
     "output_type": "stream",
     "text": [
      "Most frequent value= S\n"
     ]
    }
   ],
   "source": [
    "most_frequent_value= train['Embarked'].value_counts().idxmax()\n",
    "train['Embarked'].replace(np.nan, most_frequent_value, inplace=True)\n",
    "print(F\"Most frequent value= {most_frequent_value}\")"
   ]
  },
  {
   "cell_type": "markdown",
   "id": "777b2119",
   "metadata": {
    "papermill": {
     "duration": 0.058115,
     "end_time": "2023-05-20T11:31:45.105556",
     "exception": false,
     "start_time": "2023-05-20T11:31:45.047441",
     "status": "completed"
    },
    "tags": []
   },
   "source": [
    "### 5.1.3 Missing values in the Cabin column:\n",
    "Each cabin is identified by a letter and a number, some passengers are assigned more than one cabin but with the same letter. Therefore, we can drop the number keeping only the cabin letter. We will carry on imputing missing values in cabin in the feature engineering section below."
   ]
  },
  {
   "cell_type": "code",
   "execution_count": 32,
   "id": "5109e0cf",
   "metadata": {
    "execution": {
     "iopub.execute_input": "2023-05-20T11:31:45.227896Z",
     "iopub.status.busy": "2023-05-20T11:31:45.227461Z",
     "iopub.status.idle": "2023-05-20T11:31:45.239746Z",
     "shell.execute_reply": "2023-05-20T11:31:45.238271Z"
    },
    "papermill": {
     "duration": 0.076113,
     "end_time": "2023-05-20T11:31:45.242728",
     "exception": false,
     "start_time": "2023-05-20T11:31:45.166615",
     "status": "completed"
    },
    "tags": [],
    "ExecuteTime": {
     "end_time": "2023-06-25T17:55:01.395707Z",
     "start_time": "2023-06-25T17:55:01.255405Z"
    }
   },
   "outputs": [
    {
     "data": {
      "text/plain": "[nan,\n 'C85',\n 'C123',\n 'E46',\n 'G6',\n 'C103',\n 'D56',\n 'A6',\n 'C23 C25 C27',\n 'B78',\n 'D33',\n 'B30',\n 'C52',\n 'B28',\n 'C83',\n 'F33',\n 'F G73',\n 'E31',\n 'A5',\n 'D10 D12',\n 'D26',\n 'C110',\n 'B58 B60',\n 'E101',\n 'F E69',\n 'D47',\n 'B86',\n 'F2',\n 'C2',\n 'E33',\n 'B19',\n 'A7',\n 'C49',\n 'F4',\n 'A32',\n 'B4',\n 'B80',\n 'A31',\n 'D36',\n 'D15',\n 'C93',\n 'C78',\n 'D35',\n 'C87',\n 'B77',\n 'E67',\n 'B94',\n 'C125',\n 'C99',\n 'C118',\n 'D7',\n 'A19',\n 'B49',\n 'D',\n 'C22 C26',\n 'C106',\n 'C65',\n 'E36',\n 'C54',\n 'B57 B59 B63 B66',\n 'C7',\n 'E34',\n 'C32',\n 'B18',\n 'C124',\n 'C91',\n 'E40',\n 'T',\n 'C128',\n 'D37',\n 'B35',\n 'E50',\n 'C82',\n 'B96 B98',\n 'E10',\n 'E44',\n 'A34',\n 'C104',\n 'C111',\n 'C92',\n 'E38',\n 'D21',\n 'E12',\n 'E63',\n 'A14',\n 'B37',\n 'C30',\n 'D20',\n 'B79',\n 'E25',\n 'D46',\n 'B73',\n 'C95',\n 'B38',\n 'B39',\n 'B22',\n 'C86',\n 'C70',\n 'A16',\n 'C101',\n 'C68',\n 'A10',\n 'E68',\n 'B41',\n 'A20',\n 'D19',\n 'D50',\n 'D9',\n 'A23',\n 'B50',\n 'A26',\n 'D48',\n 'E58',\n 'C126',\n 'B71',\n 'B51 B53 B55',\n 'D49',\n 'B5',\n 'B20',\n 'F G63',\n 'C62 C64',\n 'E24',\n 'C90',\n 'C45',\n 'E8',\n 'B101',\n 'D45',\n 'C46',\n 'D30',\n 'E121',\n 'D11',\n 'E77',\n 'F38',\n 'B3',\n 'D6',\n 'B82 B84',\n 'D17',\n 'A36',\n 'B102',\n 'B69',\n 'E49',\n 'C47',\n 'D28',\n 'E17',\n 'A24',\n 'C50',\n 'B42',\n 'C148']"
     },
     "execution_count": 32,
     "metadata": {},
     "output_type": "execute_result"
    }
   ],
   "source": [
    "list(train[\"Cabin\"].unique())"
   ]
  },
  {
   "cell_type": "markdown",
   "id": "59a34c94",
   "metadata": {
    "papermill": {
     "duration": 0.059853,
     "end_time": "2023-05-20T11:31:45.361664",
     "exception": false,
     "start_time": "2023-05-20T11:31:45.301811",
     "status": "completed"
    },
    "tags": []
   },
   "source": [
    "## 5.2 Feature Engineering:"
   ]
  },
  {
   "cell_type": "markdown",
   "id": "c104f008",
   "metadata": {
    "papermill": {
     "duration": 0.058699,
     "end_time": "2023-05-20T11:31:45.478949",
     "exception": false,
     "start_time": "2023-05-20T11:31:45.420250",
     "status": "completed"
    },
    "tags": []
   },
   "source": [
    "### 5.2.1 Cabin_Letter\n",
    "We will start by creating a new feature named `Cabin_Letter` by extracting the first letter in cabin and replacing empty values with Unknown then we drop the Cabin column:"
   ]
  },
  {
   "cell_type": "code",
   "execution_count": 33,
   "id": "491e3be8",
   "metadata": {
    "execution": {
     "iopub.execute_input": "2023-05-20T11:31:45.597697Z",
     "iopub.status.busy": "2023-05-20T11:31:45.597261Z",
     "iopub.status.idle": "2023-05-20T11:31:45.608853Z",
     "shell.execute_reply": "2023-05-20T11:31:45.607465Z"
    },
    "papermill": {
     "duration": 0.074321,
     "end_time": "2023-05-20T11:31:45.611597",
     "exception": false,
     "start_time": "2023-05-20T11:31:45.537276",
     "status": "completed"
    },
    "tags": [],
    "ExecuteTime": {
     "end_time": "2023-06-25T17:55:01.787498Z",
     "start_time": "2023-06-25T17:55:01.780923Z"
    }
   },
   "outputs": [],
   "source": [
    "train['Cabin_Letter'] = train['Cabin'].str[:1]\n",
    "train.Cabin_Letter.fillna('Unknown', inplace=True)\n",
    "train= train.drop(columns=['Cabin'])"
   ]
  },
  {
   "cell_type": "code",
   "execution_count": 34,
   "id": "a6339de8",
   "metadata": {
    "execution": {
     "iopub.execute_input": "2023-05-20T11:31:45.733894Z",
     "iopub.status.busy": "2023-05-20T11:31:45.733426Z",
     "iopub.status.idle": "2023-05-20T11:31:45.744149Z",
     "shell.execute_reply": "2023-05-20T11:31:45.742949Z"
    },
    "papermill": {
     "duration": 0.075047,
     "end_time": "2023-05-20T11:31:45.746979",
     "exception": false,
     "start_time": "2023-05-20T11:31:45.671932",
     "status": "completed"
    },
    "tags": [],
    "ExecuteTime": {
     "end_time": "2023-06-25T17:55:02.003177Z",
     "start_time": "2023-06-25T17:55:01.984686Z"
    }
   },
   "outputs": [
    {
     "data": {
      "text/plain": "Cabin_Letter\nUnknown    687\nC           59\nB           47\nD           33\nE           32\nA           15\nF           13\nG            4\nT            1\nName: count, dtype: int64"
     },
     "execution_count": 34,
     "metadata": {},
     "output_type": "execute_result"
    }
   ],
   "source": [
    "train.Cabin_Letter.value_counts()"
   ]
  },
  {
   "cell_type": "markdown",
   "id": "38ecb742",
   "metadata": {
    "papermill": {
     "duration": 0.058001,
     "end_time": "2023-05-20T11:31:45.865518",
     "exception": false,
     "start_time": "2023-05-20T11:31:45.807517",
     "status": "completed"
    },
    "tags": []
   },
   "source": [
    "In the plot below we can see that cabin letters which indicate the passengers' location on the Titanic affected their survival as passengers with some Cabin letters had higher survival rate than others. Thay will make this feature useful and help our model gain some information."
   ]
  },
  {
   "cell_type": "code",
   "execution_count": 35,
   "id": "2bac2b0d",
   "metadata": {
    "execution": {
     "iopub.execute_input": "2023-05-20T11:31:45.985116Z",
     "iopub.status.busy": "2023-05-20T11:31:45.984674Z",
     "iopub.status.idle": "2023-05-20T11:31:46.320064Z",
     "shell.execute_reply": "2023-05-20T11:31:46.318789Z"
    },
    "papermill": {
     "duration": 0.399189,
     "end_time": "2023-05-20T11:31:46.322670",
     "exception": false,
     "start_time": "2023-05-20T11:31:45.923481",
     "status": "completed"
    },
    "tags": [],
    "ExecuteTime": {
     "end_time": "2023-06-25T17:55:02.542986Z",
     "start_time": "2023-06-25T17:55:02.409808Z"
    }
   },
   "outputs": [
    {
     "data": {
      "text/plain": "<Figure size 800x500 with 1 Axes>",
      "image/png": "[encoded data removed]"
     },
     "metadata": {},
     "output_type": "display_data"
    }
   ],
   "source": [
    "fig= plt.figure(figsize=(8,5))\n",
    "\n",
    "Cabin_Letter_survival_rate = train.groupby('Cabin_Letter')['Survived'].mean().reset_index()\n",
    "ax= sns.barplot(x='Cabin_Letter', y='Survived', data=Cabin_Letter_survival_rate,  alpha= 0.9, width= 0.6)\n",
    "for p in ax.patches:\n",
    "    ax.annotate(f'{p.get_height()*100:.1f}%', (p.get_x() + p.get_width() / 2., p.get_height()),\n",
    "                ha='center', va='center', fontsize=10, color='black', xytext=(0, 8),\n",
    "                textcoords='offset points')\n",
    "plt.title('Survival Rate by Cabin_Letter', )\n",
    "plt.xlabel('Cabin_Letter')\n",
    "plt.ylabel('Survival Rate')\n",
    "plt.ylim([0, 1])\n",
    "\n",
    "plt.show()"
   ]
  },
  {
   "cell_type": "markdown",
   "id": "b1976aab",
   "metadata": {
    "papermill": {
     "duration": 0.064044,
     "end_time": "2023-05-20T11:31:46.446697",
     "exception": false,
     "start_time": "2023-05-20T11:31:46.382653",
     "status": "completed"
    },
    "tags": []
   },
   "source": [
    "### 5.2.2 Is_Female\n",
    "Now let's create a binary column `Is_Female` to represent female passengers in the data. This avoids redundant one-hot encoding for male and female, and can be used as a binary feature in analysis and our machine learning models. The original 'Sex' column is retained for potential future use."
   ]
  },
  {
   "cell_type": "code",
   "execution_count": 36,
   "id": "e6afad6d",
   "metadata": {
    "execution": {
     "iopub.execute_input": "2023-05-20T11:31:46.565738Z",
     "iopub.status.busy": "2023-05-20T11:31:46.565247Z",
     "iopub.status.idle": "2023-05-20T11:31:46.574357Z",
     "shell.execute_reply": "2023-05-20T11:31:46.572839Z"
    },
    "papermill": {
     "duration": 0.072284,
     "end_time": "2023-05-20T11:31:46.577442",
     "exception": false,
     "start_time": "2023-05-20T11:31:46.505158",
     "status": "completed"
    },
    "tags": [],
    "ExecuteTime": {
     "end_time": "2023-06-25T17:55:02.707882Z",
     "start_time": "2023-06-25T17:55:02.687697Z"
    }
   },
   "outputs": [],
   "source": [
    "train['Is_Female']= train.Sex.apply(lambda x: 1 if x=='female' else 0)"
   ]
  },
  {
   "cell_type": "markdown",
   "id": "2ea5dfc5",
   "metadata": {
    "papermill": {
     "duration": 0.058335,
     "end_time": "2023-05-20T11:31:46.694237",
     "exception": false,
     "start_time": "2023-05-20T11:31:46.635902",
     "status": "completed"
    },
    "tags": []
   },
   "source": [
    "### 5.2.3 Family_Size\n",
    "`Family_Size` is created by adding `Parch` and `SibSp` plus `1`:"
   ]
  },
  {
   "cell_type": "code",
   "execution_count": 37,
   "id": "8bf48849",
   "metadata": {
    "execution": {
     "iopub.execute_input": "2023-05-20T11:31:46.816568Z",
     "iopub.status.busy": "2023-05-20T11:31:46.815819Z",
     "iopub.status.idle": "2023-05-20T11:31:46.822742Z",
     "shell.execute_reply": "2023-05-20T11:31:46.821649Z"
    },
    "papermill": {
     "duration": 0.071786,
     "end_time": "2023-05-20T11:31:46.825497",
     "exception": false,
     "start_time": "2023-05-20T11:31:46.753711",
     "status": "completed"
    },
    "tags": [],
    "ExecuteTime": {
     "end_time": "2023-06-25T17:55:02.942033Z",
     "start_time": "2023-06-25T17:55:02.923469Z"
    }
   },
   "outputs": [],
   "source": [
    "train['Family_Size']= train['Parch'] + train['SibSp'] + 1"
   ]
  },
  {
   "cell_type": "markdown",
   "id": "980f861a",
   "metadata": {
    "papermill": {
     "duration": 0.060199,
     "end_time": "2023-05-20T11:31:46.945991",
     "exception": false,
     "start_time": "2023-05-20T11:31:46.885792",
     "status": "completed"
    },
    "tags": []
   },
   "source": [
    "Plotting the `Family_Size` feature reveals that the majority of passengers are traveling without family members. Additionally, families consisting of 2, 3, and 4 members exhibit the highest survival rates, while families with more than 7 members have a 0% survival rate. This information suggests that family size could be a relevant factor in predicting survival chances>"
   ]
  },
  {
   "cell_type": "code",
   "execution_count": 38,
   "id": "0954ae99",
   "metadata": {
    "execution": {
     "iopub.execute_input": "2023-05-20T11:31:47.067427Z",
     "iopub.status.busy": "2023-05-20T11:31:47.066306Z",
     "iopub.status.idle": "2023-05-20T11:31:47.602258Z",
     "shell.execute_reply": "2023-05-20T11:31:47.601095Z"
    },
    "papermill": {
     "duration": 0.603633,
     "end_time": "2023-05-20T11:31:47.609152",
     "exception": false,
     "start_time": "2023-05-20T11:31:47.005519",
     "status": "completed"
    },
    "tags": [],
    "ExecuteTime": {
     "end_time": "2023-06-25T17:55:03.482341Z",
     "start_time": "2023-06-25T17:55:03.256371Z"
    }
   },
   "outputs": [
    {
     "data": {
      "text/plain": "<Figure size 1000x300 with 2 Axes>",
      "image/png": "[encoded data removed]"
     },
     "metadata": {},
     "output_type": "display_data"
    }
   ],
   "source": [
    "fig= plt.figure(figsize=(10,3))\n",
    "\n",
    "ax1= plt.subplot(1,2,1)\n",
    "sns.countplot(x=\"Family_Size\", data=train, alpha= 0.8, ax=ax1)\n",
    "ax1.set_title(\"Passenger count by Family_Size \")\n",
    "\n",
    "ax2= plt.subplot(1,2,2)\n",
    "Family_Size_survival_rate = train.groupby('Family_Size')['Survived'].mean().reset_index().sort_values(by='Survived', ascending=False)\n",
    "sns.barplot(x='Family_Size', y='Survived', data=Family_Size_survival_rate, alpha= 0.8, color='grey', ax= ax2)\n",
    "for i in range(1,4):\n",
    "    plt.gca().get_children()[i].set_color('g')\n",
    "ax2.set_title('Survival Rate by Family_Size')\n",
    "ax2.set_xlabel('Family_Size')\n",
    "ax2.set_ylabel('Survival Rate')\n",
    "ax2.set_ylim([0, 0.8])\n",
    "\n",
    "for p in ax2.patches:\n",
    "    ax2.annotate(f'{p.get_height()*100:.1f}%', (p.get_x() + p.get_width() / 2., p.get_height()),\n",
    "                ha='center', va='center', fontsize=9, color='black', xytext=(0, 8),\n",
    "                textcoords='offset points')\n",
    "\n",
    "plt.subplots_adjust(wspace=0.25)\n",
    "plt.show()"
   ]
  },
  {
   "cell_type": "markdown",
   "id": "dd9eb741",
   "metadata": {
    "papermill": {
     "duration": 0.059914,
     "end_time": "2023-05-20T11:31:47.733442",
     "exception": false,
     "start_time": "2023-05-20T11:31:47.673528",
     "status": "completed"
    },
    "tags": []
   },
   "source": [
    "Let's now group the family size values into four categories, namely 'Alone' for family size 1, 'Small' for family size 2, 3, or 4, 'Medium' for family size 5 or 6, and 'Large' for family size 7, 8, or 11. This grouping helps in categorizing passengers based on their family size:"
   ]
  },
  {
   "cell_type": "code",
   "execution_count": 39,
   "id": "c698710b",
   "metadata": {
    "execution": {
     "iopub.execute_input": "2023-05-20T11:31:47.855625Z",
     "iopub.status.busy": "2023-05-20T11:31:47.854591Z",
     "iopub.status.idle": "2023-05-20T11:31:47.865876Z",
     "shell.execute_reply": "2023-05-20T11:31:47.864274Z"
    },
    "papermill": {
     "duration": 0.07569,
     "end_time": "2023-05-20T11:31:47.868888",
     "exception": false,
     "start_time": "2023-05-20T11:31:47.793198",
     "status": "completed"
    },
    "tags": [],
    "ExecuteTime": {
     "end_time": "2023-06-25T17:55:03.650862Z",
     "start_time": "2023-06-25T17:55:03.631205Z"
    }
   },
   "outputs": [],
   "source": [
    "train['Family_Size']=train['Family_Size'].map({1: 'Alone', 2: 'Small', 3: 'Small', 4: 'Small', 5: 'Medium', 6: 'Medium', 7: 'Large', 8: 'Large', 11: 'Large'})"
   ]
  },
  {
   "cell_type": "markdown",
   "id": "d93948f5",
   "metadata": {
    "papermill": {
     "duration": 0.060164,
     "end_time": "2023-05-20T11:31:47.989263",
     "exception": false,
     "start_time": "2023-05-20T11:31:47.929099",
     "status": "completed"
    },
    "tags": []
   },
   "source": [
    "### 5.2.4 Group_Size\n",
    "`Group_Size` is the number of passengers with the same ticket, we fill this column up with the frequency of the passenger's ticket after calculating ticket frequency in all data:"
   ]
  },
  {
   "cell_type": "code",
   "execution_count": 40,
   "id": "92d45a54",
   "metadata": {
    "execution": {
     "iopub.execute_input": "2023-05-20T11:31:48.113334Z",
     "iopub.status.busy": "2023-05-20T11:31:48.112194Z",
     "iopub.status.idle": "2023-05-20T11:31:48.137343Z",
     "shell.execute_reply": "2023-05-20T11:31:48.135761Z"
    },
    "papermill": {
     "duration": 0.091662,
     "end_time": "2023-05-20T11:31:48.140627",
     "exception": false,
     "start_time": "2023-05-20T11:31:48.048965",
     "status": "completed"
    },
    "tags": [],
    "ExecuteTime": {
     "end_time": "2023-06-25T17:55:03.959407Z",
     "start_time": "2023-06-25T17:55:03.948708Z"
    }
   },
   "outputs": [
    {
     "data": {
      "text/plain": "        Count\nTicket       \n110152      3\n110413      3\n110465      2\n110469      1\n110489      1",
      "text/html": "<div>\n<style scoped>\n    .dataframe tbody tr th:only-of-type {\n        vertical-align: middle;\n    }\n\n    .dataframe tbody tr th {\n        vertical-align: top;\n    }\n\n    .dataframe thead th {\n        text-align: right;\n    }\n</style>\n<table border=\"1\" class=\"dataframe\">\n  <thead>\n    <tr style=\"text-align: right;\">\n      <th></th>\n      <th>Count</th>\n    </tr>\n    <tr>\n      <th>Ticket</th>\n      <th></th>\n    </tr>\n  </thead>\n  <tbody>\n    <tr>\n      <th>110152</th>\n      <td>3</td>\n    </tr>\n    <tr>\n      <th>110413</th>\n      <td>3</td>\n    </tr>\n    <tr>\n      <th>110465</th>\n      <td>2</td>\n    </tr>\n    <tr>\n      <th>110469</th>\n      <td>1</td>\n    </tr>\n    <tr>\n      <th>110489</th>\n      <td>1</td>\n    </tr>\n  </tbody>\n</table>\n</div>"
     },
     "execution_count": 40,
     "metadata": {},
     "output_type": "execute_result"
    }
   ],
   "source": [
    "tickets= all_data.groupby(['Ticket'])[['PassengerId']].count().rename(columns={'PassengerId': 'Count'})\n",
    "tickets.head()"
   ]
  },
  {
   "cell_type": "code",
   "execution_count": 41,
   "id": "b4a81bbd",
   "metadata": {
    "execution": {
     "iopub.execute_input": "2023-05-20T11:31:48.263336Z",
     "iopub.status.busy": "2023-05-20T11:31:48.262456Z",
     "iopub.status.idle": "2023-05-20T11:31:48.288120Z",
     "shell.execute_reply": "2023-05-20T11:31:48.286890Z"
    },
    "papermill": {
     "duration": 0.090034,
     "end_time": "2023-05-20T11:31:48.291336",
     "exception": false,
     "start_time": "2023-05-20T11:31:48.201302",
     "status": "completed"
    },
    "tags": [],
    "ExecuteTime": {
     "end_time": "2023-06-25T17:55:04.151988Z",
     "start_time": "2023-06-25T17:55:04.127199Z"
    }
   },
   "outputs": [],
   "source": [
    "train['Group_Size']=train['Ticket'].apply(lambda x: tickets.loc[x, 'Count'])"
   ]
  },
  {
   "cell_type": "markdown",
   "id": "389df994",
   "metadata": {
    "papermill": {
     "duration": 0.060033,
     "end_time": "2023-05-20T11:31:48.412555",
     "exception": false,
     "start_time": "2023-05-20T11:31:48.352522",
     "status": "completed"
    },
    "tags": []
   },
   "source": [
    "### 5.2.5 Title\n",
    "We will extract the titles from the name field and make a new feature `Title`, which would help us capture information about the social status of passengers"
   ]
  },
  {
   "cell_type": "code",
   "execution_count": 42,
   "id": "a586466b",
   "metadata": {
    "execution": {
     "iopub.execute_input": "2023-05-20T11:31:48.533721Z",
     "iopub.status.busy": "2023-05-20T11:31:48.533305Z",
     "iopub.status.idle": "2023-05-20T11:31:48.546921Z",
     "shell.execute_reply": "2023-05-20T11:31:48.545462Z"
    },
    "papermill": {
     "duration": 0.077468,
     "end_time": "2023-05-20T11:31:48.549655",
     "exception": false,
     "start_time": "2023-05-20T11:31:48.472187",
     "status": "completed"
    },
    "tags": [],
    "ExecuteTime": {
     "end_time": "2023-06-25T17:55:04.507588Z",
     "start_time": "2023-06-25T17:55:04.490631Z"
    }
   },
   "outputs": [],
   "source": [
    "train['Title'] = train['Name'].str.split(', ').str[1].str.split('.').str[0]"
   ]
  },
  {
   "cell_type": "markdown",
   "id": "23675ccf",
   "metadata": {
    "papermill": {
     "duration": 0.059613,
     "end_time": "2023-05-20T11:31:48.670165",
     "exception": false,
     "start_time": "2023-05-20T11:31:48.610552",
     "status": "completed"
    },
    "tags": []
   },
   "source": [
    "Extracting all titles from train and test:"
   ]
  },
  {
   "cell_type": "code",
   "execution_count": 85,
   "id": "d90a9fc8",
   "metadata": {
    "execution": {
     "iopub.execute_input": "2023-05-20T11:31:48.792337Z",
     "iopub.status.busy": "2023-05-20T11:31:48.791854Z",
     "iopub.status.idle": "2023-05-20T11:31:48.812738Z",
     "shell.execute_reply": "2023-05-20T11:31:48.811166Z"
    },
    "papermill": {
     "duration": 0.08554,
     "end_time": "2023-05-20T11:31:48.815798",
     "exception": false,
     "start_time": "2023-05-20T11:31:48.730258",
     "status": "completed"
    },
    "tags": [],
    "ExecuteTime": {
     "end_time": "2023-06-25T18:01:28.309061Z",
     "start_time": "2023-06-25T18:01:28.204108Z"
    }
   },
   "outputs": [
    {
     "data": {
      "text/plain": "Title\nMr              757\nMiss            260\nMrs             197\nMaster           61\nRev               8\nDr                8\nCol               4\nMlle              2\nMajor             2\nMs                2\nLady              1\nSir               1\nMme               1\nDon               1\nCapt              1\nthe Countess      1\nJonkheer          1\nDona              1\nName: count, dtype: int64"
     },
     "execution_count": 85,
     "metadata": {},
     "output_type": "execute_result"
    }
   ],
   "source": [
    "all_data['Title'] = all_data['Name'].str.split(', ').str[1].str.split('.').str[0]\n",
    "all_data['Title'].value_counts()"
   ]
  },
  {
   "cell_type": "markdown",
   "id": "74a7521d",
   "metadata": {
    "papermill": {
     "duration": 0.059314,
     "end_time": "2023-05-20T11:31:48.935685",
     "exception": false,
     "start_time": "2023-05-20T11:31:48.876371",
     "status": "completed"
    },
    "tags": []
   },
   "source": [
    "let's group some of the titles together:"
   ]
  },
  {
   "cell_type": "code",
   "execution_count": 44,
   "id": "74b487e2",
   "metadata": {
    "execution": {
     "iopub.execute_input": "2023-05-20T11:31:49.058069Z",
     "iopub.status.busy": "2023-05-20T11:31:49.057631Z",
     "iopub.status.idle": "2023-05-20T11:31:49.067764Z",
     "shell.execute_reply": "2023-05-20T11:31:49.066731Z"
    },
    "papermill": {
     "duration": 0.074138,
     "end_time": "2023-05-20T11:31:49.070475",
     "exception": false,
     "start_time": "2023-05-20T11:31:48.996337",
     "status": "completed"
    },
    "tags": [],
    "ExecuteTime": {
     "end_time": "2023-06-25T17:55:05.198287Z",
     "start_time": "2023-06-25T17:55:05.191232Z"
    }
   },
   "outputs": [],
   "source": [
    "\n",
    "title_mapping= {'Mr':'Mr', 'Mrs':'Mrs', 'Miss':'Miss','Master':'Master', 'Don':'Rare', 'Rev':'Rare', 'Dr':'Rare', 'Mme':'Mrs', 'Ms':'Miss',\n",
    "       'Major':'Rare', 'Lady':'Rare' , 'Sir':'Rare', 'Mlle':'Miss', 'Col':'Rare', 'Capt':'Rare', 'the Countess':'Rare',\n",
    "       'Jonkheer':'Rare', 'Dona':'Rare'}\n",
    "train['Title']= train['Title'].map(title_mapping)"
   ]
  },
  {
   "cell_type": "code",
   "execution_count": 45,
   "id": "ecb9590a",
   "metadata": {
    "execution": {
     "iopub.execute_input": "2023-05-20T11:31:49.194167Z",
     "iopub.status.busy": "2023-05-20T11:31:49.193746Z",
     "iopub.status.idle": "2023-05-20T11:31:49.204085Z",
     "shell.execute_reply": "2023-05-20T11:31:49.202757Z"
    },
    "papermill": {
     "duration": 0.075991,
     "end_time": "2023-05-20T11:31:49.206860",
     "exception": false,
     "start_time": "2023-05-20T11:31:49.130869",
     "status": "completed"
    },
    "tags": [],
    "ExecuteTime": {
     "end_time": "2023-06-25T17:55:05.436408Z",
     "start_time": "2023-06-25T17:55:05.405694Z"
    }
   },
   "outputs": [
    {
     "data": {
      "text/plain": "Title\nMr        517\nMiss      185\nMrs       126\nMaster     40\nRare       23\nName: count, dtype: int64"
     },
     "execution_count": 45,
     "metadata": {},
     "output_type": "execute_result"
    }
   ],
   "source": [
    "train['Title'].value_counts()"
   ]
  },
  {
   "cell_type": "markdown",
   "id": "39b0d4c2",
   "metadata": {
    "papermill": {
     "duration": 0.059997,
     "end_time": "2023-05-20T11:31:49.327246",
     "exception": false,
     "start_time": "2023-05-20T11:31:49.267249",
     "status": "completed"
    },
    "tags": []
   },
   "source": [
    "### 5.2.6 Fare_bin\n",
    "Let's look again at the destribution of data in Fare column using a box plot. <br>\n",
    "Note that I showed two boxplots of the Fare column, the only difference is that I eliminated one outlier (>500) in the plot on the right to show a less compressed plot."
   ]
  },
  {
   "cell_type": "code",
   "execution_count": 46,
   "id": "fdc886d1",
   "metadata": {
    "execution": {
     "iopub.execute_input": "2023-05-20T11:31:49.448617Z",
     "iopub.status.busy": "2023-05-20T11:31:49.448154Z",
     "iopub.status.idle": "2023-05-20T11:31:49.777959Z",
     "shell.execute_reply": "2023-05-20T11:31:49.776526Z"
    },
    "papermill": {
     "duration": 0.394423,
     "end_time": "2023-05-20T11:31:49.781234",
     "exception": false,
     "start_time": "2023-05-20T11:31:49.386811",
     "status": "completed"
    },
    "tags": [],
    "ExecuteTime": {
     "end_time": "2023-06-25T17:55:06.097Z",
     "start_time": "2023-06-25T17:55:05.973055Z"
    }
   },
   "outputs": [
    {
     "data": {
      "text/plain": "<Figure size 1000x400 with 2 Axes>",
      "image/png": "[encoded data removed]"
     },
     "metadata": {},
     "output_type": "display_data"
    }
   ],
   "source": [
    "fig = plt.figure(figsize=(10, 4))\n",
    "\n",
    "ax1 = plt.subplot(1, 2, 1)\n",
    "sns.boxplot(data=train, y=\"Fare\", ax=ax1)\n",
    "ax1.set_xticks([0], ['Did not survive'])\n",
    "ax1.set_title(\"All Train Data\", fontsize= 13)\n",
    "\n",
    "ax2 = plt.subplot(1, 2, 2)\n",
    "sns.boxplot(data=train[train['Fare']<500], y=\"Fare\",  ax=ax2)\n",
    "ax2.set_xticks([0], ['Did not survive'])\n",
    "ax2.set_title(\"Without > 500\", fontsize= 13)\n",
    "\n",
    "plt.suptitle('Boxplot of Fare Column', fontsize= 16)\n",
    "plt.subplots_adjust(top=0.84)\n",
    "\n",
    "plt.show()"
   ]
  },
  {
   "cell_type": "markdown",
   "id": "5585c7ce",
   "metadata": {
    "papermill": {
     "duration": 0.06048,
     "end_time": "2023-05-20T11:31:49.902618",
     "exception": false,
     "start_time": "2023-05-20T11:31:49.842138",
     "status": "completed"
    },
    "tags": []
   },
   "source": [
    "We will bin the 'Fare' column by calculating the quartiles and defining bin edges based on them. This will create 5 bins:"
   ]
  },
  {
   "cell_type": "code",
   "execution_count": 47,
   "id": "caef0b9b",
   "metadata": {
    "execution": {
     "iopub.execute_input": "2023-05-20T11:31:50.028124Z",
     "iopub.status.busy": "2023-05-20T11:31:50.026756Z",
     "iopub.status.idle": "2023-05-20T11:31:50.038645Z",
     "shell.execute_reply": "2023-05-20T11:31:50.037602Z"
    },
    "papermill": {
     "duration": 0.078007,
     "end_time": "2023-05-20T11:31:50.041633",
     "exception": false,
     "start_time": "2023-05-20T11:31:49.963626",
     "status": "completed"
    },
    "tags": [],
    "ExecuteTime": {
     "end_time": "2023-06-25T17:55:06.344711Z",
     "start_time": "2023-06-25T17:55:06.329056Z"
    }
   },
   "outputs": [],
   "source": [
    "Q1, Q2, Q3 = np.percentile(train['Fare'], [25, 50, 75])\n",
    "IQR = Q3 - Q1\n",
    "\n",
    "fare_bin_edges = [-np.inf, Q1, Q2, Q3, 1.5 * IQR, np.inf]\n",
    "\n",
    "fare_bin_labels=[]\n",
    "for i in range(len(fare_bin_edges)-1):\n",
    "    fare_bin_labels.append(\"{}_to_{}\".format(fare_bin_edges[i], fare_bin_edges[i+1]))\n",
    "\n",
    "train['Fare_bin'] = pd.cut(train['Fare'], bins=fare_bin_edges, labels=fare_bin_labels)"
   ]
  },
  {
   "cell_type": "markdown",
   "id": "2abe60f6",
   "metadata": {
    "papermill": {
     "duration": 0.060984,
     "end_time": "2023-05-20T11:31:50.164364",
     "exception": false,
     "start_time": "2023-05-20T11:31:50.103380",
     "status": "completed"
    },
    "tags": []
   },
   "source": [
    "Notice that I didn't use the lower edge which is calculated as below, because it's below zero:"
   ]
  },
  {
   "cell_type": "code",
   "execution_count": 48,
   "id": "63829138",
   "metadata": {
    "execution": {
     "iopub.execute_input": "2023-05-20T11:31:50.292836Z",
     "iopub.status.busy": "2023-05-20T11:31:50.292248Z",
     "iopub.status.idle": "2023-05-20T11:31:50.299794Z",
     "shell.execute_reply": "2023-05-20T11:31:50.297504Z"
    },
    "papermill": {
     "duration": 0.078815,
     "end_time": "2023-05-20T11:31:50.303772",
     "exception": false,
     "start_time": "2023-05-20T11:31:50.224957",
     "status": "completed"
    },
    "tags": [],
    "ExecuteTime": {
     "end_time": "2023-06-25T17:55:06.694592Z",
     "start_time": "2023-06-25T17:55:06.678837Z"
    }
   },
   "outputs": [
    {
     "name": "stdout",
     "output_type": "stream",
     "text": [
      "-26.724\n"
     ]
    }
   ],
   "source": [
    "print(Q1 - 1.5 * IQR)"
   ]
  },
  {
   "cell_type": "markdown",
   "id": "3b9b4d05",
   "metadata": {
    "papermill": {
     "duration": 0.060637,
     "end_time": "2023-05-20T11:31:50.425711",
     "exception": false,
     "start_time": "2023-05-20T11:31:50.365074",
     "status": "completed"
    },
    "tags": []
   },
   "source": [
    "Number of passenger in each Fare_bin:"
   ]
  },
  {
   "cell_type": "code",
   "execution_count": 49,
   "id": "60a85864",
   "metadata": {
    "execution": {
     "iopub.execute_input": "2023-05-20T11:31:50.551362Z",
     "iopub.status.busy": "2023-05-20T11:31:50.549961Z",
     "iopub.status.idle": "2023-05-20T11:31:50.563626Z",
     "shell.execute_reply": "2023-05-20T11:31:50.562295Z"
    },
    "papermill": {
     "duration": 0.079317,
     "end_time": "2023-05-20T11:31:50.566768",
     "exception": false,
     "start_time": "2023-05-20T11:31:50.487451",
     "status": "completed"
    },
    "tags": [],
    "ExecuteTime": {
     "end_time": "2023-06-25T17:55:07.208597Z",
     "start_time": "2023-06-25T17:55:07.194446Z"
    }
   },
   "outputs": [
    {
     "data": {
      "text/plain": "Fare_bin         \n7.9104_to_14.4542    224\n-inf_to_7.9104       223\n14.4542_to_31.0      222\n34.6344_to_inf       200\n31.0_to_34.6344       22\nName: count, dtype: int64"
     },
     "execution_count": 49,
     "metadata": {},
     "output_type": "execute_result"
    }
   ],
   "source": [
    "train[['Fare_bin']].value_counts()"
   ]
  },
  {
   "cell_type": "markdown",
   "id": "02c5a9d4",
   "metadata": {
    "papermill": {
     "duration": 0.060272,
     "end_time": "2023-05-20T11:31:50.688016",
     "exception": false,
     "start_time": "2023-05-20T11:31:50.627744",
     "status": "completed"
    },
    "tags": []
   },
   "source": [
    "Passenger in the highest fare bin have the highest survival rate while those in the lowest fare bin have the lowest survival rate:"
   ]
  },
  {
   "cell_type": "code",
   "execution_count": 50,
   "id": "0e52860d",
   "metadata": {
    "execution": {
     "iopub.execute_input": "2023-05-20T11:31:50.812269Z",
     "iopub.status.busy": "2023-05-20T11:31:50.811388Z",
     "iopub.status.idle": "2023-05-20T11:31:51.098370Z",
     "shell.execute_reply": "2023-05-20T11:31:51.096642Z"
    },
    "papermill": {
     "duration": 0.35305,
     "end_time": "2023-05-20T11:31:51.101526",
     "exception": false,
     "start_time": "2023-05-20T11:31:50.748476",
     "status": "completed"
    },
    "tags": [],
    "ExecuteTime": {
     "end_time": "2023-06-25T17:55:07.697366Z",
     "start_time": "2023-06-25T17:55:07.583466Z"
    }
   },
   "outputs": [
    {
     "data": {
      "text/plain": "<Figure size 900x400 with 1 Axes>",
      "image/png": "[encoded data removed]"
     },
     "metadata": {},
     "output_type": "display_data"
    }
   ],
   "source": [
    "plt.figure(figsize=(9,4))\n",
    "sns.countplot(x='Fare_bin', hue='Survived', data=train)\n",
    "plt.legend(labels=[\"Didn't Survive\",\"Survived\"])\n",
    "plt.show()"
   ]
  },
  {
   "cell_type": "markdown",
   "id": "189d726d",
   "metadata": {
    "papermill": {
     "duration": 0.060346,
     "end_time": "2023-05-20T11:31:51.223470",
     "exception": false,
     "start_time": "2023-05-20T11:31:51.163124",
     "status": "completed"
    },
    "tags": []
   },
   "source": [
    "### 5.2.7 Age_bin\n",
    "Let's also make bins for Age, I will divivde Age into 10 bins, from 0 to 80 years old"
   ]
  },
  {
   "cell_type": "code",
   "execution_count": 51,
   "id": "b415acfb",
   "metadata": {
    "execution": {
     "iopub.execute_input": "2023-05-20T11:31:51.349144Z",
     "iopub.status.busy": "2023-05-20T11:31:51.348693Z",
     "iopub.status.idle": "2023-05-20T11:31:51.364386Z",
     "shell.execute_reply": "2023-05-20T11:31:51.362761Z"
    },
    "papermill": {
     "duration": 0.081883,
     "end_time": "2023-05-20T11:31:51.367614",
     "exception": false,
     "start_time": "2023-05-20T11:31:51.285731",
     "status": "completed"
    },
    "tags": [],
    "ExecuteTime": {
     "end_time": "2023-06-25T17:55:08.005975Z",
     "start_time": "2023-06-25T17:55:07.990809Z"
    }
   },
   "outputs": [],
   "source": [
    "Q1 = train['Age'].quantile(0.25)\n",
    "Q3 = train['Age'].quantile(0.75)\n",
    "IQR = Q3 - Q1\n",
    "\n",
    "num_bins = 10\n",
    "age_bin_edges = np.linspace(start=0, stop=train.Age.max(), num=num_bins + 1).astype(int)\n",
    "\n",
    "age_bin_labels=[]\n",
    "for i in range(len(age_bin_edges)-1):\n",
    "    age_bin_labels.append(\"{}_to_{}\".format(age_bin_edges[i], age_bin_edges[i+1]))\n",
    "\n",
    "train['Age_bin'] = pd.cut(train['Age'], bins=age_bin_edges, labels= age_bin_labels)"
   ]
  },
  {
   "cell_type": "markdown",
   "id": "a4bf8843",
   "metadata": {
    "papermill": {
     "duration": 0.066046,
     "end_time": "2023-05-20T11:31:51.497148",
     "exception": false,
     "start_time": "2023-05-20T11:31:51.431102",
     "status": "completed"
    },
    "tags": []
   },
   "source": [
    "Below we can see from the value count that we probably can benefit from looking into further dividing the three bins with the highest number of passengers. I will keep them as they are for now:"
   ]
  },
  {
   "cell_type": "code",
   "execution_count": 52,
   "id": "235adb3d",
   "metadata": {
    "execution": {
     "iopub.execute_input": "2023-05-20T11:31:51.626199Z",
     "iopub.status.busy": "2023-05-20T11:31:51.625356Z",
     "iopub.status.idle": "2023-05-20T11:31:51.635823Z",
     "shell.execute_reply": "2023-05-20T11:31:51.634329Z"
    },
    "papermill": {
     "duration": 0.077171,
     "end_time": "2023-05-20T11:31:51.638894",
     "exception": false,
     "start_time": "2023-05-20T11:31:51.561723",
     "status": "completed"
    },
    "tags": [],
    "ExecuteTime": {
     "end_time": "2023-06-25T17:55:08.431419Z",
     "start_time": "2023-06-25T17:55:08.414789Z"
    }
   },
   "outputs": [
    {
     "data": {
      "text/plain": "Age_bin\n16_to_24    177\n24_to_32    169\n32_to_40    118\n40_to_48     70\n0_to_8       54\n8_to_16      46\n48_to_56     45\n56_to_64     24\n64_to_72      9\n72_to_80      2\nName: count, dtype: int64"
     },
     "execution_count": 52,
     "metadata": {},
     "output_type": "execute_result"
    }
   ],
   "source": [
    "train['Age_bin'].value_counts()"
   ]
  },
  {
   "cell_type": "markdown",
   "id": "cc207603",
   "metadata": {
    "papermill": {
     "duration": 0.063321,
     "end_time": "2023-05-20T11:31:51.763436",
     "exception": false,
     "start_time": "2023-05-20T11:31:51.700115",
     "status": "completed"
    },
    "tags": []
   },
   "source": [
    "When we plot the age bins, we notice that the only bin with more surviving passengers than perishing ones is the bin that includes passengers aged 0 to 8 years."
   ]
  },
  {
   "cell_type": "code",
   "execution_count": 53,
   "id": "13ebd669",
   "metadata": {
    "execution": {
     "iopub.execute_input": "2023-05-20T11:31:51.889506Z",
     "iopub.status.busy": "2023-05-20T11:31:51.888575Z",
     "iopub.status.idle": "2023-05-20T11:31:52.272466Z",
     "shell.execute_reply": "2023-05-20T11:31:52.271273Z"
    },
    "papermill": {
     "duration": 0.450636,
     "end_time": "2023-05-20T11:31:52.275793",
     "exception": false,
     "start_time": "2023-05-20T11:31:51.825157",
     "status": "completed"
    },
    "tags": [],
    "ExecuteTime": {
     "end_time": "2023-06-25T17:55:08.948977Z",
     "start_time": "2023-06-25T17:55:08.805901Z"
    }
   },
   "outputs": [
    {
     "data": {
      "text/plain": "<Figure size 1100x600 with 1 Axes>",
      "image/png": "[encoded data removed]"
     },
     "metadata": {},
     "output_type": "display_data"
    }
   ],
   "source": [
    "plt.figure(figsize=(11,6))\n",
    "sns.countplot(x='Age_bin', hue='Survived', data=train)\n",
    "plt.legend([\"Didn't survive\",\"Survived\"])\n",
    "plt.title('Age bins by survival')\n",
    "plt.show()"
   ]
  },
  {
   "cell_type": "markdown",
   "id": "f3b2ae43",
   "metadata": {
    "papermill": {
     "duration": 0.063061,
     "end_time": "2023-05-20T11:31:52.405830",
     "exception": false,
     "start_time": "2023-05-20T11:31:52.342769",
     "status": "completed"
    },
    "tags": []
   },
   "source": [
    "### 5.2.8 Feature Interaction"
   ]
  },
  {
   "cell_type": "markdown",
   "id": "e4926ebc",
   "metadata": {
    "papermill": {
     "duration": 0.062402,
     "end_time": "2023-05-20T11:31:52.531245",
     "exception": false,
     "start_time": "2023-05-20T11:31:52.468843",
     "status": "completed"
    },
    "tags": []
   },
   "source": [
    "Now we will creat multiple features using the interactions between the features we have:"
   ]
  },
  {
   "cell_type": "code",
   "execution_count": 54,
   "id": "866b31f4",
   "metadata": {
    "execution": {
     "iopub.execute_input": "2023-05-20T11:31:52.660502Z",
     "iopub.status.busy": "2023-05-20T11:31:52.660059Z",
     "iopub.status.idle": "2023-05-20T11:31:52.929749Z",
     "shell.execute_reply": "2023-05-20T11:31:52.928352Z"
    },
    "papermill": {
     "duration": 0.338506,
     "end_time": "2023-05-20T11:31:52.932820",
     "exception": false,
     "start_time": "2023-05-20T11:31:52.594314",
     "status": "completed"
    },
    "tags": [],
    "ExecuteTime": {
     "end_time": "2023-06-25T17:55:09.434495Z",
     "start_time": "2023-06-25T17:55:09.389583Z"
    }
   },
   "outputs": [],
   "source": [
    "train[\"Age_bin_Sex\"] = train[\"Age_bin\"].astype(str) + \"_\" + train[\"Sex\"]\n",
    "train[\"Age_bin_Pclass\"] = train[\"Age_bin\"].astype(str) + \"_\" + train[\"Pclass\"].astype(str)\n",
    "\n",
    "train[\"Fare_bin_Sex\"] = train[\"Fare_bin\"].astype(str) + \"_\" + train[\"Sex\"]\n",
    "train[\"Fare_bin_Pclass\"] = train[\"Fare_bin\"].astype(str) + \"_\" + train[\"Pclass\"].astype(str)\n",
    "\n",
    "train[\"Pclass_Sex\"] = train[\"Pclass\"].astype(str) + \"_\" + train[\"Sex\"]\n",
    "train[\"Pclass_Title\"] = train[\"Pclass\"].astype(str) + \"_\" + train[\"Title\"]\n",
    "train[\"Sex_Title\"] = train[\"Sex\"].astype(str) + \"_\" + train[\"Title\"]\n",
    "\n",
    "train[\"Age_bin_Title\"] = train[\"Age_bin\"].astype(str) + \"_\" + train[\"Title\"]\n",
    "train[\"Fare_bin_Title\"] = train[\"Fare_bin\"].astype(str) + \"_\" + train[\"Title\"]\n",
    "\n",
    "train['Fam_Size_Cabin']= train[\"Family_Size\"].astype(str) + \"_\" + train[\"Cabin_Letter\"].astype(str)\n",
    "train['Fam_Size_Parch']= train[\"Family_Size\"].astype(str) + \"_\" + train[\"Parch\"].astype(str)\n",
    "train['Fam_Size_Fare_bin']= train[\"Family_Size\"].astype(str) + \"_\" + train[\"Fare_bin\"].astype(str)\n",
    "\n",
    "train['SibSp_Parch_Ratio'] = train.apply(lambda x: x['SibSp'] / train.loc[x.name, 'Parch'] if train.loc[x.name, 'Parch'] != 0 else 0, axis=1)\n",
    "train['Age_bin_Fare_bin']= train[\"Age_bin\"].astype(str) + \"_\" + train[\"Fare_bin\"].astype(str)"
   ]
  },
  {
   "cell_type": "markdown",
   "id": "e251807d",
   "metadata": {
    "papermill": {
     "duration": 0.064294,
     "end_time": "2023-05-20T11:31:53.059590",
     "exception": false,
     "start_time": "2023-05-20T11:31:52.995296",
     "status": "completed"
    },
    "tags": []
   },
   "source": [
    "## 5.3 Applying the same changes on the Test dataset:"
   ]
  },
  {
   "cell_type": "markdown",
   "id": "1919a1bb",
   "metadata": {
    "papermill": {
     "duration": 0.063849,
     "end_time": "2023-05-20T11:31:53.186888",
     "exception": false,
     "start_time": "2023-05-20T11:31:53.123039",
     "status": "completed"
    },
    "tags": []
   },
   "source": [
    "Missing values:"
   ]
  },
  {
   "cell_type": "code",
   "execution_count": 55,
   "id": "fb183f4b",
   "metadata": {
    "execution": {
     "iopub.execute_input": "2023-05-20T11:31:53.316306Z",
     "iopub.status.busy": "2023-05-20T11:31:53.315544Z",
     "iopub.status.idle": "2023-05-20T11:31:53.325347Z",
     "shell.execute_reply": "2023-05-20T11:31:53.324305Z"
    },
    "papermill": {
     "duration": 0.077008,
     "end_time": "2023-05-20T11:31:53.328054",
     "exception": false,
     "start_time": "2023-05-20T11:31:53.251046",
     "status": "completed"
    },
    "tags": [],
    "ExecuteTime": {
     "end_time": "2023-06-25T17:55:10.007213Z",
     "start_time": "2023-06-25T17:55:09.988525Z"
    }
   },
   "outputs": [
    {
     "data": {
      "text/plain": "PassengerId      0\nPclass           0\nName             0\nSex              0\nAge             86\nSibSp            0\nParch            0\nTicket           0\nFare             1\nCabin          327\nEmbarked         0\ndtype: int64"
     },
     "execution_count": 55,
     "metadata": {},
     "output_type": "execute_result"
    }
   ],
   "source": [
    "test.isnull().sum()"
   ]
  },
  {
   "cell_type": "markdown",
   "id": "9e130796",
   "metadata": {
    "papermill": {
     "duration": 0.064016,
     "end_time": "2023-05-20T11:31:53.455394",
     "exception": false,
     "start_time": "2023-05-20T11:31:53.391378",
     "status": "completed"
    },
    "tags": []
   },
   "source": [
    "Filling missing values in Age column:"
   ]
  },
  {
   "cell_type": "code",
   "execution_count": 56,
   "id": "c2bdd009",
   "metadata": {
    "execution": {
     "iopub.execute_input": "2023-05-20T11:31:53.585655Z",
     "iopub.status.busy": "2023-05-20T11:31:53.584332Z",
     "iopub.status.idle": "2023-05-20T11:31:53.609919Z",
     "shell.execute_reply": "2023-05-20T11:31:53.608774Z"
    },
    "papermill": {
     "duration": 0.09401,
     "end_time": "2023-05-20T11:31:53.612954",
     "exception": false,
     "start_time": "2023-05-20T11:31:53.518944",
     "status": "completed"
    },
    "tags": [],
    "ExecuteTime": {
     "end_time": "2023-06-25T17:55:10.471901Z",
     "start_time": "2023-06-25T17:55:10.439404Z"
    }
   },
   "outputs": [
    {
     "ename": "NameError",
     "evalue": "name 'age_median' is not defined",
     "output_type": "error",
     "traceback": [
      "\u001B[0;31m---------------------------------------------------------------------------\u001B[0m",
      "\u001B[0;31mNameError\u001B[0m                                 Traceback (most recent call last)",
      "Cell \u001B[0;32mIn[56], line 1\u001B[0m\n\u001B[0;32m----> 1\u001B[0m test[\u001B[38;5;124m'\u001B[39m\u001B[38;5;124mAge\u001B[39m\u001B[38;5;124m'\u001B[39m] \u001B[38;5;241m=\u001B[39m \u001B[43mtest\u001B[49m\u001B[38;5;241;43m.\u001B[39;49m\u001B[43mapply\u001B[49m\u001B[43m(\u001B[49m\u001B[38;5;28;43;01mlambda\u001B[39;49;00m\u001B[43m \u001B[49m\u001B[43mx\u001B[49m\u001B[43m:\u001B[49m\u001B[43m \u001B[49m\u001B[43mage_median\u001B[49m\u001B[38;5;241;43m.\u001B[39;49m\u001B[43mloc\u001B[49m\u001B[43m[\u001B[49m\u001B[43m(\u001B[49m\u001B[43mx\u001B[49m\u001B[43m[\u001B[49m\u001B[38;5;124;43m'\u001B[39;49m\u001B[38;5;124;43mPclass\u001B[39;49m\u001B[38;5;124;43m'\u001B[39;49m\u001B[43m]\u001B[49m\u001B[43m,\u001B[49m\u001B[43m \u001B[49m\u001B[43mx\u001B[49m\u001B[43m[\u001B[49m\u001B[38;5;124;43m'\u001B[39;49m\u001B[38;5;124;43mSex\u001B[39;49m\u001B[38;5;124;43m'\u001B[39;49m\u001B[43m]\u001B[49m\u001B[43m)\u001B[49m\u001B[43m]\u001B[49m\u001B[43m \u001B[49m\u001B[38;5;28;43;01mif\u001B[39;49;00m\u001B[43m \u001B[49m\u001B[43mnp\u001B[49m\u001B[38;5;241;43m.\u001B[39;49m\u001B[43misnan\u001B[49m\u001B[43m(\u001B[49m\u001B[43mx\u001B[49m\u001B[43m[\u001B[49m\u001B[38;5;124;43m'\u001B[39;49m\u001B[38;5;124;43mAge\u001B[39;49m\u001B[38;5;124;43m'\u001B[39;49m\u001B[43m]\u001B[49m\u001B[43m)\u001B[49m\u001B[43m \u001B[49m\u001B[38;5;28;43;01melse\u001B[39;49;00m\u001B[43m \u001B[49m\u001B[43mx\u001B[49m\u001B[43m[\u001B[49m\u001B[38;5;124;43m'\u001B[39;49m\u001B[38;5;124;43mAge\u001B[39;49m\u001B[38;5;124;43m'\u001B[39;49m\u001B[43m]\u001B[49m\u001B[43m,\u001B[49m\u001B[43m \u001B[49m\u001B[43maxis\u001B[49m\u001B[38;5;241;43m=\u001B[39;49m\u001B[38;5;241;43m1\u001B[39;49m\u001B[43m)\u001B[49m\n",
      "File \u001B[0;32m~/Desktop/Summer-Analytics/venv/lib/python3.9/site-packages/pandas/core/frame.py:9423\u001B[0m, in \u001B[0;36mDataFrame.apply\u001B[0;34m(self, func, axis, raw, result_type, args, **kwargs)\u001B[0m\n\u001B[1;32m   9412\u001B[0m \u001B[38;5;28;01mfrom\u001B[39;00m \u001B[38;5;21;01mpandas\u001B[39;00m\u001B[38;5;21;01m.\u001B[39;00m\u001B[38;5;21;01mcore\u001B[39;00m\u001B[38;5;21;01m.\u001B[39;00m\u001B[38;5;21;01mapply\u001B[39;00m \u001B[38;5;28;01mimport\u001B[39;00m frame_apply\n\u001B[1;32m   9414\u001B[0m op \u001B[38;5;241m=\u001B[39m frame_apply(\n\u001B[1;32m   9415\u001B[0m     \u001B[38;5;28mself\u001B[39m,\n\u001B[1;32m   9416\u001B[0m     func\u001B[38;5;241m=\u001B[39mfunc,\n\u001B[0;32m   (...)\u001B[0m\n\u001B[1;32m   9421\u001B[0m     kwargs\u001B[38;5;241m=\u001B[39mkwargs,\n\u001B[1;32m   9422\u001B[0m )\n\u001B[0;32m-> 9423\u001B[0m \u001B[38;5;28;01mreturn\u001B[39;00m \u001B[43mop\u001B[49m\u001B[38;5;241;43m.\u001B[39;49m\u001B[43mapply\u001B[49m\u001B[43m(\u001B[49m\u001B[43m)\u001B[49m\u001B[38;5;241m.\u001B[39m__finalize__(\u001B[38;5;28mself\u001B[39m, method\u001B[38;5;241m=\u001B[39m\u001B[38;5;124m\"\u001B[39m\u001B[38;5;124mapply\u001B[39m\u001B[38;5;124m\"\u001B[39m)\n",
      "File \u001B[0;32m~/Desktop/Summer-Analytics/venv/lib/python3.9/site-packages/pandas/core/apply.py:678\u001B[0m, in \u001B[0;36mFrameApply.apply\u001B[0;34m(self)\u001B[0m\n\u001B[1;32m    675\u001B[0m \u001B[38;5;28;01melif\u001B[39;00m \u001B[38;5;28mself\u001B[39m\u001B[38;5;241m.\u001B[39mraw:\n\u001B[1;32m    676\u001B[0m     \u001B[38;5;28;01mreturn\u001B[39;00m \u001B[38;5;28mself\u001B[39m\u001B[38;5;241m.\u001B[39mapply_raw()\n\u001B[0;32m--> 678\u001B[0m \u001B[38;5;28;01mreturn\u001B[39;00m \u001B[38;5;28;43mself\u001B[39;49m\u001B[38;5;241;43m.\u001B[39;49m\u001B[43mapply_standard\u001B[49m\u001B[43m(\u001B[49m\u001B[43m)\u001B[49m\n",
      "File \u001B[0;32m~/Desktop/Summer-Analytics/venv/lib/python3.9/site-packages/pandas/core/apply.py:798\u001B[0m, in \u001B[0;36mFrameApply.apply_standard\u001B[0;34m(self)\u001B[0m\n\u001B[1;32m    797\u001B[0m \u001B[38;5;28;01mdef\u001B[39;00m \u001B[38;5;21mapply_standard\u001B[39m(\u001B[38;5;28mself\u001B[39m):\n\u001B[0;32m--> 798\u001B[0m     results, res_index \u001B[38;5;241m=\u001B[39m \u001B[38;5;28;43mself\u001B[39;49m\u001B[38;5;241;43m.\u001B[39;49m\u001B[43mapply_series_generator\u001B[49m\u001B[43m(\u001B[49m\u001B[43m)\u001B[49m\n\u001B[1;32m    800\u001B[0m     \u001B[38;5;66;03m# wrap results\u001B[39;00m\n\u001B[1;32m    801\u001B[0m     \u001B[38;5;28;01mreturn\u001B[39;00m \u001B[38;5;28mself\u001B[39m\u001B[38;5;241m.\u001B[39mwrap_results(results, res_index)\n",
      "File \u001B[0;32m~/Desktop/Summer-Analytics/venv/lib/python3.9/site-packages/pandas/core/apply.py:814\u001B[0m, in \u001B[0;36mFrameApply.apply_series_generator\u001B[0;34m(self)\u001B[0m\n\u001B[1;32m    811\u001B[0m \u001B[38;5;28;01mwith\u001B[39;00m option_context(\u001B[38;5;124m\"\u001B[39m\u001B[38;5;124mmode.chained_assignment\u001B[39m\u001B[38;5;124m\"\u001B[39m, \u001B[38;5;28;01mNone\u001B[39;00m):\n\u001B[1;32m    812\u001B[0m     \u001B[38;5;28;01mfor\u001B[39;00m i, v \u001B[38;5;129;01min\u001B[39;00m \u001B[38;5;28menumerate\u001B[39m(series_gen):\n\u001B[1;32m    813\u001B[0m         \u001B[38;5;66;03m# ignore SettingWithCopy here in case the user mutates\u001B[39;00m\n\u001B[0;32m--> 814\u001B[0m         results[i] \u001B[38;5;241m=\u001B[39m \u001B[38;5;28;43mself\u001B[39;49m\u001B[38;5;241;43m.\u001B[39;49m\u001B[43mf\u001B[49m\u001B[43m(\u001B[49m\u001B[43mv\u001B[49m\u001B[43m)\u001B[49m\n\u001B[1;32m    815\u001B[0m         \u001B[38;5;28;01mif\u001B[39;00m \u001B[38;5;28misinstance\u001B[39m(results[i], ABCSeries):\n\u001B[1;32m    816\u001B[0m             \u001B[38;5;66;03m# If we have a view on v, we need to make a copy because\u001B[39;00m\n\u001B[1;32m    817\u001B[0m             \u001B[38;5;66;03m#  series_generator will swap out the underlying data\u001B[39;00m\n\u001B[1;32m    818\u001B[0m             results[i] \u001B[38;5;241m=\u001B[39m results[i]\u001B[38;5;241m.\u001B[39mcopy(deep\u001B[38;5;241m=\u001B[39m\u001B[38;5;28;01mFalse\u001B[39;00m)\n",
      "Cell \u001B[0;32mIn[56], line 1\u001B[0m, in \u001B[0;36m<lambda>\u001B[0;34m(x)\u001B[0m\n\u001B[0;32m----> 1\u001B[0m test[\u001B[38;5;124m'\u001B[39m\u001B[38;5;124mAge\u001B[39m\u001B[38;5;124m'\u001B[39m] \u001B[38;5;241m=\u001B[39m test\u001B[38;5;241m.\u001B[39mapply(\u001B[38;5;28;01mlambda\u001B[39;00m x: \u001B[43mage_median\u001B[49m\u001B[38;5;241m.\u001B[39mloc[(x[\u001B[38;5;124m'\u001B[39m\u001B[38;5;124mPclass\u001B[39m\u001B[38;5;124m'\u001B[39m], x[\u001B[38;5;124m'\u001B[39m\u001B[38;5;124mSex\u001B[39m\u001B[38;5;124m'\u001B[39m])] \u001B[38;5;28;01mif\u001B[39;00m np\u001B[38;5;241m.\u001B[39misnan(x[\u001B[38;5;124m'\u001B[39m\u001B[38;5;124mAge\u001B[39m\u001B[38;5;124m'\u001B[39m]) \u001B[38;5;28;01melse\u001B[39;00m x[\u001B[38;5;124m'\u001B[39m\u001B[38;5;124mAge\u001B[39m\u001B[38;5;124m'\u001B[39m], axis\u001B[38;5;241m=\u001B[39m\u001B[38;5;241m1\u001B[39m)\n",
      "\u001B[0;31mNameError\u001B[0m: name 'age_median' is not defined"
     ]
    }
   ],
   "source": [
    "test['Age'] = test.apply(lambda x: age_median.loc[(x['Pclass'], x['Sex'])] if np.isnan(x['Age']) else x['Age'], axis=1)"
   ]
  },
  {
   "cell_type": "markdown",
   "id": "6219e335",
   "metadata": {
    "papermill": {
     "duration": 0.062355,
     "end_time": "2023-05-20T11:31:53.738191",
     "exception": false,
     "start_time": "2023-05-20T11:31:53.675836",
     "status": "completed"
    },
    "tags": []
   },
   "source": [
    "Let's take a look at the row with the missing value in the Fare column:"
   ]
  },
  {
   "cell_type": "code",
   "execution_count": 57,
   "id": "d55cfeca",
   "metadata": {
    "execution": {
     "iopub.execute_input": "2023-05-20T11:31:53.868056Z",
     "iopub.status.busy": "2023-05-20T11:31:53.867240Z",
     "iopub.status.idle": "2023-05-20T11:31:53.898839Z",
     "shell.execute_reply": "2023-05-20T11:31:53.897345Z"
    },
    "papermill": {
     "duration": 0.100196,
     "end_time": "2023-05-20T11:31:53.901693",
     "exception": false,
     "start_time": "2023-05-20T11:31:53.801497",
     "status": "completed"
    },
    "tags": [],
    "ExecuteTime": {
     "end_time": "2023-06-25T17:55:10.906770Z",
     "start_time": "2023-06-25T17:55:10.898741Z"
    }
   },
   "outputs": [
    {
     "data": {
      "text/plain": "     PassengerId  Pclass                Name   Sex  ...  Ticket  Fare  Cabin Embarked\n152         1044       3  Storey, Mr. Thomas  male  ...    3701   NaN    NaN        S\n\n[1 rows x 11 columns]",
      "text/html": "<div>\n<style scoped>\n    .dataframe tbody tr th:only-of-type {\n        vertical-align: middle;\n    }\n\n    .dataframe tbody tr th {\n        vertical-align: top;\n    }\n\n    .dataframe thead th {\n        text-align: right;\n    }\n</style>\n<table border=\"1\" class=\"dataframe\">\n  <thead>\n    <tr style=\"text-align: right;\">\n      <th></th>\n      <th>PassengerId</th>\n      <th>Pclass</th>\n      <th>Name</th>\n      <th>Sex</th>\n      <th>Age</th>\n      <th>SibSp</th>\n      <th>Parch</th>\n      <th>Ticket</th>\n      <th>Fare</th>\n      <th>Cabin</th>\n      <th>Embarked</th>\n    </tr>\n  </thead>\n  <tbody>\n    <tr>\n      <th>152</th>\n      <td>1044</td>\n      <td>3</td>\n      <td>Storey, Mr. Thomas</td>\n      <td>male</td>\n      <td>60.5</td>\n      <td>0</td>\n      <td>0</td>\n      <td>3701</td>\n      <td>NaN</td>\n      <td>NaN</td>\n      <td>S</td>\n    </tr>\n  </tbody>\n</table>\n</div>"
     },
     "execution_count": 57,
     "metadata": {},
     "output_type": "execute_result"
    }
   ],
   "source": [
    "test[test.isnull()['Fare']== True]"
   ]
  },
  {
   "cell_type": "markdown",
   "id": "453cb691",
   "metadata": {
    "papermill": {
     "duration": 0.06605,
     "end_time": "2023-05-20T11:31:54.031396",
     "exception": false,
     "start_time": "2023-05-20T11:31:53.965346",
     "status": "completed"
    },
    "tags": []
   },
   "source": [
    "Since the passenger above isn't traveling with any family number, we can't find the exact fare for him, so let's replace the fare value with the mean of the Fare column."
   ]
  },
  {
   "cell_type": "code",
   "execution_count": 58,
   "id": "abd5f083",
   "metadata": {
    "execution": {
     "iopub.execute_input": "2023-05-20T11:31:54.160023Z",
     "iopub.status.busy": "2023-05-20T11:31:54.158895Z",
     "iopub.status.idle": "2023-05-20T11:31:54.165871Z",
     "shell.execute_reply": "2023-05-20T11:31:54.164888Z"
    },
    "papermill": {
     "duration": 0.074002,
     "end_time": "2023-05-20T11:31:54.168922",
     "exception": false,
     "start_time": "2023-05-20T11:31:54.094920",
     "status": "completed"
    },
    "tags": [],
    "ExecuteTime": {
     "end_time": "2023-06-25T17:55:12.096311Z",
     "start_time": "2023-06-25T17:55:12.082841Z"
    }
   },
   "outputs": [],
   "source": [
    "avg_fare = test[\"Fare\"].mean(axis=0)\n",
    "test[\"Fare\"].replace(np.nan, avg_fare, inplace=True)"
   ]
  },
  {
   "cell_type": "markdown",
   "id": "b2ede731",
   "metadata": {
    "papermill": {
     "duration": 0.064931,
     "end_time": "2023-05-20T11:31:54.298337",
     "exception": false,
     "start_time": "2023-05-20T11:31:54.233406",
     "status": "completed"
    },
    "tags": []
   },
   "source": [
    "We need to structure the new features we created in the feature engineering process, ideally, we would do that using a function or a pipeline, but since this process is for learning, I will do it step by step:"
   ]
  },
  {
   "cell_type": "code",
   "execution_count": 59,
   "id": "9a8c0cee",
   "metadata": {
    "execution": {
     "iopub.execute_input": "2023-05-20T11:31:54.425192Z",
     "iopub.status.busy": "2023-05-20T11:31:54.424720Z",
     "iopub.status.idle": "2023-05-20T11:31:54.512814Z",
     "shell.execute_reply": "2023-05-20T11:31:54.511391Z"
    },
    "papermill": {
     "duration": 0.155717,
     "end_time": "2023-05-20T11:31:54.516286",
     "exception": false,
     "start_time": "2023-05-20T11:31:54.360569",
     "status": "completed"
    },
    "tags": [],
    "ExecuteTime": {
     "end_time": "2023-06-25T17:55:13.312666Z",
     "start_time": "2023-06-25T17:55:13.291070Z"
    }
   },
   "outputs": [],
   "source": [
    "#Cabin_Letter\n",
    "test['Cabin_Letter'] = test['Cabin'].str[:1]\n",
    "test.Cabin_Letter= test.Cabin_Letter.fillna('Unknown')\n",
    "\n",
    "#Family_Size\n",
    "test['Family_Size']= test['Parch'] + test['SibSp'] + 1\n",
    "test['Family_Size']=test['Family_Size'].map({1: 'Alone', 2: 'Small', 3: 'Small', 4: 'Small', 5: 'Medium', 6: 'Medium', 7: 'Large', 8: 'Large', 11: 'Large'})\n",
    "\n",
    "#Is_Female\n",
    "test['Is_Female']= test.Sex.apply(lambda x: 1 if x=='female' else 0)\n",
    "\n",
    "#Group_Size\n",
    "test['Group_Size']=test['Ticket'].apply(lambda x: tickets.loc[x, 'Count'])\n",
    "\n",
    "#Title\n",
    "test['Title'] = test['Name'].str.split(', ').str[1].str.split('.').str[0]\n",
    "test['Title']= test['Title'].map(title_mapping)\n",
    "\n",
    "#Fare_bin\n",
    "test['Fare_bin'] = pd.cut(test['Fare'], bins=fare_bin_edges, labels=fare_bin_labels)\n",
    "\n",
    "#Age_bins\n",
    "test['Age_bin'] = pd.cut(test['Age'], bins=age_bin_edges, labels=age_bin_labels)\n",
    "\n",
    "#SibSp_Parch Ratio\n",
    "test['SibSp_Parch_Ratio'] = test.apply(lambda x: x['SibSp'] / test.loc[x.name, 'Parch'] if test.loc[x.name, 'Parch'] != 0 else 0, axis=1)\n",
    "\n",
    "#Age_bin / Sex\n",
    "test[\"Age_bin_Sex\"] = test[\"Age_bin\"].astype(str) + \"_\" + test[\"Sex\"]\n",
    "\n",
    "#Age_bin / Pcalss\n",
    "test[\"Age_bin_Pclass\"] = test[\"Age_bin\"].astype(str) + \"_\" + test[\"Pclass\"].astype(str)\n",
    "\n",
    "#Fare_bin / Sex\n",
    "test[\"Fare_bin_Sex\"] = test[\"Fare_bin\"].astype(str) + \"_\" + train[\"Sex\"]\n",
    "\n",
    "#Fare_bin / Pclass\n",
    "test[\"Fare_bin_Pclass\"] = test[\"Fare_bin\"].astype(str) + \"_\" + test[\"Pclass\"].astype(str)\n",
    "\n",
    "#Pclass / Sex\n",
    "test[\"Pclass_Sex\"] = test[\"Pclass\"].astype(str) + \"_\" + test[\"Sex\"]\n",
    "\n",
    "#Pclass / Title\n",
    "test[\"Pclass_Title\"] = test[\"Pclass\"].astype(str) + \"_\" + test[\"Title\"]\n",
    "\n",
    "#Sex / Title\n",
    "test[\"Sex_Title\"] = test[\"Sex\"].astype(str) + \"_\" + test[\"Title\"]\n",
    "\n",
    "#Age_bin / Title\n",
    "test[\"Age_bin_Title\"] = test[\"Age_bin\"].astype(str) + \"_\" + test[\"Title\"]\n",
    "\n",
    "#Fare_bin / Title\n",
    "test[\"Fare_bin_Title\"] = test[\"Fare_bin\"].astype(str) + \"_\" + test[\"Title\"]\n",
    "\n",
    "#Fam_Size / Cabin_Letter\n",
    "test['Fam_Size_Cabin']= test[\"Family_Size\"].astype(str) + \"_\" + test[\"Cabin_Letter\"].astype(str)\n",
    "\n",
    "#Fam_Size / Parch\n",
    "test['Fam_Size_Parch']= test[\"Family_Size\"].astype(str) + \"_\" + test[\"Parch\"].astype(str)\n",
    "\n",
    "#Fam_Size / Fare_bin\n",
    "test['Fam_Size_Fare_bin']= test[\"Family_Size\"].astype(str) + \"_\" + test[\"Fare_bin\"].astype(str)\n",
    "\n",
    "\n",
    "test.drop(columns=['Cabin'],inplace= True)\n",
    "\n",
    "test['Age_bin_Fare_bin']= test[\"Age_bin\"].astype(str) + \"_\" + test[\"Fare_bin\"].astype(str)"
   ]
  },
  {
   "cell_type": "markdown",
   "id": "32261b74",
   "metadata": {
    "papermill": {
     "duration": 0.063688,
     "end_time": "2023-05-20T11:31:54.642872",
     "exception": false,
     "start_time": "2023-05-20T11:31:54.579184",
     "status": "completed"
    },
    "tags": []
   },
   "source": [
    "## 5.4 Dropping unnecessary columns"
   ]
  },
  {
   "cell_type": "code",
   "execution_count": 60,
   "id": "570afd62",
   "metadata": {
    "execution": {
     "iopub.execute_input": "2023-05-20T11:31:54.771351Z",
     "iopub.status.busy": "2023-05-20T11:31:54.770862Z",
     "iopub.status.idle": "2023-05-20T11:31:54.779537Z",
     "shell.execute_reply": "2023-05-20T11:31:54.778059Z"
    },
    "papermill": {
     "duration": 0.076088,
     "end_time": "2023-05-20T11:31:54.782474",
     "exception": false,
     "start_time": "2023-05-20T11:31:54.706386",
     "status": "completed"
    },
    "tags": [],
    "ExecuteTime": {
     "end_time": "2023-06-25T17:55:13.894809Z",
     "start_time": "2023-06-25T17:55:13.885125Z"
    }
   },
   "outputs": [
    {
     "data": {
      "text/plain": "Index(['PassengerId', 'Survived', 'Pclass', 'Name', 'Sex', 'Age', 'SibSp',\n       'Parch', 'Ticket', 'Fare', 'Embarked', 'Cabin_Letter', 'Is_Female',\n       'Family_Size', 'Group_Size', 'Title', 'Fare_bin', 'Age_bin',\n       'Age_bin_Sex', 'Age_bin_Pclass', 'Fare_bin_Sex', 'Fare_bin_Pclass',\n       'Pclass_Sex', 'Pclass_Title', 'Sex_Title', 'Age_bin_Title',\n       'Fare_bin_Title', 'Fam_Size_Cabin', 'Fam_Size_Parch',\n       'Fam_Size_Fare_bin', 'SibSp_Parch_Ratio', 'Age_bin_Fare_bin'],\n      dtype='object')"
     },
     "execution_count": 60,
     "metadata": {},
     "output_type": "execute_result"
    }
   ],
   "source": [
    "train.columns"
   ]
  },
  {
   "cell_type": "code",
   "execution_count": 61,
   "id": "e429f51d",
   "metadata": {
    "execution": {
     "iopub.execute_input": "2023-05-20T11:31:54.913197Z",
     "iopub.status.busy": "2023-05-20T11:31:54.912462Z",
     "iopub.status.idle": "2023-05-20T11:31:54.922802Z",
     "shell.execute_reply": "2023-05-20T11:31:54.921672Z"
    },
    "papermill": {
     "duration": 0.07944,
     "end_time": "2023-05-20T11:31:54.925747",
     "exception": false,
     "start_time": "2023-05-20T11:31:54.846307",
     "status": "completed"
    },
    "tags": [],
    "ExecuteTime": {
     "end_time": "2023-06-25T17:55:14.730289Z",
     "start_time": "2023-06-25T17:55:14.710453Z"
    }
   },
   "outputs": [],
   "source": [
    "cols_to_drop=['Sex','Name','Ticket']\n",
    "for df in [train,test]:\n",
    "    df.drop(columns=cols_to_drop, inplace= True)"
   ]
  },
  {
   "cell_type": "code",
   "execution_count": 62,
   "id": "7def523f",
   "metadata": {
    "execution": {
     "iopub.execute_input": "2023-05-20T11:31:55.053629Z",
     "iopub.status.busy": "2023-05-20T11:31:55.052934Z",
     "iopub.status.idle": "2023-05-20T11:31:55.120168Z",
     "shell.execute_reply": "2023-05-20T11:31:55.118765Z"
    },
    "papermill": {
     "duration": 0.135472,
     "end_time": "2023-05-20T11:31:55.123617",
     "exception": false,
     "start_time": "2023-05-20T11:31:54.988145",
     "status": "completed"
    },
    "tags": [],
    "ExecuteTime": {
     "end_time": "2023-06-25T17:55:14.950280Z",
     "start_time": "2023-06-25T17:55:14.920993Z"
    }
   },
   "outputs": [
    {
     "data": {
      "text/plain": "   PassengerId  Survived  ...  SibSp_Parch_Ratio            Age_bin_Fare_bin\n0            1         0  ...                0.0     16_to_24_-inf_to_7.9104\n1            2         1  ...                0.0     32_to_40_34.6344_to_inf\n2            3         1  ...                0.0  24_to_32_7.9104_to_14.4542\n3            4         1  ...                0.0     32_to_40_34.6344_to_inf\n4            5         0  ...                0.0  32_to_40_7.9104_to_14.4542\n\n[5 rows x 29 columns]",
      "text/html": "<div>\n<style scoped>\n    .dataframe tbody tr th:only-of-type {\n        vertical-align: middle;\n    }\n\n    .dataframe tbody tr th {\n        vertical-align: top;\n    }\n\n    .dataframe thead th {\n        text-align: right;\n    }\n</style>\n<table border=\"1\" class=\"dataframe\">\n  <thead>\n    <tr style=\"text-align: right;\">\n      <th></th>\n      <th>PassengerId</th>\n      <th>Survived</th>\n      <th>Pclass</th>\n      <th>Age</th>\n      <th>SibSp</th>\n      <th>Parch</th>\n      <th>Fare</th>\n      <th>Embarked</th>\n      <th>Cabin_Letter</th>\n      <th>Is_Female</th>\n      <th>Family_Size</th>\n      <th>Group_Size</th>\n      <th>Title</th>\n      <th>Fare_bin</th>\n      <th>Age_bin</th>\n      <th>Age_bin_Sex</th>\n      <th>Age_bin_Pclass</th>\n      <th>Fare_bin_Sex</th>\n      <th>Fare_bin_Pclass</th>\n      <th>Pclass_Sex</th>\n      <th>Pclass_Title</th>\n      <th>Sex_Title</th>\n      <th>Age_bin_Title</th>\n      <th>Fare_bin_Title</th>\n      <th>Fam_Size_Cabin</th>\n      <th>Fam_Size_Parch</th>\n      <th>Fam_Size_Fare_bin</th>\n      <th>SibSp_Parch_Ratio</th>\n      <th>Age_bin_Fare_bin</th>\n    </tr>\n  </thead>\n  <tbody>\n    <tr>\n      <th>0</th>\n      <td>1</td>\n      <td>0</td>\n      <td>3</td>\n      <td>22.0</td>\n      <td>1</td>\n      <td>0</td>\n      <td>7.2500</td>\n      <td>S</td>\n      <td>Unknown</td>\n      <td>0</td>\n      <td>Small</td>\n      <td>1</td>\n      <td>Mr</td>\n      <td>-inf_to_7.9104</td>\n      <td>16_to_24</td>\n      <td>16_to_24_male</td>\n      <td>16_to_24_3</td>\n      <td>-inf_to_7.9104_male</td>\n      <td>-inf_to_7.9104_3</td>\n      <td>3_male</td>\n      <td>3_Mr</td>\n      <td>male_Mr</td>\n      <td>16_to_24_Mr</td>\n      <td>-inf_to_7.9104_Mr</td>\n      <td>Small_Unknown</td>\n      <td>Small_0</td>\n      <td>Small_-inf_to_7.9104</td>\n      <td>0.0</td>\n      <td>16_to_24_-inf_to_7.9104</td>\n    </tr>\n    <tr>\n      <th>1</th>\n      <td>2</td>\n      <td>1</td>\n      <td>1</td>\n      <td>38.0</td>\n      <td>1</td>\n      <td>0</td>\n      <td>71.2833</td>\n      <td>C</td>\n      <td>C</td>\n      <td>1</td>\n      <td>Small</td>\n      <td>2</td>\n      <td>Mrs</td>\n      <td>34.6344_to_inf</td>\n      <td>32_to_40</td>\n      <td>32_to_40_female</td>\n      <td>32_to_40_1</td>\n      <td>34.6344_to_inf_female</td>\n      <td>34.6344_to_inf_1</td>\n      <td>1_female</td>\n      <td>1_Mrs</td>\n      <td>female_Mrs</td>\n      <td>32_to_40_Mrs</td>\n      <td>34.6344_to_inf_Mrs</td>\n      <td>Small_C</td>\n      <td>Small_0</td>\n      <td>Small_34.6344_to_inf</td>\n      <td>0.0</td>\n      <td>32_to_40_34.6344_to_inf</td>\n    </tr>\n    <tr>\n      <th>2</th>\n      <td>3</td>\n      <td>1</td>\n      <td>3</td>\n      <td>26.0</td>\n      <td>0</td>\n      <td>0</td>\n      <td>7.9250</td>\n      <td>S</td>\n      <td>Unknown</td>\n      <td>1</td>\n      <td>Alone</td>\n      <td>1</td>\n      <td>Miss</td>\n      <td>7.9104_to_14.4542</td>\n      <td>24_to_32</td>\n      <td>24_to_32_female</td>\n      <td>24_to_32_3</td>\n      <td>7.9104_to_14.4542_female</td>\n      <td>7.9104_to_14.4542_3</td>\n      <td>3_female</td>\n      <td>3_Miss</td>\n      <td>female_Miss</td>\n      <td>24_to_32_Miss</td>\n      <td>7.9104_to_14.4542_Miss</td>\n      <td>Alone_Unknown</td>\n      <td>Alone_0</td>\n      <td>Alone_7.9104_to_14.4542</td>\n      <td>0.0</td>\n      <td>24_to_32_7.9104_to_14.4542</td>\n    </tr>\n    <tr>\n      <th>3</th>\n      <td>4</td>\n      <td>1</td>\n      <td>1</td>\n      <td>35.0</td>\n      <td>1</td>\n      <td>0</td>\n      <td>53.1000</td>\n      <td>S</td>\n      <td>C</td>\n      <td>1</td>\n      <td>Small</td>\n      <td>2</td>\n      <td>Mrs</td>\n      <td>34.6344_to_inf</td>\n      <td>32_to_40</td>\n      <td>32_to_40_female</td>\n      <td>32_to_40_1</td>\n      <td>34.6344_to_inf_female</td>\n      <td>34.6344_to_inf_1</td>\n      <td>1_female</td>\n      <td>1_Mrs</td>\n      <td>female_Mrs</td>\n      <td>32_to_40_Mrs</td>\n      <td>34.6344_to_inf_Mrs</td>\n      <td>Small_C</td>\n      <td>Small_0</td>\n      <td>Small_34.6344_to_inf</td>\n      <td>0.0</td>\n      <td>32_to_40_34.6344_to_inf</td>\n    </tr>\n    <tr>\n      <th>4</th>\n      <td>5</td>\n      <td>0</td>\n      <td>3</td>\n      <td>35.0</td>\n      <td>0</td>\n      <td>0</td>\n      <td>8.0500</td>\n      <td>S</td>\n      <td>Unknown</td>\n      <td>0</td>\n      <td>Alone</td>\n      <td>1</td>\n      <td>Mr</td>\n      <td>7.9104_to_14.4542</td>\n      <td>32_to_40</td>\n      <td>32_to_40_male</td>\n      <td>32_to_40_3</td>\n      <td>7.9104_to_14.4542_male</td>\n      <td>7.9104_to_14.4542_3</td>\n      <td>3_male</td>\n      <td>3_Mr</td>\n      <td>male_Mr</td>\n      <td>32_to_40_Mr</td>\n      <td>7.9104_to_14.4542_Mr</td>\n      <td>Alone_Unknown</td>\n      <td>Alone_0</td>\n      <td>Alone_7.9104_to_14.4542</td>\n      <td>0.0</td>\n      <td>32_to_40_7.9104_to_14.4542</td>\n    </tr>\n  </tbody>\n</table>\n</div>"
     },
     "execution_count": 62,
     "metadata": {},
     "output_type": "execute_result"
    }
   ],
   "source": [
    "train.head()"
   ]
  },
  {
   "cell_type": "markdown",
   "id": "578a5513",
   "metadata": {
    "papermill": {
     "duration": 0.065116,
     "end_time": "2023-05-20T11:31:55.256243",
     "exception": false,
     "start_time": "2023-05-20T11:31:55.191127",
     "status": "completed"
    },
    "tags": []
   },
   "source": [
    "## 5.5 One-Hot Encoding Categorical Columns:"
   ]
  },
  {
   "cell_type": "code",
   "execution_count": 63,
   "id": "310bc28c",
   "metadata": {
    "execution": {
     "iopub.execute_input": "2023-05-20T11:31:55.403520Z",
     "iopub.status.busy": "2023-05-20T11:31:55.402135Z",
     "iopub.status.idle": "2023-05-20T11:31:55.447794Z",
     "shell.execute_reply": "2023-05-20T11:31:55.446452Z"
    },
    "papermill": {
     "duration": 0.125553,
     "end_time": "2023-05-20T11:31:55.450836",
     "exception": false,
     "start_time": "2023-05-20T11:31:55.325283",
     "status": "completed"
    },
    "tags": [],
    "ExecuteTime": {
     "end_time": "2023-06-25T17:55:15.263611Z",
     "start_time": "2023-06-25T17:55:15.246837Z"
    }
   },
   "outputs": [],
   "source": [
    "\n",
    "cat_variables= ['Embarked',\n",
    "                'Fam_Size_Cabin',\n",
    "                'Fam_Size_Parch',\n",
    "                'Fam_Size_Fare_bin' ,\n",
    "                'Cabin_Letter',\n",
    "                'Title',\n",
    "                'Family_Size',\n",
    "                'Age_bin_Sex',\n",
    "                'Age_bin_Pclass',\n",
    "                'Fare_bin_Sex',\n",
    "                'Fare_bin_Pclass',\n",
    "                'Fare_bin_Title',\n",
    "                'Pclass_Sex',\n",
    "                'Pclass_Title',\n",
    "                'Sex_Title',\n",
    "                'Age_bin_Title',\n",
    "                'Fare_bin',\n",
    "                'Age_bin',\n",
    "                'Age_bin_Fare_bin']\n",
    "\n",
    "train = pd.get_dummies(data = train,\n",
    "                       prefix = cat_variables,\n",
    "                       columns = cat_variables)\n",
    "\n",
    "test = pd.get_dummies(data = test,\n",
    "                      prefix = cat_variables,\n",
    "                      columns = cat_variables)"
   ]
  },
  {
   "cell_type": "code",
   "execution_count": 64,
   "id": "0157241e",
   "metadata": {
    "execution": {
     "iopub.execute_input": "2023-05-20T11:31:55.578911Z",
     "iopub.status.busy": "2023-05-20T11:31:55.577979Z",
     "iopub.status.idle": "2023-05-20T11:31:55.584457Z",
     "shell.execute_reply": "2023-05-20T11:31:55.583241Z"
    },
    "papermill": {
     "duration": 0.07356,
     "end_time": "2023-05-20T11:31:55.587327",
     "exception": false,
     "start_time": "2023-05-20T11:31:55.513767",
     "status": "completed"
    },
    "tags": [],
    "ExecuteTime": {
     "end_time": "2023-06-25T17:55:15.514244Z",
     "start_time": "2023-06-25T17:55:15.484695Z"
    }
   },
   "outputs": [
    {
     "name": "stdout",
     "output_type": "stream",
     "text": [
      "Number of columns in train= 308\n",
      "Number of columns in test= 308\n"
     ]
    }
   ],
   "source": [
    "print(F\"Number of columns in train= {train.shape[1]}\")\n",
    "print(F\"Number of columns in test= {train.shape[1]}\")"
   ]
  },
  {
   "cell_type": "markdown",
   "id": "f28ec0ca",
   "metadata": {
    "papermill": {
     "duration": 0.06314,
     "end_time": "2023-05-20T11:31:55.714572",
     "exception": false,
     "start_time": "2023-05-20T11:31:55.651432",
     "status": "completed"
    },
    "tags": []
   },
   "source": [
    "Let's now align train and test columns so that we have the same columns in both of them:"
   ]
  },
  {
   "cell_type": "code",
   "execution_count": 65,
   "id": "77c7d41d",
   "metadata": {
    "execution": {
     "iopub.execute_input": "2023-05-20T11:31:55.844512Z",
     "iopub.status.busy": "2023-05-20T11:31:55.843351Z",
     "iopub.status.idle": "2023-05-20T11:31:55.853537Z",
     "shell.execute_reply": "2023-05-20T11:31:55.852018Z"
    },
    "papermill": {
     "duration": 0.078436,
     "end_time": "2023-05-20T11:31:55.856806",
     "exception": false,
     "start_time": "2023-05-20T11:31:55.778370",
     "status": "completed"
    },
    "tags": [],
    "ExecuteTime": {
     "end_time": "2023-06-25T17:55:15.870859Z",
     "start_time": "2023-06-25T17:55:15.862011Z"
    }
   },
   "outputs": [],
   "source": [
    "train, test = train.align(test, axis=1, fill_value=0)"
   ]
  },
  {
   "cell_type": "code",
   "execution_count": 66,
   "id": "8395b2df",
   "metadata": {
    "execution": {
     "iopub.execute_input": "2023-05-20T11:31:55.988153Z",
     "iopub.status.busy": "2023-05-20T11:31:55.987270Z",
     "iopub.status.idle": "2023-05-20T11:31:55.993858Z",
     "shell.execute_reply": "2023-05-20T11:31:55.992323Z"
    },
    "papermill": {
     "duration": 0.075042,
     "end_time": "2023-05-20T11:31:55.996649",
     "exception": false,
     "start_time": "2023-05-20T11:31:55.921607",
     "status": "completed"
    },
    "tags": [],
    "ExecuteTime": {
     "end_time": "2023-06-25T17:55:16.134375Z",
     "start_time": "2023-06-25T17:55:16.105127Z"
    }
   },
   "outputs": [
    {
     "name": "stdout",
     "output_type": "stream",
     "text": [
      "Number of columns in train= 314\n",
      "Number of columns in test= 314\n"
     ]
    }
   ],
   "source": [
    "print(F\"Number of columns in train= {train.shape[1]}\")\n",
    "print(F\"Number of columns in test= {train.shape[1]}\")"
   ]
  },
  {
   "cell_type": "markdown",
   "id": "cb63e171",
   "metadata": {
    "papermill": {
     "duration": 0.063323,
     "end_time": "2023-05-20T11:31:56.125902",
     "exception": false,
     "start_time": "2023-05-20T11:31:56.062579",
     "status": "completed"
    },
    "tags": []
   },
   "source": [
    "# 6. Feature Selection"
   ]
  },
  {
   "cell_type": "markdown",
   "id": "3e6d7fc9",
   "metadata": {
    "papermill": {
     "duration": 0.065068,
     "end_time": "2023-05-20T11:31:56.255675",
     "exception": false,
     "start_time": "2023-05-20T11:31:56.190607",
     "status": "completed"
    },
    "tags": []
   },
   "source": [
    "Most of the features generated through feature engineering are binary, indicating that the column is filled with 0 if the passenger does not belong to the group represented by the feature, and 1 if the passenger does belong to the group. By summing the binary columns, we can determine the number of passengers included in each feature. If a feature has a very small number of passengers, it may not be helpful, and keeping it could lead to overfitting, as our model would have to consider a characteristic that only applies to one or a few passenger. Therefore, let's select the binary features that include at least 10% of the passengers, and from those that include less than 10% of passengers we will only take those with a correlation >= 0.15 with the target 'Survived' <br>\n",
    "Note that we have to drop the target column 'Survived'."
   ]
  },
  {
   "cell_type": "code",
   "execution_count": 67,
   "id": "d8a50d7e",
   "metadata": {
    "execution": {
     "iopub.execute_input": "2023-05-20T11:31:56.388458Z",
     "iopub.status.busy": "2023-05-20T11:31:56.387463Z",
     "iopub.status.idle": "2023-05-20T11:31:56.689592Z",
     "shell.execute_reply": "2023-05-20T11:31:56.687988Z"
    },
    "papermill": {
     "duration": 0.373052,
     "end_time": "2023-05-20T11:31:56.692456",
     "exception": false,
     "start_time": "2023-05-20T11:31:56.319404",
     "status": "completed"
    },
    "tags": [],
    "ExecuteTime": {
     "end_time": "2023-06-25T17:55:17.043541Z",
     "start_time": "2023-06-25T17:55:16.808503Z"
    }
   },
   "outputs": [
    {
     "name": "stdout",
     "output_type": "stream",
     "text": [
      "Number of selected binary features= 35\n"
     ]
    },
    {
     "data": {
      "text/plain": "['Age_bin_Sex_16_to_24_male',\n 'Age_bin_Sex_nan_male',\n 'Age_bin_Title_16_to_24_Mr',\n 'Age_bin_Title_nan_Mr',\n 'Cabin_Letter_Unknown',\n 'Embarked_C',\n 'Fam_Size_Cabin_Alone_Unknown',\n 'Fam_Size_Fare_bin_Alone_-inf_to_7.9104',\n 'Fam_Size_Fare_bin_Small_34.6344_to_inf',\n 'Fam_Size_Parch_Alone_0',\n 'Fam_Size_Parch_Small_1',\n 'Family_Size_Alone',\n 'Family_Size_Small',\n 'Fare_bin_-inf_to_7.9104',\n 'Fare_bin_34.6344_to_inf',\n 'Fare_bin_Pclass_-inf_to_7.9104_3',\n 'Fare_bin_Pclass_34.6344_to_inf_1',\n 'Fare_bin_Sex_-inf_to_7.9104_male',\n 'Fare_bin_Sex_14.4542_to_31.0_female',\n 'Fare_bin_Sex_34.6344_to_inf_female',\n 'Fare_bin_Sex_7.9104_to_14.4542_male',\n 'Fare_bin_Title_-inf_to_7.9104_Mr',\n 'Fare_bin_Title_7.9104_to_14.4542_Mr',\n 'Is_Female',\n 'Pclass_Sex_1_female',\n 'Pclass_Sex_2_male',\n 'Pclass_Sex_3_male',\n 'Pclass_Title_2_Mr',\n 'Pclass_Title_3_Mr',\n 'Sex_Title_female_Miss',\n 'Sex_Title_female_Mrs',\n 'Sex_Title_male_Mr',\n 'Title_Miss',\n 'Title_Mr',\n 'Title_Mrs']"
     },
     "execution_count": 67,
     "metadata": {},
     "output_type": "execute_result"
    }
   ],
   "source": [
    "corr_with_survived= train.corr()[['Survived']] \n",
    "selected_binary_features = [col for col in train.columns \n",
    "                            if set(train[col].unique()) == {0, 1} \n",
    "                                and (train[col].sum()/len(train) > 0.1 and  abs(corr_with_survived.loc[col].values[0])>= 0.15 )]\n",
    "\n",
    "\n",
    "\n",
    "if 'Survived' in selected_binary_features:\n",
    "    selected_binary_features.remove('Survived')\n",
    "print(F\"Number of selected binary features= {len(selected_binary_features)}\")\n",
    "selected_binary_features"
   ]
  },
  {
   "cell_type": "markdown",
   "id": "7e2c5b1b",
   "metadata": {
    "papermill": {
     "duration": 0.064948,
     "end_time": "2023-05-20T11:31:56.821762",
     "exception": false,
     "start_time": "2023-05-20T11:31:56.756814",
     "status": "completed"
    },
    "tags": []
   },
   "source": [
    "Let's take a look at the non_binary_features, we have to drop `PassengerId` because it's an id column and not a feature:"
   ]
  },
  {
   "cell_type": "code",
   "execution_count": 68,
   "id": "47ce06e0",
   "metadata": {
    "execution": {
     "iopub.execute_input": "2023-05-20T11:31:56.951713Z",
     "iopub.status.busy": "2023-05-20T11:31:56.950783Z",
     "iopub.status.idle": "2023-05-20T11:31:56.984297Z",
     "shell.execute_reply": "2023-05-20T11:31:56.982908Z"
    },
    "papermill": {
     "duration": 0.101616,
     "end_time": "2023-05-20T11:31:56.987148",
     "exception": false,
     "start_time": "2023-05-20T11:31:56.885532",
     "status": "completed"
    },
    "tags": [],
    "ExecuteTime": {
     "end_time": "2023-06-25T17:55:17.246233Z",
     "start_time": "2023-06-25T17:55:17.217523Z"
    }
   },
   "outputs": [
    {
     "name": "stdout",
     "output_type": "stream",
     "text": [
      "Number of non binary features= 13\n"
     ]
    },
    {
     "data": {
      "text/plain": "['Age',\n 'Age_bin_Fare_bin_72_to_80_34.6344_to_inf',\n 'Age_bin_Sex_72_to_80_female',\n 'Age_bin_Title_72_to_80_Mrs',\n 'Fam_Size_Fare_bin_Large_-inf_to_7.9104',\n 'Fam_Size_Parch_Large_9',\n 'Fare',\n 'Fare_bin_Title_-inf_to_7.9104_Master',\n 'Group_Size',\n 'Parch',\n 'Pclass',\n 'SibSp',\n 'SibSp_Parch_Ratio']"
     },
     "execution_count": 68,
     "metadata": {},
     "output_type": "execute_result"
    }
   ],
   "source": [
    "non_binary_features= [col for col in train.columns if set(train[col].unique()) != {0, 1} and col != 'PassengerId']\n",
    "print(F\"Number of non binary features= {len(non_binary_features)}\")\n",
    "non_binary_features"
   ]
  },
  {
   "cell_type": "markdown",
   "id": "84c4bfde",
   "metadata": {
    "papermill": {
     "duration": 0.06565,
     "end_time": "2023-05-20T11:31:57.118555",
     "exception": false,
     "start_time": "2023-05-20T11:31:57.052905",
     "status": "completed"
    },
    "tags": []
   },
   "source": [
    "Now let's combine the selected_binary_features and non_binary_features in one list named features:"
   ]
  },
  {
   "cell_type": "code",
   "execution_count": 69,
   "id": "7b44d5a4",
   "metadata": {
    "execution": {
     "iopub.execute_input": "2023-05-20T11:31:57.251063Z",
     "iopub.status.busy": "2023-05-20T11:31:57.249932Z",
     "iopub.status.idle": "2023-05-20T11:31:57.261137Z",
     "shell.execute_reply": "2023-05-20T11:31:57.259679Z"
    },
    "papermill": {
     "duration": 0.079976,
     "end_time": "2023-05-20T11:31:57.263798",
     "exception": false,
     "start_time": "2023-05-20T11:31:57.183822",
     "status": "completed"
    },
    "tags": [],
    "ExecuteTime": {
     "end_time": "2023-06-25T17:55:17.540919Z",
     "start_time": "2023-06-25T17:55:17.520759Z"
    }
   },
   "outputs": [
    {
     "name": "stdout",
     "output_type": "stream",
     "text": [
      "48\n"
     ]
    },
    {
     "data": {
      "text/plain": "['Age',\n 'Age_bin_Fare_bin_72_to_80_34.6344_to_inf',\n 'Age_bin_Sex_72_to_80_female',\n 'Age_bin_Title_72_to_80_Mrs',\n 'Fam_Size_Fare_bin_Large_-inf_to_7.9104',\n 'Fam_Size_Parch_Large_9',\n 'Fare',\n 'Fare_bin_Title_-inf_to_7.9104_Master',\n 'Group_Size',\n 'Parch',\n 'Pclass',\n 'SibSp',\n 'SibSp_Parch_Ratio',\n 'Age_bin_Sex_16_to_24_male',\n 'Age_bin_Sex_nan_male',\n 'Age_bin_Title_16_to_24_Mr',\n 'Age_bin_Title_nan_Mr',\n 'Cabin_Letter_Unknown',\n 'Embarked_C',\n 'Fam_Size_Cabin_Alone_Unknown',\n 'Fam_Size_Fare_bin_Alone_-inf_to_7.9104',\n 'Fam_Size_Fare_bin_Small_34.6344_to_inf',\n 'Fam_Size_Parch_Alone_0',\n 'Fam_Size_Parch_Small_1',\n 'Family_Size_Alone',\n 'Family_Size_Small',\n 'Fare_bin_-inf_to_7.9104',\n 'Fare_bin_34.6344_to_inf',\n 'Fare_bin_Pclass_-inf_to_7.9104_3',\n 'Fare_bin_Pclass_34.6344_to_inf_1',\n 'Fare_bin_Sex_-inf_to_7.9104_male',\n 'Fare_bin_Sex_14.4542_to_31.0_female',\n 'Fare_bin_Sex_34.6344_to_inf_female',\n 'Fare_bin_Sex_7.9104_to_14.4542_male',\n 'Fare_bin_Title_-inf_to_7.9104_Mr',\n 'Fare_bin_Title_7.9104_to_14.4542_Mr',\n 'Is_Female',\n 'Pclass_Sex_1_female',\n 'Pclass_Sex_2_male',\n 'Pclass_Sex_3_male',\n 'Pclass_Title_2_Mr',\n 'Pclass_Title_3_Mr',\n 'Sex_Title_female_Miss',\n 'Sex_Title_female_Mrs',\n 'Sex_Title_male_Mr',\n 'Title_Miss',\n 'Title_Mr',\n 'Title_Mrs']"
     },
     "execution_count": 69,
     "metadata": {},
     "output_type": "execute_result"
    }
   ],
   "source": [
    "features=  non_binary_features + selected_binary_features\n",
    "print(len(features))\n",
    "features"
   ]
  },
  {
   "cell_type": "markdown",
   "id": "7f13cf9a",
   "metadata": {
    "papermill": {
     "duration": 0.063943,
     "end_time": "2023-05-20T11:31:57.393330",
     "exception": false,
     "start_time": "2023-05-20T11:31:57.329387",
     "status": "completed"
    },
    "tags": []
   },
   "source": [
    "# 7. Tuning XGBoost Model"
   ]
  },
  {
   "cell_type": "markdown",
   "id": "60db3917",
   "metadata": {
    "papermill": {
     "duration": 0.064109,
     "end_time": "2023-05-20T11:31:57.521431",
     "exception": false,
     "start_time": "2023-05-20T11:31:57.457322",
     "status": "completed"
    },
    "tags": []
   },
   "source": [
    "We will use the features above to tune the hypermeters for xgboost. We will use `gridsearchcv` with `stratifiedkfold` to do a grid search for the optimal hypermeters, here we go:\n",
    "Note that I commented the cell below because it takes time to run, but I put the result of running it at the end of it so you can see it."
   ]
  },
  {
   "cell_type": "code",
   "execution_count": 70,
   "id": "75ef9da5",
   "metadata": {
    "execution": {
     "iopub.execute_input": "2023-05-20T11:31:57.653256Z",
     "iopub.status.busy": "2023-05-20T11:31:57.652023Z",
     "iopub.status.idle": "2023-05-20T11:31:57.662122Z",
     "shell.execute_reply": "2023-05-20T11:31:57.660760Z"
    },
    "papermill": {
     "duration": 0.079618,
     "end_time": "2023-05-20T11:31:57.665352",
     "exception": false,
     "start_time": "2023-05-20T11:31:57.585734",
     "status": "completed"
    },
    "tags": [],
    "ExecuteTime": {
     "end_time": "2023-06-25T17:55:18.065270Z",
     "start_time": "2023-06-25T17:55:18.045542Z"
    }
   },
   "outputs": [
    {
     "data": {
      "text/plain": "\"\\nFitting 3 folds for each of 6912 candidates, totalling 20736 fits\\n{'colsample_bytree': 1.0, 'early_stopping_rounds': 10, 'learning_rate': 0.05, 'max_depth': 5, 'min_child_weight': 7, 'n_estimators': 200, 'reg_alpha': 0}\\nCPU times: user 2min 38s, sys: 5.02 s, total: 2min 43s\\nWall time: 1h 29min 6s\\n\""
     },
     "execution_count": 70,
     "metadata": {},
     "output_type": "execute_result"
    }
   ],
   "source": [
    "#Grid_Search:\n",
    "'''\n",
    "%%time\n",
    "# Split the data into training and validation sets\n",
    "X_train, X_val, y_train, y_val = train_test_split(train[features], train['Survived'], train_size = 0.7, random_state = seed)\n",
    "\n",
    "# Define the hyperparameters to be tuned\n",
    "param_grid = {\n",
    "    'learning_rate': [0.01, 0.05, 0.1],\n",
    "    'max_depth': [1, 3, 5, 7],\n",
    "    'n_estimators': [50, 100, 150, 200 ],\n",
    "    'colsample_bytree': [ 0.6, 0.8, 1.0],\n",
    "    'reg_alpha': [0, 0.1, 1, 10],\n",
    "    'min_child_weight': [1, 3, 5, 7 ],\n",
    "    'early_stopping_rounds': [10, 15, 20]\n",
    "}\n",
    "\n",
    "# Create an XGBoost model\n",
    "xgb_model = XGBClassifier()\n",
    "\n",
    "# Use GridSearchCV to find the optimal hyperparameters\n",
    "cv_strat = StratifiedKFold(n_splits=3, shuffle=True, random_state=seed)\n",
    "grid_search = GridSearchCV(estimator=xgb_model, param_grid=param_grid, cv=cv_strat, n_jobs=-1, verbose=1)\n",
    "grid_search.fit(train[features], train['Survived'], eval_set=[(X_val, y_val)], verbose=False)\n",
    "\n",
    "# Print the best hyperparameters\n",
    "print(grid_search.best_params_)\n",
    "'''\n",
    "\n",
    "##################\n",
    "#Result:\n",
    "\n",
    "'''\n",
    "Fitting 3 folds for each of 6912 candidates, totalling 20736 fits\n",
    "{'colsample_bytree': 1.0, 'early_stopping_rounds': 10, 'learning_rate': 0.05, 'max_depth': 5, 'min_child_weight': 7, 'n_estimators': 200, 'reg_alpha': 0}\n",
    "CPU times: user 2min 38s, sys: 5.02 s, total: 2min 43s\n",
    "Wall time: 1h 29min 6s\n",
    "'''"
   ]
  },
  {
   "cell_type": "markdown",
   "id": "bbf2216c",
   "metadata": {
    "papermill": {
     "duration": 0.064329,
     "end_time": "2023-05-20T11:31:57.795586",
     "exception": false,
     "start_time": "2023-05-20T11:31:57.731257",
     "status": "completed"
    },
    "tags": []
   },
   "source": [
    "Using the parameters above, let's initiate our model"
   ]
  },
  {
   "cell_type": "code",
   "execution_count": 71,
   "id": "6e4d3072",
   "metadata": {
    "execution": {
     "iopub.execute_input": "2023-05-20T11:31:57.926935Z",
     "iopub.status.busy": "2023-05-20T11:31:57.925973Z",
     "iopub.status.idle": "2023-05-20T11:31:57.932888Z",
     "shell.execute_reply": "2023-05-20T11:31:57.931636Z"
    },
    "papermill": {
     "duration": 0.07643,
     "end_time": "2023-05-20T11:31:57.935963",
     "exception": false,
     "start_time": "2023-05-20T11:31:57.859533",
     "status": "completed"
    },
    "tags": [],
    "ExecuteTime": {
     "end_time": "2023-06-25T17:55:18.427747Z",
     "start_time": "2023-06-25T17:55:18.410644Z"
    }
   },
   "outputs": [],
   "source": [
    "xgb_model = XGBClassifier(colsample_bytree= 0.6,\n",
    "                          early_stopping_rounds=10, \n",
    "                          learning_rate= 0.05,\n",
    "                          max_depth= 5,\n",
    "                          min_child_weight= 7,\n",
    "                          n_estimators= 200,\n",
    "                          reg_alpha= 0,\n",
    "                          random_state= seed,\n",
    "                          objective= 'binary:logistic')"
   ]
  },
  {
   "cell_type": "markdown",
   "id": "2b612b9b",
   "metadata": {
    "papermill": {
     "duration": 0.065174,
     "end_time": "2023-05-20T11:31:58.066350",
     "exception": false,
     "start_time": "2023-05-20T11:31:58.001176",
     "status": "completed"
    },
    "tags": []
   },
   "source": [
    "# 8. Training and Evaluating the XGBoost Model"
   ]
  },
  {
   "cell_type": "markdown",
   "id": "6fe1d1b5",
   "metadata": {
    "papermill": {
     "duration": 0.063776,
     "end_time": "2023-05-20T11:31:58.194948",
     "exception": false,
     "start_time": "2023-05-20T11:31:58.131172",
     "status": "completed"
    },
    "tags": []
   },
   "source": [
    "We will use `train_test_split` split our data into two sets, train and val, then we will `stratifiedkfold` for dividing our data into multiple folds and use these folds to train and validate multiple models, then we use the multiple trained model to make prediction on the held out val set for validation, then we will also use the three models to make prediction on the test set for submission."
   ]
  },
  {
   "cell_type": "markdown",
   "id": "ffab9026",
   "metadata": {
    "papermill": {
     "duration": 0.064725,
     "end_time": "2023-05-20T11:31:58.325620",
     "exception": false,
     "start_time": "2023-05-20T11:31:58.260895",
     "status": "completed"
    },
    "tags": []
   },
   "source": [
    "let's start by splitting our data:"
   ]
  },
  {
   "cell_type": "code",
   "execution_count": 72,
   "id": "e759d53b",
   "metadata": {
    "execution": {
     "iopub.execute_input": "2023-05-20T11:31:58.458627Z",
     "iopub.status.busy": "2023-05-20T11:31:58.457815Z",
     "iopub.status.idle": "2023-05-20T11:31:58.468526Z",
     "shell.execute_reply": "2023-05-20T11:31:58.467323Z"
    },
    "papermill": {
     "duration": 0.080658,
     "end_time": "2023-05-20T11:31:58.471522",
     "exception": false,
     "start_time": "2023-05-20T11:31:58.390864",
     "status": "completed"
    },
    "tags": [],
    "ExecuteTime": {
     "end_time": "2023-06-25T17:55:19.226293Z",
     "start_time": "2023-06-25T17:55:19.212293Z"
    }
   },
   "outputs": [],
   "source": [
    "X_train, X_val, y_train, y_val = train_test_split(train[features], train['Survived'], train_size = 0.7, random_state = seed)"
   ]
  },
  {
   "cell_type": "markdown",
   "id": "dc5ca4a1",
   "metadata": {
    "papermill": {
     "duration": 0.064297,
     "end_time": "2023-05-20T11:31:58.600617",
     "exception": false,
     "start_time": "2023-05-20T11:31:58.536320",
     "status": "completed"
    },
    "tags": []
   },
   "source": [
    "Initiating some variables:"
   ]
  },
  {
   "cell_type": "code",
   "execution_count": 73,
   "id": "0d2670bc",
   "metadata": {
    "execution": {
     "iopub.execute_input": "2023-05-20T11:31:58.732497Z",
     "iopub.status.busy": "2023-05-20T11:31:58.731448Z",
     "iopub.status.idle": "2023-05-20T11:31:58.741175Z",
     "shell.execute_reply": "2023-05-20T11:31:58.739795Z"
    },
    "papermill": {
     "duration": 0.079277,
     "end_time": "2023-05-20T11:31:58.744325",
     "exception": false,
     "start_time": "2023-05-20T11:31:58.665048",
     "status": "completed"
    },
    "tags": [],
    "ExecuteTime": {
     "end_time": "2023-06-25T17:55:19.596027Z",
     "start_time": "2023-06-25T17:55:19.579791Z"
    }
   },
   "outputs": [],
   "source": [
    "#Number of folds\n",
    "N = 3\n",
    "\n",
    "#Creating a dataframe for storing the multiple folds' probability of one, in other words, probability of survival for predicting val set and test set\n",
    "test_probs_of_one = pd.DataFrame(np.zeros((len(test), N)), columns= ['Fold_{}'.format(i) for i in range(1, N + 1)])\n",
    "\n",
    "#Creating a dataframe for storing feature importances\n",
    "feature_importances = pd.DataFrame(np.zeros((X_train.shape[1], N)), columns=['Fold_{}'.format(i) for i in range(1, N + 1)], index=features)\n",
    "\n",
    "# create empty lists to store the predictions and scores for each fold\n",
    "fold_train_scores = []\n",
    "fold_val_scores = []"
   ]
  },
  {
   "cell_type": "markdown",
   "id": "c70c163f",
   "metadata": {
    "papermill": {
     "duration": 0.067454,
     "end_time": "2023-05-20T11:31:58.877646",
     "exception": false,
     "start_time": "2023-05-20T11:31:58.810192",
     "status": "completed"
    },
    "tags": []
   },
   "source": [
    "Now let's create the Stratifiedkfold object:"
   ]
  },
  {
   "cell_type": "code",
   "execution_count": 74,
   "id": "726179a6",
   "metadata": {
    "execution": {
     "iopub.execute_input": "2023-05-20T11:31:59.009467Z",
     "iopub.status.busy": "2023-05-20T11:31:59.008994Z",
     "iopub.status.idle": "2023-05-20T11:31:59.014485Z",
     "shell.execute_reply": "2023-05-20T11:31:59.013401Z"
    },
    "papermill": {
     "duration": 0.074427,
     "end_time": "2023-05-20T11:31:59.016934",
     "exception": false,
     "start_time": "2023-05-20T11:31:58.942507",
     "status": "completed"
    },
    "tags": [],
    "ExecuteTime": {
     "end_time": "2023-06-25T17:55:19.983793Z",
     "start_time": "2023-06-25T17:55:19.954018Z"
    }
   },
   "outputs": [],
   "source": [
    "skf = StratifiedKFold(n_splits=N, shuffle=True, random_state=seed)"
   ]
  },
  {
   "cell_type": "markdown",
   "id": "a5bc817e",
   "metadata": {
    "papermill": {
     "duration": 0.064024,
     "end_time": "2023-05-20T11:31:59.146836",
     "exception": false,
     "start_time": "2023-05-20T11:31:59.082812",
     "status": "completed"
    },
    "tags": []
   },
   "source": [
    "We are ready to start training our models, we will use a for loop to iterate through folds and get probabilities, feature importances and scores stored in the dataphrames and lists above: "
   ]
  },
  {
   "cell_type": "code",
   "execution_count": 75,
   "id": "68c865f7",
   "metadata": {
    "execution": {
     "iopub.execute_input": "2023-05-20T11:31:59.279454Z",
     "iopub.status.busy": "2023-05-20T11:31:59.278602Z",
     "iopub.status.idle": "2023-05-20T11:32:01.774290Z",
     "shell.execute_reply": "2023-05-20T11:32:01.771988Z"
    },
    "papermill": {
     "duration": 2.566389,
     "end_time": "2023-05-20T11:32:01.777788",
     "exception": false,
     "start_time": "2023-05-20T11:31:59.211399",
     "status": "completed"
    },
    "tags": [],
    "ExecuteTime": {
     "end_time": "2023-06-25T17:55:20.794898Z",
     "start_time": "2023-06-25T17:55:20.315071Z"
    }
   },
   "outputs": [
    {
     "name": "stdout",
     "output_type": "stream",
     "text": [
      "Training on fold 1\n",
      "Fold 1 train score: 0.8459069020866774\n",
      "Fold 1 val score: 0.7910447761194029\n",
      "\n",
      "Training on fold 2\n",
      "Fold 2 train score: 0.8780096308186196\n",
      "Fold 2 val score: 0.8097014925373134\n",
      "\n",
      "Training on fold 3\n",
      "Fold 3 train score: 0.8715890850722311\n",
      "Fold 3 val score: 0.8134328358208955\n",
      "\n",
      "Average train score across 3 folds: 0.8651685393258427\n",
      "Average val score across 3 folds: 0.8047263681592041\n"
     ]
    }
   ],
   "source": [
    "for fold, (train_idx, val_idx) in enumerate(skf.split(X_train, y_train)):\n",
    "    if fold > 0:\n",
    "        print(\"\")\n",
    "    print(f\"Training on fold {fold + 1}\")\n",
    "\n",
    "    # select the train and validation data and labels for this fold\n",
    "    fold_X_train, fold_y_train = X_train.iloc[train_idx], y_train.iloc[train_idx]\n",
    "    fold_X_val, fold_y_val = X_train.iloc[val_idx], y_train.iloc[val_idx]\n",
    "\n",
    "    # fit the model on the training data\n",
    "    xgb_model.fit(fold_X_train, fold_y_train, eval_set=[(fold_X_val, fold_y_val)], verbose=False)\n",
    "    \n",
    "    # Let's register feature importances for this fold in the feature_importances dataframe we created earlier\n",
    "    feature_importances.iloc[:, fold] = xgb_model.feature_importances_\n",
    "    \n",
    "    #Now, let's calculate and print the fold scores X_train and X_val\n",
    "    \n",
    "    fold_train_score = xgb_model.score(X_train, y_train)\n",
    "    fold_train_scores.append(fold_train_score)\n",
    "    print(f\"Fold {fold + 1} train score: {fold_train_score}\")\n",
    "    \n",
    "    fold_val_score = xgb_model.score(X_val, y_val)\n",
    "    fold_val_scores.append(fold_val_score)\n",
    "    print(f\"Fold {fold + 1} val score: {fold_val_score}\")\n",
    "\n",
    "    # Now we make prediction on test dataset using the model trained and this fold and we register probabilites in test_probs_of_one dataframe\n",
    "    test_probs_of_one.loc[:, 'Fold_{}'.format(fold+1)] = xgb_model.predict_proba(test[features])[:, 1]\n",
    "     \n",
    "# calculate the average accuracy score across all folds\n",
    "avg_train_score = sum(fold_train_scores) / N\n",
    "avg_val_score = sum(fold_val_scores) / N\n",
    "    \n",
    "print(f\"\\nAverage train score across {N} folds: {avg_train_score}\")\n",
    "print(f\"Average val score across {N} folds: {avg_val_score}\")"
   ]
  },
  {
   "cell_type": "markdown",
   "id": "d059d863",
   "metadata": {
    "papermill": {
     "duration": 0.068207,
     "end_time": "2023-05-20T11:32:01.913546",
     "exception": false,
     "start_time": "2023-05-20T11:32:01.845339",
     "status": "completed"
    },
    "tags": []
   },
   "source": [
    "# 9. Calculating test predictions and creating submition file"
   ]
  },
  {
   "cell_type": "markdown",
   "id": "5e3adb7d",
   "metadata": {
    "papermill": {
     "duration": 0.065418,
     "end_time": "2023-05-20T11:32:02.044334",
     "exception": false,
     "start_time": "2023-05-20T11:32:01.978916",
     "status": "completed"
    },
    "tags": []
   },
   "source": [
    "Let's take a look at `test_probs_of_one` dataframe we created above, which gives us the different probability of survival of each passenger for each fold:"
   ]
  },
  {
   "cell_type": "code",
   "execution_count": 76,
   "id": "dc6d6fa0",
   "metadata": {
    "execution": {
     "iopub.execute_input": "2023-05-20T11:32:02.178008Z",
     "iopub.status.busy": "2023-05-20T11:32:02.176973Z",
     "iopub.status.idle": "2023-05-20T11:32:02.194749Z",
     "shell.execute_reply": "2023-05-20T11:32:02.193235Z"
    },
    "papermill": {
     "duration": 0.087364,
     "end_time": "2023-05-20T11:32:02.197878",
     "exception": false,
     "start_time": "2023-05-20T11:32:02.110514",
     "status": "completed"
    },
    "tags": [],
    "ExecuteTime": {
     "end_time": "2023-06-25T17:55:21.552441Z",
     "start_time": "2023-06-25T17:55:21.525699Z"
    }
   },
   "outputs": [
    {
     "data": {
      "text/plain": "     Fold_1    Fold_2    Fold_3\n0  0.064848  0.109651  0.073554\n1  0.393945  0.448432  0.481155\n2  0.100876  0.038004  0.107658\n3  0.153752  0.141450  0.225444\n4  0.417641  0.459153  0.515918",
      "text/html": "<div>\n<style scoped>\n    .dataframe tbody tr th:only-of-type {\n        vertical-align: middle;\n    }\n\n    .dataframe tbody tr th {\n        vertical-align: top;\n    }\n\n    .dataframe thead th {\n        text-align: right;\n    }\n</style>\n<table border=\"1\" class=\"dataframe\">\n  <thead>\n    <tr style=\"text-align: right;\">\n      <th></th>\n      <th>Fold_1</th>\n      <th>Fold_2</th>\n      <th>Fold_3</th>\n    </tr>\n  </thead>\n  <tbody>\n    <tr>\n      <th>0</th>\n      <td>0.064848</td>\n      <td>0.109651</td>\n      <td>0.073554</td>\n    </tr>\n    <tr>\n      <th>1</th>\n      <td>0.393945</td>\n      <td>0.448432</td>\n      <td>0.481155</td>\n    </tr>\n    <tr>\n      <th>2</th>\n      <td>0.100876</td>\n      <td>0.038004</td>\n      <td>0.107658</td>\n    </tr>\n    <tr>\n      <th>3</th>\n      <td>0.153752</td>\n      <td>0.141450</td>\n      <td>0.225444</td>\n    </tr>\n    <tr>\n      <th>4</th>\n      <td>0.417641</td>\n      <td>0.459153</td>\n      <td>0.515918</td>\n    </tr>\n  </tbody>\n</table>\n</div>"
     },
     "execution_count": 76,
     "metadata": {},
     "output_type": "execute_result"
    }
   ],
   "source": [
    "test_probs_of_one.head()"
   ]
  },
  {
   "cell_type": "markdown",
   "id": "4716cc43",
   "metadata": {
    "papermill": {
     "duration": 0.065241,
     "end_time": "2023-05-20T11:32:02.328671",
     "exception": false,
     "start_time": "2023-05-20T11:32:02.263430",
     "status": "completed"
    },
    "tags": []
   },
   "source": [
    "Calculating the average probability of one accross folds, or in other words, average probability of survival for each passenger in test dataset"
   ]
  },
  {
   "cell_type": "code",
   "execution_count": 77,
   "id": "531ca321",
   "metadata": {
    "execution": {
     "iopub.execute_input": "2023-05-20T11:32:02.460542Z",
     "iopub.status.busy": "2023-05-20T11:32:02.460061Z",
     "iopub.status.idle": "2023-05-20T11:32:02.482602Z",
     "shell.execute_reply": "2023-05-20T11:32:02.481201Z"
    },
    "papermill": {
     "duration": 0.091617,
     "end_time": "2023-05-20T11:32:02.485384",
     "exception": false,
     "start_time": "2023-05-20T11:32:02.393767",
     "status": "completed"
    },
    "tags": [],
    "ExecuteTime": {
     "end_time": "2023-06-25T17:55:23.135041Z",
     "start_time": "2023-06-25T17:55:23.125925Z"
    }
   },
   "outputs": [
    {
     "data": {
      "text/plain": "     Fold_1    Fold_2    Fold_3  avg_prob_of_one\n0  0.064848  0.109651  0.073554         0.082684\n1  0.393945  0.448432  0.481155         0.441178\n2  0.100876  0.038004  0.107658         0.082179\n3  0.153752  0.141450  0.225444         0.173549\n4  0.417641  0.459153  0.515918         0.464237",
      "text/html": "<div>\n<style scoped>\n    .dataframe tbody tr th:only-of-type {\n        vertical-align: middle;\n    }\n\n    .dataframe tbody tr th {\n        vertical-align: top;\n    }\n\n    .dataframe thead th {\n        text-align: right;\n    }\n</style>\n<table border=\"1\" class=\"dataframe\">\n  <thead>\n    <tr style=\"text-align: right;\">\n      <th></th>\n      <th>Fold_1</th>\n      <th>Fold_2</th>\n      <th>Fold_3</th>\n      <th>avg_prob_of_one</th>\n    </tr>\n  </thead>\n  <tbody>\n    <tr>\n      <th>0</th>\n      <td>0.064848</td>\n      <td>0.109651</td>\n      <td>0.073554</td>\n      <td>0.082684</td>\n    </tr>\n    <tr>\n      <th>1</th>\n      <td>0.393945</td>\n      <td>0.448432</td>\n      <td>0.481155</td>\n      <td>0.441178</td>\n    </tr>\n    <tr>\n      <th>2</th>\n      <td>0.100876</td>\n      <td>0.038004</td>\n      <td>0.107658</td>\n      <td>0.082179</td>\n    </tr>\n    <tr>\n      <th>3</th>\n      <td>0.153752</td>\n      <td>0.141450</td>\n      <td>0.225444</td>\n      <td>0.173549</td>\n    </tr>\n    <tr>\n      <th>4</th>\n      <td>0.417641</td>\n      <td>0.459153</td>\n      <td>0.515918</td>\n      <td>0.464237</td>\n    </tr>\n  </tbody>\n</table>\n</div>"
     },
     "execution_count": 77,
     "metadata": {},
     "output_type": "execute_result"
    }
   ],
   "source": [
    "test_probs_of_one['avg_prob_of_one']=(test_probs_of_one.sum(axis=1)/N)\n",
    "test_probs_of_one.head()"
   ]
  },
  {
   "cell_type": "markdown",
   "id": "1470cb30",
   "metadata": {
    "papermill": {
     "duration": 0.065033,
     "end_time": "2023-05-20T11:32:02.615934",
     "exception": false,
     "start_time": "2023-05-20T11:32:02.550901",
     "status": "completed"
    },
    "tags": []
   },
   "source": [
    "Below, we will be using threshold = 0.5 to predict whether or a not a passenger had survived, if the average prbability of one is >= 0.5 we will predict 1 otherwise we will predict 0. <br>\n",
    "That said, it's worth noting that using a threshold of 0.5 is not always optimal because the threshold we choose not only affects our accuracy score, it also affects our `precision` and `recall`, for a deeper look into how to choose the optimal threshold for your code and the problem you are working on, you can take the time to learn more about `AUC` which stands for Area Under the Curve and `ROC` which stands for Receiver Operating Characteristic."
   ]
  },
  {
   "cell_type": "code",
   "execution_count": 78,
   "id": "7d314694",
   "metadata": {
    "execution": {
     "iopub.execute_input": "2023-05-20T11:32:02.750022Z",
     "iopub.status.busy": "2023-05-20T11:32:02.749236Z",
     "iopub.status.idle": "2023-05-20T11:32:02.773888Z",
     "shell.execute_reply": "2023-05-20T11:32:02.772500Z"
    },
    "papermill": {
     "duration": 0.09613,
     "end_time": "2023-05-20T11:32:02.777123",
     "exception": false,
     "start_time": "2023-05-20T11:32:02.680993",
     "status": "completed"
    },
    "tags": [],
    "ExecuteTime": {
     "end_time": "2023-06-25T17:55:24.232207Z",
     "start_time": "2023-06-25T17:55:24.220828Z"
    }
   },
   "outputs": [
    {
     "data": {
      "text/plain": "     Fold_1    Fold_2    Fold_3  avg_prob_of_one  pred\n0  0.064848  0.109651  0.073554         0.082684     0\n1  0.393945  0.448432  0.481155         0.441178     0\n2  0.100876  0.038004  0.107658         0.082179     0\n3  0.153752  0.141450  0.225444         0.173549     0\n4  0.417641  0.459153  0.515918         0.464237     0",
      "text/html": "<div>\n<style scoped>\n    .dataframe tbody tr th:only-of-type {\n        vertical-align: middle;\n    }\n\n    .dataframe tbody tr th {\n        vertical-align: top;\n    }\n\n    .dataframe thead th {\n        text-align: right;\n    }\n</style>\n<table border=\"1\" class=\"dataframe\">\n  <thead>\n    <tr style=\"text-align: right;\">\n      <th></th>\n      <th>Fold_1</th>\n      <th>Fold_2</th>\n      <th>Fold_3</th>\n      <th>avg_prob_of_one</th>\n      <th>pred</th>\n    </tr>\n  </thead>\n  <tbody>\n    <tr>\n      <th>0</th>\n      <td>0.064848</td>\n      <td>0.109651</td>\n      <td>0.073554</td>\n      <td>0.082684</td>\n      <td>0</td>\n    </tr>\n    <tr>\n      <th>1</th>\n      <td>0.393945</td>\n      <td>0.448432</td>\n      <td>0.481155</td>\n      <td>0.441178</td>\n      <td>0</td>\n    </tr>\n    <tr>\n      <th>2</th>\n      <td>0.100876</td>\n      <td>0.038004</td>\n      <td>0.107658</td>\n      <td>0.082179</td>\n      <td>0</td>\n    </tr>\n    <tr>\n      <th>3</th>\n      <td>0.153752</td>\n      <td>0.141450</td>\n      <td>0.225444</td>\n      <td>0.173549</td>\n      <td>0</td>\n    </tr>\n    <tr>\n      <th>4</th>\n      <td>0.417641</td>\n      <td>0.459153</td>\n      <td>0.515918</td>\n      <td>0.464237</td>\n      <td>0</td>\n    </tr>\n  </tbody>\n</table>\n</div>"
     },
     "execution_count": 78,
     "metadata": {},
     "output_type": "execute_result"
    }
   ],
   "source": [
    "threshold= 0.5\n",
    "test_probs_of_one['pred']= test_probs_of_one['avg_prob_of_one'].apply(lambda x: 1 if x>= threshold else 0)\n",
    "test_probs_of_one.head()"
   ]
  },
  {
   "cell_type": "markdown",
   "id": "820998da",
   "metadata": {
    "papermill": {
     "duration": 0.06561,
     "end_time": "2023-05-20T11:32:02.909948",
     "exception": false,
     "start_time": "2023-05-20T11:32:02.844338",
     "status": "completed"
    },
    "tags": []
   },
   "source": [
    "Finally, let's put our subbmition file together"
   ]
  },
  {
   "cell_type": "code",
   "execution_count": 79,
   "id": "785c23b0",
   "metadata": {
    "execution": {
     "iopub.execute_input": "2023-05-20T11:32:03.121728Z",
     "iopub.status.busy": "2023-05-20T11:32:03.120950Z",
     "iopub.status.idle": "2023-05-20T11:32:03.147604Z",
     "shell.execute_reply": "2023-05-20T11:32:03.145956Z"
    },
    "papermill": {
     "duration": 0.174161,
     "end_time": "2023-05-20T11:32:03.150694",
     "exception": false,
     "start_time": "2023-05-20T11:32:02.976533",
     "status": "completed"
    },
    "tags": [],
    "ExecuteTime": {
     "end_time": "2023-06-25T17:55:25.439484Z",
     "start_time": "2023-06-25T17:55:25.427312Z"
    }
   },
   "outputs": [
    {
     "data": {
      "text/plain": "   PassengerId  Survived\n0          892         0\n1          893         0\n2          894         0\n3          895         0\n4          896         0",
      "text/html": "<div>\n<style scoped>\n    .dataframe tbody tr th:only-of-type {\n        vertical-align: middle;\n    }\n\n    .dataframe tbody tr th {\n        vertical-align: top;\n    }\n\n    .dataframe thead th {\n        text-align: right;\n    }\n</style>\n<table border=\"1\" class=\"dataframe\">\n  <thead>\n    <tr style=\"text-align: right;\">\n      <th></th>\n      <th>PassengerId</th>\n      <th>Survived</th>\n    </tr>\n  </thead>\n  <tbody>\n    <tr>\n      <th>0</th>\n      <td>892</td>\n      <td>0</td>\n    </tr>\n    <tr>\n      <th>1</th>\n      <td>893</td>\n      <td>0</td>\n    </tr>\n    <tr>\n      <th>2</th>\n      <td>894</td>\n      <td>0</td>\n    </tr>\n    <tr>\n      <th>3</th>\n      <td>895</td>\n      <td>0</td>\n    </tr>\n    <tr>\n      <th>4</th>\n      <td>896</td>\n      <td>0</td>\n    </tr>\n  </tbody>\n</table>\n</div>"
     },
     "execution_count": 79,
     "metadata": {},
     "output_type": "execute_result"
    }
   ],
   "source": [
    "submission_df = pd.DataFrame(columns=['PassengerId', 'Survived'])\n",
    "submission_df['PassengerId'] = test['PassengerId']\n",
    "submission_df['Survived'] = test_probs_of_one['pred'].values\n",
    "submission_df.to_csv('submission.csv', index=False)\n",
    "submission_df.head()"
   ]
  },
  {
   "cell_type": "markdown",
   "id": "6a74c0a3",
   "metadata": {
    "papermill": {
     "duration": 0.065663,
     "end_time": "2023-05-20T11:32:03.282468",
     "exception": false,
     "start_time": "2023-05-20T11:32:03.216805",
     "status": "completed"
    },
    "tags": []
   },
   "source": [
    "# 10. Model Interpretation"
   ]
  },
  {
   "cell_type": "markdown",
   "id": "0ecb83f8",
   "metadata": {
    "papermill": {
     "duration": 0.065408,
     "end_time": "2023-05-20T11:32:03.413912",
     "exception": false,
     "start_time": "2023-05-20T11:32:03.348504",
     "status": "completed"
    },
    "tags": []
   },
   "source": [
    "Here are the feature importances we recorded:"
   ]
  },
  {
   "cell_type": "code",
   "execution_count": 80,
   "id": "d3ac4a7b",
   "metadata": {
    "execution": {
     "iopub.execute_input": "2023-05-20T11:32:03.549118Z",
     "iopub.status.busy": "2023-05-20T11:32:03.548409Z",
     "iopub.status.idle": "2023-05-20T11:32:03.566015Z",
     "shell.execute_reply": "2023-05-20T11:32:03.564630Z"
    },
    "papermill": {
     "duration": 0.088999,
     "end_time": "2023-05-20T11:32:03.568823",
     "exception": false,
     "start_time": "2023-05-20T11:32:03.479824",
     "status": "completed"
    },
    "tags": [],
    "ExecuteTime": {
     "end_time": "2023-06-25T17:55:26.868642Z",
     "start_time": "2023-06-25T17:55:26.853673Z"
    }
   },
   "outputs": [
    {
     "data": {
      "text/plain": "                                            Fold_1   Fold_2   Fold_3\nAge                                       0.009775  0.00484  0.00668\nAge_bin_Fare_bin_72_to_80_34.6344_to_inf  0.000000  0.00000  0.00000\nAge_bin_Sex_72_to_80_female               0.000000  0.00000  0.00000\nAge_bin_Title_72_to_80_Mrs                0.000000  0.00000  0.00000\nFam_Size_Fare_bin_Large_-inf_to_7.9104    0.000000  0.00000  0.00000",
      "text/html": "<div>\n<style scoped>\n    .dataframe tbody tr th:only-of-type {\n        vertical-align: middle;\n    }\n\n    .dataframe tbody tr th {\n        vertical-align: top;\n    }\n\n    .dataframe thead th {\n        text-align: right;\n    }\n</style>\n<table border=\"1\" class=\"dataframe\">\n  <thead>\n    <tr style=\"text-align: right;\">\n      <th></th>\n      <th>Fold_1</th>\n      <th>Fold_2</th>\n      <th>Fold_3</th>\n    </tr>\n  </thead>\n  <tbody>\n    <tr>\n      <th>Age</th>\n      <td>0.009775</td>\n      <td>0.00484</td>\n      <td>0.00668</td>\n    </tr>\n    <tr>\n      <th>Age_bin_Fare_bin_72_to_80_34.6344_to_inf</th>\n      <td>0.000000</td>\n      <td>0.00000</td>\n      <td>0.00000</td>\n    </tr>\n    <tr>\n      <th>Age_bin_Sex_72_to_80_female</th>\n      <td>0.000000</td>\n      <td>0.00000</td>\n      <td>0.00000</td>\n    </tr>\n    <tr>\n      <th>Age_bin_Title_72_to_80_Mrs</th>\n      <td>0.000000</td>\n      <td>0.00000</td>\n      <td>0.00000</td>\n    </tr>\n    <tr>\n      <th>Fam_Size_Fare_bin_Large_-inf_to_7.9104</th>\n      <td>0.000000</td>\n      <td>0.00000</td>\n      <td>0.00000</td>\n    </tr>\n  </tbody>\n</table>\n</div>"
     },
     "execution_count": 80,
     "metadata": {},
     "output_type": "execute_result"
    }
   ],
   "source": [
    "feature_importances.head()"
   ]
  },
  {
   "cell_type": "markdown",
   "id": "49795c9b",
   "metadata": {
    "papermill": {
     "duration": 0.066417,
     "end_time": "2023-05-20T11:32:03.701566",
     "exception": false,
     "start_time": "2023-05-20T11:32:03.635149",
     "status": "completed"
    },
    "tags": []
   },
   "source": [
    "Averaging feature importances from all the folds and sorting features based on their average importance:"
   ]
  },
  {
   "cell_type": "code",
   "execution_count": 81,
   "id": "3cecae43",
   "metadata": {
    "execution": {
     "iopub.execute_input": "2023-05-20T11:32:03.837119Z",
     "iopub.status.busy": "2023-05-20T11:32:03.836677Z",
     "iopub.status.idle": "2023-05-20T11:32:03.860713Z",
     "shell.execute_reply": "2023-05-20T11:32:03.859151Z"
    },
    "papermill": {
     "duration": 0.095444,
     "end_time": "2023-05-20T11:32:03.863812",
     "exception": false,
     "start_time": "2023-05-20T11:32:03.768368",
     "status": "completed"
    },
    "tags": [],
    "ExecuteTime": {
     "end_time": "2023-06-25T17:55:27.298265Z",
     "start_time": "2023-06-25T17:55:27.276837Z"
    }
   },
   "outputs": [
    {
     "data": {
      "text/plain": "                                      Fold_1  ...  Avg_Importance\nTitle_Mr                            0.100612  ...        0.136169\nPclass_Sex_1_female                 0.217944  ...        0.107864\nPclass_Sex_2_male                   0.061968  ...        0.102712\nFare_bin_Sex_34.6344_to_inf_female  0.051430  ...        0.101194\nSex_Title_male_Mr                   0.096213  ...        0.101070\n\n[5 rows x 4 columns]",
      "text/html": "<div>\n<style scoped>\n    .dataframe tbody tr th:only-of-type {\n        vertical-align: middle;\n    }\n\n    .dataframe tbody tr th {\n        vertical-align: top;\n    }\n\n    .dataframe thead th {\n        text-align: right;\n    }\n</style>\n<table border=\"1\" class=\"dataframe\">\n  <thead>\n    <tr style=\"text-align: right;\">\n      <th></th>\n      <th>Fold_1</th>\n      <th>Fold_2</th>\n      <th>Fold_3</th>\n      <th>Avg_Importance</th>\n    </tr>\n  </thead>\n  <tbody>\n    <tr>\n      <th>Title_Mr</th>\n      <td>0.100612</td>\n      <td>0.158823</td>\n      <td>0.149072</td>\n      <td>0.136169</td>\n    </tr>\n    <tr>\n      <th>Pclass_Sex_1_female</th>\n      <td>0.217944</td>\n      <td>0.105646</td>\n      <td>0.000000</td>\n      <td>0.107864</td>\n    </tr>\n    <tr>\n      <th>Pclass_Sex_2_male</th>\n      <td>0.061968</td>\n      <td>0.238197</td>\n      <td>0.007972</td>\n      <td>0.102712</td>\n    </tr>\n    <tr>\n      <th>Fare_bin_Sex_34.6344_to_inf_female</th>\n      <td>0.051430</td>\n      <td>0.009992</td>\n      <td>0.242160</td>\n      <td>0.101194</td>\n    </tr>\n    <tr>\n      <th>Sex_Title_male_Mr</th>\n      <td>0.096213</td>\n      <td>0.096392</td>\n      <td>0.110605</td>\n      <td>0.101070</td>\n    </tr>\n  </tbody>\n</table>\n</div>"
     },
     "execution_count": 81,
     "metadata": {},
     "output_type": "execute_result"
    }
   ],
   "source": [
    "feature_importances['Avg_Importance'] = feature_importances.mean(axis=1)\n",
    "feature_importances.sort_values(by='Avg_Importance', inplace=True, ascending=False)\n",
    "feature_importances.head()"
   ]
  },
  {
   "cell_type": "markdown",
   "id": "a48a7870",
   "metadata": {
    "papermill": {
     "duration": 0.065859,
     "end_time": "2023-05-20T11:32:03.996282",
     "exception": false,
     "start_time": "2023-05-20T11:32:03.930423",
     "status": "completed"
    },
    "tags": []
   },
   "source": [
    "The plot below shows that passengers' gender and class are the most important in terms of determining survival on the Titanic:"
   ]
  },
  {
   "cell_type": "code",
   "execution_count": 82,
   "id": "a5186863",
   "metadata": {
    "execution": {
     "iopub.execute_input": "2023-05-20T11:32:04.132844Z",
     "iopub.status.busy": "2023-05-20T11:32:04.132076Z",
     "iopub.status.idle": "2023-05-20T11:32:05.554682Z",
     "shell.execute_reply": "2023-05-20T11:32:05.553256Z"
    },
    "papermill": {
     "duration": 1.496622,
     "end_time": "2023-05-20T11:32:05.559093",
     "exception": false,
     "start_time": "2023-05-20T11:32:04.062471",
     "status": "completed"
    },
    "tags": [],
    "ExecuteTime": {
     "end_time": "2023-06-25T17:55:27.992661Z",
     "start_time": "2023-06-25T17:55:27.636104Z"
    }
   },
   "outputs": [
    {
     "data": {
      "text/plain": "<Figure size 1000x1400 with 1 Axes>",
      "image/png": "[encoded data removed]"
     },
     "metadata": {},
     "output_type": "display_data"
    }
   ],
   "source": [
    "plt.figure(figsize=(10, int(len(feature_importances)/3.4)))\n",
    "sns.barplot(x='Avg_Importance', y=feature_importances.index, data=feature_importances)\n",
    "\n",
    "plt.xlabel('')\n",
    "plt.tick_params(axis='x', labelsize=11)\n",
    "plt.tick_params(axis='y', labelsize=11)\n",
    "plt.title('XGBoost Classifier Average Feature Importances', size=15)\n",
    "plt.show()"
   ]
  },
  {
   "cell_type": "markdown",
   "id": "f8dcb411",
   "metadata": {
    "papermill": {
     "duration": 0.069632,
     "end_time": "2023-05-20T11:32:05.705663",
     "exception": false,
     "start_time": "2023-05-20T11:32:05.636031",
     "status": "completed"
    },
    "tags": []
   },
   "source": [
    "# 11. Thank You"
   ]
  },
  {
   "cell_type": "markdown",
   "id": "e8df155d",
   "metadata": {
    "papermill": {
     "duration": 0.070125,
     "end_time": "2023-05-20T11:32:05.846122",
     "exception": false,
     "start_time": "2023-05-20T11:32:05.775997",
     "status": "completed"
    },
    "tags": []
   },
   "source": [
    "Thank you for taking the time to review this notebook. I hope you found it helpful. looking forward for any thoughts, feedback, or comments you may have, and would greatly appreciate an upvote if you found the content useful.<br>\n",
    "Have a wonderful day!<br>\n",
    "Wissam"
   ]
  }
 ],
 "metadata": {
  "kernelspec": {
   "display_name": "Python 3",
   "language": "python",
   "name": "python3"
  },
  "language_info": {
   "codemirror_mode": {
    "name": "ipython",
    "version": 3
   },
   "file_extension": ".py",
   "mimetype": "text/x-python",
   "name": "python",
   "nbconvert_exporter": "python",
   "pygments_lexer": "ipython3",
   "version": "3.10.9"
  },
  "papermill": {
   "default_parameters": {},
   "duration": 50.927348,
   "end_time": "2023-05-20T11:32:06.845222",
   "environment_variables": {},
   "exception": null,
   "input_path": "__notebook__.ipynb",
   "output_path": "__notebook__.ipynb",
   "parameters": {},
   "start_time": "2023-05-20T11:31:15.917874",
   "version": "2.4.0"
  }
 },
 "nbformat": 4,
 "nbformat_minor": 5
}
