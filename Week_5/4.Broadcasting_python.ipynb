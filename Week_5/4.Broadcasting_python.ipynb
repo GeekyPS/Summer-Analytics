{
 "cells": [
  {
   "cell_type": "code",
   "execution_count": 63,
   "metadata": {
    "collapsed": true,
    "ExecuteTime": {
     "end_time": "2023-07-02T14:21:30.887613Z",
     "start_time": "2023-07-02T14:21:30.876557Z"
    }
   },
   "outputs": [
    {
     "data": {
      "text/plain": "array([[ 56. ,   0. ,   4.4,  68. ],\n       [  1.2, 104. ,  52. ,   8. ],\n       [  1.8, 135. ,  99. ,   0.9]])"
     },
     "execution_count": 63,
     "metadata": {},
     "output_type": "execute_result"
    }
   ],
   "source": [
    "import numpy as np\n",
    "\n",
    "A = np.array([[56.0,0.0,4.4,68.0],[1.2,104.0,52.0,8.0],[1.8,135.0,99.0,0.9]])\n",
    "A"
   ]
  },
  {
   "cell_type": "code",
   "execution_count": 64,
   "outputs": [
    {
     "data": {
      "text/plain": "array([ 59. , 239. , 155.4,  76.9])"
     },
     "execution_count": 64,
     "metadata": {},
     "output_type": "execute_result"
    }
   ],
   "source": [
    "cal = A.sum(axis=0)\n",
    "# sum vertically\n",
    "cal"
   ],
   "metadata": {
    "collapsed": false,
    "ExecuteTime": {
     "end_time": "2023-07-02T14:21:30.888691Z",
     "start_time": "2023-07-02T14:21:30.882135Z"
    }
   }
  },
  {
   "cell_type": "code",
   "execution_count": 65,
   "outputs": [
    {
     "data": {
      "text/plain": "array([[94.91525424,  0.        ,  2.83140283, 88.42652796],\n       [ 2.03389831, 43.51464435, 33.46203346, 10.40312094],\n       [ 3.05084746, 56.48535565, 63.70656371,  1.17035111]])"
     },
     "execution_count": 65,
     "metadata": {},
     "output_type": "execute_result"
    }
   ],
   "source": [
    "percentage = (A*100)/cal\n",
    "# so this is called broadcasting in python\n",
    "percentage"
   ],
   "metadata": {
    "collapsed": false,
    "ExecuteTime": {
     "end_time": "2023-07-02T14:21:30.923469Z",
     "start_time": "2023-07-02T14:21:30.888150Z"
    }
   }
  },
  {
   "cell_type": "code",
   "execution_count": 66,
   "outputs": [
    {
     "data": {
      "text/plain": "array([0.21034761, 0.48457057, 0.73871202, 0.62769212, 0.68770825])"
     },
     "execution_count": 66,
     "metadata": {},
     "output_type": "execute_result"
    }
   ],
   "source": [
    "a = np.random.rand(5)\n",
    "a"
   ],
   "metadata": {
    "collapsed": false,
    "ExecuteTime": {
     "end_time": "2023-07-02T14:21:30.924477Z",
     "start_time": "2023-07-02T14:21:30.893482Z"
    }
   }
  },
  {
   "cell_type": "code",
   "execution_count": 67,
   "outputs": [
    {
     "data": {
      "text/plain": "(5,)"
     },
     "execution_count": 67,
     "metadata": {},
     "output_type": "execute_result"
    }
   ],
   "source": [
    "a.shape\n",
    "# this shape can have weird behaviour such as transpose of a is a itself and product with transpose is a nmber rather than a matrix\n",
    "\n",
    "# this does not behave as a column vector or row vector so weird behaviour\n",
    "# rank 1 array these are called"
   ],
   "metadata": {
    "collapsed": false,
    "ExecuteTime": {
     "end_time": "2023-07-02T14:21:30.924739Z",
     "start_time": "2023-07-02T14:21:30.899196Z"
    }
   }
  },
  {
   "cell_type": "code",
   "execution_count": 69,
   "outputs": [
    {
     "data": {
      "text/plain": "array([0.21034761, 0.48457057, 0.73871202, 0.62769212, 0.68770825])"
     },
     "execution_count": 69,
     "metadata": {},
     "output_type": "execute_result"
    }
   ],
   "source": [
    "a.T\n",
    "# due to weird shape of the a its transpose is not made correctly"
   ],
   "metadata": {
    "collapsed": false,
    "ExecuteTime": {
     "end_time": "2023-07-02T14:21:30.925068Z",
     "start_time": "2023-07-02T14:21:30.910140Z"
    }
   }
  },
  {
   "cell_type": "code",
   "execution_count": 70,
   "outputs": [
    {
     "data": {
      "text/plain": "1.691690245002803"
     },
     "execution_count": 70,
     "metadata": {},
     "output_type": "execute_result"
    }
   ],
   "source": [
    "np.dot(a,a.T)"
   ],
   "metadata": {
    "collapsed": false,
    "ExecuteTime": {
     "end_time": "2023-07-02T14:21:30.925277Z",
     "start_time": "2023-07-02T14:21:30.914485Z"
    }
   }
  },
  {
   "cell_type": "code",
   "execution_count": 71,
   "outputs": [
    {
     "data": {
      "text/plain": "array([[ 1.15939479],\n       [-1.20785098],\n       [-1.12665098],\n       [-0.21022607],\n       [-1.26837887]])"
     },
     "execution_count": 71,
     "metadata": {},
     "output_type": "execute_result"
    }
   ],
   "source": [
    "a = np.random.randn(5,1)\n",
    "a"
   ],
   "metadata": {
    "collapsed": false,
    "ExecuteTime": {
     "end_time": "2023-07-02T14:21:30.925415Z",
     "start_time": "2023-07-02T14:21:30.918629Z"
    }
   }
  },
  {
   "cell_type": "code",
   "execution_count": 72,
   "outputs": [
    {
     "data": {
      "text/plain": "(5, 1)"
     },
     "execution_count": 72,
     "metadata": {},
     "output_type": "execute_result"
    }
   ],
   "source": [
    "a.shape"
   ],
   "metadata": {
    "collapsed": false,
    "ExecuteTime": {
     "end_time": "2023-07-02T14:21:30.931484Z",
     "start_time": "2023-07-02T14:21:30.924349Z"
    }
   }
  },
  {
   "cell_type": "code",
   "execution_count": 73,
   "outputs": [
    {
     "data": {
      "text/plain": "array([[ 1.15939479, -1.20785098, -1.12665098, -0.21022607, -1.26837887]])"
     },
     "execution_count": 73,
     "metadata": {},
     "output_type": "execute_result"
    }
   ],
   "source": [
    "a.T"
   ],
   "metadata": {
    "collapsed": false,
    "ExecuteTime": {
     "end_time": "2023-07-02T14:21:30.931847Z",
     "start_time": "2023-07-02T14:21:30.928656Z"
    }
   }
  },
  {
   "cell_type": "code",
   "execution_count": 74,
   "outputs": [
    {
     "data": {
      "text/plain": "array([[ 1.34419629, -1.40037614, -1.30623329, -0.24373501, -1.47055186],\n       [-1.40037614,  1.45890399,  1.3608265 ,  0.25392176,  1.53201266],\n       [-1.30623329,  1.3608265 ,  1.26934244,  0.2368514 ,  1.4290203 ],\n       [-0.24373501,  0.25392176,  0.2368514 ,  0.044195  ,  0.2666463 ],\n       [-1.47055186,  1.53201266,  1.4290203 ,  0.2666463 ,  1.60878495]])"
     },
     "execution_count": 74,
     "metadata": {},
     "output_type": "execute_result"
    }
   ],
   "source": [
    "np.dot(a,a.T)"
   ],
   "metadata": {
    "collapsed": false,
    "ExecuteTime": {
     "end_time": "2023-07-02T14:21:30.950810Z",
     "start_time": "2023-07-02T14:21:30.933397Z"
    }
   }
  },
  {
   "cell_type": "code",
   "execution_count": 74,
   "outputs": [],
   "source": [],
   "metadata": {
    "collapsed": false,
    "ExecuteTime": {
     "end_time": "2023-07-02T14:21:30.951015Z",
     "start_time": "2023-07-02T14:21:30.936290Z"
    }
   }
  }
 ],
 "metadata": {
  "kernelspec": {
   "display_name": "Python 3",
   "language": "python",
   "name": "python3"
  },
  "language_info": {
   "codemirror_mode": {
    "name": "ipython",
    "version": 2
   },
   "file_extension": ".py",
   "mimetype": "text/x-python",
   "name": "python",
   "nbconvert_exporter": "python",
   "pygments_lexer": "ipython2",
   "version": "2.7.6"
  }
 },
 "nbformat": 4,
 "nbformat_minor": 0
}
